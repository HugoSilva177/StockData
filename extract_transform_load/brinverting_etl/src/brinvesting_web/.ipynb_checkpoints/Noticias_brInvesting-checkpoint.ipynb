{
 "cells": [
  {
   "cell_type": "markdown",
   "metadata": {},
   "source": [
    "## Imports"
   ]
  },
  {
   "cell_type": "code",
   "execution_count": 1,
   "metadata": {},
   "outputs": [],
   "source": [
    "import re\n",
    "import datetime\n",
    "from scrapy import Selector\n",
    "from pymongo import MongoClient\n",
    "from urllib.request import Request, urlopen"
   ]
  },
  {
   "cell_type": "markdown",
   "metadata": {},
   "source": [
    "## Buscando lista de novas notícias no br.Investing"
   ]
  },
  {
   "cell_type": "code",
   "execution_count": 42,
   "metadata": {},
   "outputs": [],
   "source": [
    "#url_novas_noticias = 'https://www.infomoney.com.br/mercados/'\n",
    "## Todas Notícia sobre o mercado\n",
    "#url_novas_noticias = 'https://br.investing.com/news/stock-market-news'\n",
    "\n",
    "# Notícia sobre empresa especifica\n",
    "url_papel = 'magaz-luiza-on-nm-news'\n",
    "url_novas_noticias = 'https://br.investing.com/equities/' + url_papel\n",
    "\n",
    "req = Request(url_novas_noticias, headers={'User-Agent': 'Mozilla/5.0'})\n",
    "\n",
    "response = urlopen(req, timeout=20).read()\n",
    "novas_noticias_html= response.decode('latin-1')\n",
    "#novas_noticias_html= response.decode('utf8')\n",
    "\n",
    "sel_noticias = Selector( text = novas_noticias_html )"
   ]
  },
  {
   "cell_type": "code",
   "execution_count": 43,
   "metadata": {},
   "outputs": [
    {
     "data": {
      "text/plain": [
       "[<Selector xpath=\"//div[@class='mediumTitle1']/article\" data='<article class=\"js-external-link-wrap...'>,\n",
       " <Selector xpath=\"//div[@class='mediumTitle1']/article\" data='<article class=\"js-external-link-wrap...'>,\n",
       " <Selector xpath=\"//div[@class='mediumTitle1']/article\" data='<article class=\"js-external-link-wrap...'>,\n",
       " <Selector xpath=\"//div[@class='mediumTitle1']/article\" data='<article class=\"js-article-item artic...'>,\n",
       " <Selector xpath=\"//div[@class='mediumTitle1']/article\" data='<article class=\"js-article-item artic...'>,\n",
       " <Selector xpath=\"//div[@class='mediumTitle1']/article\" data='<article class=\"js-external-link-wrap...'>,\n",
       " <Selector xpath=\"//div[@class='mediumTitle1']/article\" data='<article class=\"js-external-link-wrap...'>,\n",
       " <Selector xpath=\"//div[@class='mediumTitle1']/article\" data='<article class=\"js-external-link-wrap...'>,\n",
       " <Selector xpath=\"//div[@class='mediumTitle1']/article\" data='<article class=\"js-external-link-wrap...'>,\n",
       " <Selector xpath=\"//div[@class='mediumTitle1']/article\" data='<article class=\"js-external-link-wrap...'>]"
      ]
     },
     "execution_count": 43,
     "metadata": {},
     "output_type": "execute_result"
    }
   ],
   "source": [
    "sel_noticias.xpath(\"//div[@class='mediumTitle1']/article\")"
   ]
  },
  {
   "cell_type": "code",
   "execution_count": 44,
   "metadata": {},
   "outputs": [
    {
     "data": {
      "text/plain": [
       "['https://invst.ly/u5361',\n",
       " 'https://invst.ly/u51hh',\n",
       " 'https://invst.ly/u4qqo',\n",
       " '/news/stock-market-news/ibovespa-mostra-fraqueza-apos-tres-altas-seguidas-copel-sobe-841490',\n",
       " '/news/stock-market-news/mercado-livre-comeca-a-montar-tripe-de-negocios-841552',\n",
       " 'https://invst.ly/u4mdq',\n",
       " 'https://invst.ly/u47h8',\n",
       " 'https://invst.ly/u3s7q',\n",
       " 'https://invst.ly/u3rom',\n",
       " 'https://invst.ly/u3odb']"
      ]
     },
     "execution_count": 44,
     "metadata": {},
     "output_type": "execute_result"
    }
   ],
   "source": [
    "sel_noticias.xpath(\"//div[@class='mediumTitle1']/article/a/@href\").extract()"
   ]
  },
  {
   "cell_type": "code",
   "execution_count": 45,
   "metadata": {},
   "outputs": [],
   "source": [
    "lista_url_noticias = sel_noticias.xpath(\"//div[@class='mediumTitle1']/article/a/@href\").extract()"
   ]
  },
  {
   "cell_type": "code",
   "execution_count": 46,
   "metadata": {},
   "outputs": [],
   "source": [
    "lista_url_noticias = sel_noticias.xpath(\"//div[@class='mediumTitle1']/article/a/@href\").extract()\n",
    "\n",
    "lista_url_noticias_brinvesting = []\n",
    "lista_url_noticias_outras_fontes = []\n",
    "\n",
    "for url_noticia in lista_url_noticias:\n",
    "    if url_noticia.startswith(\"/\"):\n",
    "        url_noticia = \"https://br.investing.com\" + url_noticia\n",
    "        lista_url_noticias_brinvesting.append(url_noticia)\n",
    "    else:\n",
    "        lista_url_noticias_outras_fontes.append(url_noticia)"
   ]
  },
  {
   "cell_type": "code",
   "execution_count": 47,
   "metadata": {},
   "outputs": [
    {
     "data": {
      "text/plain": [
       "['https://br.investing.com/news/stock-market-news/ibovespa-mostra-fraqueza-apos-tres-altas-seguidas-copel-sobe-841490',\n",
       " 'https://br.investing.com/news/stock-market-news/mercado-livre-comeca-a-montar-tripe-de-negocios-841552']"
      ]
     },
     "execution_count": 47,
     "metadata": {},
     "output_type": "execute_result"
    }
   ],
   "source": [
    "lista_url_noticias_brinvesting"
   ]
  },
  {
   "cell_type": "code",
   "execution_count": 54,
   "metadata": {},
   "outputs": [
    {
     "data": {
      "text/plain": [
       "'https://br.investing.com/news/stock-market-news/ibovespa-mostra-fraqueza-apos-tres-altas-seguidas-copel-sobe-841490'"
      ]
     },
     "execution_count": 54,
     "metadata": {},
     "output_type": "execute_result"
    }
   ],
   "source": [
    "url_nova_noticia = lista_url_noticias_brinvesting[0]\n",
    "url_nova_noticia"
   ]
  },
  {
   "cell_type": "code",
   "execution_count": 73,
   "metadata": {},
   "outputs": [],
   "source": [
    "req = Request(url_novas_noticias, headers={'User-Agent': 'Mozilla/5.0'})\n",
    "\n",
    "response = urlopen(req, timeout=20).read()\n",
    "novas_noticias_html= response.decode('latin-1')\n",
    "#novas_noticias_html= response.decode('utf8')\n",
    "\n",
    "sel_noticias = Selector( text = novas_noticias_html )"
   ]
  },
  {
   "cell_type": "code",
   "execution_count": 64,
   "metadata": {},
   "outputs": [
    {
     "data": {
      "text/plain": [
       "['23 horas atrÃ¡s (13.03.2021 12:40)']"
      ]
     },
     "execution_count": 64,
     "metadata": {},
     "output_type": "execute_result"
    }
   ],
   "source": [
    "data_hora = sel_noticias.xpath(\"//div[@class='contentSectionDetails']/span/text()\").extract()\n",
    "data_hora"
   ]
  },
  {
   "cell_type": "code",
   "execution_count": 74,
   "metadata": {},
   "outputs": [
    {
     "data": {
      "text/plain": [
       "['12.03.2021 14:50']"
      ]
     },
     "execution_count": 74,
     "metadata": {},
     "output_type": "execute_result"
    }
   ],
   "source": [
    "data_hora = sel_noticias.xpath(\"//div[@class='contentSectionDetails']/span/text()\").extract()\n",
    "data_hora"
   ]
  },
  {
   "cell_type": "code",
   "execution_count": 90,
   "metadata": {},
   "outputs": [
    {
     "data": {
      "text/plain": [
       "'23 horas atrÃ¡s (13.03.2021 12:40)'"
      ]
     },
     "execution_count": 90,
     "metadata": {},
     "output_type": "execute_result"
    }
   ],
   "source": [
    "data_hora_modelo_1 = '23 horas atrÃ¡s (13.03.2021 12:40)'\n",
    "data_hora_modelo_1"
   ]
  },
  {
   "cell_type": "markdown",
   "metadata": {},
   "source": [
    "## Funções para transformar dados"
   ]
  },
  {
   "cell_type": "code",
   "execution_count": 2,
   "metadata": {},
   "outputs": [],
   "source": [
    "def transformar_listas_em_dicionario(lista_keys, lista_values):\n",
    "    novo_dicionario = {lista_keys[i]: lista_values[i] for i in range(len(lista_keys))}\n",
    "    \n",
    "    return novo_dicionario"
   ]
  },
  {
   "cell_type": "code",
   "execution_count": 3,
   "metadata": {},
   "outputs": [],
   "source": [
    "def retornar_lista_labels_noticia():\n",
    "    lista_labels = [\"papeis\", \"url_noticia\", \"data_hora_noticia\", \"titulo_noticia\", \"texto_noticia\"]\n",
    "    \n",
    "    return lista_labels"
   ]
  },
  {
   "cell_type": "code",
   "execution_count": 4,
   "metadata": {},
   "outputs": [],
   "source": [
    "def retornar_lista_dados_noticia(papel, url_noticia, data_hora_noticia, titulo_noticia, texto_noticia):\n",
    "    lista_papeis = []\n",
    "    lista_papeis.append(papel)\n",
    "    lista_dados = [lista_papeis, url_noticia, data_hora_noticia, titulo_noticia, texto_noticia]\n",
    "    \n",
    "    return lista_dados"
   ]
  },
  {
   "cell_type": "markdown",
   "metadata": {},
   "source": [
    "## Conexão MongoDB"
   ]
  },
  {
   "cell_type": "code",
   "execution_count": 5,
   "metadata": {},
   "outputs": [],
   "source": [
    "def conexao_banco_mongodb():    \n",
    "    cliente = MongoClient('localhost', 27017)\n",
    "    cliente = MongoClient('mongodb://localhost:27017/')\n",
    "    banco = cliente['noticias']\n",
    "    \n",
    "    return banco\n",
    "\n",
    "conexao_banco_mongodb = conexao_banco_mongodb()"
   ]
  },
  {
   "cell_type": "markdown",
   "metadata": {},
   "source": [
    "### Inserindo dados no MongoDB"
   ]
  },
  {
   "cell_type": "code",
   "execution_count": 6,
   "metadata": {},
   "outputs": [],
   "source": [
    "def inserir_noticia_mongodb(noticia):\n",
    "    colecao = conexao_banco_mongodb.noticias\n",
    "    noticia_id = colecao.insert_one(noticia).inserted_id\n",
    "    return noticia_id\n",
    "\n",
    "def inserir_lista_noticias_mongodb(lista_noticias):\n",
    "    colecao = conexao_banco_mongodb.noticias\n",
    "    noticia_id = colecao.insert_many(lista_noticias)\n",
    "    \n",
    "    return len(lista_noticias)"
   ]
  },
  {
   "cell_type": "markdown",
   "metadata": {},
   "source": [
    "### Pesquisando dados no MongoDB"
   ]
  },
  {
   "cell_type": "code",
   "execution_count": 7,
   "metadata": {},
   "outputs": [],
   "source": [
    "def buscar_lista_noticias_por_papel_mongodb(papel):\n",
    "    papel = papel.upper()\n",
    "    colecao = conexao_banco_mongodb.noticias\n",
    "    lista_noticias = colecao.find({\"papeis\": papel})\n",
    "    \n",
    "    return lista_noticias"
   ]
  },
  {
   "cell_type": "markdown",
   "metadata": {},
   "source": [
    "### Atualizando dados no MongoDB"
   ]
  },
  {
   "cell_type": "code",
   "execution_count": 8,
   "metadata": {},
   "outputs": [],
   "source": [
    "def atualizar_lista_papeis_na_noticia(papel, url_noticia):\n",
    "    colecao = conexao_banco_mongodb.noticias\n",
    "    colecao.update_one({\"url_noticia\":  url_noticia}, {'$push': {'papeis': papel }})"
   ]
  },
  {
   "cell_type": "markdown",
   "metadata": {},
   "source": [
    "## Gravando notícias novas no MongoDB"
   ]
  },
  {
   "cell_type": "code",
   "execution_count": 13,
   "metadata": {},
   "outputs": [],
   "source": [
    "def scraping_html_noticia(url_noticia):\n",
    "    req = Request(url_noticia, headers={'User-Agent': 'Mozilla/5.0'})\n",
    "    response = urlopen(req, timeout=20).read()\n",
    "    noticia_html= response.decode('utf8')\n",
    "    sel_noticia = Selector( text = noticia_html )\n",
    "    \n",
    "    return sel_noticia\n",
    "\n",
    "def formatar_data_hora_noticia(sel_noticia):\n",
    "    data_hora = sel_noticia.xpath(\"//div[@class='contentSectionDetails']/span/text()\").extract()\n",
    "    data_hora = data_hora[0]\n",
    "\n",
    "    if re.search(r'\\((.*?)\\)',  data_hora):\n",
    "        data_hora = re.search(r'\\((.*?)\\)', data_hora).group(1).split(' ')\n",
    "    else:\n",
    "        data_hora = data_hora.split(' ')\n",
    "\n",
    "    data_hora_list = []\n",
    "    data = data_hora[0].split('.')\n",
    "    data_hora_list.append(int(data[2]))\n",
    "    data_hora_list.append(int(data[1]))\n",
    "    data_hora_list.append(int(data[0]))\n",
    "\n",
    "    horario = data_hora[1].split(':')\n",
    "    data_hora_list.append(int(horario[0]))\n",
    "    data_hora_list.append(int(horario[1]))\n",
    "\n",
    "    return datetime.datetime(*data_hora_list)\n",
    "    \n",
    "\n",
    "def coletar_dados_noticia(url_noticia, papel):\n",
    "    print(\"--------------------------------------------\")\n",
    "    print(f\"** Notícia nova encontrada: {url_noticia}\")\n",
    "    print(f\"*** Coletando dados da notícia....\")\n",
    "    sel_noticia = scraping_html_noticia(url_noticia)\n",
    "    data_hora_noticia = formatar_data_hora_noticia(sel_noticia)\n",
    "    \n",
    "    titulo_noticia = sel_noticia.xpath(\"//h1[@class='articleHeader']/text()\").extract()[0]\n",
    "    \n",
    "    texto_noticia = sel_noticia.xpath(\"//div[@class='WYSIWYG articlePage']/p/text()\").extract()\n",
    "    texto_noticia = ' '.join(texto_noticia)\n",
    "    \n",
    "    \n",
    "    lista_labels_noticias = retornar_lista_labels_noticia()\n",
    "    lista_dados_noticias = retornar_lista_dados_noticia(papel, url_noticia, data_hora_noticia, titulo_noticia, texto_noticia)\n",
    "    \n",
    "    noticia_dicionario = transformar_listas_em_dicionario(lista_labels_noticias, lista_dados_noticias)\n",
    "    \n",
    "    return noticia_dicionario\n",
    "    \n",
    "\n",
    "def percorrer_lista_url_noticias_brinvesting(papel):\n",
    "    print(\"* Analisando lista de URLs encontradas....\")\n",
    "    lista_noticias = []\n",
    "    colecao = conexao_banco_mongodb.noticias\n",
    "    for url_noticia in lista_url_noticias_brinvesting:\n",
    "        if colecao.count_documents({'url_noticia': url_noticia}):\n",
    "            if colecao.count_documents({\"papeis\": papel, 'url_noticia': url_noticia}):\n",
    "                break\n",
    "            else:\n",
    "                print(\"--------------------------------------------\")\n",
    "                print(f\"* Notícia já existe: {url_noticia}\")\n",
    "                print(f\"** Adicionando papel '{papel}' na notícia: {url_noticia}\")\n",
    "                atualizar_lista_papeis_na_noticia(papel, url_noticia)\n",
    "        else:\n",
    "            noticia_dicionario = coletar_dados_noticia(url_noticia, papel)\n",
    "            lista_noticias.append(noticia_dicionario)\n",
    "            \n",
    "    return lista_noticias\n",
    "\n",
    "            \n",
    "def baixar_lista_html_noticias(papel_url):\n",
    "    print(\"* Baixando lista de URLs de notícias....\")\n",
    "    \n",
    "    url_novas_noticias = 'https://br.investing.com/equities/' + papel_url\n",
    "\n",
    "    req = Request(url_novas_noticias, headers={'User-Agent': 'Mozilla/5.0'})\n",
    "\n",
    "    response = urlopen(req, timeout=20).read()\n",
    "    novas_noticias_html= response.decode('latin-1')\n",
    "    sel_noticias = Selector( text = novas_noticias_html )\n",
    "    \n",
    "    lista_url_noticias = sel_noticias.xpath(\"//div[@class='mediumTitle1']/article/a/@href\").extract()\n",
    "\n",
    "    global lista_url_noticias_brinvesting\n",
    "    lista_url_noticias_brinvesting = []\n",
    "    global lista_url_noticias_outras_fontes\n",
    "    lista_url_noticias_outras_fontes = []\n",
    "\n",
    "    for url_noticia in lista_url_noticias:\n",
    "        if url_noticia.startswith(\"/\"):\n",
    "            url_noticia = \"https://br.investing.com\" + url_noticia\n",
    "            lista_url_noticias_brinvesting.append(url_noticia)\n",
    "        else:\n",
    "            lista_url_noticias_outras_fontes.append(url_noticia)\n",
    "        \n",
    "def retornar_dicionario_papel_url_noticias():\n",
    "    lista_papel_url = {\n",
    "        \"PETR4\": \"petrobras-pn-news\",\n",
    "        \"GGBR4\": \"gerdau-pn-n1-news\",\n",
    "        \"ITUB4\": \"itauunibanco-pn-edj-n1-news\",\n",
    "        \"VALE3\": \"vale-on-n1-news\",\n",
    "        \"MGLU3\": \"magaz-luiza-on-nm-news\"\n",
    "    }\n",
    "    \n",
    "    return lista_papel_url\n",
    "        \n",
    "        \n",
    "def verificar_papel_url_noticia():\n",
    "    lista_papel_url = retornar_dicionario_papel_url_noticias()\n",
    "    \n",
    "    papel = None\n",
    "    verificador_nome_papel = True\n",
    "    while verificador_nome_papel:\n",
    "        try:\n",
    "            papel = input(\"Digite o nome do papel: \").upper()\n",
    "            if papel not in lista_papel_url:\n",
    "                raise Exception()\n",
    "            else:\n",
    "                verificador_nome_papel = False\n",
    "        except Exception:\n",
    "            print(\"Nome do papel incorreto! Tente novamente!\")\n",
    "    \n",
    "    return papel, lista_papel_url[papel]\n",
    "            \n",
    "            \n",
    "def metodo_main(): \n",
    "    print(\"Iniciando Web Scraping de notícias:\")\n",
    "    print(\"--------------------------------------------\")\n",
    "        \n",
    "    papel, papel_url = verificar_papel_url_noticia()\n",
    "    \n",
    "    baixar_lista_html_noticias(papel_url)\n",
    "    lista_noticias = percorrer_lista_url_noticias_brinvesting(papel) \n",
    "    \n",
    "    if len(lista_noticias) >= 1:\n",
    "        print(\"--------------------------------------------\")\n",
    "        print(\"**** Inserindo novas notícias....\")\n",
    "        quantidade_noticias = inserir_lista_noticias_mongodb(lista_noticias)\n",
    "        print(\"--------------------------------------------\")\n",
    "        print(\"**** Nova(s) notícia(s) adicionada(s): %s\" % quantidade_noticias)\n",
    "        print(\"--------------------------------------------\")\n",
    "    else:\n",
    "        print(\"--------------------------------------------\")\n",
    "        print(f\"* Não existem notícias novas para '{papel}'!\")\n",
    "        print(\"--------------------------------------------\")"
   ]
  },
  {
   "cell_type": "code",
   "execution_count": 15,
   "metadata": {},
   "outputs": [
    {
     "name": "stdout",
     "output_type": "stream",
     "text": [
      "Iniciando Web Scraping de notícias:\n",
      "--------------------------------------------\n"
     ]
    },
    {
     "name": "stdin",
     "output_type": "stream",
     "text": [
      "Digite o nome do papel:  MGLU3\n"
     ]
    },
    {
     "name": "stdout",
     "output_type": "stream",
     "text": [
      "* Baixando lista de URLs de notícias....\n",
      "* Analisando lista de URLs encontradas....\n",
      "--------------------------------------------\n",
      "* Notícia já existe: https://br.investing.com/news/stock-market-news/ibovespa-mostra-fraqueza-apos-tres-altas-seguidas-copel-sobe-841490\n",
      "** Adicionando papel 'MGLU3' na notícia: https://br.investing.com/news/stock-market-news/ibovespa-mostra-fraqueza-apos-tres-altas-seguidas-copel-sobe-841490\n",
      "--------------------------------------------\n",
      "** Notícia nova encontrada: https://br.investing.com/news/stock-market-news/mercado-livre-comeca-a-montar-tripe-de-negocios-841552\n",
      "*** Coletando dados da notícia....\n",
      "--------------------------------------------\n",
      "**** Inserindo novas notícias....\n",
      "--------------------------------------------\n",
      "**** Nova(s) notícia(s) adicionada(s): 1\n",
      "--------------------------------------------\n"
     ]
    }
   ],
   "source": [
    "metodo_main()"
   ]
  },
  {
   "cell_type": "code",
   "execution_count": 23,
   "metadata": {},
   "outputs": [],
   "source": [
    "lista_noticias = buscar_lista_noticias_por_papel_mongodb('ggbr4')"
   ]
  },
  {
   "cell_type": "code",
   "execution_count": 24,
   "metadata": {},
   "outputs": [
    {
     "name": "stdout",
     "output_type": "stream",
     "text": [
      "https://br.investing.com/news/stock-market-news/ibovespa-mostra-fraqueza-apos-tres-altas-seguidas-copel-sobe-841490\n",
      "https://br.investing.com/news/stock-market-news/acoes-ciclicas-sao-aposta-do-morgan-stanley-no-brasil-confira-preferidas-840801\n",
      "https://br.investing.com/news/stock-market-news/xp-eleva-estimativas-para-gerdau-e-usiminas-por-precos-do-aco-minerio-de-ferro-839657\n",
      "https://br.investing.com/news/general/mirae-troca-weg-da-carteira-semanal-por-frigorifico-veja-escolha-839573\n",
      "https://br.investing.com/news/general/elite-troca-btg-eneva-por-empresas-ligadas-a-commodities-na-carteira-semanal-839548\n"
     ]
    }
   ],
   "source": [
    "for noticia in lista_noticias:\n",
    "    print(noticia['url_noticia'])"
   ]
  },
  {
   "cell_type": "markdown",
   "metadata": {},
   "source": [
    "# Acesso ao HDFS server (Write and Read)"
   ]
  },
  {
   "cell_type": "markdown",
   "metadata": {},
   "source": [
    "## Funções para transformar os dados"
   ]
  },
  {
   "cell_type": "code",
   "execution_count": null,
   "metadata": {},
   "outputs": [],
   "source": [
    "def transformar_lista_em_tuples(noticia_dados):\n",
    "    noticia_dados_list = []\n",
    "    noticia_dados_list.append(tuple(noticia_dados))\n",
    "    return noticia_dados_list"
   ]
  },
  {
   "cell_type": "code",
   "execution_count": null,
   "metadata": {},
   "outputs": [],
   "source": [
    "noticia_dados = transformar_lista_em_tuples(noticia_dados)\n",
    "noticia_dados"
   ]
  },
  {
   "cell_type": "markdown",
   "metadata": {},
   "source": [
    "## Criando uma Spark Session"
   ]
  },
  {
   "cell_type": "code",
   "execution_count": 19,
   "metadata": {},
   "outputs": [],
   "source": [
    "from pyspark.sql import SparkSession\n",
    "sparkSession = SparkSession.builder.appName(\"write-read-brinvesting-hdfs\").getOrCreate()"
   ]
  },
  {
   "cell_type": "markdown",
   "metadata": {},
   "source": [
    "## Write Spark DataFrame da Notícia"
   ]
  },
  {
   "cell_type": "code",
   "execution_count": 26,
   "metadata": {},
   "outputs": [
    {
     "data": {
      "text/plain": [
       "DataFrame[url: string, data_hora: string, titulo: string, texto: string]"
      ]
     },
     "execution_count": 26,
     "metadata": {},
     "output_type": "execute_result"
    }
   ],
   "source": [
    "df = sparkSession.createDataFrame(noticia_dados, noticia_label)\n",
    "df"
   ]
  },
  {
   "cell_type": "code",
   "execution_count": 28,
   "metadata": {},
   "outputs": [],
   "source": [
    "df.write.save('hdfs://172.17.177.40:9000/user/hadoopuser/brInvesting/noticias/stock_market_news', format='parquet', mode='append')"
   ]
  },
  {
   "cell_type": "code",
   "execution_count": 29,
   "metadata": {},
   "outputs": [],
   "source": [
    "df_load = sparkSession.read.format('parquet').load('hdfs://172.17.177.40:9000/user/hadoopuser/brInvesting/noticias/stock_market_news')"
   ]
  },
  {
   "cell_type": "code",
   "execution_count": 30,
   "metadata": {},
   "outputs": [
    {
     "name": "stdout",
     "output_type": "stream",
     "text": [
      "+--------------------+--------------------+--------------------+--------------------+\n",
      "|                 url|           data_hora|              titulo|               texto|\n",
      "+--------------------+--------------------+--------------------+--------------------+\n",
      "|https://br.invest...|3 horas atrás (02...|Ross Stores: lucr...|Investing.com - R...|\n",
      "+--------------------+--------------------+--------------------+--------------------+\n",
      "\n"
     ]
    }
   ],
   "source": [
    "df_load.show()"
   ]
  },
  {
   "cell_type": "code",
   "execution_count": 31,
   "metadata": {},
   "outputs": [
    {
     "data": {
      "text/html": [
       "<div>\n",
       "<style scoped>\n",
       "    .dataframe tbody tr th:only-of-type {\n",
       "        vertical-align: middle;\n",
       "    }\n",
       "\n",
       "    .dataframe tbody tr th {\n",
       "        vertical-align: top;\n",
       "    }\n",
       "\n",
       "    .dataframe thead th {\n",
       "        text-align: right;\n",
       "    }\n",
       "</style>\n",
       "<table border=\"1\" class=\"dataframe\">\n",
       "  <thead>\n",
       "    <tr style=\"text-align: right;\">\n",
       "      <th></th>\n",
       "      <th>url</th>\n",
       "      <th>data_hora</th>\n",
       "      <th>titulo</th>\n",
       "      <th>texto</th>\n",
       "    </tr>\n",
       "  </thead>\n",
       "  <tbody>\n",
       "    <tr>\n",
       "      <th>0</th>\n",
       "      <td>https://br.investing.com/news/stock-market-new...</td>\n",
       "      <td>3 horas atrás (02.03.2021 18:05)</td>\n",
       "      <td>Ross Stores: lucros e receita ficaram abaixo c...</td>\n",
       "      <td>Investing.com - Ross Stores (NASDAQ: ) publico...</td>\n",
       "    </tr>\n",
       "  </tbody>\n",
       "</table>\n",
       "</div>"
      ],
      "text/plain": [
       "                                                 url  \\\n",
       "0  https://br.investing.com/news/stock-market-new...   \n",
       "\n",
       "                          data_hora  \\\n",
       "0  3 horas atrás (02.03.2021 18:05)   \n",
       "\n",
       "                                              titulo  \\\n",
       "0  Ross Stores: lucros e receita ficaram abaixo c...   \n",
       "\n",
       "                                               texto  \n",
       "0  Investing.com - Ross Stores (NASDAQ: ) publico...  "
      ]
     },
     "execution_count": 31,
     "metadata": {},
     "output_type": "execute_result"
    }
   ],
   "source": [
    "df_load.toPandas()"
   ]
  },
  {
   "cell_type": "code",
   "execution_count": 32,
   "metadata": {},
   "outputs": [
    {
     "data": {
      "text/plain": [
       "'Investing.com - Ross Stores (NASDAQ: ) publicou nesta terça-feira o   do quarto trimestre e mostrou lucro que ficou mais fraco do que as projeções dos analistas. A receita ficou menor do que a mediana das previsões. A empresa divulgou que o lucro por ação (LPA) foi de US$ 0,67, resultado que ficou mais fraco do que as previsões dos analistas que apostavam em LPA de US$ 1. \\xa0 A receita do\\xa0quarto trimestre alcançou US$ 4,25B.\\xa0 A expectativa dos analistas do mercado era de receita de US$ 4,27B. No ano, as ações da empresa estão em queda de 4%, desempenho menor do que o   que acumula uma alta de 3% desde janeiro. O resultado da companhia sai após outros balanços importantes de Serviços neste mês.    - Em 2 de fevereiro, Amazon.com também publicou seu balanço, com LPA de US$ 14,09 e receita de US$ 125,56B, comparados a previsões de LPA de US$ 7,19 e receita de US$ 119,7B.  - O balanço publicado em 2 de fevereiro mostrou lucro por ação de US$ 22,03, que\\xa0 superou das expectativas dos analistas de US$ 20,59. A receita ficou em US$ 221,08B, contra projeções de US$ 214,17B'"
      ]
     },
     "execution_count": 32,
     "metadata": {},
     "output_type": "execute_result"
    }
   ],
   "source": [
    "df_load.toPandas()['texto'].values[0]"
   ]
  },
  {
   "cell_type": "markdown",
   "metadata": {},
   "source": [
    "# Acesso ao MongoDB"
   ]
  },
  {
   "cell_type": "markdown",
   "metadata": {},
   "source": [
    "## Inserindo Documento no Mongo"
   ]
  },
  {
   "cell_type": "markdown",
   "metadata": {},
   "source": [
    "### Inserindo apenas um documento"
   ]
  },
  {
   "cell_type": "code",
   "execution_count": 30,
   "metadata": {},
   "outputs": [
    {
     "data": {
      "text/plain": [
       "ObjectId('60402542b489f7baa8475c7b')"
      ]
     },
     "execution_count": 30,
     "metadata": {},
     "output_type": "execute_result"
    }
   ],
   "source": [
    "colecao = banco.noticias\n",
    "noticia_id = colecao.insert_one(noticia).inserted_id\n",
    "noticia_id"
   ]
  },
  {
   "cell_type": "markdown",
   "metadata": {},
   "source": [
    "### Inserindo uma lista de documentos"
   ]
  },
  {
   "cell_type": "code",
   "execution_count": 35,
   "metadata": {},
   "outputs": [],
   "source": [
    "musicas = [\n",
    "    {\n",
    "        \"_id\": 1,\n",
    "        \"nome\": \"Radioactive\",\n",
    "        \"banda\": \"Imagine Dragons\",\n",
    "        \"categorias\": [\"indie\", \"rock\"],\n",
    "        \"lancamento\": datetime.datetime.now()\n",
    "    },\n",
    "    {\n",
    "        \"_id\": 2,\n",
    "        \"nome\": \"Hear Me\",\n",
    "        \"banda\": \"Imagine Dragons\",\n",
    "        \"categorias\": [\"indie\", \"rock\"],\n",
    "        \"lancamento\": datetime.datetime.now()\n",
    "    },\n",
    "    {\n",
    "        \"_id\": 3,\n",
    "        \"nome\": \"Demons\",\n",
    "        \"banda\": \"Imagine Dragons\",\n",
    "        \"categorias\": [\"indie\", \"rock\"],\n",
    "        \"lancamento\": datetime.datetime.now()\n",
    "    },\n",
    "    {\n",
    "        \"_id\": 4,\n",
    "        \"nome\": \"Nothing Left To Say\",\n",
    "        \"banda\": \"Imagine Dragons\",\n",
    "        \"categorias\": [\"indie\", \"rock\"],\n",
    "        \"lancamento\": datetime.datetime.now()\n",
    "    },\n",
    "    {\n",
    "        \"_id\": 5,\n",
    "        \"nome\": \"Amsterdam\",\n",
    "        \"banda\": \"Imagine Dragons\",\n",
    "        \"categorias\": [\"indie\", \"rock\"],\n",
    "        \"lancamento\": datetime.datetime.now()\n",
    "    }]"
   ]
  },
  {
   "cell_type": "code",
   "execution_count": 36,
   "metadata": {},
   "outputs": [
    {
     "data": {
      "text/plain": [
       "<pymongo.results.InsertManyResult at 0x7f80b0392bc8>"
      ]
     },
     "execution_count": 36,
     "metadata": {},
     "output_type": "execute_result"
    }
   ],
   "source": [
    "#colecao.insert_many(musicas)"
   ]
  },
  {
   "cell_type": "markdown",
   "metadata": {},
   "source": [
    "## Buscando dados no Mongo"
   ]
  },
  {
   "cell_type": "code",
   "execution_count": 31,
   "metadata": {},
   "outputs": [
    {
     "data": {
      "text/plain": [
       "{'_id': ObjectId('60402542b489f7baa8475c7b'),\n",
       " 'url_noticia': 'https://br.investing.com/news/stock-market-news/ibovespa-flerta-com-azul-mas-volta-a-cair-em-sessao-volatil-por-receios-fiscais-838184',\n",
       " 'data_hora_noticia': datetime.datetime(2021, 3, 3, 17, 25),\n",
       " 'titulo_noticia': 'Ibovespa flerta com azul, mas volta a cair em sessão volátil por receios fiscais',\n",
       " 'texto_noticia': 'SÃO PAULO (Reuters) - O   mostrava volatilidade nesta quarta-feira, chegando a trabalhar momentaneamento no azul, em meio a expectativas relacionadas ao cenário fiscal brasileiro, na esteria do agravamento da pandemia de   no país. Às 17:22, o Ibovespa caía 0,23%, a 111.278,38 pontos. Na máxima, chegou a 112.398,24 pontos, em alta de 0,77%, após recuar 3,6% no pior momento mais cedo. O volume financeiro da sessão era de 36,8 bilhões de reais. Em comentário a clientes, o BTG Pactual atribuiu a melhora a comentários do presidente da Câmara dos Deputados, Arthur Lira (PP-AL), no sentido de descartar o Bolsa Família fora do teto de gastos. \"Tanto o Senado quanto a Câmara votarão as PECs sem nenhum risco ao teto de gastos, sem nenhuma excepcionalidade ao teto. Essas especulações não contribuem para o clima de estabilidade e previsibilidade\", afirmou o deputado no Twitter. O novo parecer da PEC Emergencial, com uma versão mais desidratada da proposta, de forma a facilitar sua votação, foi oficialmente protocolado e lido em plenário na terça-feira. No mercado, houve confusão torno de o Bolsa Família ser retirado totalmente ou somente só dos gatilhos fiscais. Na versão protocolada não havia previsão de retirada do Bolsa Família, embora novas mudanças não sejam descartadas. O noticiário vespertino também trazia informações de que o Ministério da Saúde vai assinar com a   (NYSE: ) (SA: ) para comprar vacinas do laboratório contra Covid-19. Um fonte do governo, com conhecimento direto do assunto, disse à Reuters que ainda não está confirmado se o contrato será para a compra de 100 milhões de doses, com a pasta adquirindo toda a produção do laboratório disponível para o Brasil. (Por Paula Arend Laier)'}"
      ]
     },
     "execution_count": 31,
     "metadata": {},
     "output_type": "execute_result"
    }
   ],
   "source": [
    "colecao.find_one()"
   ]
  },
  {
   "cell_type": "code",
   "execution_count": 32,
   "metadata": {},
   "outputs": [
    {
     "data": {
      "text/plain": [
       "{'_id': ObjectId('60402542b489f7baa8475c7b'),\n",
       " 'url_noticia': 'https://br.investing.com/news/stock-market-news/ibovespa-flerta-com-azul-mas-volta-a-cair-em-sessao-volatil-por-receios-fiscais-838184',\n",
       " 'data_hora_noticia': datetime.datetime(2021, 3, 3, 17, 25),\n",
       " 'titulo_noticia': 'Ibovespa flerta com azul, mas volta a cair em sessão volátil por receios fiscais',\n",
       " 'texto_noticia': 'SÃO PAULO (Reuters) - O   mostrava volatilidade nesta quarta-feira, chegando a trabalhar momentaneamento no azul, em meio a expectativas relacionadas ao cenário fiscal brasileiro, na esteria do agravamento da pandemia de   no país. Às 17:22, o Ibovespa caía 0,23%, a 111.278,38 pontos. Na máxima, chegou a 112.398,24 pontos, em alta de 0,77%, após recuar 3,6% no pior momento mais cedo. O volume financeiro da sessão era de 36,8 bilhões de reais. Em comentário a clientes, o BTG Pactual atribuiu a melhora a comentários do presidente da Câmara dos Deputados, Arthur Lira (PP-AL), no sentido de descartar o Bolsa Família fora do teto de gastos. \"Tanto o Senado quanto a Câmara votarão as PECs sem nenhum risco ao teto de gastos, sem nenhuma excepcionalidade ao teto. Essas especulações não contribuem para o clima de estabilidade e previsibilidade\", afirmou o deputado no Twitter. O novo parecer da PEC Emergencial, com uma versão mais desidratada da proposta, de forma a facilitar sua votação, foi oficialmente protocolado e lido em plenário na terça-feira. No mercado, houve confusão torno de o Bolsa Família ser retirado totalmente ou somente só dos gatilhos fiscais. Na versão protocolada não havia previsão de retirada do Bolsa Família, embora novas mudanças não sejam descartadas. O noticiário vespertino também trazia informações de que o Ministério da Saúde vai assinar com a   (NYSE: ) (SA: ) para comprar vacinas do laboratório contra Covid-19. Um fonte do governo, com conhecimento direto do assunto, disse à Reuters que ainda não está confirmado se o contrato será para a compra de 100 milhões de doses, com a pasta adquirindo toda a produção do laboratório disponível para o Brasil. (Por Paula Arend Laier)'}"
      ]
     },
     "execution_count": 32,
     "metadata": {},
     "output_type": "execute_result"
    }
   ],
   "source": [
    "colecao.find_one({\"url_noticia\": url_noticia})"
   ]
  },
  {
   "cell_type": "code",
   "execution_count": 33,
   "metadata": {},
   "outputs": [],
   "source": [
    "#colecao.find_one({\"_id\": 1})"
   ]
  },
  {
   "cell_type": "markdown",
   "metadata": {},
   "source": [
    "### Verificando se o url ja está cadastrado"
   ]
  },
  {
   "cell_type": "code",
   "execution_count": 40,
   "metadata": {},
   "outputs": [],
   "source": [
    "nova_url = 'https://br.investing.com/news/commodities-news/petrobras-investe-para-ampliar-producao-de-diesel-s10-na-reduc-838195'"
   ]
  },
  {
   "cell_type": "code",
   "execution_count": 38,
   "metadata": {},
   "outputs": [
    {
     "data": {
      "text/plain": [
       "1"
      ]
     },
     "execution_count": 38,
     "metadata": {},
     "output_type": "execute_result"
    }
   ],
   "source": [
    "filter_mongo = {\"url_noticia\":url_noticia}\n",
    "colecoes_qtd = colecao.count_documents(filter_mongo)\n",
    "colecoes_qtd"
   ]
  },
  {
   "cell_type": "code",
   "execution_count": 41,
   "metadata": {},
   "outputs": [
    {
     "data": {
      "text/plain": [
       "0"
      ]
     },
     "execution_count": 41,
     "metadata": {},
     "output_type": "execute_result"
    }
   ],
   "source": [
    "filter_mongo = {\"url_noticia\":nova_url}\n",
    "colecoes_qtd = colecao.count_documents(filter_mongo)\n",
    "colecoes_qtd"
   ]
  },
  {
   "cell_type": "code",
   "execution_count": 35,
   "metadata": {},
   "outputs": [],
   "source": [
    "#for musica_id in range(colecoes_qtd):\n",
    "#    print(colecao.find_one({\"_id\": musica_id}))"
   ]
  },
  {
   "cell_type": "code",
   "execution_count": 36,
   "metadata": {},
   "outputs": [],
   "source": [
    "#range(colecao.count_documents(filter_mongo))"
   ]
  },
  {
   "cell_type": "markdown",
   "metadata": {},
   "source": [
    "## Atualizando dados no Mongo"
   ]
  },
  {
   "cell_type": "code",
   "execution_count": 18,
   "metadata": {},
   "outputs": [
    {
     "data": {
      "text/plain": [
       "<pymongo.results.UpdateResult at 0x7f70934cc648>"
      ]
     },
     "execution_count": 18,
     "metadata": {},
     "output_type": "execute_result"
    }
   ],
   "source": [
    "colecao.update_one({'_id': 2}, {'$set': {'nome':'Novo nome'}})"
   ]
  },
  {
   "cell_type": "code",
   "execution_count": 20,
   "metadata": {},
   "outputs": [
    {
     "data": {
      "text/plain": [
       "<pymongo.results.UpdateResult at 0x7f709022fcc8>"
      ]
     },
     "execution_count": 20,
     "metadata": {},
     "output_type": "execute_result"
    }
   ],
   "source": [
    "colecao.update_many({'banda': 'Imagine Dragons'}, {'$set': {'nome':'Novo nome'}})"
   ]
  },
  {
   "cell_type": "markdown",
   "metadata": {},
   "source": [
    "## Deletando dados no Mongo"
   ]
  },
  {
   "cell_type": "code",
   "execution_count": 22,
   "metadata": {},
   "outputs": [
    {
     "data": {
      "text/plain": [
       "<pymongo.results.DeleteResult at 0x7f70934b6648>"
      ]
     },
     "execution_count": 22,
     "metadata": {},
     "output_type": "execute_result"
    }
   ],
   "source": [
    "colecao.delete_one({\"_id\": 1})"
   ]
  },
  {
   "cell_type": "code",
   "execution_count": 23,
   "metadata": {},
   "outputs": [
    {
     "data": {
      "text/plain": [
       "<pymongo.results.DeleteResult at 0x7f709022fa88>"
      ]
     },
     "execution_count": 23,
     "metadata": {},
     "output_type": "execute_result"
    }
   ],
   "source": [
    "colecao.delete_many({\"banda\": \"Imagine Dragons\"})"
   ]
  },
  {
   "cell_type": "code",
   "execution_count": null,
   "metadata": {},
   "outputs": [],
   "source": []
  }
 ],
 "metadata": {
  "kernelspec": {
   "display_name": "Python 3",
   "language": "python",
   "name": "python3"
  },
  "language_info": {
   "codemirror_mode": {
    "name": "ipython",
    "version": 3
   },
   "file_extension": ".py",
   "mimetype": "text/x-python",
   "name": "python",
   "nbconvert_exporter": "python",
   "pygments_lexer": "ipython3",
   "version": "3.6.9"
  }
 },
 "nbformat": 4,
 "nbformat_minor": 4
}
