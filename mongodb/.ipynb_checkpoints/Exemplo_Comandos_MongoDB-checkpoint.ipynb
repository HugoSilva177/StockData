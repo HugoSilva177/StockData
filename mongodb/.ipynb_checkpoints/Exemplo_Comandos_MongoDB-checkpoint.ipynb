{
 "cells": [
  {
   "cell_type": "markdown",
   "metadata": {},
   "source": [
    "# Acesso ao MongoDB (EXEMPLO)"
   ]
  },
  {
   "cell_type": "code",
   "execution_count": 1,
   "metadata": {},
   "outputs": [
    {
     "name": "stdout",
     "output_type": "stream",
     "text": [
      "Defaulting to user installation because normal site-packages is not writeable\n",
      "Collecting pymongo\n",
      "  Downloading pymongo-3.11.3-cp36-cp36m-manylinux2014_x86_64.whl (509 kB)\n",
      "\u001b[K     |████████████████████████████████| 509 kB 1.5 MB/s eta 0:00:01\n",
      "\u001b[?25hInstalling collected packages: pymongo\n",
      "Successfully installed pymongo-3.11.3\n",
      "\u001b[33mWARNING: You are using pip version 20.1.1; however, version 21.0.1 is available.\n",
      "You should consider upgrading via the '/usr/bin/python3 -m pip install --upgrade pip' command.\u001b[0m\n"
     ]
    }
   ],
   "source": [
    "#!pip install pymongo"
   ]
  },
  {
   "cell_type": "code",
   "execution_count": 1,
   "metadata": {},
   "outputs": [],
   "source": [
    "from pymongo import MongoClient"
   ]
  },
  {
   "cell_type": "code",
   "execution_count": 2,
   "metadata": {},
   "outputs": [],
   "source": [
    "cliente = MongoClient('localhost', 27017)"
   ]
  },
  {
   "cell_type": "code",
   "execution_count": 3,
   "metadata": {},
   "outputs": [],
   "source": [
    "cliente = MongoClient('mongodb://localhost:27017/')"
   ]
  },
  {
   "cell_type": "code",
   "execution_count": 4,
   "metadata": {},
   "outputs": [],
   "source": [
    "banco = cliente['noticias']"
   ]
  },
  {
   "cell_type": "markdown",
   "metadata": {},
   "source": [
    "## Inserindo Documento no Mongo"
   ]
  },
  {
   "cell_type": "markdown",
   "metadata": {},
   "source": [
    "### Inserindo apenas um documento"
   ]
  },
  {
   "cell_type": "code",
   "execution_count": 5,
   "metadata": {},
   "outputs": [],
   "source": [
    "import datetime\n",
    "\n",
    "musica = {\n",
    "    \"nome\": \"Thunder\",\n",
    "    \"banda\": \"Imagine Dragons\",\n",
    "    \"categorias\": [\"rock\"],\n",
    "    \"lancamento\": datetime.datetime.now()\n",
    "}"
   ]
  },
  {
   "cell_type": "code",
   "execution_count": 28,
   "metadata": {},
   "outputs": [
    {
     "data": {
      "text/plain": [
       "datetime.datetime(2021, 3, 3, 12, 30, 21, 602846)"
      ]
     },
     "execution_count": 28,
     "metadata": {},
     "output_type": "execute_result"
    }
   ],
   "source": [
    "# ano - mes - dia - hora - minuto - segundo\n",
    "datetime.datetime.now()"
   ]
  },
  {
   "cell_type": "code",
   "execution_count": 62,
   "metadata": {},
   "outputs": [
    {
     "data": {
      "text/plain": [
       "datetime.datetime(2020, 12, 21, 23, 59)"
      ]
     },
     "execution_count": 62,
     "metadata": {},
     "output_type": "execute_result"
    }
   ],
   "source": [
    "datetime.datetime(2020, 12, 21, 23, 59)"
   ]
  },
  {
   "cell_type": "code",
   "execution_count": 6,
   "metadata": {},
   "outputs": [
    {
     "data": {
      "text/plain": [
       "ObjectId('603fa726186b7c3de587cf31')"
      ]
     },
     "execution_count": 6,
     "metadata": {},
     "output_type": "execute_result"
    }
   ],
   "source": [
    "colecao = banco.noticias\n",
    "musica_id = colecao.insert_one(musica).inserted_id\n",
    "musica_id"
   ]
  },
  {
   "cell_type": "markdown",
   "metadata": {},
   "source": [
    "### Inserindo uma lista de documentos"
   ]
  },
  {
   "cell_type": "code",
   "execution_count": 35,
   "metadata": {},
   "outputs": [],
   "source": [
    "musicas = [\n",
    "    {\n",
    "        \"_id\": 1,\n",
    "        \"nome\": \"Radioactive\",\n",
    "        \"banda\": \"Imagine Dragons\",\n",
    "        \"categorias\": [\"indie\", \"rock\"],\n",
    "        \"lancamento\": datetime.datetime.now()\n",
    "    },\n",
    "    {\n",
    "        \"_id\": 2,\n",
    "        \"nome\": \"Hear Me\",\n",
    "        \"banda\": \"Imagine Dragons\",\n",
    "        \"categorias\": [\"indie\", \"rock\"],\n",
    "        \"lancamento\": datetime.datetime.now()\n",
    "    },\n",
    "    {\n",
    "        \"_id\": 3,\n",
    "        \"nome\": \"Demons\",\n",
    "        \"banda\": \"Imagine Dragons\",\n",
    "        \"categorias\": [\"indie\", \"rock\"],\n",
    "        \"lancamento\": datetime.datetime.now()\n",
    "    },\n",
    "    {\n",
    "        \"_id\": 4,\n",
    "        \"nome\": \"Nothing Left To Say\",\n",
    "        \"banda\": \"Imagine Dragons\",\n",
    "        \"categorias\": [\"indie\", \"rock\"],\n",
    "        \"lancamento\": datetime.datetime.now()\n",
    "    },\n",
    "    {\n",
    "        \"_id\": 5,\n",
    "        \"nome\": \"Amsterdam\",\n",
    "        \"banda\": \"Imagine Dragons\",\n",
    "        \"categorias\": [\"indie\", \"rock\"],\n",
    "        \"lancamento\": datetime.datetime.now()\n",
    "    }]"
   ]
  },
  {
   "cell_type": "code",
   "execution_count": 36,
   "metadata": {},
   "outputs": [
    {
     "data": {
      "text/plain": [
       "<pymongo.results.InsertManyResult at 0x7f80b0392bc8>"
      ]
     },
     "execution_count": 36,
     "metadata": {},
     "output_type": "execute_result"
    }
   ],
   "source": [
    "colecao.insert_many(musicas)"
   ]
  },
  {
   "cell_type": "markdown",
   "metadata": {},
   "source": [
    "## Buscando dados no Mongo"
   ]
  },
  {
   "cell_type": "code",
   "execution_count": 7,
   "metadata": {},
   "outputs": [
    {
     "data": {
      "text/plain": [
       "{'_id': ObjectId('603fa68bc07121c8ab35bfa3'),\n",
       " 'nome': 'Nothing left to say',\n",
       " 'banda': 'Imagine Dragons',\n",
       " 'categorias': ['indie', 'rock'],\n",
       " 'lancamento': datetime.datetime(2021, 3, 3, 12, 8, 58, 736000)}"
      ]
     },
     "execution_count": 7,
     "metadata": {},
     "output_type": "execute_result"
    }
   ],
   "source": [
    "colecao.find_one()"
   ]
  },
  {
   "cell_type": "code",
   "execution_count": 8,
   "metadata": {},
   "outputs": [
    {
     "data": {
      "text/plain": [
       "{'_id': 1,\n",
       " 'nome': 'Radioactive',\n",
       " 'banda': 'Imagine Dragons',\n",
       " 'categorias': ['indie', 'rock'],\n",
       " 'lancamento': datetime.datetime(2021, 3, 3, 12, 9, 34, 751000)}"
      ]
     },
     "execution_count": 8,
     "metadata": {},
     "output_type": "execute_result"
    }
   ],
   "source": [
    "colecao.find_one({\"nome\": \"Radioactive\"})"
   ]
  },
  {
   "cell_type": "code",
   "execution_count": 9,
   "metadata": {},
   "outputs": [
    {
     "data": {
      "text/plain": [
       "{'_id': 1,\n",
       " 'nome': 'Radioactive',\n",
       " 'banda': 'Imagine Dragons',\n",
       " 'categorias': ['indie', 'rock'],\n",
       " 'lancamento': datetime.datetime(2021, 3, 3, 12, 9, 34, 751000)}"
      ]
     },
     "execution_count": 9,
     "metadata": {},
     "output_type": "execute_result"
    }
   ],
   "source": [
    "colecao.find_one({\"_id\": 1})"
   ]
  },
  {
   "cell_type": "code",
   "execution_count": 17,
   "metadata": {},
   "outputs": [
    {
     "data": {
      "text/plain": [
       "7"
      ]
     },
     "execution_count": 17,
     "metadata": {},
     "output_type": "execute_result"
    }
   ],
   "source": [
    "filter_mongo = {\"banda\":\"Imagine Dragons\"}\n",
    "colecoes_qtd = colecao.count_documents(filter_mongo)\n",
    "colecoes_qtd"
   ]
  },
  {
   "cell_type": "code",
   "execution_count": 16,
   "metadata": {},
   "outputs": [
    {
     "name": "stdout",
     "output_type": "stream",
     "text": [
      "None\n",
      "{'_id': 1, 'nome': 'Radioactive', 'banda': 'Imagine Dragons', 'categorias': ['indie', 'rock'], 'lancamento': datetime.datetime(2021, 3, 3, 12, 9, 34, 751000)}\n",
      "{'_id': 2, 'nome': 'Hear Me', 'banda': 'Imagine Dragons', 'categorias': ['indie', 'rock'], 'lancamento': datetime.datetime(2021, 3, 3, 12, 9, 34, 751000)}\n",
      "{'_id': 3, 'nome': 'Demons', 'banda': 'Imagine Dragons', 'categorias': ['indie', 'rock'], 'lancamento': datetime.datetime(2021, 3, 3, 12, 9, 34, 751000)}\n",
      "{'_id': 4, 'nome': 'Nothing Left To Say', 'banda': 'Imagine Dragons', 'categorias': ['indie', 'rock'], 'lancamento': datetime.datetime(2021, 3, 3, 12, 9, 34, 751000)}\n",
      "{'_id': 5, 'nome': 'Amsterdam', 'banda': 'Imagine Dragons', 'categorias': ['indie', 'rock'], 'lancamento': datetime.datetime(2021, 3, 3, 12, 9, 34, 751000)}\n",
      "None\n"
     ]
    }
   ],
   "source": [
    "for musica_id in range(colecoes_qtd):\n",
    "    print(colecao.find_one({\"_id\": musica_id}))"
   ]
  },
  {
   "cell_type": "code",
   "execution_count": 14,
   "metadata": {},
   "outputs": [
    {
     "data": {
      "text/plain": [
       "range(0, 7)"
      ]
     },
     "execution_count": 14,
     "metadata": {},
     "output_type": "execute_result"
    }
   ],
   "source": [
    "range(colecao.count_documents(filter_mongo))"
   ]
  },
  {
   "cell_type": "markdown",
   "metadata": {},
   "source": [
    "## Atualizando dados no Mongo"
   ]
  },
  {
   "cell_type": "code",
   "execution_count": 18,
   "metadata": {},
   "outputs": [
    {
     "data": {
      "text/plain": [
       "<pymongo.results.UpdateResult at 0x7f70934cc648>"
      ]
     },
     "execution_count": 18,
     "metadata": {},
     "output_type": "execute_result"
    }
   ],
   "source": [
    "colecao.update_one({'_id': 2}, {'$set': {'nome':'Novo nome'}})"
   ]
  },
  {
   "cell_type": "code",
   "execution_count": 20,
   "metadata": {},
   "outputs": [
    {
     "data": {
      "text/plain": [
       "<pymongo.results.UpdateResult at 0x7f709022fcc8>"
      ]
     },
     "execution_count": 20,
     "metadata": {},
     "output_type": "execute_result"
    }
   ],
   "source": [
    "colecao.update_many({'banda': 'Imagine Dragons'}, {'$set': {'nome':'Novo nome'}})"
   ]
  },
  {
   "cell_type": "markdown",
   "metadata": {},
   "source": [
    "## Deltando dados no Mongo"
   ]
  },
  {
   "cell_type": "code",
   "execution_count": 22,
   "metadata": {},
   "outputs": [
    {
     "data": {
      "text/plain": [
       "<pymongo.results.DeleteResult at 0x7f70934b6648>"
      ]
     },
     "execution_count": 22,
     "metadata": {},
     "output_type": "execute_result"
    }
   ],
   "source": [
    "colecao.delete_one({\"_id\": 1})"
   ]
  },
  {
   "cell_type": "code",
   "execution_count": 23,
   "metadata": {},
   "outputs": [
    {
     "data": {
      "text/plain": [
       "<pymongo.results.DeleteResult at 0x7f709022fa88>"
      ]
     },
     "execution_count": 23,
     "metadata": {},
     "output_type": "execute_result"
    }
   ],
   "source": [
    "colecao.delete_many({\"banda\": \"Imagine Dragons\"})"
   ]
  },
  {
   "cell_type": "code",
   "execution_count": null,
   "metadata": {},
   "outputs": [],
   "source": []
  }
 ],
 "metadata": {
  "kernelspec": {
   "display_name": "Python 3",
   "language": "python",
   "name": "python3"
  },
  "language_info": {
   "codemirror_mode": {
    "name": "ipython",
    "version": 3
   },
   "file_extension": ".py",
   "mimetype": "text/x-python",
   "name": "python",
   "nbconvert_exporter": "python",
   "pygments_lexer": "ipython3",
   "version": "3.6.9"
  }
 },
 "nbformat": 4,
 "nbformat_minor": 4
}
