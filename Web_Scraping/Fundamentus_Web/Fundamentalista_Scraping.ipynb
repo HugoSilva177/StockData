{
 "cells": [
  {
   "cell_type": "markdown",
   "metadata": {},
   "source": [
    "## Imports"
   ]
  },
  {
   "cell_type": "code",
   "execution_count": 102,
   "metadata": {},
   "outputs": [],
   "source": [
    "import io\n",
    "import os.path\n",
    "from scrapy import Selector\n",
    "from datetime import datetime\n",
    "from urllib.request import Request, urlopen"
   ]
  },
  {
   "cell_type": "markdown",
   "metadata": {},
   "source": [
    "## Baixando HTML do site Fundamentus (Web Crawling)"
   ]
  },
  {
   "cell_type": "code",
   "execution_count": 103,
   "metadata": {},
   "outputs": [],
   "source": [
    "# mudar o nome do papel para baixar novo HTML\n",
    "papel = 'GGBR4'\n",
    "url = 'https://fundamentus.com.br/detalhes.php?papel=%s' % papel\n",
    "\n",
    "req = Request(url, headers={'User-Agent': 'Mozilla/5.0'})\n",
    "\n",
    "response = urlopen(req, timeout=20).read()\n",
    "new_html= response.decode('latin-1')"
   ]
  },
  {
   "cell_type": "markdown",
   "metadata": {},
   "source": [
    "#### Verificando data do último balanço"
   ]
  },
  {
   "cell_type": "code",
   "execution_count": 104,
   "metadata": {},
   "outputs": [],
   "source": [
    "sel = Selector( text = new_html )"
   ]
  },
  {
   "cell_type": "code",
   "execution_count": 105,
   "metadata": {},
   "outputs": [
    {
     "data": {
      "text/plain": [
       "'2020-12-31'"
      ]
     },
     "execution_count": 105,
     "metadata": {},
     "output_type": "execute_result"
    }
   ],
   "source": [
    "data_ult_balanco_new_html = sel.xpath(\"//table[2]//span[@class='txt']/text()\").extract()[3]\n",
    "data_ult_balanco_new_html = datetime.strptime(data_ult_balanco_new_html, '%d/%m/%Y').date()\n",
    "data_ult_balanco_new_html = str(data_ult_balanco_new_html)\n",
    "data_ult_balanco_new_html"
   ]
  },
  {
   "cell_type": "code",
   "execution_count": 106,
   "metadata": {},
   "outputs": [
    {
     "name": "stdout",
     "output_type": "stream",
     "text": [
      "Arquivo já existe com balanço mais atual!\n"
     ]
    }
   ],
   "source": [
    "path = '/home/hugo/Documents/Repositorios_GitHub/Projetos/02-StockData/Web_Scraping/Fundamentus_Web/'\n",
    "file_name = '%s_fundamentus_%s.txt' % (papel, str(data_ult_balanco_new_html))\n",
    "\n",
    "if os.path.isfile(path+file_name):\n",
    "    print('Arquivo já existe com balanço mais atual!')\n",
    "else:\n",
    "    print('Arquivo com balanço atual ainda não existe!')"
   ]
  },
  {
   "cell_type": "markdown",
   "metadata": {},
   "source": [
    "## Salvando conteúdo do HTML (em bytes) em um arquivo local como txt"
   ]
  },
  {
   "cell_type": "code",
   "execution_count": 107,
   "metadata": {},
   "outputs": [],
   "source": [
    "file_name = '%s_fundamentus_%s.txt' % (papel, data_ult_balanco_new_html)\n",
    "\n",
    "with io.open(path+file_name, 'w', encoding='utf-8') as f:\n",
    "    f.write(new_html)"
   ]
  },
  {
   "cell_type": "markdown",
   "metadata": {},
   "source": [
    "## Lendo conteúdo do arquivo Local e armazenando em uma variável"
   ]
  },
  {
   "cell_type": "code",
   "execution_count": 108,
   "metadata": {},
   "outputs": [],
   "source": [
    "with io.open(path+file_name, 'r', encoding='utf8') as f:\n",
    "    html = f.read()"
   ]
  },
  {
   "cell_type": "markdown",
   "metadata": {},
   "source": [
    "## Extrair e Separar Labels dos Dados do HTML (Web Scraping)\n",
    "### Tabela 1 e 2: Dados da Empresa e última cotação"
   ]
  },
  {
   "cell_type": "code",
   "execution_count": 109,
   "metadata": {},
   "outputs": [],
   "source": [
    "#!pip3 install scrapy"
   ]
  },
  {
   "cell_type": "code",
   "execution_count": 110,
   "metadata": {},
   "outputs": [],
   "source": [
    "sel = Selector( text = html )"
   ]
  },
  {
   "cell_type": "code",
   "execution_count": 111,
   "metadata": {},
   "outputs": [],
   "source": [
    "empresa_cotacao = sel.xpath(\"//table[1]//span[@class='txt']/text() | //table[1]//span[@class='txt']/a/text()\").extract()\n",
    "valores_data_balanco = sel.xpath(\"//table[2]//span[@class='txt']/text()\").extract()"
   ]
  },
  {
   "cell_type": "code",
   "execution_count": 183,
   "metadata": {},
   "outputs": [
    {
     "data": {
      "text/plain": [
       "['Papel',\n",
       " 'Cotação',\n",
       " 'Tipo',\n",
       " 'Data últ cot',\n",
       " 'Empresa',\n",
       " 'Min 52 sem',\n",
       " 'Setor',\n",
       " 'Max 52 sem',\n",
       " 'Subsetor',\n",
       " 'Vol $ méd (2m)',\n",
       " 'Valor de mercado',\n",
       " 'Últ balanço processado',\n",
       " 'Valor da firma',\n",
       " 'Nro. Ações']"
      ]
     },
     "execution_count": 183,
     "metadata": {},
     "output_type": "execute_result"
    }
   ],
   "source": [
    "empresa_label = empresa_cotacao[0::2] + valores_data_balanco[0::2]\n",
    "empresa_label"
   ]
  },
  {
   "cell_type": "code",
   "execution_count": 184,
   "metadata": {},
   "outputs": [
    {
     "data": {
      "text/plain": [
       "['GGBR4',\n",
       " '25,87',\n",
       " 'PN N1',\n",
       " '26/02/2021',\n",
       " 'GERDAU S.A. PN N1',\n",
       " '8,54',\n",
       " 'Siderurgia e Metalurgia',\n",
       " '29,54',\n",
       " 'Siderurgia',\n",
       " '402.679.000',\n",
       " '44.487.600.000',\n",
       " '31/12/2020',\n",
       " '54.344.600.000',\n",
       " '1.719.660.000']"
      ]
     },
     "execution_count": 184,
     "metadata": {},
     "output_type": "execute_result"
    }
   ],
   "source": [
    "empresa_dados = empresa_cotacao[1::2] + valores_data_balanco[1::2]\n",
    "empresa_dados"
   ]
  },
  {
   "cell_type": "code",
   "execution_count": 186,
   "metadata": {},
   "outputs": [
    {
     "data": {
      "text/plain": [
       "'GGBR4'"
      ]
     },
     "execution_count": 186,
     "metadata": {},
     "output_type": "execute_result"
    }
   ],
   "source": [
    "papel = empresa_dados[0]\n",
    "papel"
   ]
  },
  {
   "cell_type": "markdown",
   "metadata": {},
   "source": [
    "### Tabela 3.1: Oscilações"
   ]
  },
  {
   "cell_type": "code",
   "execution_count": 13,
   "metadata": {},
   "outputs": [
    {
     "data": {
      "text/plain": [
       "'Oscilações'"
      ]
     },
     "execution_count": 13,
     "metadata": {},
     "output_type": "execute_result"
    }
   ],
   "source": [
    "sel.xpath(\"//table[3]//td[@class='nivel1']//span/text()\").extract()[0]"
   ]
  },
  {
   "cell_type": "code",
   "execution_count": 187,
   "metadata": {},
   "outputs": [
    {
     "data": {
      "text/plain": [
       "['Papel',\n",
       " 'Dia',\n",
       " 'Mês',\n",
       " '30 dias',\n",
       " '12 meses',\n",
       " '2021',\n",
       " '2020',\n",
       " '2019',\n",
       " '2018',\n",
       " '2017',\n",
       " '2016']"
      ]
     },
     "execution_count": 187,
     "metadata": {},
     "output_type": "execute_result"
    }
   ],
   "source": [
    "oscilacoes_label = sel.xpath(\"//table[3]//td[@class='label w1']//span/text()\").extract()\n",
    "oscilacoes_label.insert(0, 'Papel')\n",
    "oscilacoes_label"
   ]
  },
  {
   "cell_type": "code",
   "execution_count": 188,
   "metadata": {},
   "outputs": [
    {
     "data": {
      "text/plain": [
       "['GGBR4',\n",
       " '-0,96%',\n",
       " '11,27%',\n",
       " '7,57%',\n",
       " '53,28%',\n",
       " '5,81%',\n",
       " '23,86%',\n",
       " '37,65%',\n",
       " '22,31%',\n",
       " '15,23%',\n",
       " '138,66%']"
      ]
     },
     "execution_count": 188,
     "metadata": {},
     "output_type": "execute_result"
    }
   ],
   "source": [
    "oscilacoes_dados = sel.xpath(\"//table[3]//span[@class='oscil']/font/text()\").extract()\n",
    "oscilacoes_dados.insert(0, papel)\n",
    "oscilacoes_dados"
   ]
  },
  {
   "cell_type": "markdown",
   "metadata": {},
   "source": [
    "### Tabela 3.2: Indicadores fundamentalistas"
   ]
  },
  {
   "cell_type": "code",
   "execution_count": 16,
   "metadata": {},
   "outputs": [
    {
     "data": {
      "text/plain": [
       "'Indicadores fundamentalistas'"
      ]
     },
     "execution_count": 16,
     "metadata": {},
     "output_type": "execute_result"
    }
   ],
   "source": [
    "sel.xpath(\"//table[3]//td[@class='nivel1']//span/text()\").extract()[1]"
   ]
  },
  {
   "cell_type": "code",
   "execution_count": 189,
   "metadata": {},
   "outputs": [
    {
     "data": {
      "text/plain": [
       "['Papel',\n",
       " 'P/L',\n",
       " 'LPA',\n",
       " 'P/VP',\n",
       " 'VPA',\n",
       " 'P/EBIT',\n",
       " 'Marg. Bruta',\n",
       " 'PSR',\n",
       " 'Marg. EBIT',\n",
       " 'P/Ativos',\n",
       " 'Marg. Líquida',\n",
       " 'P/Cap. Giro',\n",
       " 'EBIT / Ativo',\n",
       " 'P/Ativ Circ Liq',\n",
       " 'ROIC',\n",
       " 'Div. Yield',\n",
       " 'ROE',\n",
       " 'EV / EBITDA',\n",
       " 'Liquidez Corr',\n",
       " 'EV / EBIT',\n",
       " 'Div Br/ Patrim',\n",
       " 'Cres. Rec (5a)',\n",
       " 'Giro Ativos']"
      ]
     },
     "execution_count": 189,
     "metadata": {},
     "output_type": "execute_result"
    }
   ],
   "source": [
    "indicadores_label = sel.xpath(\"//table[3]//td[@class='label w2']//span[@class='txt']/text() | //table[3]//td[@class='label']//span[@class='txt']/text()\").extract()\n",
    "indicadores_label.insert(0, 'Papel')\n",
    "indicadores_label"
   ]
  },
  {
   "cell_type": "code",
   "execution_count": 190,
   "metadata": {},
   "outputs": [
    {
     "data": {
      "text/plain": [
       "['GGBR4',\n",
       " '18,80',\n",
       " '1,38',\n",
       " '1,44',\n",
       " '17,95',\n",
       " '\\n10,11',\n",
       " '\\n13,5%',\n",
       " '\\n1,02',\n",
       " '\\n10,0%',\n",
       " '\\n0,70',\n",
       " '\\n5,5%',\n",
       " '\\n3,73',\n",
       " '7,0%',\n",
       " '\\n-5,16',\n",
       " '\\n8,8%',\n",
       " '1,2%',\n",
       " '\\n7,7%',\n",
       " '\\n7,94',\n",
       " '\\n2,04',\n",
       " '\\n12,35',\n",
       " '\\n0,57',\n",
       " '\\n3,8%',\n",
       " '\\n0,69']"
      ]
     },
     "execution_count": 190,
     "metadata": {},
     "output_type": "execute_result"
    }
   ],
   "source": [
    "# Os dado estão vindo irregulares, com \\n na frente de alguns valores\n",
    "indicadores_dados = sel.xpath(\"//table[3]//td[@class='data w2']//span[@class='txt']/text() | //table[3]//td[@class='data']//span[@class='txt']/text()\").extract()\n",
    "indicadores_dados.insert(0, papel)\n",
    "indicadores_dados"
   ]
  },
  {
   "cell_type": "code",
   "execution_count": 191,
   "metadata": {},
   "outputs": [
    {
     "data": {
      "text/plain": [
       "['GGBR4',\n",
       " '18,80',\n",
       " '1,38',\n",
       " '1,44',\n",
       " '17,95',\n",
       " '10,11',\n",
       " '13,5%',\n",
       " '1,02',\n",
       " '10,0%',\n",
       " '0,70',\n",
       " '5,5%',\n",
       " '3,73',\n",
       " '7,0%',\n",
       " '-5,16',\n",
       " '8,8%',\n",
       " '1,2%',\n",
       " '7,7%',\n",
       " '7,94',\n",
       " '2,04',\n",
       " '12,35',\n",
       " '0,57',\n",
       " '3,8%',\n",
       " '0,69']"
      ]
     },
     "execution_count": 191,
     "metadata": {},
     "output_type": "execute_result"
    }
   ],
   "source": [
    "# Limpando os valores, removendo os caracteres irregulares (\\n)\n",
    "nova_list = []\n",
    "for valor in indicadores_dados:\n",
    "    nova_list.append(valor.replace(\"\\n\", \"\"))\n",
    "    \n",
    "indicadores_dados = nova_list\n",
    "indicadores_dados"
   ]
  },
  {
   "cell_type": "markdown",
   "metadata": {},
   "source": [
    "### Tabela 4: Dados Balanço Patrimonial"
   ]
  },
  {
   "cell_type": "code",
   "execution_count": 20,
   "metadata": {},
   "outputs": [
    {
     "data": {
      "text/plain": [
       "'Dados Balanço Patrimonial'"
      ]
     },
     "execution_count": 20,
     "metadata": {},
     "output_type": "execute_result"
    }
   ],
   "source": [
    "sel.xpath(\"//table[4]//td[@class='nivel1']//span/text()\").extract()[0]"
   ]
  },
  {
   "cell_type": "code",
   "execution_count": 192,
   "metadata": {},
   "outputs": [
    {
     "data": {
      "text/plain": [
       "['Papel',\n",
       " 'Ativo',\n",
       " 'Dív. Bruta',\n",
       " 'Disponibilidades',\n",
       " 'Dív. Líquida',\n",
       " 'Ativo Circulante',\n",
       " 'Patrim. Líq']"
      ]
     },
     "execution_count": 192,
     "metadata": {},
     "output_type": "execute_result"
    }
   ],
   "source": [
    "balanco_patrimonial_label = sel.xpath(\"//table[4]//td[@class='label w2']//span[@class='txt']/text() | //table[4]//td[@class='label']//span[@class='txt']/text()\").extract()\n",
    "balanco_patrimonial_label.insert(0, 'Papel')\n",
    "balanco_patrimonial_label"
   ]
  },
  {
   "cell_type": "code",
   "execution_count": 193,
   "metadata": {},
   "outputs": [
    {
     "data": {
      "text/plain": [
       "['GGBR4',\n",
       " '63.123.000.000',\n",
       " '17.515.400.000',\n",
       " '7.658.350.000',\n",
       " '9.857.000.000',\n",
       " '23.409.500.000',\n",
       " '30.860.300.000']"
      ]
     },
     "execution_count": 193,
     "metadata": {},
     "output_type": "execute_result"
    }
   ],
   "source": [
    "balanco_patrimonial_dados = sel.xpath(\"//table[4]//td[@class='data w3']//span[@class='txt']/text() | //table[4]//td[@class='data']//span[@class='txt']/text()\").extract()\n",
    "balanco_patrimonial_dados.insert(0, papel)\n",
    "balanco_patrimonial_dados"
   ]
  },
  {
   "cell_type": "markdown",
   "metadata": {},
   "source": [
    "### Tabela 5.1: Demonstrativos de Resultados - Últimos 12 meses"
   ]
  },
  {
   "cell_type": "code",
   "execution_count": 194,
   "metadata": {},
   "outputs": [
    {
     "data": {
      "text/plain": [
       "'Dados demonstrativos de resultados'"
      ]
     },
     "execution_count": 194,
     "metadata": {},
     "output_type": "execute_result"
    }
   ],
   "source": [
    "sel.xpath(\"//table[5]//td[@class='nivel1']//span/text()\").extract()[0]"
   ]
  },
  {
   "cell_type": "code",
   "execution_count": 195,
   "metadata": {},
   "outputs": [
    {
     "data": {
      "text/plain": [
       "'Últimos 12 meses'"
      ]
     },
     "execution_count": 195,
     "metadata": {},
     "output_type": "execute_result"
    }
   ],
   "source": [
    "sel.xpath(\"//table[5]//td[@class='nivel2 w5']//span/text()\").extract()[0]"
   ]
  },
  {
   "cell_type": "code",
   "execution_count": 196,
   "metadata": {},
   "outputs": [
    {
     "data": {
      "text/plain": [
       "'Últimos 3 meses'"
      ]
     },
     "execution_count": 196,
     "metadata": {},
     "output_type": "execute_result"
    }
   ],
   "source": [
    "sel.xpath(\"//table[5]//td[@class='nivel2 w5']//span/text()\").extract()[1]"
   ]
  },
  {
   "cell_type": "code",
   "execution_count": 198,
   "metadata": {},
   "outputs": [
    {
     "data": {
      "text/plain": [
       "['Papel', 'Receita Líquida', 'EBIT', 'Lucro Líquido']"
      ]
     },
     "execution_count": 198,
     "metadata": {},
     "output_type": "execute_result"
    }
   ],
   "source": [
    "demonstrativo_resultados_label = sel.xpath(\"//table[5]//td[@class='label w2']//span[@class='txt']/text() | //table[5]//td[@class='label']//span[@class='txt']/text()\").extract()[0::2]\n",
    "demonstrativo_resultados_label.insert(0, 'Papel')\n",
    "demonstrativo_resultados_label"
   ]
  },
  {
   "cell_type": "code",
   "execution_count": 199,
   "metadata": {},
   "outputs": [
    {
     "data": {
      "text/plain": [
       "['GGBR4', '43.814.700.000', '4.400.170.000', '2.365.760.000']"
      ]
     },
     "execution_count": 199,
     "metadata": {},
     "output_type": "execute_result"
    }
   ],
   "source": [
    "demonstrativo_resultados_12_meses = sel.xpath(\"//table[5]//td[@class='data w3']//span[@class='txt']/text() | //table[5]//td[@class='data']//span[@class='txt']/text()\").extract()[0::2]\n",
    "demonstrativo_resultados_12_meses.insert(0, papel)\n",
    "demonstrativo_resultados_12_meses"
   ]
  },
  {
   "cell_type": "code",
   "execution_count": 200,
   "metadata": {},
   "outputs": [
    {
     "data": {
      "text/plain": [
       "['GGBR4', '13.620.200.000', '2.176.850.000', '1.048.330.000']"
      ]
     },
     "execution_count": 200,
     "metadata": {},
     "output_type": "execute_result"
    }
   ],
   "source": [
    "demonstrativo_resultados_3_meses = sel.xpath(\"//table[5]//td[@class='data w3']//span[@class='txt']/text() | //table[5]//td[@class='data']//span[@class='txt']/text()\").extract()[1::2]\n",
    "demonstrativo_resultados_3_meses.insert(0, papel)\n",
    "demonstrativo_resultados_3_meses"
   ]
  },
  {
   "cell_type": "markdown",
   "metadata": {},
   "source": [
    "# Removendo caracteres especiais dos Labels"
   ]
  },
  {
   "cell_type": "code",
   "execution_count": 156,
   "metadata": {},
   "outputs": [
    {
     "data": {
      "text/plain": [
       "['Papel',\n",
       " 'Cotação',\n",
       " 'Tipo',\n",
       " 'Data últ cot',\n",
       " 'Empresa',\n",
       " 'Min 52 sem',\n",
       " 'Setor',\n",
       " 'Max 52 sem',\n",
       " 'Subsetor',\n",
       " 'Vol $ méd (2m)',\n",
       " 'Valor de mercado',\n",
       " 'Últ balanço processado',\n",
       " 'Valor da firma',\n",
       " 'Nro. Ações']"
      ]
     },
     "execution_count": 156,
     "metadata": {},
     "output_type": "execute_result"
    }
   ],
   "source": [
    "empresa_label"
   ]
  },
  {
   "cell_type": "code",
   "execution_count": 157,
   "metadata": {},
   "outputs": [],
   "source": [
    "from unicodedata import normalize\n",
    "def remover_acentos(txt):\n",
    "    return normalize('NFKD', txt).encode('ASCII', 'ignore').decode('ASCII')\n",
    "\n",
    "if __name__ == '__main__':\n",
    "    from doctest import testmod\n",
    "    testmod()"
   ]
  },
  {
   "cell_type": "code",
   "execution_count": 159,
   "metadata": {},
   "outputs": [
    {
     "data": {
      "text/plain": [
       "['Papel',\n",
       " 'Cotacao',\n",
       " 'Tipo',\n",
       " 'Data_ult_cot',\n",
       " 'Empresa',\n",
       " 'Min_52_sem',\n",
       " 'Setor',\n",
       " 'Max_52_sem',\n",
       " 'Subsetor',\n",
       " 'Vol_$_med_2m',\n",
       " 'Valor_de_mercado',\n",
       " 'Ult_balanco_processado',\n",
       " 'Valor_da_firma',\n",
       " 'Nro._Acoes']"
      ]
     },
     "execution_count": 159,
     "metadata": {},
     "output_type": "execute_result"
    }
   ],
   "source": [
    "empresa_label = list(map(lambda x: remover_acentos(x), empresa_label))\n",
    "empresa_label = list(map(lambda st: str.replace(st, \" \",\"_\"), empresa_label))\n",
    "empresa_label = list(map(lambda st: str.replace(st, \"(\",\"\"), empresa_label))\n",
    "empresa_label = list(map(lambda st: str.replace(st, \")\",\"\"), empresa_label))\n",
    "empresa_label"
   ]
  },
  {
   "cell_type": "code",
   "execution_count": 160,
   "metadata": {},
   "outputs": [
    {
     "data": {
      "text/plain": [
       "['GGBR4',\n",
       " '25,87',\n",
       " 'PN N1',\n",
       " '26/02/2021',\n",
       " 'GERDAU S.A. PN N1',\n",
       " '8,54',\n",
       " 'Siderurgia e Metalurgia',\n",
       " '29,54',\n",
       " 'Siderurgia',\n",
       " '402.679.000',\n",
       " '44.487.600.000',\n",
       " '31/12/2020',\n",
       " '54.344.600.000',\n",
       " '1.719.660.000']"
      ]
     },
     "execution_count": 160,
     "metadata": {},
     "output_type": "execute_result"
    }
   ],
   "source": [
    "empresa_dados"
   ]
  },
  {
   "cell_type": "code",
   "execution_count": 161,
   "metadata": {},
   "outputs": [
    {
     "data": {
      "text/plain": [
       "[('GGBR4',\n",
       "  '25,87',\n",
       "  'PN N1',\n",
       "  '26/02/2021',\n",
       "  'GERDAU S.A. PN N1',\n",
       "  '8,54',\n",
       "  'Siderurgia e Metalurgia',\n",
       "  '29,54',\n",
       "  'Siderurgia',\n",
       "  '402.679.000',\n",
       "  '44.487.600.000',\n",
       "  '31/12/2020',\n",
       "  '54.344.600.000',\n",
       "  '1.719.660.000')]"
      ]
     },
     "execution_count": 161,
     "metadata": {},
     "output_type": "execute_result"
    }
   ],
   "source": [
    "# Dados precisam ser uma lista de tuples\n",
    "empresa_dados_list = []\n",
    "empresa_dados_list.append(tuple(empresa_dados))\n",
    "empresa_dados_list"
   ]
  },
  {
   "cell_type": "markdown",
   "metadata": {},
   "source": [
    "# Acesso ao HDFS server (Write and Read)"
   ]
  },
  {
   "cell_type": "code",
   "execution_count": 162,
   "metadata": {},
   "outputs": [],
   "source": [
    "#!pip3 install pyspark"
   ]
  },
  {
   "cell_type": "code",
   "execution_count": 163,
   "metadata": {},
   "outputs": [],
   "source": [
    "from pyspark.sql import SparkSession\n",
    "sparkSession = SparkSession.builder.appName(\"example-pyspark-read-and-write\").getOrCreate()"
   ]
  },
  {
   "cell_type": "code",
   "execution_count": 164,
   "metadata": {},
   "outputs": [
    {
     "data": {
      "text/plain": [
       "[Row(_1='GGBR4', _2='25,87', _3='PN N1', _4='26/02/2021', _5='GERDAU S.A. PN N1', _6='8,54', _7='Siderurgia e Metalurgia', _8='29,54', _9='Siderurgia', _10='402.679.000', _11='44.487.600.000', _12='31/12/2020', _13='54.344.600.000', _14='1.719.660.000')]"
      ]
     },
     "execution_count": 164,
     "metadata": {},
     "output_type": "execute_result"
    }
   ],
   "source": [
    "sparkSession.createDataFrame(empresa_dados_list).collect()"
   ]
  },
  {
   "cell_type": "code",
   "execution_count": 175,
   "metadata": {},
   "outputs": [
    {
     "data": {
      "text/plain": [
       "[Row(Papel='GGBR4', Cotacao='25,87', Tipo='PN N1', Data_ult_cot='26/02/2021', Empresa='GERDAU S.A. PN N1', Min_52_sem='8,54', Setor='Siderurgia e Metalurgia', Max_52_sem='29,54', Subsetor='Siderurgia', Vol_$_med_2m='402.679.000', Valor_de_mercado='44.487.600.000', Ult_balanco_processado='31/12/2020', Valor_da_firma='54.344.600.000', Nro._Acoes='1.719.660.000')]"
      ]
     },
     "execution_count": 175,
     "metadata": {},
     "output_type": "execute_result"
    }
   ],
   "source": [
    "sparkSession.createDataFrame(empresa_dados_list, empresa_label).collect()"
   ]
  },
  {
   "cell_type": "code",
   "execution_count": 176,
   "metadata": {},
   "outputs": [
    {
     "data": {
      "text/plain": [
       "DataFrame[Papel: string, Cotacao: string, Tipo: string, Data_ult_cot: string, Empresa: string, Min_52_sem: string, Setor: string, Max_52_sem: string, Subsetor: string, Vol_$_med_2m: string, Valor_de_mercado: string, Ult_balanco_processado: string, Valor_da_firma: string, Nro._Acoes: string]"
      ]
     },
     "execution_count": 176,
     "metadata": {},
     "output_type": "execute_result"
    }
   ],
   "source": [
    "df = sparkSession.createDataFrame(empresa_dados_list, empresa_label)\n",
    "df"
   ]
  },
  {
   "cell_type": "code",
   "execution_count": 177,
   "metadata": {},
   "outputs": [
    {
     "data": {
      "text/plain": [
       "pyspark.sql.dataframe.DataFrame"
      ]
     },
     "execution_count": 177,
     "metadata": {},
     "output_type": "execute_result"
    }
   ],
   "source": [
    "type(df)"
   ]
  },
  {
   "cell_type": "code",
   "execution_count": 178,
   "metadata": {},
   "outputs": [
    {
     "name": "stdout",
     "output_type": "stream",
     "text": [
      "+-----+-------+-----+------------+-----------------+----------+--------------------+----------+----------+------------+----------------+----------------------+--------------+-------------+\n",
      "|Papel|Cotacao| Tipo|Data_ult_cot|          Empresa|Min_52_sem|               Setor|Max_52_sem|  Subsetor|Vol_$_med_2m|Valor_de_mercado|Ult_balanco_processado|Valor_da_firma|   Nro._Acoes|\n",
      "+-----+-------+-----+------------+-----------------+----------+--------------------+----------+----------+------------+----------------+----------------------+--------------+-------------+\n",
      "|GGBR4|  25,87|PN N1|  26/02/2021|GERDAU S.A. PN N1|      8,54|Siderurgia e Meta...|     29,54|Siderurgia| 402.679.000|  44.487.600.000|            31/12/2020|54.344.600.000|1.719.660.000|\n",
      "+-----+-------+-----+------------+-----------------+----------+--------------------+----------+----------+------------+----------------+----------------------+--------------+-------------+\n",
      "\n"
     ]
    }
   ],
   "source": [
    "df.show()"
   ]
  },
  {
   "cell_type": "markdown",
   "metadata": {},
   "source": [
    "### Necessário configurar a versão do Python utilizada pelo Linux como a 3.6.\n",
    "* sudo update-alternatives --install /usr/bin/python python /usr/bin/python3.4 1\n",
    "* sudo update-alternatives --install /usr/bin/python python /usr/bin/python3.6 2\n",
    "* sudo update-alternatives --config python\n",
    "* sudo update-alternatives  --set python /usr/bin/python3.6"
   ]
  },
  {
   "cell_type": "code",
   "execution_count": 179,
   "metadata": {},
   "outputs": [],
   "source": [
    "# Write into HDFS\n",
    "# hdfs://hadoop-master:9000/user/hadoopuser/test/\n",
    "df.write.save('hdfs://172.17.177.40:9000/user/hadoopuser/fundamentus/detalhes/dados_empresa', format='parquet', mode='append')"
   ]
  },
  {
   "cell_type": "code",
   "execution_count": 180,
   "metadata": {},
   "outputs": [],
   "source": [
    "df_load = sparkSession.read.format('parquet').load('hdfs://172.17.177.40:9000/user/hadoopuser/fundamentus/detalhes/dados_empresa')"
   ]
  },
  {
   "cell_type": "code",
   "execution_count": 181,
   "metadata": {},
   "outputs": [
    {
     "name": "stdout",
     "output_type": "stream",
     "text": [
      "+-----+-------+-----+------------+-----------------+----------+--------------------+----------+----------+------------+----------------+----------------------+--------------+-------------+\n",
      "|Papel|Cotacao| Tipo|Data_ult_cot|          Empresa|Min_52_sem|               Setor|Max_52_sem|  Subsetor|Vol_$_med_2m|Valor_de_mercado|Ult_balanco_processado|Valor_da_firma|   Nro._Acoes|\n",
      "+-----+-------+-----+------------+-----------------+----------+--------------------+----------+----------+------------+----------------+----------------------+--------------+-------------+\n",
      "|GGBR4|  25,87|PN N1|  26/02/2021|GERDAU S.A. PN N1|      8,54|Siderurgia e Meta...|     29,54|Siderurgia| 402.679.000|  44.487.600.000|            31/12/2020|54.344.600.000|1.719.660.000|\n",
      "+-----+-------+-----+------------+-----------------+----------+--------------------+----------+----------+------------+----------------+----------------------+--------------+-------------+\n",
      "\n"
     ]
    }
   ],
   "source": [
    "df_load.show()"
   ]
  },
  {
   "cell_type": "code",
   "execution_count": 182,
   "metadata": {},
   "outputs": [
    {
     "data": {
      "text/html": [
       "<div>\n",
       "<style scoped>\n",
       "    .dataframe tbody tr th:only-of-type {\n",
       "        vertical-align: middle;\n",
       "    }\n",
       "\n",
       "    .dataframe tbody tr th {\n",
       "        vertical-align: top;\n",
       "    }\n",
       "\n",
       "    .dataframe thead th {\n",
       "        text-align: right;\n",
       "    }\n",
       "</style>\n",
       "<table border=\"1\" class=\"dataframe\">\n",
       "  <thead>\n",
       "    <tr style=\"text-align: right;\">\n",
       "      <th></th>\n",
       "      <th>Papel</th>\n",
       "      <th>Cotacao</th>\n",
       "      <th>Tipo</th>\n",
       "      <th>Data_ult_cot</th>\n",
       "      <th>Empresa</th>\n",
       "      <th>Min_52_sem</th>\n",
       "      <th>Setor</th>\n",
       "      <th>Max_52_sem</th>\n",
       "      <th>Subsetor</th>\n",
       "      <th>Vol_$_med_2m</th>\n",
       "      <th>Valor_de_mercado</th>\n",
       "      <th>Ult_balanco_processado</th>\n",
       "      <th>Valor_da_firma</th>\n",
       "      <th>Nro._Acoes</th>\n",
       "    </tr>\n",
       "  </thead>\n",
       "  <tbody>\n",
       "    <tr>\n",
       "      <th>0</th>\n",
       "      <td>GGBR4</td>\n",
       "      <td>25,87</td>\n",
       "      <td>PN N1</td>\n",
       "      <td>26/02/2021</td>\n",
       "      <td>GERDAU S.A. PN N1</td>\n",
       "      <td>8,54</td>\n",
       "      <td>Siderurgia e Metalurgia</td>\n",
       "      <td>29,54</td>\n",
       "      <td>Siderurgia</td>\n",
       "      <td>402.679.000</td>\n",
       "      <td>44.487.600.000</td>\n",
       "      <td>31/12/2020</td>\n",
       "      <td>54.344.600.000</td>\n",
       "      <td>1.719.660.000</td>\n",
       "    </tr>\n",
       "  </tbody>\n",
       "</table>\n",
       "</div>"
      ],
      "text/plain": [
       "   Papel Cotacao   Tipo Data_ult_cot            Empresa Min_52_sem  \\\n",
       "0  GGBR4   25,87  PN N1   26/02/2021  GERDAU S.A. PN N1       8,54   \n",
       "\n",
       "                     Setor Max_52_sem    Subsetor Vol_$_med_2m  \\\n",
       "0  Siderurgia e Metalurgia      29,54  Siderurgia  402.679.000   \n",
       "\n",
       "  Valor_de_mercado Ult_balanco_processado  Valor_da_firma     Nro._Acoes  \n",
       "0   44.487.600.000             31/12/2020  54.344.600.000  1.719.660.000  "
      ]
     },
     "execution_count": 182,
     "metadata": {},
     "output_type": "execute_result"
    }
   ],
   "source": [
    "df_load.toPandas()"
   ]
  },
  {
   "cell_type": "code",
   "execution_count": null,
   "metadata": {},
   "outputs": [],
   "source": []
  },
  {
   "cell_type": "code",
   "execution_count": null,
   "metadata": {},
   "outputs": [],
   "source": []
  }
 ],
 "metadata": {
  "kernelspec": {
   "display_name": "Python 3",
   "language": "python",
   "name": "python3"
  },
  "language_info": {
   "codemirror_mode": {
    "name": "ipython",
    "version": 3
   },
   "file_extension": ".py",
   "mimetype": "text/x-python",
   "name": "python",
   "nbconvert_exporter": "python",
   "pygments_lexer": "ipython3",
   "version": "3.6.9"
  }
 },
 "nbformat": 4,
 "nbformat_minor": 4
}
