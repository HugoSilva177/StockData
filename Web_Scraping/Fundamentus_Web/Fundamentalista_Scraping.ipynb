{
 "cells": [
  {
   "cell_type": "markdown",
   "metadata": {},
   "source": [
    "## Imports"
   ]
  },
  {
   "cell_type": "code",
   "execution_count": 1,
   "metadata": {},
   "outputs": [],
   "source": [
    "import io\n",
    "import os.path\n",
    "from scrapy import Selector\n",
    "from datetime import datetime\n",
    "from urllib.request import Request, urlopen"
   ]
  },
  {
   "cell_type": "markdown",
   "metadata": {},
   "source": [
    "## Baixando HTML do site Fundamentus (Web Crawling)"
   ]
  },
  {
   "cell_type": "code",
   "execution_count": 2,
   "metadata": {},
   "outputs": [],
   "source": [
    "# mudar o nome do papel para baixar novo HTML\n",
    "papel = 'GGBR4'\n",
    "url = 'https://fundamentus.com.br/detalhes.php?papel=%s' % papel\n",
    "\n",
    "req = Request(url, headers={'User-Agent': 'Mozilla/5.0'})\n",
    "\n",
    "response = urlopen(req, timeout=20).read()\n",
    "html_dados = response.decode('latin-1')"
   ]
  },
  {
   "cell_type": "code",
   "execution_count": null,
   "metadata": {},
   "outputs": [],
   "source": [
    "sel = Selector( text = html_dados )"
   ]
  },
  {
   "cell_type": "markdown",
   "metadata": {},
   "source": [
    "## Pegando nome do papel, data última cotação e data último balanço"
   ]
  },
  {
   "cell_type": "code",
   "execution_count": 16,
   "metadata": {},
   "outputs": [
    {
     "data": {
      "text/plain": [
       "'GGBR4'"
      ]
     },
     "execution_count": 16,
     "metadata": {},
     "output_type": "execute_result"
    }
   ],
   "source": [
    "papel = sel.xpath(\"//table[1]//span[@class='txt']/text()\").extract()[1]\n",
    "papel"
   ]
  },
  {
   "cell_type": "code",
   "execution_count": 17,
   "metadata": {},
   "outputs": [
    {
     "data": {
      "text/plain": [
       "'2021-03-01'"
      ]
     },
     "execution_count": 17,
     "metadata": {},
     "output_type": "execute_result"
    }
   ],
   "source": [
    "data_ult_cotacao = sel.xpath(\"//table[1]//span[@class='txt']/text() | //table[1]//span[@class='txt']/a/text()\").extract()[7]\n",
    "data_ult_cotacao = datetime.strptime(data_ult_cotacao, '%d/%m/%Y').date()\n",
    "data_ult_cotacao = str(data_ult_cotacao)\n",
    "data_ult_cotacao"
   ]
  },
  {
   "cell_type": "code",
   "execution_count": 18,
   "metadata": {},
   "outputs": [
    {
     "data": {
      "text/plain": [
       "'2020-12-31'"
      ]
     },
     "execution_count": 18,
     "metadata": {},
     "output_type": "execute_result"
    }
   ],
   "source": [
    "data_ult_balanco = sel.xpath(\"//table[2]//span[@class='txt']/text()\").extract()[3]\n",
    "data_ult_balanco = datetime.strptime(data_ult_balanco, '%d/%m/%Y').date()\n",
    "data_ult_balanco = str(data_ult_balanco)\n",
    "data_ult_balanco"
   ]
  },
  {
   "cell_type": "markdown",
   "metadata": {},
   "source": [
    "## Funções para transformar os dados e labels"
   ]
  },
  {
   "cell_type": "code",
   "execution_count": 94,
   "metadata": {},
   "outputs": [],
   "source": [
    "from unicodedata import normalize\n",
    "def remover_acentos(txt):\n",
    "    return normalize('NFKD', txt).encode('ASCII', 'ignore').decode('ASCII')\n",
    "\n",
    "if __name__ == '__main__':\n",
    "    from doctest import testmod\n",
    "    testmod()"
   ]
  },
  {
   "cell_type": "code",
   "execution_count": 95,
   "metadata": {},
   "outputs": [],
   "source": [
    "def remover_caracteres_especiais(empresa_label):\n",
    "    empresa_label = list(map(lambda x: remover_acentos(x), empresa_label))\n",
    "    empresa_label = list(map(lambda st: str.replace(st, \" \",\"_\"), empresa_label))\n",
    "    empresa_label = list(map(lambda st: str.replace(st, \"(\",\"\"), empresa_label))\n",
    "    empresa_label = list(map(lambda st: str.replace(st, \")\",\"\"), empresa_label))\n",
    "    return empresa_label"
   ]
  },
  {
   "cell_type": "code",
   "execution_count": 96,
   "metadata": {},
   "outputs": [],
   "source": [
    "def transformar_lista_em_tuples(empresa_dados):\n",
    "    empresa_dados_list = []\n",
    "    empresa_dados_list.append(tuple(empresa_dados))\n",
    "    return empresa_dados_list"
   ]
  },
  {
   "cell_type": "markdown",
   "metadata": {},
   "source": [
    "## Verificação se já existe os dados:\n",
    "* Verificar se o papel já existe nos dados gravados\n",
    "    * Se não existir, inserir dados da empresa, dados de cotação e dados do balanço\n",
    "    * Se existir, verificar se a cotação mais atual já existe\n",
    "    * Se existir, verificar se o balanço mais atual já existe\n",
    "* Verificando se a cotaçao mais atual já existe\n",
    "    * Se não existir, inserir dados da cotação atualizado\n",
    "    * Se existir, não fazer nada\n",
    "* Verificando se o balanço mais atual já existe\n",
    "    * Se não existir, inserir dados do balanço atualizado\n",
    "    * Se existir, não fazer nada"
   ]
  },
  {
   "cell_type": "markdown",
   "metadata": {},
   "source": [
    "## Incluindo Dados da Empresa (caso ainda não exista)"
   ]
  },
  {
   "cell_type": "code",
   "execution_count": 97,
   "metadata": {},
   "outputs": [
    {
     "data": {
      "text/plain": [
       "['Papel', 'Tipo', 'Empresa', 'Setor', 'Subsetor']"
      ]
     },
     "execution_count": 97,
     "metadata": {},
     "output_type": "execute_result"
    }
   ],
   "source": [
    "info_empresa_label = sel.xpath(\"//table[1]//span[@class='txt']/text() | //table[1]//span[@class='txt']/a/text()\").extract()[0::2][0::2]\n",
    "info_empresa_label = remover_caracteres_especiais(info_empresa_label)\n",
    "info_empresa_label"
   ]
  },
  {
   "cell_type": "code",
   "execution_count": 26,
   "metadata": {},
   "outputs": [
    {
     "data": {
      "text/plain": [
       "['GGBR4',\n",
       " 'PN N1',\n",
       " 'GERDAU S.A. PN N1',\n",
       " 'Siderurgia e Metalurgia',\n",
       " 'Siderurgia']"
      ]
     },
     "execution_count": 26,
     "metadata": {},
     "output_type": "execute_result"
    }
   ],
   "source": [
    "info_empresa_dados = sel.xpath(\"//table[1]//span[@class='txt']/text() | //table[1]//span[@class='txt']/a/text()\").extract()[1::2][0::2]\n",
    "info_empresa_dados"
   ]
  },
  {
   "cell_type": "markdown",
   "metadata": {},
   "source": [
    "## Inclundo Dados atualizados de Cotação (caso estejam desatualizados)\n",
    "### Dados Básicos Cotação"
   ]
  },
  {
   "cell_type": "code",
   "execution_count": 60,
   "metadata": {},
   "outputs": [
    {
     "data": {
      "text/plain": [
       "['Cotação', 'Data últ cot', 'Min 52 sem', 'Max 52 sem', 'Vol $ méd (2m)']"
      ]
     },
     "execution_count": 60,
     "metadata": {},
     "output_type": "execute_result"
    }
   ],
   "source": [
    "cotacao_label = sel.xpath(\"//table[1]//span[@class='txt']/text() | //table[1]//span[@class='txt']/a/text()\").extract()[0::2][1::2]\n",
    "cotacao_label"
   ]
  },
  {
   "cell_type": "code",
   "execution_count": 61,
   "metadata": {},
   "outputs": [
    {
     "data": {
      "text/plain": [
       "['26,67', '01/03/2021', '8,54', '29,54', '419.645.000']"
      ]
     },
     "execution_count": 61,
     "metadata": {},
     "output_type": "execute_result"
    }
   ],
   "source": [
    "cotacao_dados = sel.xpath(\"//table[1]//span[@class='txt']/text() | //table[1]//span[@class='txt']/a/text()\").extract()[1::2][1::2]\n",
    "cotacao_dados"
   ]
  },
  {
   "cell_type": "code",
   "execution_count": 98,
   "metadata": {},
   "outputs": [
    {
     "data": {
      "text/plain": [
       "['Cotacao',\n",
       " 'Data_ult_cot',\n",
       " 'Min_52_sem',\n",
       " 'Max_52_sem',\n",
       " 'Vol_$_med_2m',\n",
       " 'Valor_de_mercado',\n",
       " 'Nro._Acoes',\n",
       " 'Valor_de_mercado',\n",
       " 'Nro._Acoes']"
      ]
     },
     "execution_count": 98,
     "metadata": {},
     "output_type": "execute_result"
    }
   ],
   "source": [
    "cotacao_label += sel.xpath(\"//table[2]//span[@class='txt']/text()\").extract()[0::2][0::3]\n",
    "cotacao_label = remover_caracteres_especiais(cotacao_label)\n",
    "cotacao_label"
   ]
  },
  {
   "cell_type": "code",
   "execution_count": 63,
   "metadata": {},
   "outputs": [
    {
     "data": {
      "text/plain": [
       "['26,67',\n",
       " '01/03/2021',\n",
       " '8,54',\n",
       " '29,54',\n",
       " '419.645.000',\n",
       " '45.863.300.000',\n",
       " '1.719.660.000']"
      ]
     },
     "execution_count": 63,
     "metadata": {},
     "output_type": "execute_result"
    }
   ],
   "source": [
    "cotacao_dados += sel.xpath(\"//table[2]//span[@class='txt']/text()\").extract()[1::2][0::3]\n",
    "cotacao_dados"
   ]
  },
  {
   "cell_type": "markdown",
   "metadata": {},
   "source": [
    "### Dados Oscilação"
   ]
  },
  {
   "cell_type": "code",
   "execution_count": 64,
   "metadata": {},
   "outputs": [
    {
     "data": {
      "text/plain": [
       "'Oscilações'"
      ]
     },
     "execution_count": 64,
     "metadata": {},
     "output_type": "execute_result"
    }
   ],
   "source": [
    "oscilacao_label = sel.xpath(\"//table[3]//td[@class='nivel1']//span/text()\").extract()[0]\n",
    "oscilacao_label"
   ]
  },
  {
   "cell_type": "code",
   "execution_count": 66,
   "metadata": {},
   "outputs": [
    {
     "data": {
      "text/plain": [
       "['Dia',\n",
       " 'Mês',\n",
       " '30 dias',\n",
       " '12 meses',\n",
       " '2021',\n",
       " '2020',\n",
       " '2019',\n",
       " '2018',\n",
       " '2017',\n",
       " '2016']"
      ]
     },
     "execution_count": 66,
     "metadata": {},
     "output_type": "execute_result"
    }
   ],
   "source": [
    "lista_oscilacoes_label = sel.xpath(\"//table[3]//td[@class='label w1']//span/text()\").extract()\n",
    "lista_oscilacoes_label"
   ]
  },
  {
   "cell_type": "code",
   "execution_count": 99,
   "metadata": {},
   "outputs": [
    {
     "data": {
      "text/plain": [
       "['Oscilacoes_Dia',\n",
       " 'Oscilacoes_Mes',\n",
       " 'Oscilacoes_30_dias',\n",
       " 'Oscilacoes_12_meses',\n",
       " 'Oscilacoes_2021',\n",
       " 'Oscilacoes_2020',\n",
       " 'Oscilacoes_2019',\n",
       " 'Oscilacoes_2018',\n",
       " 'Oscilacoes_2017',\n",
       " 'Oscilacoes_2016']"
      ]
     },
     "execution_count": 99,
     "metadata": {},
     "output_type": "execute_result"
    }
   ],
   "source": [
    "oscilacoes_label = list(map(lambda label: oscilacao_label + \"_\" + label, lista_oscilacoes_label))\n",
    "oscilacoes_label = remover_caracteres_especiais(oscilacoes_label)\n",
    "oscilacoes_label"
   ]
  },
  {
   "cell_type": "code",
   "execution_count": 69,
   "metadata": {},
   "outputs": [
    {
     "data": {
      "text/plain": [
       "['3,09%',\n",
       " '3,09%',\n",
       " '16,11%',\n",
       " '55,83%',\n",
       " '9,08%',\n",
       " '23,86%',\n",
       " '37,65%',\n",
       " '22,31%',\n",
       " '15,23%',\n",
       " '138,66%']"
      ]
     },
     "execution_count": 69,
     "metadata": {},
     "output_type": "execute_result"
    }
   ],
   "source": [
    "oscilacoes_dados = sel.xpath(\"//table[3]//span[@class='oscil']/font/text()\").extract()\n",
    "oscilacoes_dados"
   ]
  },
  {
   "cell_type": "markdown",
   "metadata": {},
   "source": [
    "### Dados Indicadores Fundamentalistas"
   ]
  },
  {
   "cell_type": "code",
   "execution_count": 100,
   "metadata": {},
   "outputs": [
    {
     "data": {
      "text/plain": [
       "['P/L',\n",
       " 'LPA',\n",
       " 'P/VP',\n",
       " 'VPA',\n",
       " 'P/EBIT',\n",
       " 'Marg._Bruta',\n",
       " 'PSR',\n",
       " 'Marg._EBIT',\n",
       " 'P/Ativos',\n",
       " 'Marg._Liquida',\n",
       " 'P/Cap._Giro',\n",
       " 'EBIT_/_Ativo',\n",
       " 'P/Ativ_Circ_Liq',\n",
       " 'ROIC',\n",
       " 'Div._Yield',\n",
       " 'ROE',\n",
       " 'EV_/_EBITDA',\n",
       " 'Liquidez_Corr',\n",
       " 'EV_/_EBIT',\n",
       " 'Div_Br/_Patrim',\n",
       " 'Cres._Rec_5a',\n",
       " 'Giro_Ativos']"
      ]
     },
     "execution_count": 100,
     "metadata": {},
     "output_type": "execute_result"
    }
   ],
   "source": [
    "indicador_fundamentalita_label = sel.xpath(\"//table[3]//td[@class='label w2']//span[@class='txt']/text() | //table[3]//td[@class='label']//span[@class='txt']/text()\").extract()\n",
    "indicador_fundamentalita_label = remover_caracteres_especiais(indicador_fundamentalita_label)\n",
    "indicador_fundamentalita_label"
   ]
  },
  {
   "cell_type": "code",
   "execution_count": 72,
   "metadata": {},
   "outputs": [
    {
     "data": {
      "text/plain": [
       "['19,39',\n",
       " '1,38',\n",
       " '1,49',\n",
       " '17,95',\n",
       " '\\n10,42',\n",
       " '\\n13,5%',\n",
       " '\\n1,05',\n",
       " '\\n10,0%',\n",
       " '\\n0,73',\n",
       " '\\n5,5%',\n",
       " '\\n3,85',\n",
       " '7,0%',\n",
       " '\\n-5,32',\n",
       " '\\n8,8%',\n",
       " '1,1%',\n",
       " '\\n7,7%',\n",
       " '\\n8,14',\n",
       " '\\n2,04',\n",
       " '\\n12,66',\n",
       " '\\n0,57',\n",
       " '\\n3,8%',\n",
       " '\\n0,69']"
      ]
     },
     "execution_count": 72,
     "metadata": {},
     "output_type": "execute_result"
    }
   ],
   "source": [
    "indicador_fundamentalita_dados = sel.xpath(\"//table[3]//td[@class='data w2']//span[@class='txt']/text() | //table[3]//td[@class='data']//span[@class='txt']/text()\").extract()\n",
    "indicador_fundamentalita_dados"
   ]
  },
  {
   "cell_type": "markdown",
   "metadata": {},
   "source": [
    "## Incluindo Dados atualizados do Balanço (caso estejam desatualizados)"
   ]
  },
  {
   "cell_type": "code",
   "execution_count": 76,
   "metadata": {},
   "outputs": [
    {
     "data": {
      "text/plain": [
       "['Últ balanço processado', 'Valor da firma']"
      ]
     },
     "execution_count": 76,
     "metadata": {},
     "output_type": "execute_result"
    }
   ],
   "source": [
    "balanco_label = sel.xpath(\"//table[2]//span[@class='txt']/text()\").extract()[2:6][0::2]\n",
    "balanco_label"
   ]
  },
  {
   "cell_type": "code",
   "execution_count": 83,
   "metadata": {},
   "outputs": [
    {
     "data": {
      "text/plain": [
       "['31/12/2020', '55.720.300.000']"
      ]
     },
     "execution_count": 83,
     "metadata": {},
     "output_type": "execute_result"
    }
   ],
   "source": [
    "balanco_dados = sel.xpath(\"//table[2]//span[@class='txt']/text()\").extract()[2:6][1::2]\n",
    "balanco_dados"
   ]
  },
  {
   "cell_type": "code",
   "execution_count": 81,
   "metadata": {},
   "outputs": [
    {
     "data": {
      "text/plain": [
       "['Últ balanço processado',\n",
       " 'Valor da firma',\n",
       " 'Ativo',\n",
       " 'Dív. Bruta',\n",
       " 'Disponibilidades',\n",
       " 'Dív. Líquida',\n",
       " 'Ativo Circulante',\n",
       " 'Patrim. Líq']"
      ]
     },
     "execution_count": 81,
     "metadata": {},
     "output_type": "execute_result"
    }
   ],
   "source": [
    "balanco_label += sel.xpath(\"//table[4]//td[@class='label w2']//span[@class='txt']/text() | //table[4]//td[@class='label']//span[@class='txt']/text()\").extract()\n",
    "balanco_label"
   ]
  },
  {
   "cell_type": "code",
   "execution_count": 84,
   "metadata": {},
   "outputs": [
    {
     "data": {
      "text/plain": [
       "['31/12/2020',\n",
       " '55.720.300.000',\n",
       " '63.123.000.000',\n",
       " '17.515.400.000',\n",
       " '7.658.350.000',\n",
       " '9.857.000.000',\n",
       " '23.409.500.000',\n",
       " '30.860.300.000']"
      ]
     },
     "execution_count": 84,
     "metadata": {},
     "output_type": "execute_result"
    }
   ],
   "source": [
    "balanco_dados += sel.xpath(\"//table[4]//td[@class='data w3']//span[@class='txt']/text() | //table[4]//td[@class='data']//span[@class='txt']/text()\").extract()\n",
    "balanco_dados"
   ]
  },
  {
   "cell_type": "code",
   "execution_count": 87,
   "metadata": {},
   "outputs": [
    {
     "data": {
      "text/plain": [
       "['Últ balanço processado',\n",
       " 'Valor da firma',\n",
       " 'Ativo',\n",
       " 'Dív. Bruta',\n",
       " 'Disponibilidades',\n",
       " 'Dív. Líquida',\n",
       " 'Ativo Circulante',\n",
       " 'Patrim. Líq',\n",
       " 'Receita Líquida_ult._12_meses',\n",
       " 'EBIT_ult._12_meses',\n",
       " 'Lucro Líquido_ult._12_meses']"
      ]
     },
     "execution_count": 87,
     "metadata": {},
     "output_type": "execute_result"
    }
   ],
   "source": [
    "dre_12_meses = sel.xpath(\"//table[5]//td[@class='label w2']//span[@class='txt']/text() | //table[5]//td[@class='label']//span[@class='txt']/text()\").extract()[0::2]\n",
    "balanco_label += list(map(lambda label: label + \"_ult._12_meses\", dre_12_meses))\n",
    "balanco_label"
   ]
  },
  {
   "cell_type": "code",
   "execution_count": 90,
   "metadata": {},
   "outputs": [
    {
     "data": {
      "text/plain": [
       "['31/12/2020',\n",
       " '55.720.300.000',\n",
       " '63.123.000.000',\n",
       " '17.515.400.000',\n",
       " '7.658.350.000',\n",
       " '9.857.000.000',\n",
       " '23.409.500.000',\n",
       " '30.860.300.000',\n",
       " '43.814.700.000',\n",
       " '4.400.170.000',\n",
       " '2.365.760.000']"
      ]
     },
     "execution_count": 90,
     "metadata": {},
     "output_type": "execute_result"
    }
   ],
   "source": [
    "balanco_dados += sel.xpath(\"//table[5]//td[@class='data w3']//span[@class='txt']/text() | //table[5]//td[@class='data']//span[@class='txt']/text()\").extract()[0::2]\n",
    "balanco_dados"
   ]
  },
  {
   "cell_type": "code",
   "execution_count": 101,
   "metadata": {},
   "outputs": [
    {
     "data": {
      "text/plain": [
       "['Ult_balanco_processado',\n",
       " 'Valor_da_firma',\n",
       " 'Ativo',\n",
       " 'Div._Bruta',\n",
       " 'Disponibilidades',\n",
       " 'Div._Liquida',\n",
       " 'Ativo_Circulante',\n",
       " 'Patrim._Liq',\n",
       " 'Receita_Liquida_ult._12_meses',\n",
       " 'EBIT_ult._12_meses',\n",
       " 'Lucro_Liquido_ult._12_meses',\n",
       " 'Receita_Liquida_ult._3_meses',\n",
       " 'EBIT_ult._3_meses',\n",
       " 'Lucro_Liquido_ult._3_meses',\n",
       " 'Receita_Liquida_ult._3_meses',\n",
       " 'EBIT_ult._3_meses',\n",
       " 'Lucro_Liquido_ult._3_meses']"
      ]
     },
     "execution_count": 101,
     "metadata": {},
     "output_type": "execute_result"
    }
   ],
   "source": [
    "dre_3_meses = sel.xpath(\"//table[5]//td[@class='label w2']//span[@class='txt']/text() | //table[5]//td[@class='label']//span[@class='txt']/text()\").extract()[1::2]\n",
    "balanco_label += list(map(lambda label: label + \"_ult._3_meses\", dre_3_meses))\n",
    "balanco_label"
   ]
  },
  {
   "cell_type": "code",
   "execution_count": null,
   "metadata": {},
   "outputs": [],
   "source": [
    "balanco_label = remover_caracteres_especiais(balanco_label)\n",
    "balanco_label"
   ]
  },
  {
   "cell_type": "code",
   "execution_count": 93,
   "metadata": {},
   "outputs": [
    {
     "data": {
      "text/plain": [
       "['31/12/2020',\n",
       " '55.720.300.000',\n",
       " '63.123.000.000',\n",
       " '17.515.400.000',\n",
       " '7.658.350.000',\n",
       " '9.857.000.000',\n",
       " '23.409.500.000',\n",
       " '30.860.300.000',\n",
       " '43.814.700.000',\n",
       " '4.400.170.000',\n",
       " '2.365.760.000',\n",
       " '13.620.200.000',\n",
       " '2.176.850.000',\n",
       " '1.048.330.000']"
      ]
     },
     "execution_count": 93,
     "metadata": {},
     "output_type": "execute_result"
    }
   ],
   "source": [
    "balanco_dados += sel.xpath(\"//table[5]//td[@class='data w3']//span[@class='txt']/text() | //table[5]//td[@class='data']//span[@class='txt']/text()\").extract()[1::2]\n",
    "balanco_dados"
   ]
  },
  {
   "cell_type": "code",
   "execution_count": null,
   "metadata": {},
   "outputs": [],
   "source": []
  },
  {
   "cell_type": "markdown",
   "metadata": {},
   "source": [
    "# -----------------------------------------------------------------------------------------------"
   ]
  },
  {
   "cell_type": "markdown",
   "metadata": {},
   "source": [
    "## Verificando se o arquivo já existe"
   ]
  },
  {
   "cell_type": "code",
   "execution_count": 5,
   "metadata": {},
   "outputs": [
    {
     "name": "stdout",
     "output_type": "stream",
     "text": [
      "Arquivo já existe com balanço mais atual!\n"
     ]
    }
   ],
   "source": [
    "path = '/home/hugo/Documents/Repositorios_GitHub/Projetos/02-StockData/Web_Scraping/Fundamentus_Web/'\n",
    "file_name = '%s_fundamentus_%s.txt' % (papel, str(data_ult_balanco_new_html))\n",
    "\n",
    "if os.path.isfile(path+file_name):\n",
    "    print('Arquivo já existe com balanço mais atual!')\n",
    "else:\n",
    "    print('Arquivo com balanço atual ainda não existe!')"
   ]
  },
  {
   "cell_type": "markdown",
   "metadata": {},
   "source": [
    "## Salvando conteúdo do HTML (em bytes) em um arquivo local como txt"
   ]
  },
  {
   "cell_type": "code",
   "execution_count": 6,
   "metadata": {},
   "outputs": [],
   "source": [
    "file_name = '%s_fundamentus_%s.txt' % (papel, data_ult_balanco_new_html)\n",
    "\n",
    "with io.open(path+file_name, 'w', encoding='utf-8') as f:\n",
    "    f.write(new_html)"
   ]
  },
  {
   "cell_type": "markdown",
   "metadata": {},
   "source": [
    "## Lendo conteúdo do arquivo Local e armazenando em uma variável"
   ]
  },
  {
   "cell_type": "code",
   "execution_count": 7,
   "metadata": {},
   "outputs": [],
   "source": [
    "with io.open(path+file_name, 'r', encoding='utf8') as f:\n",
    "    html = f.read()"
   ]
  },
  {
   "cell_type": "markdown",
   "metadata": {},
   "source": [
    "# ------------------------------------------------------------------------------------------------"
   ]
  },
  {
   "cell_type": "markdown",
   "metadata": {},
   "source": [
    "## Extrair e Separar Labels dos Dados do HTML (Web Scraping)\n",
    "### Tabela 1 e 2: Dados da Empresa e última cotação"
   ]
  },
  {
   "cell_type": "code",
   "execution_count": 10,
   "metadata": {},
   "outputs": [],
   "source": [
    "empresa_cotacao = sel.xpath(\"//table[1]//span[@class='txt']/text() | //table[1]//span[@class='txt']/a/text()\").extract()\n",
    "valores_data_balanco = sel.xpath(\"//table[2]//span[@class='txt']/text()\").extract()"
   ]
  },
  {
   "cell_type": "code",
   "execution_count": 17,
   "metadata": {},
   "outputs": [
    {
     "data": {
      "text/plain": [
       "['Papel',\n",
       " 'Cotacao',\n",
       " 'Tipo',\n",
       " 'Data_ult_cot',\n",
       " 'Empresa',\n",
       " 'Min_52_sem',\n",
       " 'Setor',\n",
       " 'Max_52_sem',\n",
       " 'Subsetor',\n",
       " 'Vol_$_med_2m',\n",
       " 'Valor_de_mercado',\n",
       " 'Ult_balanco_processado',\n",
       " 'Valor_da_firma',\n",
       " 'Nro._Acoes']"
      ]
     },
     "execution_count": 17,
     "metadata": {},
     "output_type": "execute_result"
    }
   ],
   "source": [
    "empresa_label = empresa_cotacao[0::2] + valores_data_balanco[0::2]\n",
    "empresa_label = remover_caracteres_especiais(empresa_label)\n",
    "empresa_label"
   ]
  },
  {
   "cell_type": "code",
   "execution_count": 22,
   "metadata": {},
   "outputs": [
    {
     "data": {
      "text/plain": [
       "[('GGBR4',\n",
       "  '26,67',\n",
       "  'PN N1',\n",
       "  '01/03/2021',\n",
       "  'GERDAU S.A. PN N1',\n",
       "  '8,54',\n",
       "  'Siderurgia e Metalurgia',\n",
       "  '29,54',\n",
       "  'Siderurgia',\n",
       "  '419.645.000',\n",
       "  '45.863.300.000',\n",
       "  '31/12/2020',\n",
       "  '55.720.300.000',\n",
       "  '1.719.660.000')]"
      ]
     },
     "execution_count": 22,
     "metadata": {},
     "output_type": "execute_result"
    }
   ],
   "source": [
    "empresa_dados = empresa_cotacao[1::2] + valores_data_balanco[1::2]\n",
    "empresa_dados = transformar_lista_em_tuples(empresa_dados)\n",
    "empresa_dados"
   ]
  },
  {
   "cell_type": "code",
   "execution_count": 24,
   "metadata": {},
   "outputs": [
    {
     "data": {
      "text/plain": [
       "'GGBR4'"
      ]
     },
     "execution_count": 24,
     "metadata": {},
     "output_type": "execute_result"
    }
   ],
   "source": [
    "papel = empresa_dados[0][0]\n",
    "papel"
   ]
  },
  {
   "cell_type": "markdown",
   "metadata": {},
   "source": [
    "### Tabela 3.1: Oscilações"
   ]
  },
  {
   "cell_type": "code",
   "execution_count": 13,
   "metadata": {},
   "outputs": [
    {
     "data": {
      "text/plain": [
       "'Oscilações'"
      ]
     },
     "execution_count": 13,
     "metadata": {},
     "output_type": "execute_result"
    }
   ],
   "source": [
    "sel.xpath(\"//table[3]//td[@class='nivel1']//span/text()\").extract()[0]"
   ]
  },
  {
   "cell_type": "code",
   "execution_count": 25,
   "metadata": {},
   "outputs": [
    {
     "data": {
      "text/plain": [
       "['Papel',\n",
       " 'Dia',\n",
       " 'Mes',\n",
       " '30_dias',\n",
       " '12_meses',\n",
       " '2021',\n",
       " '2020',\n",
       " '2019',\n",
       " '2018',\n",
       " '2017',\n",
       " '2016']"
      ]
     },
     "execution_count": 25,
     "metadata": {},
     "output_type": "execute_result"
    }
   ],
   "source": [
    "sel.xpath(\"//table[3]//td[@class='nivel1']//span/text()\").extract()[0]\n",
    "oscilacoes_label = sel.xpath(\"//table[3]//td[@class='label w1']//span/text()\").extract()\n",
    "oscilacoes_label.insert(0, 'Papel')\n",
    "oscilacoes_label = remover_caracteres_especiais(oscilacoes_label)\n",
    "oscilacoes_label"
   ]
  },
  {
   "cell_type": "code",
   "execution_count": 26,
   "metadata": {},
   "outputs": [
    {
     "data": {
      "text/plain": [
       "[('GGBR4',\n",
       "  '3,09%',\n",
       "  '3,09%',\n",
       "  '14,76%',\n",
       "  '59,60%',\n",
       "  '9,08%',\n",
       "  '23,86%',\n",
       "  '37,65%',\n",
       "  '22,31%',\n",
       "  '15,23%',\n",
       "  '138,66%')]"
      ]
     },
     "execution_count": 26,
     "metadata": {},
     "output_type": "execute_result"
    }
   ],
   "source": [
    "oscilacoes_dados = sel.xpath(\"//table[3]//span[@class='oscil']/font/text()\").extract()\n",
    "oscilacoes_dados.insert(0, papel)\n",
    "oscilacoes_dados = transformar_lista_em_tuples(oscilacoes_dados)\n",
    "oscilacoes_dados"
   ]
  },
  {
   "cell_type": "markdown",
   "metadata": {},
   "source": [
    "### Tabela 3.2: Indicadores fundamentalistas"
   ]
  },
  {
   "cell_type": "code",
   "execution_count": 16,
   "metadata": {},
   "outputs": [
    {
     "data": {
      "text/plain": [
       "'Indicadores fundamentalistas'"
      ]
     },
     "execution_count": 16,
     "metadata": {},
     "output_type": "execute_result"
    }
   ],
   "source": [
    "sel.xpath(\"//table[3]//td[@class='nivel1']//span/text()\").extract()[1]"
   ]
  },
  {
   "cell_type": "code",
   "execution_count": 27,
   "metadata": {},
   "outputs": [
    {
     "data": {
      "text/plain": [
       "['Papel',\n",
       " 'P/L',\n",
       " 'LPA',\n",
       " 'P/VP',\n",
       " 'VPA',\n",
       " 'P/EBIT',\n",
       " 'Marg._Bruta',\n",
       " 'PSR',\n",
       " 'Marg._EBIT',\n",
       " 'P/Ativos',\n",
       " 'Marg._Liquida',\n",
       " 'P/Cap._Giro',\n",
       " 'EBIT_/_Ativo',\n",
       " 'P/Ativ_Circ_Liq',\n",
       " 'ROIC',\n",
       " 'Div._Yield',\n",
       " 'ROE',\n",
       " 'EV_/_EBITDA',\n",
       " 'Liquidez_Corr',\n",
       " 'EV_/_EBIT',\n",
       " 'Div_Br/_Patrim',\n",
       " 'Cres._Rec_5a',\n",
       " 'Giro_Ativos']"
      ]
     },
     "execution_count": 27,
     "metadata": {},
     "output_type": "execute_result"
    }
   ],
   "source": [
    "indicadores_label = sel.xpath(\"//table[3]//td[@class='label w2']//span[@class='txt']/text() | //table[3]//td[@class='label']//span[@class='txt']/text()\").extract()\n",
    "indicadores_label.insert(0, 'Papel')\n",
    "indicadores_label = remover_caracteres_especiais(indicadores_label)\n",
    "indicadores_label"
   ]
  },
  {
   "cell_type": "code",
   "execution_count": 31,
   "metadata": {},
   "outputs": [
    {
     "data": {
      "text/plain": [
       "[('GGBR4',\n",
       "  '19,39',\n",
       "  '1,38',\n",
       "  '1,49',\n",
       "  '17,95',\n",
       "  '10,42',\n",
       "  '13,5%',\n",
       "  '1,05',\n",
       "  '10,0%',\n",
       "  '0,73',\n",
       "  '5,5%',\n",
       "  '3,85',\n",
       "  '7,0%',\n",
       "  '-5,32',\n",
       "  '8,8%',\n",
       "  '1,1%',\n",
       "  '7,7%',\n",
       "  '8,14',\n",
       "  '2,04',\n",
       "  '12,66',\n",
       "  '0,57',\n",
       "  '3,8%',\n",
       "  '0,69')]"
      ]
     },
     "execution_count": 31,
     "metadata": {},
     "output_type": "execute_result"
    }
   ],
   "source": [
    "# Os dado estão vindo irregulares, com \\n na frente de alguns valores\n",
    "indicadores_dados = sel.xpath(\"//table[3]//td[@class='data w2']//span[@class='txt']/text() | //table[3]//td[@class='data']//span[@class='txt']/text()\").extract()\n",
    "indicadores_dados.insert(0, papel)\n",
    "indicadores_dados = list(map(lambda st: str.replace(st, \"\\n\",\"\"), indicadores_dados))\n",
    "indicadores_dados = transformar_lista_em_tuples(indicadores_dados)\n",
    "indicadores_dados"
   ]
  },
  {
   "cell_type": "markdown",
   "metadata": {},
   "source": [
    "### Tabela 4: Dados Balanço Patrimonial"
   ]
  },
  {
   "cell_type": "code",
   "execution_count": 32,
   "metadata": {},
   "outputs": [
    {
     "data": {
      "text/plain": [
       "'Dados Balanço Patrimonial'"
      ]
     },
     "execution_count": 32,
     "metadata": {},
     "output_type": "execute_result"
    }
   ],
   "source": [
    "sel.xpath(\"//table[4]//td[@class='nivel1']//span/text()\").extract()[0]"
   ]
  },
  {
   "cell_type": "code",
   "execution_count": 33,
   "metadata": {},
   "outputs": [
    {
     "data": {
      "text/plain": [
       "['Papel',\n",
       " 'Ativo',\n",
       " 'Div._Bruta',\n",
       " 'Disponibilidades',\n",
       " 'Div._Liquida',\n",
       " 'Ativo_Circulante',\n",
       " 'Patrim._Liq']"
      ]
     },
     "execution_count": 33,
     "metadata": {},
     "output_type": "execute_result"
    }
   ],
   "source": [
    "balanco_patrimonial_label = sel.xpath(\"//table[4]//td[@class='label w2']//span[@class='txt']/text() | //table[4]//td[@class='label']//span[@class='txt']/text()\").extract()\n",
    "balanco_patrimonial_label.insert(0, 'Papel')\n",
    "balanco_patrimonial_label = remover_caracteres_especiais(balanco_patrimonial_label)\n",
    "balanco_patrimonial_label"
   ]
  },
  {
   "cell_type": "code",
   "execution_count": 34,
   "metadata": {},
   "outputs": [
    {
     "data": {
      "text/plain": [
       "[('GGBR4',\n",
       "  '63.123.000.000',\n",
       "  '17.515.400.000',\n",
       "  '7.658.350.000',\n",
       "  '9.857.000.000',\n",
       "  '23.409.500.000',\n",
       "  '30.860.300.000')]"
      ]
     },
     "execution_count": 34,
     "metadata": {},
     "output_type": "execute_result"
    }
   ],
   "source": [
    "balanco_patrimonial_dados = sel.xpath(\"//table[4]//td[@class='data w3']//span[@class='txt']/text() | //table[4]//td[@class='data']//span[@class='txt']/text()\").extract()\n",
    "balanco_patrimonial_dados.insert(0, papel)\n",
    "balanco_patrimonial_dados = transformar_lista_em_tuples(balanco_patrimonial_dados)\n",
    "balanco_patrimonial_dados"
   ]
  },
  {
   "cell_type": "markdown",
   "metadata": {},
   "source": [
    "### Tabela 5.1: Demonstrativos de Resultados - Últimos 12 meses"
   ]
  },
  {
   "cell_type": "code",
   "execution_count": 194,
   "metadata": {},
   "outputs": [
    {
     "data": {
      "text/plain": [
       "'Dados demonstrativos de resultados'"
      ]
     },
     "execution_count": 194,
     "metadata": {},
     "output_type": "execute_result"
    }
   ],
   "source": [
    "sel.xpath(\"//table[5]//td[@class='nivel1']//span/text()\").extract()[0]"
   ]
  },
  {
   "cell_type": "code",
   "execution_count": 62,
   "metadata": {},
   "outputs": [],
   "source": [
    "label_ult_12_meses = sel.xpath(\"//table[5]//td[@class='label w2']//span[@class='txt']/text() | //table[5]//td[@class='label']//span[@class='txt']/text()\").extract()[0::2]\n",
    "label_ult_12_meses = list(map(lambda label: label + '_ult_12_meses', label_ult_12_meses))\n",
    "demonstrativo_resultados_label = label_ult_12_meses"
   ]
  },
  {
   "cell_type": "code",
   "execution_count": 63,
   "metadata": {},
   "outputs": [],
   "source": [
    "label_ult_3_meses = sel.xpath(\"//table[5]//td[@class='label w2']//span[@class='txt']/text() | //table[5]//td[@class='label']//span[@class='txt']/text()\").extract()[1::2]\n",
    "label_ult_3_meses = list(map(lambda label: label + '_ult_3_meses', label_ult_3_meses))\n",
    "demonstrativo_resultados_label += label_ult_3_meses"
   ]
  },
  {
   "cell_type": "code",
   "execution_count": 64,
   "metadata": {},
   "outputs": [
    {
     "data": {
      "text/plain": [
       "['Papel',\n",
       " 'Receita_Liquida_ult_12_meses',\n",
       " 'EBIT_ult_12_meses',\n",
       " 'Lucro_Liquido_ult_12_meses',\n",
       " 'Receita_Liquida_ult_3_meses',\n",
       " 'EBIT_ult_3_meses',\n",
       " 'Lucro_Liquido_ult_3_meses']"
      ]
     },
     "execution_count": 64,
     "metadata": {},
     "output_type": "execute_result"
    }
   ],
   "source": [
    "demonstrativo_resultados_label.insert(0, 'Papel')\n",
    "demonstrativo_resultados_label = remover_caracteres_especiais(demonstrativo_resultados_label)\n",
    "demonstrativo_resultados_label"
   ]
  },
  {
   "cell_type": "code",
   "execution_count": 67,
   "metadata": {},
   "outputs": [
    {
     "data": {
      "text/plain": [
       "[('GGBR4',\n",
       "  '43.814.700.000',\n",
       "  '4.400.170.000',\n",
       "  '2.365.760.000',\n",
       "  '13.620.200.000',\n",
       "  '2.176.850.000',\n",
       "  '1.048.330.000')]"
      ]
     },
     "execution_count": 67,
     "metadata": {},
     "output_type": "execute_result"
    }
   ],
   "source": [
    "dados_ult_12_meses = sel.xpath(\"//table[5]//td[@class='data w3']//span[@class='txt']/text() | //table[5]//td[@class='data']//span[@class='txt']/text()\").extract()[0::2]\n",
    "dados_ult_3_meses = sel.xpath(\"//table[5]//td[@class='data w3']//span[@class='txt']/text() | //table[5]//td[@class='data']//span[@class='txt']/text()\").extract()[1::2]\n",
    "demonstrativo_resultados_dados = dados_ult_12_meses + dados_ult_3_meses\n",
    "demonstrativo_resultados_dados.insert(0, papel)\n",
    "demonstrativo_resultados_dados = transformar_lista_em_tuples(demonstrativo_resultados_dados)\n",
    "demonstrativo_resultados_dados"
   ]
  },
  {
   "cell_type": "markdown",
   "metadata": {},
   "source": [
    "# Acesso ao HDFS server (Write and Read)"
   ]
  },
  {
   "cell_type": "code",
   "execution_count": 162,
   "metadata": {},
   "outputs": [],
   "source": [
    "#!pip3 install pyspark"
   ]
  },
  {
   "cell_type": "code",
   "execution_count": 163,
   "metadata": {},
   "outputs": [],
   "source": [
    "from pyspark.sql import SparkSession\n",
    "sparkSession = SparkSession.builder.appName(\"example-pyspark-read-and-write\").getOrCreate()"
   ]
  },
  {
   "cell_type": "code",
   "execution_count": 164,
   "metadata": {},
   "outputs": [
    {
     "data": {
      "text/plain": [
       "[Row(_1='GGBR4', _2='25,87', _3='PN N1', _4='26/02/2021', _5='GERDAU S.A. PN N1', _6='8,54', _7='Siderurgia e Metalurgia', _8='29,54', _9='Siderurgia', _10='402.679.000', _11='44.487.600.000', _12='31/12/2020', _13='54.344.600.000', _14='1.719.660.000')]"
      ]
     },
     "execution_count": 164,
     "metadata": {},
     "output_type": "execute_result"
    }
   ],
   "source": [
    "sparkSession.createDataFrame(empresa_dados_list).collect()"
   ]
  },
  {
   "cell_type": "code",
   "execution_count": 175,
   "metadata": {},
   "outputs": [
    {
     "data": {
      "text/plain": [
       "[Row(Papel='GGBR4', Cotacao='25,87', Tipo='PN N1', Data_ult_cot='26/02/2021', Empresa='GERDAU S.A. PN N1', Min_52_sem='8,54', Setor='Siderurgia e Metalurgia', Max_52_sem='29,54', Subsetor='Siderurgia', Vol_$_med_2m='402.679.000', Valor_de_mercado='44.487.600.000', Ult_balanco_processado='31/12/2020', Valor_da_firma='54.344.600.000', Nro._Acoes='1.719.660.000')]"
      ]
     },
     "execution_count": 175,
     "metadata": {},
     "output_type": "execute_result"
    }
   ],
   "source": [
    "sparkSession.createDataFrame(empresa_dados_list, empresa_label).collect()"
   ]
  },
  {
   "cell_type": "code",
   "execution_count": 176,
   "metadata": {},
   "outputs": [
    {
     "data": {
      "text/plain": [
       "DataFrame[Papel: string, Cotacao: string, Tipo: string, Data_ult_cot: string, Empresa: string, Min_52_sem: string, Setor: string, Max_52_sem: string, Subsetor: string, Vol_$_med_2m: string, Valor_de_mercado: string, Ult_balanco_processado: string, Valor_da_firma: string, Nro._Acoes: string]"
      ]
     },
     "execution_count": 176,
     "metadata": {},
     "output_type": "execute_result"
    }
   ],
   "source": [
    "df = sparkSession.createDataFrame(empresa_dados_list, empresa_label)\n",
    "df"
   ]
  },
  {
   "cell_type": "code",
   "execution_count": 177,
   "metadata": {},
   "outputs": [
    {
     "data": {
      "text/plain": [
       "pyspark.sql.dataframe.DataFrame"
      ]
     },
     "execution_count": 177,
     "metadata": {},
     "output_type": "execute_result"
    }
   ],
   "source": [
    "type(df)"
   ]
  },
  {
   "cell_type": "code",
   "execution_count": 178,
   "metadata": {},
   "outputs": [
    {
     "name": "stdout",
     "output_type": "stream",
     "text": [
      "+-----+-------+-----+------------+-----------------+----------+--------------------+----------+----------+------------+----------------+----------------------+--------------+-------------+\n",
      "|Papel|Cotacao| Tipo|Data_ult_cot|          Empresa|Min_52_sem|               Setor|Max_52_sem|  Subsetor|Vol_$_med_2m|Valor_de_mercado|Ult_balanco_processado|Valor_da_firma|   Nro._Acoes|\n",
      "+-----+-------+-----+------------+-----------------+----------+--------------------+----------+----------+------------+----------------+----------------------+--------------+-------------+\n",
      "|GGBR4|  25,87|PN N1|  26/02/2021|GERDAU S.A. PN N1|      8,54|Siderurgia e Meta...|     29,54|Siderurgia| 402.679.000|  44.487.600.000|            31/12/2020|54.344.600.000|1.719.660.000|\n",
      "+-----+-------+-----+------------+-----------------+----------+--------------------+----------+----------+------------+----------------+----------------------+--------------+-------------+\n",
      "\n"
     ]
    }
   ],
   "source": [
    "df.show()"
   ]
  },
  {
   "cell_type": "markdown",
   "metadata": {},
   "source": [
    "### Necessário configurar a versão do Python utilizada pelo Linux como a 3.6.\n",
    "* sudo update-alternatives --install /usr/bin/python python /usr/bin/python3.4 1\n",
    "* sudo update-alternatives --install /usr/bin/python python /usr/bin/python3.6 2\n",
    "* sudo update-alternatives --config python\n",
    "* sudo update-alternatives  --set python /usr/bin/python3.6"
   ]
  },
  {
   "cell_type": "code",
   "execution_count": 179,
   "metadata": {},
   "outputs": [],
   "source": [
    "# Write into HDFS\n",
    "# hdfs://hadoop-master:9000/user/hadoopuser/test/\n",
    "df.write.save('hdfs://172.17.177.40:9000/user/hadoopuser/fundamentus/detalhes/dados_empresa', format='parquet', mode='append')"
   ]
  },
  {
   "cell_type": "code",
   "execution_count": 180,
   "metadata": {},
   "outputs": [],
   "source": [
    "df_load = sparkSession.read.format('parquet').load('hdfs://172.17.177.40:9000/user/hadoopuser/fundamentus/detalhes/dados_empresa')"
   ]
  },
  {
   "cell_type": "code",
   "execution_count": 181,
   "metadata": {},
   "outputs": [
    {
     "name": "stdout",
     "output_type": "stream",
     "text": [
      "+-----+-------+-----+------------+-----------------+----------+--------------------+----------+----------+------------+----------------+----------------------+--------------+-------------+\n",
      "|Papel|Cotacao| Tipo|Data_ult_cot|          Empresa|Min_52_sem|               Setor|Max_52_sem|  Subsetor|Vol_$_med_2m|Valor_de_mercado|Ult_balanco_processado|Valor_da_firma|   Nro._Acoes|\n",
      "+-----+-------+-----+------------+-----------------+----------+--------------------+----------+----------+------------+----------------+----------------------+--------------+-------------+\n",
      "|GGBR4|  25,87|PN N1|  26/02/2021|GERDAU S.A. PN N1|      8,54|Siderurgia e Meta...|     29,54|Siderurgia| 402.679.000|  44.487.600.000|            31/12/2020|54.344.600.000|1.719.660.000|\n",
      "+-----+-------+-----+------------+-----------------+----------+--------------------+----------+----------+------------+----------------+----------------------+--------------+-------------+\n",
      "\n"
     ]
    }
   ],
   "source": [
    "df_load.show()"
   ]
  },
  {
   "cell_type": "code",
   "execution_count": 182,
   "metadata": {},
   "outputs": [
    {
     "data": {
      "text/html": [
       "<div>\n",
       "<style scoped>\n",
       "    .dataframe tbody tr th:only-of-type {\n",
       "        vertical-align: middle;\n",
       "    }\n",
       "\n",
       "    .dataframe tbody tr th {\n",
       "        vertical-align: top;\n",
       "    }\n",
       "\n",
       "    .dataframe thead th {\n",
       "        text-align: right;\n",
       "    }\n",
       "</style>\n",
       "<table border=\"1\" class=\"dataframe\">\n",
       "  <thead>\n",
       "    <tr style=\"text-align: right;\">\n",
       "      <th></th>\n",
       "      <th>Papel</th>\n",
       "      <th>Cotacao</th>\n",
       "      <th>Tipo</th>\n",
       "      <th>Data_ult_cot</th>\n",
       "      <th>Empresa</th>\n",
       "      <th>Min_52_sem</th>\n",
       "      <th>Setor</th>\n",
       "      <th>Max_52_sem</th>\n",
       "      <th>Subsetor</th>\n",
       "      <th>Vol_$_med_2m</th>\n",
       "      <th>Valor_de_mercado</th>\n",
       "      <th>Ult_balanco_processado</th>\n",
       "      <th>Valor_da_firma</th>\n",
       "      <th>Nro._Acoes</th>\n",
       "    </tr>\n",
       "  </thead>\n",
       "  <tbody>\n",
       "    <tr>\n",
       "      <th>0</th>\n",
       "      <td>GGBR4</td>\n",
       "      <td>25,87</td>\n",
       "      <td>PN N1</td>\n",
       "      <td>26/02/2021</td>\n",
       "      <td>GERDAU S.A. PN N1</td>\n",
       "      <td>8,54</td>\n",
       "      <td>Siderurgia e Metalurgia</td>\n",
       "      <td>29,54</td>\n",
       "      <td>Siderurgia</td>\n",
       "      <td>402.679.000</td>\n",
       "      <td>44.487.600.000</td>\n",
       "      <td>31/12/2020</td>\n",
       "      <td>54.344.600.000</td>\n",
       "      <td>1.719.660.000</td>\n",
       "    </tr>\n",
       "  </tbody>\n",
       "</table>\n",
       "</div>"
      ],
      "text/plain": [
       "   Papel Cotacao   Tipo Data_ult_cot            Empresa Min_52_sem  \\\n",
       "0  GGBR4   25,87  PN N1   26/02/2021  GERDAU S.A. PN N1       8,54   \n",
       "\n",
       "                     Setor Max_52_sem    Subsetor Vol_$_med_2m  \\\n",
       "0  Siderurgia e Metalurgia      29,54  Siderurgia  402.679.000   \n",
       "\n",
       "  Valor_de_mercado Ult_balanco_processado  Valor_da_firma     Nro._Acoes  \n",
       "0   44.487.600.000             31/12/2020  54.344.600.000  1.719.660.000  "
      ]
     },
     "execution_count": 182,
     "metadata": {},
     "output_type": "execute_result"
    }
   ],
   "source": [
    "df_load.toPandas()"
   ]
  },
  {
   "cell_type": "code",
   "execution_count": null,
   "metadata": {},
   "outputs": [],
   "source": []
  },
  {
   "cell_type": "code",
   "execution_count": null,
   "metadata": {},
   "outputs": [],
   "source": []
  }
 ],
 "metadata": {
  "kernelspec": {
   "display_name": "Python 3",
   "language": "python",
   "name": "python3"
  },
  "language_info": {
   "codemirror_mode": {
    "name": "ipython",
    "version": 3
   },
   "file_extension": ".py",
   "mimetype": "text/x-python",
   "name": "python",
   "nbconvert_exporter": "python",
   "pygments_lexer": "ipython3",
   "version": "3.6.9"
  }
 },
 "nbformat": 4,
 "nbformat_minor": 4
}
