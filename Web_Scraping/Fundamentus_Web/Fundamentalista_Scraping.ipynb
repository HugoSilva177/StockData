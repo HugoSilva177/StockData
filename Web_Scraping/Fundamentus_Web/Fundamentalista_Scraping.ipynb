{
 "cells": [
  {
   "cell_type": "markdown",
   "metadata": {},
   "source": [
    "## Imports"
   ]
  },
  {
   "cell_type": "code",
   "execution_count": 1,
   "metadata": {},
   "outputs": [],
   "source": [
    "import io\n",
    "import os.path\n",
    "from scrapy import Selector\n",
    "from datetime import datetime\n",
    "from urllib.request import Request, urlopen"
   ]
  },
  {
   "cell_type": "markdown",
   "metadata": {},
   "source": [
    "## Baixando HTML do site Fundamentus (Web Crawling)"
   ]
  },
  {
   "cell_type": "code",
   "execution_count": 46,
   "metadata": {},
   "outputs": [],
   "source": [
    "# mudar o nome do papel para baixar novo HTML\n",
    "papel = 'ITUB4'\n",
    "url = 'https://fundamentus.com.br/detalhes.php?papel=%s' % papel\n",
    "\n",
    "req = Request(url, headers={'User-Agent': 'Mozilla/5.0'})\n",
    "\n",
    "response = urlopen(req, timeout=20).read()\n",
    "new_html= response.decode('latin-1')"
   ]
  },
  {
   "cell_type": "markdown",
   "metadata": {},
   "source": [
    "#### Verificando data do último balanço"
   ]
  },
  {
   "cell_type": "code",
   "execution_count": 47,
   "metadata": {},
   "outputs": [],
   "source": [
    "sel = Selector( text = new_html )"
   ]
  },
  {
   "cell_type": "code",
   "execution_count": 48,
   "metadata": {},
   "outputs": [
    {
     "data": {
      "text/plain": [
       "'2020-12-31'"
      ]
     },
     "execution_count": 48,
     "metadata": {},
     "output_type": "execute_result"
    }
   ],
   "source": [
    "data_ult_balanco_new_html = sel.xpath(\"//table[2]//span[@class='txt']/text()\").extract()[3]\n",
    "data_ult_balanco_new_html = datetime.strptime(data_ult_balanco_new_html, '%d/%m/%Y').date()\n",
    "data_ult_balanco_new_html = str(data_ult_balanco_new_html)\n",
    "data_ult_balanco_new_html"
   ]
  },
  {
   "cell_type": "code",
   "execution_count": 49,
   "metadata": {},
   "outputs": [
    {
     "name": "stdout",
     "output_type": "stream",
     "text": [
      "Arquivo já existe com balanço mais atual!\n"
     ]
    }
   ],
   "source": [
    "path = '/home/hugo/Documents/Repositorios_GitHub/Projetos/02-StockData/Web_Scraping/Fundamentus_Web/'\n",
    "file_name = '%s_fundamentus_%s.txt' % (papel, str(data_ult_balanco_new_html))\n",
    "\n",
    "if os.path.isfile(path+file_name):\n",
    "    print('Arquivo já existe com balanço mais atual!')\n",
    "else:\n",
    "    print('Arquivo com balanço atual ainda não existe!')"
   ]
  },
  {
   "cell_type": "markdown",
   "metadata": {},
   "source": [
    "## Salvando conteúdo do HTML (em bytes) em um arquivo local como txt"
   ]
  },
  {
   "cell_type": "code",
   "execution_count": 50,
   "metadata": {},
   "outputs": [],
   "source": [
    "file_name = '%s_fundamentus_%s.txt' % (papel, data_ult_balanco_new_html)\n",
    "\n",
    "with io.open(path+file_name, 'w', encoding='utf-8') as f:\n",
    "    f.write(new_html)"
   ]
  },
  {
   "cell_type": "markdown",
   "metadata": {},
   "source": [
    "## Lendo conteúdo do arquivo Local e armazenando em uma variável"
   ]
  },
  {
   "cell_type": "code",
   "execution_count": 51,
   "metadata": {},
   "outputs": [],
   "source": [
    "with io.open(path+file_name, 'r', encoding='utf8') as f:\n",
    "    html = f.read()"
   ]
  },
  {
   "cell_type": "markdown",
   "metadata": {},
   "source": [
    "## Extrair e Separar Labels dos Dados do HTML (Web Scraping)\n",
    "### Tabela 1 e 2: Dados da Empresa e última cotação"
   ]
  },
  {
   "cell_type": "code",
   "execution_count": 52,
   "metadata": {},
   "outputs": [],
   "source": [
    "#!pip3 install scrapy"
   ]
  },
  {
   "cell_type": "code",
   "execution_count": 53,
   "metadata": {},
   "outputs": [],
   "source": [
    "sel = Selector( text = html )"
   ]
  },
  {
   "cell_type": "code",
   "execution_count": 54,
   "metadata": {},
   "outputs": [],
   "source": [
    "empresa_cotacao = sel.xpath(\"//table[1]//span[@class='txt']/text() | //table[1]//span[@class='txt']/a/text()\").extract()\n",
    "valores_data_balanco = sel.xpath(\"//table[2]//span[@class='txt']/text()\").extract()"
   ]
  },
  {
   "cell_type": "code",
   "execution_count": 55,
   "metadata": {},
   "outputs": [
    {
     "data": {
      "text/plain": [
       "['Papel',\n",
       " 'Cotação',\n",
       " 'Tipo',\n",
       " 'Data últ cot',\n",
       " 'Empresa',\n",
       " 'Min 52 sem',\n",
       " 'Setor',\n",
       " 'Max 52 sem',\n",
       " 'Subsetor',\n",
       " 'Vol $ méd (2m)',\n",
       " 'Valor de mercado',\n",
       " 'Últ balanço processado',\n",
       " 'Valor da firma',\n",
       " 'Nro. Ações']"
      ]
     },
     "execution_count": 55,
     "metadata": {},
     "output_type": "execute_result"
    }
   ],
   "source": [
    "empresa_label = empresa_cotacao[0::2] + valores_data_balanco[0::2]\n",
    "empresa_label"
   ]
  },
  {
   "cell_type": "code",
   "execution_count": 56,
   "metadata": {},
   "outputs": [
    {
     "data": {
      "text/plain": [
       "['ITUB4',\n",
       " '26,08',\n",
       " 'PN N1',\n",
       " '25/02/2021',\n",
       " 'ITAUUNIBANCO PN N1',\n",
       " '20,36',\n",
       " 'Intermediários Financeiros',\n",
       " '32,78',\n",
       " 'Bancos',\n",
       " '1.160.530.000',\n",
       " '255.692.000.000',\n",
       " '31/12/2020',\n",
       " '-',\n",
       " '9.804.140.000']"
      ]
     },
     "execution_count": 56,
     "metadata": {},
     "output_type": "execute_result"
    }
   ],
   "source": [
    "empresa_dados = empresa_cotacao[1::2] + valores_data_balanco[1::2]\n",
    "empresa_dados"
   ]
  },
  {
   "cell_type": "markdown",
   "metadata": {},
   "source": [
    "### Tabela 3.1: Oscilações"
   ]
  },
  {
   "cell_type": "code",
   "execution_count": 13,
   "metadata": {},
   "outputs": [
    {
     "data": {
      "text/plain": [
       "'Oscilações'"
      ]
     },
     "execution_count": 13,
     "metadata": {},
     "output_type": "execute_result"
    }
   ],
   "source": [
    "sel.xpath(\"//table[3]//td[@class='nivel1']//span/text()\").extract()[0]"
   ]
  },
  {
   "cell_type": "code",
   "execution_count": 14,
   "metadata": {},
   "outputs": [
    {
     "data": {
      "text/plain": [
       "['Dia',\n",
       " 'Mês',\n",
       " '30 dias',\n",
       " '12 meses',\n",
       " '2021',\n",
       " '2020',\n",
       " '2019',\n",
       " '2018',\n",
       " '2017',\n",
       " '2016']"
      ]
     },
     "execution_count": 14,
     "metadata": {},
     "output_type": "execute_result"
    }
   ],
   "source": [
    "oscilacoes_label = sel.xpath(\"//table[3]//td[@class='label w1']//span/text()\").extract()\n",
    "oscilacoes_label"
   ]
  },
  {
   "cell_type": "code",
   "execution_count": 15,
   "metadata": {},
   "outputs": [
    {
     "data": {
      "text/plain": [
       "['-0,83%',\n",
       " '3,23%',\n",
       " '-17,53%',\n",
       " '20,08%',\n",
       " '-1,84%',\n",
       " '23,86%',\n",
       " '37,65%',\n",
       " '22,31%',\n",
       " '15,23%',\n",
       " '138,66%']"
      ]
     },
     "execution_count": 15,
     "metadata": {},
     "output_type": "execute_result"
    }
   ],
   "source": [
    "oscilacoes_dados = sel.xpath(\"//table[3]//span[@class='oscil']/font/text()\").extract()\n",
    "oscilacoes_dados"
   ]
  },
  {
   "cell_type": "markdown",
   "metadata": {},
   "source": [
    "### Tabela 3.2: Indicadores fundamentalistas"
   ]
  },
  {
   "cell_type": "code",
   "execution_count": 16,
   "metadata": {},
   "outputs": [
    {
     "data": {
      "text/plain": [
       "'Indicadores fundamentalistas'"
      ]
     },
     "execution_count": 16,
     "metadata": {},
     "output_type": "execute_result"
    }
   ],
   "source": [
    "sel.xpath(\"//table[3]//td[@class='nivel1']//span/text()\").extract()[1]"
   ]
  },
  {
   "cell_type": "code",
   "execution_count": 17,
   "metadata": {},
   "outputs": [
    {
     "data": {
      "text/plain": [
       "['P/L',\n",
       " 'LPA',\n",
       " 'P/VP',\n",
       " 'VPA',\n",
       " 'P/EBIT',\n",
       " 'Marg. Bruta',\n",
       " 'PSR',\n",
       " 'Marg. EBIT',\n",
       " 'P/Ativos',\n",
       " 'Marg. Líquida',\n",
       " 'P/Cap. Giro',\n",
       " 'EBIT / Ativo',\n",
       " 'P/Ativ Circ Liq',\n",
       " 'ROIC',\n",
       " 'Div. Yield',\n",
       " 'ROE',\n",
       " 'EV / EBITDA',\n",
       " 'Liquidez Corr',\n",
       " 'EV / EBIT',\n",
       " 'Div Br/ Patrim',\n",
       " 'Cres. Rec (5a)',\n",
       " 'Giro Ativos']"
      ]
     },
     "execution_count": 17,
     "metadata": {},
     "output_type": "execute_result"
    }
   ],
   "source": [
    "indicadores_label = sel.xpath(\"//table[3]//td[@class='label w2']//span[@class='txt']/text() | //table[3]//td[@class='label']//span[@class='txt']/text()\").extract()\n",
    "indicadores_label"
   ]
  },
  {
   "cell_type": "code",
   "execution_count": 18,
   "metadata": {},
   "outputs": [
    {
     "data": {
      "text/plain": [
       "['29,13',\n",
       " '0,82',\n",
       " '1,32',\n",
       " '18,18',\n",
       " '\\n16,16',\n",
       " '\\n9,9%',\n",
       " '\\n1,04',\n",
       " '\\n6,4%',\n",
       " '\\n0,65',\n",
       " '\\n3,6%',\n",
       " '\\n3,18',\n",
       " '4,0%',\n",
       " '\\n-4,21',\n",
       " '\\n4,9%',\n",
       " '1,3%',\n",
       " '\\n4,5%',\n",
       " '\\n10,97',\n",
       " '\\n2,41',\n",
       " '\\n21,00',\n",
       " '\\n0,62',\n",
       " '\\n1,5%',\n",
       " '\\n0,63']"
      ]
     },
     "execution_count": 18,
     "metadata": {},
     "output_type": "execute_result"
    }
   ],
   "source": [
    "# Os dado estão vindo irregulares, com \\n na frente de alguns valores\n",
    "indicadores_dados = sel.xpath(\"//table[3]//td[@class='data w2']//span[@class='txt']/text() | //table[3]//td[@class='data']//span[@class='txt']/text()\").extract()\n",
    "indicadores_dados"
   ]
  },
  {
   "cell_type": "code",
   "execution_count": 19,
   "metadata": {},
   "outputs": [
    {
     "data": {
      "text/plain": [
       "['29,13',\n",
       " '0,82',\n",
       " '1,32',\n",
       " '18,18',\n",
       " '16,16',\n",
       " '9,9%',\n",
       " '1,04',\n",
       " '6,4%',\n",
       " '0,65',\n",
       " '3,6%',\n",
       " '3,18',\n",
       " '4,0%',\n",
       " '-4,21',\n",
       " '4,9%',\n",
       " '1,3%',\n",
       " '4,5%',\n",
       " '10,97',\n",
       " '2,41',\n",
       " '21,00',\n",
       " '0,62',\n",
       " '1,5%',\n",
       " '0,63']"
      ]
     },
     "execution_count": 19,
     "metadata": {},
     "output_type": "execute_result"
    }
   ],
   "source": [
    "# Limpando os valores, removendo os caracteres irregulares (\\n)\n",
    "nova_list = []\n",
    "for valor in indicadores_dados:\n",
    "    nova_list.append(valor.replace(\"\\n\", \"\"))\n",
    "    \n",
    "indicadores_dados = nova_list\n",
    "indicadores_dados"
   ]
  },
  {
   "cell_type": "markdown",
   "metadata": {},
   "source": [
    "### Tabela 4: Dados Balanço Patrimonial"
   ]
  },
  {
   "cell_type": "code",
   "execution_count": 20,
   "metadata": {},
   "outputs": [
    {
     "data": {
      "text/plain": [
       "'Dados Balanço Patrimonial'"
      ]
     },
     "execution_count": 20,
     "metadata": {},
     "output_type": "execute_result"
    }
   ],
   "source": [
    "sel.xpath(\"//table[4]//td[@class='nivel1']//span/text()\").extract()[0]"
   ]
  },
  {
   "cell_type": "code",
   "execution_count": 21,
   "metadata": {},
   "outputs": [
    {
     "data": {
      "text/plain": [
       "['Ativo',\n",
       " 'Dív. Bruta',\n",
       " 'Disponibilidades',\n",
       " 'Dív. Líquida',\n",
       " 'Ativo Circulante',\n",
       " 'Patrim. Líq']"
      ]
     },
     "execution_count": 21,
     "metadata": {},
     "output_type": "execute_result"
    }
   ],
   "source": [
    "balanco_patrimonial_label = sel.xpath(\"//table[4]//td[@class='label w2']//span[@class='txt']/text() | //table[4]//td[@class='label']//span[@class='txt']/text()\").extract()\n",
    "balanco_patrimonial_label"
   ]
  },
  {
   "cell_type": "code",
   "execution_count": 22,
   "metadata": {},
   "outputs": [
    {
     "data": {
      "text/plain": [
       "['63.426.200.000',\n",
       " '19.541.000.000',\n",
       " '7.199.510.000',\n",
       " '12.341.500.000',\n",
       " '22.132.500.000',\n",
       " '31.270.600.000']"
      ]
     },
     "execution_count": 22,
     "metadata": {},
     "output_type": "execute_result"
    }
   ],
   "source": [
    "balanco_patrimonial_dados = sel.xpath(\"//table[4]//td[@class='data w3']//span[@class='txt']/text() | //table[4]//td[@class='data']//span[@class='txt']/text()\").extract()\n",
    "balanco_patrimonial_dados"
   ]
  },
  {
   "cell_type": "markdown",
   "metadata": {},
   "source": [
    "### Tabela 5.1: Demonstrativos de Resultados - Últimos 12 meses"
   ]
  },
  {
   "cell_type": "code",
   "execution_count": 23,
   "metadata": {},
   "outputs": [
    {
     "data": {
      "text/plain": [
       "'Dados demonstrativos de resultados'"
      ]
     },
     "execution_count": 23,
     "metadata": {},
     "output_type": "execute_result"
    }
   ],
   "source": [
    "sel.xpath(\"//table[5]//td[@class='nivel1']//span/text()\").extract()[0]"
   ]
  },
  {
   "cell_type": "code",
   "execution_count": 24,
   "metadata": {},
   "outputs": [
    {
     "data": {
      "text/plain": [
       "'Últimos 12 meses'"
      ]
     },
     "execution_count": 24,
     "metadata": {},
     "output_type": "execute_result"
    }
   ],
   "source": [
    "sel.xpath(\"//table[5]//td[@class='nivel2 w5']//span/text()\").extract()[0]"
   ]
  },
  {
   "cell_type": "code",
   "execution_count": 25,
   "metadata": {},
   "outputs": [
    {
     "data": {
      "text/plain": [
       "'Últimos 3 meses'"
      ]
     },
     "execution_count": 25,
     "metadata": {},
     "output_type": "execute_result"
    }
   ],
   "source": [
    "sel.xpath(\"//table[5]//td[@class='nivel2 w5']//span/text()\").extract()[1]"
   ]
  },
  {
   "cell_type": "code",
   "execution_count": 26,
   "metadata": {},
   "outputs": [
    {
     "data": {
      "text/plain": [
       "['Receita Líquida', 'EBIT', 'Lucro Líquido']"
      ]
     },
     "execution_count": 26,
     "metadata": {},
     "output_type": "execute_result"
    }
   ],
   "source": [
    "demonstrativo_resultados_label = sel.xpath(\"//table[5]//td[@class='label w2']//span[@class='txt']/text() | //table[5]//td[@class='label']//span[@class='txt']/text()\").extract()[0::2]\n",
    "demonstrativo_resultados_label"
   ]
  },
  {
   "cell_type": "code",
   "execution_count": 27,
   "metadata": {},
   "outputs": [
    {
     "data": {
      "text/plain": [
       "['39.727.900.000', '2.553.280.000', '1.417.010.000']"
      ]
     },
     "execution_count": 27,
     "metadata": {},
     "output_type": "execute_result"
    }
   ],
   "source": [
    "demonstrativo_resultados_12_meses = sel.xpath(\"//table[5]//td[@class='data w3']//span[@class='txt']/text() | //table[5]//td[@class='data']//span[@class='txt']/text()\").extract()[0::2]\n",
    "demonstrativo_resultados_12_meses"
   ]
  },
  {
   "cell_type": "code",
   "execution_count": 28,
   "metadata": {},
   "outputs": [
    {
     "data": {
      "text/plain": [
       "['12.222.100.000', '1.326.630.000', '785.541.000']"
      ]
     },
     "execution_count": 28,
     "metadata": {},
     "output_type": "execute_result"
    }
   ],
   "source": [
    "demonstrativo_resultados_3_meses = sel.xpath(\"//table[5]//td[@class='data w3']//span[@class='txt']/text() | //table[5]//td[@class='data']//span[@class='txt']/text()\").extract()[1::2]\n",
    "demonstrativo_resultados_3_meses"
   ]
  },
  {
   "cell_type": "code",
   "execution_count": null,
   "metadata": {},
   "outputs": [],
   "source": []
  },
  {
   "cell_type": "markdown",
   "metadata": {},
   "source": [
    "# Acesso ao HDFS server (Write and Read)"
   ]
  },
  {
   "cell_type": "code",
   "execution_count": 57,
   "metadata": {},
   "outputs": [
    {
     "data": {
      "text/plain": [
       "['Papel',\n",
       " 'Cotação',\n",
       " 'Tipo',\n",
       " 'Data últ cot',\n",
       " 'Empresa',\n",
       " 'Min 52 sem',\n",
       " 'Setor',\n",
       " 'Max 52 sem',\n",
       " 'Subsetor',\n",
       " 'Vol $ méd (2m)',\n",
       " 'Valor de mercado',\n",
       " 'Últ balanço processado',\n",
       " 'Valor da firma',\n",
       " 'Nro. Ações']"
      ]
     },
     "execution_count": 57,
     "metadata": {},
     "output_type": "execute_result"
    }
   ],
   "source": [
    "empresa_label"
   ]
  },
  {
   "cell_type": "code",
   "execution_count": 58,
   "metadata": {},
   "outputs": [],
   "source": [
    "empresa_label = [\n",
    "'Papel',\n",
    "'Cotacao',\n",
    "'Tipo',\n",
    "'Data_ult_cot',\n",
    "'Empresa',\n",
    "'Min_52_sem',\n",
    "'Setor',\n",
    "'Max_52_sem',\n",
    "'Subsetor',\n",
    "'Vol_$_med_2m',\n",
    "'Valor_de_mercado',\n",
    "'Ult_balanço_processado',\n",
    "'Valor_da_firma',\n",
    "'Nro_Acoes']"
   ]
  },
  {
   "cell_type": "code",
   "execution_count": 59,
   "metadata": {},
   "outputs": [
    {
     "data": {
      "text/plain": [
       "[('ITUB4',\n",
       "  '26,08',\n",
       "  'PN N1',\n",
       "  '25/02/2021',\n",
       "  'ITAUUNIBANCO PN N1',\n",
       "  '20,36',\n",
       "  'Intermediários Financeiros',\n",
       "  '32,78',\n",
       "  'Bancos',\n",
       "  '1.160.530.000',\n",
       "  '255.692.000.000',\n",
       "  '31/12/2020',\n",
       "  '-',\n",
       "  '9.804.140.000')]"
      ]
     },
     "execution_count": 59,
     "metadata": {},
     "output_type": "execute_result"
    }
   ],
   "source": [
    "# Dados precisam ser uma lista de tuples\n",
    "empresa_dados_list = []\n",
    "empresa_dados_list.append(tuple(empresa_dados))\n",
    "empresa_dados_list"
   ]
  },
  {
   "cell_type": "code",
   "execution_count": 60,
   "metadata": {},
   "outputs": [],
   "source": [
    "#!pip3 install pyspark"
   ]
  },
  {
   "cell_type": "code",
   "execution_count": 61,
   "metadata": {},
   "outputs": [],
   "source": [
    "#from pyspark import SparkContext\n",
    "#import sys\n",
    "\n",
    "#if __name__ == \"__main__\":\n",
    "#    sc = SparkContext(appName=\"RDD_Examples\")\n",
    "#    my_list = sc.parallelize(empresa_dados)"
   ]
  },
  {
   "cell_type": "code",
   "execution_count": 62,
   "metadata": {},
   "outputs": [],
   "source": [
    "from pyspark.sql import SparkSession\n",
    "sparkSession = SparkSession.builder.appName(\"example-pyspark-read-and-write\").getOrCreate()"
   ]
  },
  {
   "cell_type": "code",
   "execution_count": 63,
   "metadata": {},
   "outputs": [
    {
     "data": {
      "text/plain": [
       "[Row(_1='ITUB4', _2='26,08', _3='PN N1', _4='25/02/2021', _5='ITAUUNIBANCO PN N1', _6='20,36', _7='Intermediários Financeiros', _8='32,78', _9='Bancos', _10='1.160.530.000', _11='255.692.000.000', _12='31/12/2020', _13='-', _14='9.804.140.000')]"
      ]
     },
     "execution_count": 63,
     "metadata": {},
     "output_type": "execute_result"
    }
   ],
   "source": [
    "sparkSession.createDataFrame(empresa_dados_list).collect()"
   ]
  },
  {
   "cell_type": "code",
   "execution_count": 64,
   "metadata": {},
   "outputs": [
    {
     "data": {
      "text/plain": [
       "[Row(Papel='ITUB4', Cotacao='26,08', Tipo='PN N1', Data_ult_cot='25/02/2021', Empresa='ITAUUNIBANCO PN N1', Min_52_sem='20,36', Setor='Intermediários Financeiros', Max_52_sem='32,78', Subsetor='Bancos', Vol_$_med_2m='1.160.530.000', Valor_de_mercado='255.692.000.000', Ult_balanço_processado='31/12/2020', Valor_da_firma='-', Nro_Acoes='9.804.140.000')]"
      ]
     },
     "execution_count": 64,
     "metadata": {},
     "output_type": "execute_result"
    }
   ],
   "source": [
    "sparkSession.createDataFrame(empresa_dados_list, empresa_label).collect()"
   ]
  },
  {
   "cell_type": "code",
   "execution_count": 65,
   "metadata": {},
   "outputs": [
    {
     "data": {
      "text/plain": [
       "DataFrame[Papel: string, Cotacao: string, Tipo: string, Data_ult_cot: string, Empresa: string, Min_52_sem: string, Setor: string, Max_52_sem: string, Subsetor: string, Vol_$_med_2m: string, Valor_de_mercado: string, Ult_balanço_processado: string, Valor_da_firma: string, Nro_Acoes: string]"
      ]
     },
     "execution_count": 65,
     "metadata": {},
     "output_type": "execute_result"
    }
   ],
   "source": [
    "df = sparkSession.createDataFrame(empresa_dados_list, empresa_label)\n",
    "df"
   ]
  },
  {
   "cell_type": "code",
   "execution_count": 66,
   "metadata": {},
   "outputs": [
    {
     "data": {
      "text/plain": [
       "pyspark.sql.dataframe.DataFrame"
      ]
     },
     "execution_count": 66,
     "metadata": {},
     "output_type": "execute_result"
    }
   ],
   "source": [
    "type(df)"
   ]
  },
  {
   "cell_type": "markdown",
   "metadata": {},
   "source": [
    "### Necessário configurar a versão do Python utilizada pelo Linux como a 3.6.\n",
    "* sudo update-alternatives --install /usr/bin/python python /usr/bin/python3.4 1\n",
    "* sudo update-alternatives --install /usr/bin/python python /usr/bin/python3.6 2\n",
    "* sudo update-alternatives --config python\n",
    "* sudo update-alternatives  --set python /usr/bin/python3.6"
   ]
  },
  {
   "cell_type": "code",
   "execution_count": 67,
   "metadata": {},
   "outputs": [],
   "source": [
    "# Write into HDFS\n",
    "# hdfs://hadoop-master:9000/user/hadoopuser/test/\n",
    "df.write.save('hdfs://172.17.177.40:9000/user/hadoopuser/test/example', format='parquet', mode='append')"
   ]
  },
  {
   "cell_type": "code",
   "execution_count": 71,
   "metadata": {},
   "outputs": [],
   "source": [
    "df_load = sparkSession.read.format('parquet').load('hdfs://172.17.177.40:9000/user/hadoopuser/test/example')"
   ]
  },
  {
   "cell_type": "code",
   "execution_count": 72,
   "metadata": {},
   "outputs": [
    {
     "name": "stdout",
     "output_type": "stream",
     "text": [
      "+-----+-------+-----+------------+------------------+----------+--------------------+----------+--------------------+-------------+----------------+----------------------+---------------+--------------+\n",
      "|Papel|Cotacao| Tipo|Data_ult_cot|           Empresa|Min_52_sem|               Setor|Max_52_sem|            Subsetor| Vol_$_med_2m|Valor_de_mercado|Ult_balanço_processado| Valor_da_firma|     Nro_Acoes|\n",
      "+-----+-------+-----+------------+------------------+----------+--------------------+----------+--------------------+-------------+----------------+----------------------+---------------+--------------+\n",
      "|PETR4|  23,19|   PN|  25/02/2021|      PETROBRAS PN|     11,29|Petróleo, Gás e B...|     31,12|Exploração, Refin...|2.449.750.000| 302.502.000.000|            31/12/2020|630.770.000.000|13.044.500.000|\n",
      "|VALE3|  95,71|ON NM|  25/02/2021|        VALE ON NM|     32,82|           Mineração|    102,32|  Minerais Metálicos|2.973.250.000| 505.777.000.000|            30/09/2020|540.870.000.000| 5.284.470.000|\n",
      "|ITUB4|  26,08|PN N1|  25/02/2021|ITAUUNIBANCO PN N1|     20,36|Intermediários Fi...|     32,78|              Bancos|1.160.530.000| 255.692.000.000|            31/12/2020|              -| 9.804.140.000|\n",
      "+-----+-------+-----+------------+------------------+----------+--------------------+----------+--------------------+-------------+----------------+----------------------+---------------+--------------+\n",
      "\n"
     ]
    }
   ],
   "source": [
    "df_load.show()"
   ]
  },
  {
   "cell_type": "code",
   "execution_count": 73,
   "metadata": {},
   "outputs": [
    {
     "data": {
      "text/html": [
       "<div>\n",
       "<style scoped>\n",
       "    .dataframe tbody tr th:only-of-type {\n",
       "        vertical-align: middle;\n",
       "    }\n",
       "\n",
       "    .dataframe tbody tr th {\n",
       "        vertical-align: top;\n",
       "    }\n",
       "\n",
       "    .dataframe thead th {\n",
       "        text-align: right;\n",
       "    }\n",
       "</style>\n",
       "<table border=\"1\" class=\"dataframe\">\n",
       "  <thead>\n",
       "    <tr style=\"text-align: right;\">\n",
       "      <th></th>\n",
       "      <th>Papel</th>\n",
       "      <th>Cotacao</th>\n",
       "      <th>Tipo</th>\n",
       "      <th>Data_ult_cot</th>\n",
       "      <th>Empresa</th>\n",
       "      <th>Min_52_sem</th>\n",
       "      <th>Setor</th>\n",
       "      <th>Max_52_sem</th>\n",
       "      <th>Subsetor</th>\n",
       "      <th>Vol_$_med_2m</th>\n",
       "      <th>Valor_de_mercado</th>\n",
       "      <th>Ult_balanço_processado</th>\n",
       "      <th>Valor_da_firma</th>\n",
       "      <th>Nro_Acoes</th>\n",
       "    </tr>\n",
       "  </thead>\n",
       "  <tbody>\n",
       "    <tr>\n",
       "      <th>0</th>\n",
       "      <td>PETR4</td>\n",
       "      <td>23,19</td>\n",
       "      <td>PN</td>\n",
       "      <td>25/02/2021</td>\n",
       "      <td>PETROBRAS PN</td>\n",
       "      <td>11,29</td>\n",
       "      <td>Petróleo, Gás e Biocombustíveis</td>\n",
       "      <td>31,12</td>\n",
       "      <td>Exploração, Refino e Distribuição</td>\n",
       "      <td>2.449.750.000</td>\n",
       "      <td>302.502.000.000</td>\n",
       "      <td>31/12/2020</td>\n",
       "      <td>630.770.000.000</td>\n",
       "      <td>13.044.500.000</td>\n",
       "    </tr>\n",
       "    <tr>\n",
       "      <th>1</th>\n",
       "      <td>VALE3</td>\n",
       "      <td>95,71</td>\n",
       "      <td>ON NM</td>\n",
       "      <td>25/02/2021</td>\n",
       "      <td>VALE ON NM</td>\n",
       "      <td>32,82</td>\n",
       "      <td>Mineração</td>\n",
       "      <td>102,32</td>\n",
       "      <td>Minerais Metálicos</td>\n",
       "      <td>2.973.250.000</td>\n",
       "      <td>505.777.000.000</td>\n",
       "      <td>30/09/2020</td>\n",
       "      <td>540.870.000.000</td>\n",
       "      <td>5.284.470.000</td>\n",
       "    </tr>\n",
       "    <tr>\n",
       "      <th>2</th>\n",
       "      <td>ITUB4</td>\n",
       "      <td>26,08</td>\n",
       "      <td>PN N1</td>\n",
       "      <td>25/02/2021</td>\n",
       "      <td>ITAUUNIBANCO PN N1</td>\n",
       "      <td>20,36</td>\n",
       "      <td>Intermediários Financeiros</td>\n",
       "      <td>32,78</td>\n",
       "      <td>Bancos</td>\n",
       "      <td>1.160.530.000</td>\n",
       "      <td>255.692.000.000</td>\n",
       "      <td>31/12/2020</td>\n",
       "      <td>-</td>\n",
       "      <td>9.804.140.000</td>\n",
       "    </tr>\n",
       "  </tbody>\n",
       "</table>\n",
       "</div>"
      ],
      "text/plain": [
       "   Papel Cotacao   Tipo Data_ult_cot             Empresa Min_52_sem  \\\n",
       "0  PETR4   23,19     PN   25/02/2021        PETROBRAS PN      11,29   \n",
       "1  VALE3   95,71  ON NM   25/02/2021          VALE ON NM      32,82   \n",
       "2  ITUB4   26,08  PN N1   25/02/2021  ITAUUNIBANCO PN N1      20,36   \n",
       "\n",
       "                             Setor Max_52_sem  \\\n",
       "0  Petróleo, Gás e Biocombustíveis      31,12   \n",
       "1                        Mineração     102,32   \n",
       "2       Intermediários Financeiros      32,78   \n",
       "\n",
       "                            Subsetor   Vol_$_med_2m Valor_de_mercado  \\\n",
       "0  Exploração, Refino e Distribuição  2.449.750.000  302.502.000.000   \n",
       "1                 Minerais Metálicos  2.973.250.000  505.777.000.000   \n",
       "2                             Bancos  1.160.530.000  255.692.000.000   \n",
       "\n",
       "  Ult_balanço_processado   Valor_da_firma       Nro_Acoes  \n",
       "0             31/12/2020  630.770.000.000  13.044.500.000  \n",
       "1             30/09/2020  540.870.000.000   5.284.470.000  \n",
       "2             31/12/2020                -   9.804.140.000  "
      ]
     },
     "execution_count": 73,
     "metadata": {},
     "output_type": "execute_result"
    }
   ],
   "source": [
    "df_load.toPandas()"
   ]
  },
  {
   "cell_type": "code",
   "execution_count": null,
   "metadata": {},
   "outputs": [],
   "source": []
  }
 ],
 "metadata": {
  "kernelspec": {
   "display_name": "Python 3",
   "language": "python",
   "name": "python3"
  },
  "language_info": {
   "codemirror_mode": {
    "name": "ipython",
    "version": 3
   },
   "file_extension": ".py",
   "mimetype": "text/x-python",
   "name": "python",
   "nbconvert_exporter": "python",
   "pygments_lexer": "ipython3",
   "version": "3.6.9"
  }
 },
 "nbformat": 4,
 "nbformat_minor": 4
}
