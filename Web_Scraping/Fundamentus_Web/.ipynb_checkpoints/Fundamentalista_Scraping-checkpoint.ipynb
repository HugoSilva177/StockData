{
 "cells": [
  {
   "cell_type": "markdown",
   "metadata": {},
   "source": [
    "## Imports"
   ]
  },
  {
   "cell_type": "code",
   "execution_count": 98,
   "metadata": {},
   "outputs": [],
   "source": [
    "import io\n",
    "import os.path\n",
    "from scrapy import Selector\n",
    "from datetime import datetime\n",
    "from unicodedata import normalize\n",
    "from urllib.request import Request, urlopen"
   ]
  },
  {
   "cell_type": "markdown",
   "metadata": {},
   "source": [
    "## Baixando HTML do site Fundamentus (Web Crawling)"
   ]
  },
  {
   "cell_type": "code",
   "execution_count": 92,
   "metadata": {},
   "outputs": [],
   "source": [
    "# mudar o nome do papel para baixar novo HTML\n",
    "papel = 'PETR4'\n",
    "url = 'https://fundamentus.com.br/detalhes.php?papel=%s' % papel\n",
    "\n",
    "req = Request(url, headers={'User-Agent': 'Mozilla/5.0'})\n",
    "\n",
    "response = urlopen(req, timeout=20).read()\n",
    "html_dados = response.decode('latin-1')"
   ]
  },
  {
   "cell_type": "code",
   "execution_count": 93,
   "metadata": {},
   "outputs": [],
   "source": [
    "sel = Selector( text = html_dados )"
   ]
  },
  {
   "cell_type": "markdown",
   "metadata": {},
   "source": [
    "## Funções para transformar os dados e labels"
   ]
  },
  {
   "cell_type": "code",
   "execution_count": 99,
   "metadata": {},
   "outputs": [],
   "source": [
    "def remover_acentos(txt):\n",
    "    return normalize('NFKD', txt).encode('ASCII', 'ignore').decode('ASCII')\n",
    "\n",
    "if __name__ == '__main__':\n",
    "    from doctest import testmod\n",
    "    testmod()"
   ]
  },
  {
   "cell_type": "code",
   "execution_count": 100,
   "metadata": {},
   "outputs": [],
   "source": [
    "def remover_caracteres_especiais(empresa_label):\n",
    "    empresa_label = list(map(lambda x: remover_acentos(x), empresa_label))\n",
    "    empresa_label = list(map(lambda st: str.replace(st, \" \",\"_\"), empresa_label))\n",
    "    empresa_label = list(map(lambda st: str.replace(st, \"(\",\"\"), empresa_label))\n",
    "    empresa_label = list(map(lambda st: str.replace(st, \")\",\"\"), empresa_label))\n",
    "    empresa_label = list(map(lambda st: str.replace(st, \".\",\"\"), empresa_label))\n",
    "    return empresa_label"
   ]
  },
  {
   "cell_type": "code",
   "execution_count": 107,
   "metadata": {},
   "outputs": [],
   "source": [
    "def validar_data(valor):\n",
    "    try:\n",
    "        valor = datetime.strptime(valor, '%d/%m/%Y')\n",
    "        return valor\n",
    "    except TypeError:\n",
    "        return valor"
   ]
  },
  {
   "cell_type": "code",
   "execution_count": 102,
   "metadata": {},
   "outputs": [],
   "source": [
    "def formatar_tipagem_dados(empresa_dados):\n",
    "    empresa_dados = list(map(lambda st: str.replace(st, \",\",\".\"), empresa_dados))\n",
    "    \n",
    "    nova_lista_empresa_dados = []\n",
    "    for valor in empresa_dados:\n",
    "        eh_valor_percentual = valor.endswith('%')\n",
    "        \n",
    "        if eh_valor_percentual:\n",
    "            nova_lista_empresa_dados.append(valor)\n",
    "        elif \"/\" in valor:\n",
    "            nova_lista_empresa_dados.append(validar_data(valor))\n",
    "        elif not eh_valor_percentual:\n",
    "            try:\n",
    "                nova_lista_empresa_dados.append(float(valor))\n",
    "            except ValueError:\n",
    "                nova_lista_empresa_dados.append(valor)\n",
    "    \n",
    "    return nova_lista_empresa_dados"
   ]
  },
  {
   "cell_type": "code",
   "execution_count": 103,
   "metadata": {},
   "outputs": [],
   "source": [
    "def transformar_lista_em_tuples(empresa_dados):\n",
    "    empresa_dados_list = []\n",
    "    empresa_dados_list.append(tuple(empresa_dados))\n",
    "    return empresa_dados_list"
   ]
  },
  {
   "cell_type": "markdown",
   "metadata": {},
   "source": [
    "## Pegando nome do papel, data última cotação e data último balanço"
   ]
  },
  {
   "cell_type": "code",
   "execution_count": 94,
   "metadata": {},
   "outputs": [
    {
     "data": {
      "text/plain": [
       "'PETR4'"
      ]
     },
     "execution_count": 94,
     "metadata": {},
     "output_type": "execute_result"
    }
   ],
   "source": [
    "papel = sel.xpath(\"//table[1]//span[@class='txt']/text()\").extract()[1]\n",
    "papel"
   ]
  },
  {
   "cell_type": "code",
   "execution_count": 108,
   "metadata": {},
   "outputs": [
    {
     "data": {
      "text/plain": [
       "datetime.datetime(2021, 3, 5, 0, 0)"
      ]
     },
     "execution_count": 108,
     "metadata": {},
     "output_type": "execute_result"
    }
   ],
   "source": [
    "data_ult_cotacao = sel.xpath(\"//table[1]//span[@class='txt']/text() | //table[1]//span[@class='txt']/a/text()\").extract()[7]\n",
    "data_ult_cotacao = validar_data(data_ult_cotacao)\n",
    "data_ult_cotacao"
   ]
  },
  {
   "cell_type": "code",
   "execution_count": 109,
   "metadata": {},
   "outputs": [
    {
     "data": {
      "text/plain": [
       "datetime.datetime(2020, 12, 31, 0, 0)"
      ]
     },
     "execution_count": 109,
     "metadata": {},
     "output_type": "execute_result"
    }
   ],
   "source": [
    "data_ult_balanco = sel.xpath(\"//table[2]//span[@class='txt']/text()\").extract()[3]\n",
    "data_ult_balanco = validar_data(data_ult_balanco)\n",
    "data_ult_balanco"
   ]
  },
  {
   "cell_type": "markdown",
   "metadata": {},
   "source": [
    "## Verificação se já existe os dados:\n",
    "* Verificar se o papel já existe nos dados gravados\n",
    "    * Se não existir, inserir dados da empresa, dados de cotação e dados do balanço\n",
    "    * Se existir, verificar se a cotação mais atual já existe\n",
    "    * Se existir, verificar se o balanço mais atual já existe\n",
    "* Verificando se a cotaçao mais atual já existe\n",
    "    * Se não existir, inserir dados da cotação atualizado\n",
    "    * Se existir, não fazer nada\n",
    "* Verificando se o balanço mais atual já existe\n",
    "    * Se não existir, inserir dados do balanço atualizado\n",
    "    * Se existir, não fazer nada"
   ]
  },
  {
   "cell_type": "markdown",
   "metadata": {},
   "source": [
    "### Conexão com o MongoDB"
   ]
  },
  {
   "cell_type": "code",
   "execution_count": 84,
   "metadata": {},
   "outputs": [],
   "source": [
    "from pymongo import MongoClient\n",
    "\n",
    "cliente = MongoClient('localhost', 27017)\n",
    "cliente = MongoClient('mongodb://localhost:27017/')\n",
    "banco = cliente['fundamentus']"
   ]
  },
  {
   "cell_type": "code",
   "execution_count": 136,
   "metadata": {},
   "outputs": [],
   "source": [
    "def dados_empresa_existe(papel, banco):\n",
    "    colecao = banco.dados_empresa\n",
    "    dados_empresa_existe = colecao.find_one({\"Papel\": papel})\n",
    "    if dados_empresa_existe is None:\n",
    "        return False\n",
    "    else:\n",
    "        return True"
   ]
  },
  {
   "cell_type": "code",
   "execution_count": 137,
   "metadata": {},
   "outputs": [],
   "source": [
    "def ultima_cotacao_existe(papel, data_ult_cotacao, banco):\n",
    "    colecao = banco.cotacao\n",
    "    ultima_cotacao_existe = colecao.find_one({\"Papel\": papel, \"Data_ult_cot\":data_ult_cotacao})\n",
    "    if ultima_cotacao_existe is None:\n",
    "        return False\n",
    "    else:\n",
    "        return True"
   ]
  },
  {
   "cell_type": "code",
   "execution_count": 138,
   "metadata": {},
   "outputs": [],
   "source": [
    "def ultimo_balanco_existe(papel, data_ult_balanco, banco):\n",
    "    colecao = banco.balanco\n",
    "    ultimo_balanco_existe = colecao.find_one({\"Papel\": papel, \"Ult_balanco_processado\":data_ult_balanco})\n",
    "    if ultimo_balanco_existe is None:\n",
    "        return False\n",
    "    else:\n",
    "        return True"
   ]
  },
  {
   "cell_type": "code",
   "execution_count": 139,
   "metadata": {},
   "outputs": [],
   "source": [
    "if not dados_empresa_existe(papel, banco):\n",
    "    pass\n",
    "    # ADICIONAR DADOS DA EMPRESA\n",
    "elif not ultima_cotacao_existe(papel, data_ult_cotacao, banco):\n",
    "    pass\n",
    "    # ADICIONAR DADOS DA ÚLTIMA COTAÇÃO\n",
    "    # ADICIONAR DADOS DA ÚLTIMA OSCILAÇÃO\n",
    "    # ADICIONAR DADOS DOS ÚLTIMOS INDICADORES FUNDAMENTALISTAS\n",
    "elif not ultimo_balanco_existe(papel, data_ult_balanco, banco):\n",
    "    pass\n",
    "    # ADICIONAR DADOS DO ÚLTIMO BALANÇO"
   ]
  },
  {
   "cell_type": "code",
   "execution_count": null,
   "metadata": {},
   "outputs": [],
   "source": []
  },
  {
   "cell_type": "code",
   "execution_count": null,
   "metadata": {},
   "outputs": [],
   "source": []
  },
  {
   "cell_type": "markdown",
   "metadata": {},
   "source": [
    "## Incluindo Dados da Empresa (caso ainda não exista)"
   ]
  },
  {
   "cell_type": "code",
   "execution_count": 12,
   "metadata": {},
   "outputs": [
    {
     "data": {
      "text/plain": [
       "['Papel', 'Tipo', 'Empresa', 'Setor', 'Subsetor']"
      ]
     },
     "execution_count": 12,
     "metadata": {},
     "output_type": "execute_result"
    }
   ],
   "source": [
    "info_empresa_label = sel.xpath(\"//table[1]//span[@class='txt']/text() | //table[1]//span[@class='txt']/a/text()\").extract()[0::2][0::2]\n",
    "info_empresa_label = remover_caracteres_especiais(info_empresa_label)\n",
    "info_empresa_label"
   ]
  },
  {
   "cell_type": "code",
   "execution_count": 13,
   "metadata": {},
   "outputs": [
    {
     "data": {
      "text/plain": [
       "['PETR4',\n",
       " 'PN',\n",
       " 'PETROBRAS PN',\n",
       " 'Petróleo, Gás e Biocombustíveis',\n",
       " 'Exploração, Refino e Distribuição']"
      ]
     },
     "execution_count": 13,
     "metadata": {},
     "output_type": "execute_result"
    }
   ],
   "source": [
    "info_empresa_dados = sel.xpath(\"//table[1]//span[@class='txt']/text() | //table[1]//span[@class='txt']/a/text()\").extract()[1::2][0::2]\n",
    "info_empresa_dados"
   ]
  },
  {
   "cell_type": "markdown",
   "metadata": {},
   "source": [
    "## Incluindo Dados atualizados de Cotação (caso estejam desatualizados)\n",
    "### Dados Básicos Cotação"
   ]
  },
  {
   "cell_type": "code",
   "execution_count": 25,
   "metadata": {},
   "outputs": [
    {
     "data": {
      "text/plain": [
       "['Cotação', 'Data últ cot', 'Min 52 sem', 'Max 52 sem', 'Vol $ méd (2m)']"
      ]
     },
     "execution_count": 25,
     "metadata": {},
     "output_type": "execute_result"
    }
   ],
   "source": [
    "cotacao_label = sel.xpath(\"//table[1]//span[@class='txt']/text() | //table[1]//span[@class='txt']/a/text()\").extract()[0::2][1::2]\n",
    "cotacao_label"
   ]
  },
  {
   "cell_type": "code",
   "execution_count": 26,
   "metadata": {},
   "outputs": [
    {
     "data": {
      "text/plain": [
       "['22,39', '05/03/2021', '11,29', '31,12', '2.651.490.000']"
      ]
     },
     "execution_count": 26,
     "metadata": {},
     "output_type": "execute_result"
    }
   ],
   "source": [
    "cotacao_dados = sel.xpath(\"//table[1]//span[@class='txt']/text() | //table[1]//span[@class='txt']/a/text()\").extract()[1::2][1::2]\n",
    "cotacao_dados"
   ]
  },
  {
   "cell_type": "code",
   "execution_count": 27,
   "metadata": {},
   "outputs": [
    {
     "data": {
      "text/plain": [
       "['Cotação',\n",
       " 'Data últ cot',\n",
       " 'Min 52 sem',\n",
       " 'Max 52 sem',\n",
       " 'Vol $ méd (2m)',\n",
       " 'Valor de mercado',\n",
       " 'Nro. Ações']"
      ]
     },
     "execution_count": 27,
     "metadata": {},
     "output_type": "execute_result"
    }
   ],
   "source": [
    "cotacao_label += sel.xpath(\"//table[2]//span[@class='txt']/text()\").extract()[0::2][0::3]\n",
    "cotacao_label"
   ]
  },
  {
   "cell_type": "code",
   "execution_count": 28,
   "metadata": {},
   "outputs": [
    {
     "data": {
      "text/plain": [
       "['Cotacao',\n",
       " 'Data_ult_cot',\n",
       " 'Min_52_sem',\n",
       " 'Max_52_sem',\n",
       " 'Vol_$_med_2m',\n",
       " 'Valor_de_mercado',\n",
       " 'Nro_Acoes']"
      ]
     },
     "execution_count": 28,
     "metadata": {},
     "output_type": "execute_result"
    }
   ],
   "source": [
    "cotacao_label = remover_caracteres_especiais(cotacao_label)\n",
    "cotacao_label"
   ]
  },
  {
   "cell_type": "code",
   "execution_count": 29,
   "metadata": {},
   "outputs": [
    {
     "data": {
      "text/plain": [
       "['Papel',\n",
       " 'Cotacao',\n",
       " 'Data_ult_cot',\n",
       " 'Min_52_sem',\n",
       " 'Max_52_sem',\n",
       " 'Vol_$_med_2m',\n",
       " 'Valor_de_mercado',\n",
       " 'Nro_Acoes']"
      ]
     },
     "execution_count": 29,
     "metadata": {},
     "output_type": "execute_result"
    }
   ],
   "source": [
    "cotacao_label.insert(0, 'Papel')\n",
    "cotacao_label"
   ]
  },
  {
   "cell_type": "code",
   "execution_count": 30,
   "metadata": {},
   "outputs": [
    {
     "data": {
      "text/plain": [
       "['22,39',\n",
       " '05/03/2021',\n",
       " '11,29',\n",
       " '31,12',\n",
       " '2.651.490.000',\n",
       " '292.066.000.000',\n",
       " '13.044.500.000']"
      ]
     },
     "execution_count": 30,
     "metadata": {},
     "output_type": "execute_result"
    }
   ],
   "source": [
    "cotacao_dados += sel.xpath(\"//table[2]//span[@class='txt']/text()\").extract()[1::2][0::3]\n",
    "cotacao_dados"
   ]
  },
  {
   "cell_type": "code",
   "execution_count": 33,
   "metadata": {},
   "outputs": [
    {
     "data": {
      "text/plain": [
       "['PETR4',\n",
       " 22.39,\n",
       " datetime.datetime(2021, 3, 5, 0, 0),\n",
       " 11.29,\n",
       " 31.12,\n",
       " '2.651.490.000',\n",
       " '292.066.000.000',\n",
       " '13.044.500.000']"
      ]
     },
     "execution_count": 33,
     "metadata": {},
     "output_type": "execute_result"
    }
   ],
   "source": [
    "cotacao_dados = formatar_tipagem_dados(cotacao_dados)\n",
    "cotacao_dados.insert(0, papel)\n",
    "cotacao_dados"
   ]
  },
  {
   "cell_type": "markdown",
   "metadata": {},
   "source": [
    "### Dados Oscilação"
   ]
  },
  {
   "cell_type": "code",
   "execution_count": 34,
   "metadata": {},
   "outputs": [
    {
     "data": {
      "text/plain": [
       "'Oscilações'"
      ]
     },
     "execution_count": 34,
     "metadata": {},
     "output_type": "execute_result"
    }
   ],
   "source": [
    "oscilacao_label = sel.xpath(\"//table[3]//td[@class='nivel1']//span/text()\").extract()[0]\n",
    "oscilacao_label"
   ]
  },
  {
   "cell_type": "code",
   "execution_count": 35,
   "metadata": {},
   "outputs": [
    {
     "data": {
      "text/plain": [
       "['Dia',\n",
       " 'Mês',\n",
       " '30 dias',\n",
       " '12 meses',\n",
       " '2021',\n",
       " '2020',\n",
       " '2019',\n",
       " '2018',\n",
       " '2017',\n",
       " '2016']"
      ]
     },
     "execution_count": 35,
     "metadata": {},
     "output_type": "execute_result"
    }
   ],
   "source": [
    "lista_oscilacoes_label = sel.xpath(\"//table[3]//td[@class='label w1']//span/text()\").extract()\n",
    "lista_oscilacoes_label"
   ]
  },
  {
   "cell_type": "code",
   "execution_count": 36,
   "metadata": {},
   "outputs": [
    {
     "data": {
      "text/plain": [
       "['Papel',\n",
       " 'Oscilacoes_Dia',\n",
       " 'Oscilacoes_Mes',\n",
       " 'Oscilacoes_30_dias',\n",
       " 'Oscilacoes_12_meses',\n",
       " 'Oscilacoes_2021',\n",
       " 'Oscilacoes_2020',\n",
       " 'Oscilacoes_2019',\n",
       " 'Oscilacoes_2018',\n",
       " 'Oscilacoes_2017',\n",
       " 'Oscilacoes_2016']"
      ]
     },
     "execution_count": 36,
     "metadata": {},
     "output_type": "execute_result"
    }
   ],
   "source": [
    "oscilacoes_label = list(map(lambda label: oscilacao_label + \"_\" + label, lista_oscilacoes_label))\n",
    "oscilacoes_label = remover_caracteres_especiais(oscilacoes_label)\n",
    "oscilacoes_label.insert(0, 'Papel')\n",
    "oscilacoes_label"
   ]
  },
  {
   "cell_type": "code",
   "execution_count": 37,
   "metadata": {},
   "outputs": [
    {
     "data": {
      "text/plain": [
       "['PETR4',\n",
       " '0,77%',\n",
       " '0,67%',\n",
       " '-22,85%',\n",
       " '-11,47%',\n",
       " '-21,00%',\n",
       " '-6,10%',\n",
       " '36,87%',\n",
       " '45,91%',\n",
       " '8,29%',\n",
       " '116,23%']"
      ]
     },
     "execution_count": 37,
     "metadata": {},
     "output_type": "execute_result"
    }
   ],
   "source": [
    "oscilacoes_dados = sel.xpath(\"//table[3]//span[@class='oscil']/font/text()\").extract()\n",
    "oscilacoes_dados.insert(0, papel)\n",
    "oscilacoes_dados"
   ]
  },
  {
   "cell_type": "code",
   "execution_count": 38,
   "metadata": {},
   "outputs": [
    {
     "data": {
      "text/plain": [
       "['PETR4',\n",
       " '0.77%',\n",
       " '0.67%',\n",
       " '-22.85%',\n",
       " '-11.47%',\n",
       " '-21.00%',\n",
       " '-6.10%',\n",
       " '36.87%',\n",
       " '45.91%',\n",
       " '8.29%',\n",
       " '116.23%']"
      ]
     },
     "execution_count": 38,
     "metadata": {},
     "output_type": "execute_result"
    }
   ],
   "source": [
    "oscilacoes_dados = formatar_tipagem_dados(oscilacoes_dados)\n",
    "oscilacoes_dados"
   ]
  },
  {
   "cell_type": "markdown",
   "metadata": {},
   "source": [
    "### Dados Indicadores Fundamentalistas"
   ]
  },
  {
   "cell_type": "code",
   "execution_count": 39,
   "metadata": {},
   "outputs": [
    {
     "data": {
      "text/plain": [
       "['Papel',\n",
       " 'P/L',\n",
       " 'LPA',\n",
       " 'P/VP',\n",
       " 'VPA',\n",
       " 'P/EBIT',\n",
       " 'Marg_Bruta',\n",
       " 'PSR',\n",
       " 'Marg_EBIT',\n",
       " 'P/Ativos',\n",
       " 'Marg_Liquida',\n",
       " 'P/Cap_Giro',\n",
       " 'EBIT_/_Ativo',\n",
       " 'P/Ativ_Circ_Liq',\n",
       " 'ROIC',\n",
       " 'Div_Yield',\n",
       " 'ROE',\n",
       " 'EV_/_EBITDA',\n",
       " 'Liquidez_Corr',\n",
       " 'EV_/_EBIT',\n",
       " 'Div_Br/_Patrim',\n",
       " 'Cres_Rec_5a',\n",
       " 'Giro_Ativos']"
      ]
     },
     "execution_count": 39,
     "metadata": {},
     "output_type": "execute_result"
    }
   ],
   "source": [
    "indicador_fundamentalita_label = sel.xpath(\"//table[3]//td[@class='label w2']//span[@class='txt']/text() | //table[3]//td[@class='label']//span[@class='txt']/text()\").extract()\n",
    "indicador_fundamentalita_label = remover_caracteres_especiais(indicador_fundamentalita_label)\n",
    "indicador_fundamentalita_label.insert(0, 'Papel')\n",
    "indicador_fundamentalita_label"
   ]
  },
  {
   "cell_type": "code",
   "execution_count": 40,
   "metadata": {},
   "outputs": [
    {
     "data": {
      "text/plain": [
       "['PETR4',\n",
       " '41,09',\n",
       " '0,54',\n",
       " '0,95',\n",
       " '23,64',\n",
       " '\\n3,13',\n",
       " '\\n45,6%',\n",
       " '\\n1,07',\n",
       " '\\n34,3%',\n",
       " '\\n0,30',\n",
       " '\\n2,3%',\n",
       " '\\n48,39',\n",
       " '9,5%',\n",
       " '\\n-0,55',\n",
       " '\\n10,5%',\n",
       " '0,0%',\n",
       " '\\n2,3%',\n",
       " '\\n3,96',\n",
       " '\\n1,04',\n",
       " '\\n6,64',\n",
       " '\\n1,27',\n",
       " '\\n-0,1%',\n",
       " '\\n0,28']"
      ]
     },
     "execution_count": 40,
     "metadata": {},
     "output_type": "execute_result"
    }
   ],
   "source": [
    "indicador_fundamentalita_dados = sel.xpath(\"//table[3]//td[@class='data w2']//span[@class='txt']/text() | //table[3]//td[@class='data']//span[@class='txt']/text()\").extract()\n",
    "indicador_fundamentalita_dados.insert(0, papel)\n",
    "indicador_fundamentalita_dados"
   ]
  },
  {
   "cell_type": "code",
   "execution_count": 41,
   "metadata": {},
   "outputs": [
    {
     "data": {
      "text/plain": [
       "['PETR4',\n",
       " '41,09',\n",
       " '0,54',\n",
       " '0,95',\n",
       " '23,64',\n",
       " '3,13',\n",
       " '45,6%',\n",
       " '1,07',\n",
       " '34,3%',\n",
       " '0,30',\n",
       " '2,3%',\n",
       " '48,39',\n",
       " '9,5%',\n",
       " '-0,55',\n",
       " '10,5%',\n",
       " '0,0%',\n",
       " '2,3%',\n",
       " '3,96',\n",
       " '1,04',\n",
       " '6,64',\n",
       " '1,27',\n",
       " '-0,1%',\n",
       " '0,28']"
      ]
     },
     "execution_count": 41,
     "metadata": {},
     "output_type": "execute_result"
    }
   ],
   "source": [
    "indicador_fundamentalita_dados = list(map(lambda dado: dado.replace(\"\\n\", \"\"), indicador_fundamentalita_dados))\n",
    "indicador_fundamentalita_dados"
   ]
  },
  {
   "cell_type": "code",
   "execution_count": 42,
   "metadata": {},
   "outputs": [
    {
     "data": {
      "text/plain": [
       "['PETR4',\n",
       " 41.09,\n",
       " 0.54,\n",
       " 0.95,\n",
       " 23.64,\n",
       " 3.13,\n",
       " '45.6%',\n",
       " 1.07,\n",
       " '34.3%',\n",
       " 0.3,\n",
       " '2.3%',\n",
       " 48.39,\n",
       " '9.5%',\n",
       " -0.55,\n",
       " '10.5%',\n",
       " '0.0%',\n",
       " '2.3%',\n",
       " 3.96,\n",
       " 1.04,\n",
       " 6.64,\n",
       " 1.27,\n",
       " '-0.1%',\n",
       " 0.28]"
      ]
     },
     "execution_count": 42,
     "metadata": {},
     "output_type": "execute_result"
    }
   ],
   "source": [
    "indicador_fundamentalita_dados = formatar_tipagem_dados(indicador_fundamentalita_dados)\n",
    "indicador_fundamentalita_dados"
   ]
  },
  {
   "cell_type": "markdown",
   "metadata": {},
   "source": [
    "## Incluindo Dados atualizados do Balanço (caso estejam desatualizados)"
   ]
  },
  {
   "cell_type": "code",
   "execution_count": 54,
   "metadata": {},
   "outputs": [
    {
     "data": {
      "text/plain": [
       "['Últ balanço processado', 'Valor da firma']"
      ]
     },
     "execution_count": 54,
     "metadata": {},
     "output_type": "execute_result"
    }
   ],
   "source": [
    "balanco_label = sel.xpath(\"//table[2]//span[@class='txt']/text()\").extract()[2:6][0::2]\n",
    "balanco_label"
   ]
  },
  {
   "cell_type": "code",
   "execution_count": 55,
   "metadata": {},
   "outputs": [
    {
     "data": {
      "text/plain": [
       "['31/12/2020', '620.334.000.000']"
      ]
     },
     "execution_count": 55,
     "metadata": {},
     "output_type": "execute_result"
    }
   ],
   "source": [
    "balanco_dados = sel.xpath(\"//table[2]//span[@class='txt']/text()\").extract()[2:6][1::2]\n",
    "balanco_dados"
   ]
  },
  {
   "cell_type": "code",
   "execution_count": 56,
   "metadata": {},
   "outputs": [
    {
     "data": {
      "text/plain": [
       "['Últ balanço processado',\n",
       " 'Valor da firma',\n",
       " 'Ativo',\n",
       " 'Dív. Bruta',\n",
       " 'Disponibilidades',\n",
       " 'Dív. Líquida',\n",
       " 'Ativo Circulante',\n",
       " 'Patrim. Líq']"
      ]
     },
     "execution_count": 56,
     "metadata": {},
     "output_type": "execute_result"
    }
   ],
   "source": [
    "balanco_label += sel.xpath(\"//table[4]//td[@class='label w2']//span[@class='txt']/text() | //table[4]//td[@class='label']//span[@class='txt']/text()\").extract()\n",
    "balanco_label"
   ]
  },
  {
   "cell_type": "code",
   "execution_count": 57,
   "metadata": {},
   "outputs": [
    {
     "data": {
      "text/plain": [
       "['31/12/2020',\n",
       " '620.334.000.000',\n",
       " '987.419.000.000',\n",
       " '392.548.000.000',\n",
       " '64.280.000.000',\n",
       " '328.268.000.000',\n",
       " '142.323.000.000',\n",
       " '308.410.000.000']"
      ]
     },
     "execution_count": 57,
     "metadata": {},
     "output_type": "execute_result"
    }
   ],
   "source": [
    "balanco_dados += sel.xpath(\"//table[4]//td[@class='data w3']//span[@class='txt']/text() | //table[4]//td[@class='data']//span[@class='txt']/text()\").extract()\n",
    "balanco_dados"
   ]
  },
  {
   "cell_type": "code",
   "execution_count": 58,
   "metadata": {},
   "outputs": [
    {
     "data": {
      "text/plain": [
       "['Últ balanço processado',\n",
       " 'Valor da firma',\n",
       " 'Ativo',\n",
       " 'Dív. Bruta',\n",
       " 'Disponibilidades',\n",
       " 'Dív. Líquida',\n",
       " 'Ativo Circulante',\n",
       " 'Patrim. Líq',\n",
       " 'Receita Líquida_ult._12_meses',\n",
       " 'EBIT_ult._12_meses',\n",
       " 'Lucro Líquido_ult._12_meses']"
      ]
     },
     "execution_count": 58,
     "metadata": {},
     "output_type": "execute_result"
    }
   ],
   "source": [
    "dre_12_meses = sel.xpath(\"//table[5]//td[@class='label w2']//span[@class='txt']/text() | //table[5]//td[@class='label']//span[@class='txt']/text()\").extract()[0::2]\n",
    "balanco_label += list(map(lambda label: label + \"_ult._12_meses\", dre_12_meses))\n",
    "balanco_label"
   ]
  },
  {
   "cell_type": "code",
   "execution_count": 59,
   "metadata": {},
   "outputs": [
    {
     "data": {
      "text/plain": [
       "['31/12/2020',\n",
       " '620.334.000.000',\n",
       " '987.419.000.000',\n",
       " '392.548.000.000',\n",
       " '64.280.000.000',\n",
       " '328.268.000.000',\n",
       " '142.323.000.000',\n",
       " '308.410.000.000',\n",
       " '272.069.000.000',\n",
       " '93.417.000.000',\n",
       " '7.108.000.000']"
      ]
     },
     "execution_count": 59,
     "metadata": {},
     "output_type": "execute_result"
    }
   ],
   "source": [
    "balanco_dados += sel.xpath(\"//table[5]//td[@class='data w3']//span[@class='txt']/text() | //table[5]//td[@class='data']//span[@class='txt']/text()\").extract()[0::2]\n",
    "balanco_dados"
   ]
  },
  {
   "cell_type": "code",
   "execution_count": 60,
   "metadata": {},
   "outputs": [
    {
     "data": {
      "text/plain": [
       "['Últ balanço processado',\n",
       " 'Valor da firma',\n",
       " 'Ativo',\n",
       " 'Dív. Bruta',\n",
       " 'Disponibilidades',\n",
       " 'Dív. Líquida',\n",
       " 'Ativo Circulante',\n",
       " 'Patrim. Líq',\n",
       " 'Receita Líquida_ult._12_meses',\n",
       " 'EBIT_ult._12_meses',\n",
       " 'Lucro Líquido_ult._12_meses',\n",
       " 'Receita Líquida_ult._3_meses',\n",
       " 'EBIT_ult._3_meses',\n",
       " 'Lucro Líquido_ult._3_meses']"
      ]
     },
     "execution_count": 60,
     "metadata": {},
     "output_type": "execute_result"
    }
   ],
   "source": [
    "dre_3_meses = sel.xpath(\"//table[5]//td[@class='label w2']//span[@class='txt']/text() | //table[5]//td[@class='label']//span[@class='txt']/text()\").extract()[1::2]\n",
    "balanco_label += list(map(lambda label: label + \"_ult._3_meses\", dre_3_meses))\n",
    "balanco_label"
   ]
  },
  {
   "cell_type": "code",
   "execution_count": 61,
   "metadata": {},
   "outputs": [
    {
     "data": {
      "text/plain": [
       "['Papel',\n",
       " 'Ult_balanco_processado',\n",
       " 'Valor_da_firma',\n",
       " 'Ativo',\n",
       " 'Div_Bruta',\n",
       " 'Disponibilidades',\n",
       " 'Div_Liquida',\n",
       " 'Ativo_Circulante',\n",
       " 'Patrim_Liq',\n",
       " 'Receita_Liquida_ult_12_meses',\n",
       " 'EBIT_ult_12_meses',\n",
       " 'Lucro_Liquido_ult_12_meses',\n",
       " 'Receita_Liquida_ult_3_meses',\n",
       " 'EBIT_ult_3_meses',\n",
       " 'Lucro_Liquido_ult_3_meses']"
      ]
     },
     "execution_count": 61,
     "metadata": {},
     "output_type": "execute_result"
    }
   ],
   "source": [
    "balanco_label = remover_caracteres_especiais(balanco_label)\n",
    "balanco_label.insert(0, 'Papel')\n",
    "balanco_label"
   ]
  },
  {
   "cell_type": "code",
   "execution_count": 62,
   "metadata": {},
   "outputs": [
    {
     "data": {
      "text/plain": [
       "['PETR4',\n",
       " '31/12/2020',\n",
       " '620.334.000.000',\n",
       " '987.419.000.000',\n",
       " '392.548.000.000',\n",
       " '64.280.000.000',\n",
       " '328.268.000.000',\n",
       " '142.323.000.000',\n",
       " '308.410.000.000',\n",
       " '272.069.000.000',\n",
       " '93.417.000.000',\n",
       " '7.108.000.000',\n",
       " '74.972.000.000',\n",
       " '33.838.000.000',\n",
       " '59.890.000.000']"
      ]
     },
     "execution_count": 62,
     "metadata": {},
     "output_type": "execute_result"
    }
   ],
   "source": [
    "balanco_dados += sel.xpath(\"//table[5]//td[@class='data w3']//span[@class='txt']/text() | //table[5]//td[@class='data']//span[@class='txt']/text()\").extract()[1::2]\n",
    "balanco_dados.insert(0, papel)\n",
    "balanco_dados"
   ]
  },
  {
   "cell_type": "code",
   "execution_count": 63,
   "metadata": {},
   "outputs": [
    {
     "data": {
      "text/plain": [
       "['PETR4',\n",
       " datetime.datetime(2020, 12, 31, 0, 0),\n",
       " '620.334.000.000',\n",
       " '987.419.000.000',\n",
       " '392.548.000.000',\n",
       " '64.280.000.000',\n",
       " '328.268.000.000',\n",
       " '142.323.000.000',\n",
       " '308.410.000.000',\n",
       " '272.069.000.000',\n",
       " '93.417.000.000',\n",
       " '7.108.000.000',\n",
       " '74.972.000.000',\n",
       " '33.838.000.000',\n",
       " '59.890.000.000']"
      ]
     },
     "execution_count": 63,
     "metadata": {},
     "output_type": "execute_result"
    }
   ],
   "source": [
    "balanco_dados = formatar_tipagem_dados(balanco_dados)\n",
    "balanco_dados"
   ]
  },
  {
   "cell_type": "markdown",
   "metadata": {},
   "source": [
    "# -----------------------------------------------------------------------------------------------"
   ]
  },
  {
   "cell_type": "markdown",
   "metadata": {},
   "source": [
    "## Verificando se o arquivo já existe"
   ]
  },
  {
   "cell_type": "code",
   "execution_count": 37,
   "metadata": {},
   "outputs": [],
   "source": [
    "#path = '/home/hugo/Documents/Repositorios_GitHub/Projetos/02-StockData/Web_Scraping/Fundamentus_Web/'\n",
    "#file_name = '%s_fundamentus_%s.txt' % (papel, str(data_ult_balanco_new_html))\n",
    "\n",
    "#if os.path.isfile(path+file_name):\n",
    "#    print('Arquivo já existe com balanço mais atual!')\n",
    "#else:\n",
    "#    print('Arquivo com balanço atual ainda não existe!')"
   ]
  },
  {
   "cell_type": "markdown",
   "metadata": {},
   "source": [
    "## Salvando conteúdo do HTML (em bytes) em um arquivo local como txt"
   ]
  },
  {
   "cell_type": "code",
   "execution_count": 38,
   "metadata": {},
   "outputs": [],
   "source": [
    "#file_name = '%s_fundamentus_%s.txt' % (papel, data_ult_balanco_new_html)\n",
    "\n",
    "#with io.open(path+file_name, 'w', encoding='utf-8') as f:\n",
    "#    f.write(new_html)"
   ]
  },
  {
   "cell_type": "markdown",
   "metadata": {},
   "source": [
    "## Lendo conteúdo do arquivo Local e armazenando em uma variável"
   ]
  },
  {
   "cell_type": "code",
   "execution_count": 39,
   "metadata": {},
   "outputs": [],
   "source": [
    "#with io.open(path+file_name, 'r', encoding='utf8') as f:\n",
    "#    html = f.read()"
   ]
  },
  {
   "cell_type": "markdown",
   "metadata": {},
   "source": [
    "# ------------------------------------------------------------------------------------------------"
   ]
  },
  {
   "cell_type": "markdown",
   "metadata": {},
   "source": [
    "## Salvando dados no MongoDB\n",
    "### Dados da Empresa"
   ]
  },
  {
   "cell_type": "code",
   "execution_count": 65,
   "metadata": {},
   "outputs": [],
   "source": [
    "def transformar_listas_em_dicionario(lista_keys, lista_values):\n",
    "    novo_dicionario = {lista_keys[i]: lista_values[i] for i in range(len(lista_keys))}\n",
    "    \n",
    "    return novo_dicionario"
   ]
  },
  {
   "cell_type": "code",
   "execution_count": 66,
   "metadata": {},
   "outputs": [
    {
     "data": {
      "text/plain": [
       "{'Papel': 'PETR4',\n",
       " 'Tipo': 'PN',\n",
       " 'Empresa': 'PETROBRAS PN',\n",
       " 'Setor': 'Petróleo, Gás e Biocombustíveis',\n",
       " 'Subsetor': 'Exploração, Refino e Distribuição'}"
      ]
     },
     "execution_count": 66,
     "metadata": {},
     "output_type": "execute_result"
    }
   ],
   "source": [
    "info_empresa = transformar_listas_em_dicionario(info_empresa_label, info_empresa_dados)\n",
    "info_empresa"
   ]
  },
  {
   "cell_type": "code",
   "execution_count": 67,
   "metadata": {},
   "outputs": [
    {
     "data": {
      "text/plain": [
       "<pymongo.results.InsertOneResult at 0x7f73e97affc8>"
      ]
     },
     "execution_count": 67,
     "metadata": {},
     "output_type": "execute_result"
    }
   ],
   "source": [
    "colecao = banco.dados_empresa\n",
    "colecao.insert_one(info_empresa)"
   ]
  },
  {
   "cell_type": "markdown",
   "metadata": {},
   "source": [
    "### Cotação da Empresa"
   ]
  },
  {
   "cell_type": "code",
   "execution_count": 69,
   "metadata": {},
   "outputs": [
    {
     "data": {
      "text/plain": [
       "{'Papel': 'PETR4',\n",
       " 'Cotacao': 22.39,\n",
       " 'Data_ult_cot': datetime.datetime(2021, 3, 5, 0, 0),\n",
       " 'Min_52_sem': 11.29,\n",
       " 'Max_52_sem': 31.12,\n",
       " 'Vol_$_med_2m': '2.651.490.000',\n",
       " 'Valor_de_mercado': '292.066.000.000',\n",
       " 'Nro_Acoes': '13.044.500.000'}"
      ]
     },
     "execution_count": 69,
     "metadata": {},
     "output_type": "execute_result"
    }
   ],
   "source": [
    "cotacao = transformar_listas_em_dicionario(cotacao_label, cotacao_dados)\n",
    "cotacao"
   ]
  },
  {
   "cell_type": "code",
   "execution_count": 70,
   "metadata": {},
   "outputs": [
    {
     "data": {
      "text/plain": [
       "<pymongo.results.InsertOneResult at 0x7f73e92f9048>"
      ]
     },
     "execution_count": 70,
     "metadata": {},
     "output_type": "execute_result"
    }
   ],
   "source": [
    "colecao = banco.cotacao\n",
    "colecao.insert_one(cotacao)"
   ]
  },
  {
   "cell_type": "markdown",
   "metadata": {},
   "source": [
    "### Oscilações da Empresa"
   ]
  },
  {
   "cell_type": "code",
   "execution_count": 71,
   "metadata": {},
   "outputs": [
    {
     "data": {
      "text/plain": [
       "{'Papel': 'PETR4',\n",
       " 'Oscilacoes_Dia': '0.77%',\n",
       " 'Oscilacoes_Mes': '0.67%',\n",
       " 'Oscilacoes_30_dias': '-22.85%',\n",
       " 'Oscilacoes_12_meses': '-11.47%',\n",
       " 'Oscilacoes_2021': '-21.00%',\n",
       " 'Oscilacoes_2020': '-6.10%',\n",
       " 'Oscilacoes_2019': '36.87%',\n",
       " 'Oscilacoes_2018': '45.91%',\n",
       " 'Oscilacoes_2017': '8.29%',\n",
       " 'Oscilacoes_2016': '116.23%'}"
      ]
     },
     "execution_count": 71,
     "metadata": {},
     "output_type": "execute_result"
    }
   ],
   "source": [
    "oscilacoes = transformar_listas_em_dicionario(oscilacoes_label, oscilacoes_dados)\n",
    "oscilacoes"
   ]
  },
  {
   "cell_type": "code",
   "execution_count": 72,
   "metadata": {},
   "outputs": [
    {
     "data": {
      "text/plain": [
       "<pymongo.results.InsertOneResult at 0x7f73e8ca86c8>"
      ]
     },
     "execution_count": 72,
     "metadata": {},
     "output_type": "execute_result"
    }
   ],
   "source": [
    "colecao = banco.oscilacoes\n",
    "colecao.insert_one(oscilacoes)"
   ]
  },
  {
   "cell_type": "markdown",
   "metadata": {},
   "source": [
    "### Indicadores Fundamentalista da Empresa"
   ]
  },
  {
   "cell_type": "code",
   "execution_count": 73,
   "metadata": {},
   "outputs": [
    {
     "data": {
      "text/plain": [
       "{'Papel': 'PETR4',\n",
       " 'P/L': 41.09,\n",
       " 'LPA': 0.54,\n",
       " 'P/VP': 0.95,\n",
       " 'VPA': 23.64,\n",
       " 'P/EBIT': 3.13,\n",
       " 'Marg_Bruta': '45.6%',\n",
       " 'PSR': 1.07,\n",
       " 'Marg_EBIT': '34.3%',\n",
       " 'P/Ativos': 0.3,\n",
       " 'Marg_Liquida': '2.3%',\n",
       " 'P/Cap_Giro': 48.39,\n",
       " 'EBIT_/_Ativo': '9.5%',\n",
       " 'P/Ativ_Circ_Liq': -0.55,\n",
       " 'ROIC': '10.5%',\n",
       " 'Div_Yield': '0.0%',\n",
       " 'ROE': '2.3%',\n",
       " 'EV_/_EBITDA': 3.96,\n",
       " 'Liquidez_Corr': 1.04,\n",
       " 'EV_/_EBIT': 6.64,\n",
       " 'Div_Br/_Patrim': 1.27,\n",
       " 'Cres_Rec_5a': '-0.1%',\n",
       " 'Giro_Ativos': 0.28}"
      ]
     },
     "execution_count": 73,
     "metadata": {},
     "output_type": "execute_result"
    }
   ],
   "source": [
    "indicacores_fundamentalista = transformar_listas_em_dicionario(indicador_fundamentalita_label, indicador_fundamentalita_dados)\n",
    "indicacores_fundamentalista"
   ]
  },
  {
   "cell_type": "code",
   "execution_count": 74,
   "metadata": {},
   "outputs": [
    {
     "data": {
      "text/plain": [
       "<pymongo.results.InsertOneResult at 0x7f73e843c6c8>"
      ]
     },
     "execution_count": 74,
     "metadata": {},
     "output_type": "execute_result"
    }
   ],
   "source": [
    "colecao = banco.indicadores_fundamentalista\n",
    "colecao.insert_one(indicacores_fundamentalista)"
   ]
  },
  {
   "cell_type": "markdown",
   "metadata": {},
   "source": [
    "### Balanço da Empresa"
   ]
  },
  {
   "cell_type": "code",
   "execution_count": 75,
   "metadata": {},
   "outputs": [
    {
     "data": {
      "text/plain": [
       "{'Papel': 'PETR4',\n",
       " 'Ult_balanco_processado': datetime.datetime(2020, 12, 31, 0, 0),\n",
       " 'Valor_da_firma': '620.334.000.000',\n",
       " 'Ativo': '987.419.000.000',\n",
       " 'Div_Bruta': '392.548.000.000',\n",
       " 'Disponibilidades': '64.280.000.000',\n",
       " 'Div_Liquida': '328.268.000.000',\n",
       " 'Ativo_Circulante': '142.323.000.000',\n",
       " 'Patrim_Liq': '308.410.000.000',\n",
       " 'Receita_Liquida_ult_12_meses': '272.069.000.000',\n",
       " 'EBIT_ult_12_meses': '93.417.000.000',\n",
       " 'Lucro_Liquido_ult_12_meses': '7.108.000.000',\n",
       " 'Receita_Liquida_ult_3_meses': '74.972.000.000',\n",
       " 'EBIT_ult_3_meses': '33.838.000.000',\n",
       " 'Lucro_Liquido_ult_3_meses': '59.890.000.000'}"
      ]
     },
     "execution_count": 75,
     "metadata": {},
     "output_type": "execute_result"
    }
   ],
   "source": [
    "balanco = transformar_listas_em_dicionario(balanco_label, balanco_dados)\n",
    "balanco"
   ]
  },
  {
   "cell_type": "code",
   "execution_count": 76,
   "metadata": {},
   "outputs": [
    {
     "data": {
      "text/plain": [
       "<pymongo.results.InsertOneResult at 0x7f73e843c8c8>"
      ]
     },
     "execution_count": 76,
     "metadata": {},
     "output_type": "execute_result"
    }
   ],
   "source": [
    "colecao = banco.balanco\n",
    "colecao.insert_one(balanco)"
   ]
  },
  {
   "cell_type": "markdown",
   "metadata": {},
   "source": [
    "## Buscando dados no MongoDB"
   ]
  },
  {
   "cell_type": "code",
   "execution_count": 77,
   "metadata": {},
   "outputs": [],
   "source": [
    "colecao = banco.dados_empresa\n",
    "resultado = colecao.find_one({ \"Papel\": \"PETR4\"})"
   ]
  },
  {
   "cell_type": "code",
   "execution_count": 78,
   "metadata": {},
   "outputs": [
    {
     "data": {
      "text/plain": [
       "{'_id': ObjectId('6044079620c4c61a78ad3009'),\n",
       " 'Papel': 'PETR4',\n",
       " 'Tipo': 'PN',\n",
       " 'Empresa': 'PETROBRAS PN',\n",
       " 'Setor': 'Petróleo, Gás e Biocombustíveis',\n",
       " 'Subsetor': 'Exploração, Refino e Distribuição'}"
      ]
     },
     "execution_count": 78,
     "metadata": {},
     "output_type": "execute_result"
    }
   ],
   "source": [
    "resultado"
   ]
  },
  {
   "cell_type": "code",
   "execution_count": 79,
   "metadata": {},
   "outputs": [],
   "source": [
    "colecao = banco.dados_empresa"
   ]
  },
  {
   "cell_type": "code",
   "execution_count": 80,
   "metadata": {},
   "outputs": [],
   "source": [
    "pipeline = [\n",
    "    {\"$match\" : { \"Papel\" : \"PETR4\" }},\n",
    "    {\"$lookup\" : { \"from\": \"cotacao\",\n",
    "                   \"localField\": \"Papel\",\n",
    "                   \"foreignField\": \"Papel\",\n",
    "                   \"as\": \"Cotacao_do_Papel\" }},\n",
    "    {\"$unset\": [\"Cotacao_do_Papel._id\", \"Cotacao_do_Papel.Papel\"]}\n",
    "]\n",
    "\n",
    "res = list(colecao.aggregate(pipeline))"
   ]
  },
  {
   "cell_type": "code",
   "execution_count": 81,
   "metadata": {},
   "outputs": [
    {
     "name": "stdout",
     "output_type": "stream",
     "text": [
      "[{'_id': ObjectId('6044079620c4c61a78ad3009'), 'Papel': 'PETR4', 'Tipo': 'PN', 'Empresa': 'PETROBRAS PN', 'Setor': 'Petróleo, Gás e Biocombustíveis', 'Subsetor': 'Exploração, Refino e Distribuição', 'Cotacao_do_Papel': [{'Cotacao': 22.39, 'Data_ult_cot': datetime.datetime(2021, 3, 5, 0, 0), 'Min_52_sem': 11.29, 'Max_52_sem': 31.12, 'Vol_$_med_2m': '2.651.490.000', 'Valor_de_mercado': '292.066.000.000', 'Nro_Acoes': '13.044.500.000'}]}]\n"
     ]
    }
   ],
   "source": [
    "for colecao in res:\n",
    "    print(res)"
   ]
  },
  {
   "cell_type": "code",
   "execution_count": 83,
   "metadata": {},
   "outputs": [
    {
     "data": {
      "text/plain": [
       "[{'_id': ObjectId('6044079620c4c61a78ad3009'),\n",
       "  'Papel': 'PETR4',\n",
       "  'Tipo': 'PN',\n",
       "  'Empresa': 'PETROBRAS PN',\n",
       "  'Setor': 'Petróleo, Gás e Biocombustíveis',\n",
       "  'Subsetor': 'Exploração, Refino e Distribuição',\n",
       "  'Cotacao_do_Papel': [{'Cotacao': 22.39,\n",
       "    'Data_ult_cot': datetime.datetime(2021, 3, 5, 0, 0),\n",
       "    'Min_52_sem': 11.29,\n",
       "    'Max_52_sem': 31.12,\n",
       "    'Vol_$_med_2m': '2.651.490.000',\n",
       "    'Valor_de_mercado': '292.066.000.000',\n",
       "    'Nro_Acoes': '13.044.500.000'}]}]"
      ]
     },
     "execution_count": 83,
     "metadata": {},
     "output_type": "execute_result"
    }
   ],
   "source": [
    "res"
   ]
  },
  {
   "cell_type": "code",
   "execution_count": null,
   "metadata": {},
   "outputs": [],
   "source": []
  },
  {
   "cell_type": "code",
   "execution_count": null,
   "metadata": {},
   "outputs": [],
   "source": []
  },
  {
   "cell_type": "code",
   "execution_count": null,
   "metadata": {},
   "outputs": [],
   "source": []
  },
  {
   "cell_type": "markdown",
   "metadata": {},
   "source": [
    "# ------------------------------------------------------------------------------------------------"
   ]
  },
  {
   "cell_type": "markdown",
   "metadata": {},
   "source": [
    "# Acesso ao HDFS server (Write and Read)\n",
    "## Criando uma Spark Session"
   ]
  },
  {
   "cell_type": "code",
   "execution_count": 40,
   "metadata": {},
   "outputs": [],
   "source": [
    "#!pip3 install pyspark"
   ]
  },
  {
   "cell_type": "code",
   "execution_count": 41,
   "metadata": {},
   "outputs": [],
   "source": [
    "from pyspark.sql import SparkSession\n",
    "sparkSession = SparkSession.builder.appName(\"write-read-fundamentus-hdfs\").getOrCreate()"
   ]
  },
  {
   "cell_type": "markdown",
   "metadata": {},
   "source": [
    "## Write Spark DataFrame dos Dados da Empresa"
   ]
  },
  {
   "cell_type": "code",
   "execution_count": null,
   "metadata": {},
   "outputs": [],
   "source": [
    "info_empresa_dados = transformar_lista_em_tuples(info_empresa_dados)\n",
    "info_empresa_dados"
   ]
  },
  {
   "cell_type": "code",
   "execution_count": 42,
   "metadata": {},
   "outputs": [
    {
     "data": {
      "text/plain": [
       "[Row(_1='PETR4', _2='PN', _3='PETROBRAS PN', _4='Petróleo, Gás e Biocombustíveis', _5='Exploração, Refino e Distribuição')]"
      ]
     },
     "execution_count": 42,
     "metadata": {},
     "output_type": "execute_result"
    }
   ],
   "source": [
    "sparkSession.createDataFrame(info_empresa_dados).collect()"
   ]
  },
  {
   "cell_type": "code",
   "execution_count": 43,
   "metadata": {},
   "outputs": [
    {
     "data": {
      "text/plain": [
       "[Row(Papel='PETR4', Tipo='PN', Empresa='PETROBRAS PN', Setor='Petróleo, Gás e Biocombustíveis', Subsetor='Exploração, Refino e Distribuição')]"
      ]
     },
     "execution_count": 43,
     "metadata": {},
     "output_type": "execute_result"
    }
   ],
   "source": [
    "sparkSession.createDataFrame(info_empresa_dados, info_empresa_label).collect()"
   ]
  },
  {
   "cell_type": "code",
   "execution_count": 44,
   "metadata": {},
   "outputs": [
    {
     "data": {
      "text/plain": [
       "DataFrame[Papel: string, Tipo: string, Empresa: string, Setor: string, Subsetor: string]"
      ]
     },
     "execution_count": 44,
     "metadata": {},
     "output_type": "execute_result"
    }
   ],
   "source": [
    "df = sparkSession.createDataFrame(info_empresa_dados, info_empresa_label)\n",
    "df"
   ]
  },
  {
   "cell_type": "code",
   "execution_count": 45,
   "metadata": {},
   "outputs": [
    {
     "data": {
      "text/plain": [
       "pyspark.sql.dataframe.DataFrame"
      ]
     },
     "execution_count": 45,
     "metadata": {},
     "output_type": "execute_result"
    }
   ],
   "source": [
    "type(df)"
   ]
  },
  {
   "cell_type": "code",
   "execution_count": 46,
   "metadata": {},
   "outputs": [
    {
     "name": "stdout",
     "output_type": "stream",
     "text": [
      "+-----+----+------------+--------------------+--------------------+\n",
      "|Papel|Tipo|     Empresa|               Setor|            Subsetor|\n",
      "+-----+----+------------+--------------------+--------------------+\n",
      "|PETR4|  PN|PETROBRAS PN|Petróleo, Gás e B...|Exploração, Refin...|\n",
      "+-----+----+------------+--------------------+--------------------+\n",
      "\n"
     ]
    }
   ],
   "source": [
    "df.show()"
   ]
  },
  {
   "cell_type": "markdown",
   "metadata": {},
   "source": [
    "### Necessário configurar a versão do Python utilizada pelo Linux como a 3.6.\n",
    "* sudo update-alternatives --install /usr/bin/python python /usr/bin/python3.4 1\n",
    "* sudo update-alternatives --install /usr/bin/python python /usr/bin/python3.6 2\n",
    "* sudo update-alternatives --config python\n",
    "* sudo update-alternatives  --set python /usr/bin/python3.6"
   ]
  },
  {
   "cell_type": "code",
   "execution_count": 47,
   "metadata": {},
   "outputs": [],
   "source": [
    "# Write into HDFS\n",
    "# hdfs://hadoop-master:9000/user/hadoopuser/test/\n",
    "df.write.save('hdfs://172.17.177.40:9000/user/hadoopuser/fundamentus/detalhes/dados_empresa', format='parquet', mode='append')"
   ]
  },
  {
   "cell_type": "code",
   "execution_count": 48,
   "metadata": {},
   "outputs": [],
   "source": [
    "df_load = sparkSession.read.format('parquet').load('hdfs://172.17.177.40:9000/user/hadoopuser/fundamentus/detalhes/dados_empresa')"
   ]
  },
  {
   "cell_type": "code",
   "execution_count": 49,
   "metadata": {},
   "outputs": [
    {
     "name": "stdout",
     "output_type": "stream",
     "text": [
      "+-----+-----+------------------+--------------------+--------------------+\n",
      "|Papel| Tipo|           Empresa|               Setor|            Subsetor|\n",
      "+-----+-----+------------------+--------------------+--------------------+\n",
      "|PETR4|   PN|      PETROBRAS PN|Petróleo, Gás e B...|Exploração, Refin...|\n",
      "|ITUB4|PN N1|ITAUUNIBANCO PN N1|Intermediários Fi...|              Bancos|\n",
      "|GGBR4|PN N1| GERDAU S.A. PN N1|Siderurgia e Meta...|          Siderurgia|\n",
      "|VALE3|ON NM|        VALE ON NM|           Mineração|  Minerais Metálicos|\n",
      "+-----+-----+------------------+--------------------+--------------------+\n",
      "\n"
     ]
    }
   ],
   "source": [
    "df_load.show()"
   ]
  },
  {
   "cell_type": "code",
   "execution_count": 50,
   "metadata": {},
   "outputs": [
    {
     "data": {
      "text/html": [
       "<div>\n",
       "<style scoped>\n",
       "    .dataframe tbody tr th:only-of-type {\n",
       "        vertical-align: middle;\n",
       "    }\n",
       "\n",
       "    .dataframe tbody tr th {\n",
       "        vertical-align: top;\n",
       "    }\n",
       "\n",
       "    .dataframe thead th {\n",
       "        text-align: right;\n",
       "    }\n",
       "</style>\n",
       "<table border=\"1\" class=\"dataframe\">\n",
       "  <thead>\n",
       "    <tr style=\"text-align: right;\">\n",
       "      <th></th>\n",
       "      <th>Papel</th>\n",
       "      <th>Tipo</th>\n",
       "      <th>Empresa</th>\n",
       "      <th>Setor</th>\n",
       "      <th>Subsetor</th>\n",
       "    </tr>\n",
       "  </thead>\n",
       "  <tbody>\n",
       "    <tr>\n",
       "      <th>0</th>\n",
       "      <td>PETR4</td>\n",
       "      <td>PN</td>\n",
       "      <td>PETROBRAS PN</td>\n",
       "      <td>Petróleo, Gás e Biocombustíveis</td>\n",
       "      <td>Exploração, Refino e Distribuição</td>\n",
       "    </tr>\n",
       "    <tr>\n",
       "      <th>1</th>\n",
       "      <td>ITUB4</td>\n",
       "      <td>PN N1</td>\n",
       "      <td>ITAUUNIBANCO PN N1</td>\n",
       "      <td>Intermediários Financeiros</td>\n",
       "      <td>Bancos</td>\n",
       "    </tr>\n",
       "    <tr>\n",
       "      <th>2</th>\n",
       "      <td>GGBR4</td>\n",
       "      <td>PN N1</td>\n",
       "      <td>GERDAU S.A. PN N1</td>\n",
       "      <td>Siderurgia e Metalurgia</td>\n",
       "      <td>Siderurgia</td>\n",
       "    </tr>\n",
       "    <tr>\n",
       "      <th>3</th>\n",
       "      <td>VALE3</td>\n",
       "      <td>ON NM</td>\n",
       "      <td>VALE ON NM</td>\n",
       "      <td>Mineração</td>\n",
       "      <td>Minerais Metálicos</td>\n",
       "    </tr>\n",
       "  </tbody>\n",
       "</table>\n",
       "</div>"
      ],
      "text/plain": [
       "   Papel   Tipo             Empresa                            Setor  \\\n",
       "0  PETR4     PN        PETROBRAS PN  Petróleo, Gás e Biocombustíveis   \n",
       "1  ITUB4  PN N1  ITAUUNIBANCO PN N1       Intermediários Financeiros   \n",
       "2  GGBR4  PN N1   GERDAU S.A. PN N1          Siderurgia e Metalurgia   \n",
       "3  VALE3  ON NM          VALE ON NM                        Mineração   \n",
       "\n",
       "                            Subsetor  \n",
       "0  Exploração, Refino e Distribuição  \n",
       "1                             Bancos  \n",
       "2                         Siderurgia  \n",
       "3                 Minerais Metálicos  "
      ]
     },
     "execution_count": 50,
     "metadata": {},
     "output_type": "execute_result"
    }
   ],
   "source": [
    "df_load.toPandas()"
   ]
  },
  {
   "cell_type": "markdown",
   "metadata": {},
   "source": [
    "## Write Spark DataFrame dos Dados de Cotação"
   ]
  },
  {
   "cell_type": "code",
   "execution_count": null,
   "metadata": {},
   "outputs": [],
   "source": [
    "cotacao_label.insert(0, 'Papel')\n",
    "cotacao_dados.insert(0, papel)\n",
    "cotacao_dados = transformar_lista_em_tuples(cotacao_dados)\n",
    "cotacao_dados"
   ]
  },
  {
   "cell_type": "code",
   "execution_count": 51,
   "metadata": {},
   "outputs": [
    {
     "data": {
      "text/plain": [
       "DataFrame[Papel: string, Cotacao: string, Data_ult_cot: string, Min_52_sem: string, Max_52_sem: string, Vol_$_med_2m: string, Valor_de_mercado: string, Nro._Acoes: string]"
      ]
     },
     "execution_count": 51,
     "metadata": {},
     "output_type": "execute_result"
    }
   ],
   "source": [
    "df = sparkSession.createDataFrame(cotacao_dados, cotacao_label)\n",
    "df"
   ]
  },
  {
   "cell_type": "code",
   "execution_count": 52,
   "metadata": {},
   "outputs": [],
   "source": [
    "df.write.save('hdfs://172.17.177.40:9000/user/hadoopuser/fundamentus/detalhes/dados_cotacao', format='parquet', mode='append')"
   ]
  },
  {
   "cell_type": "code",
   "execution_count": 53,
   "metadata": {},
   "outputs": [],
   "source": [
    "df_load = sparkSession.read.format('parquet').load('hdfs://172.17.177.40:9000/user/hadoopuser/fundamentus/detalhes/dados_cotacao')"
   ]
  },
  {
   "cell_type": "code",
   "execution_count": 54,
   "metadata": {},
   "outputs": [
    {
     "name": "stdout",
     "output_type": "stream",
     "text": [
      "+-----+-------+------------+----------+----------+-------------+----------------+--------------+\n",
      "|Papel|Cotacao|Data_ult_cot|Min_52_sem|Max_52_sem| Vol_$_med_2m|Valor_de_mercado|    Nro._Acoes|\n",
      "+-----+-------+------------+----------+----------+-------------+----------------+--------------+\n",
      "|VALE3| 101,60|  02/03/2021|     32,82|    102,32|3.111.610.000| 536.903.000.000| 5.284.470.000|\n",
      "|PETR4|  21,99|  02/03/2021|     11,29|     31,12|2.600.720.000| 286.848.000.000|13.044.500.000|\n",
      "|ITUB4|  25,77|  02/03/2021|     20,24|     32,58|1.217.880.000| 252.653.000.000| 9.804.140.000|\n",
      "|GGBR4|  26,67|  01/03/2021|      8,54|     29,54|  419.645.000|  45.863.300.000| 1.719.660.000|\n",
      "+-----+-------+------------+----------+----------+-------------+----------------+--------------+\n",
      "\n"
     ]
    }
   ],
   "source": [
    "df_load.show()"
   ]
  },
  {
   "cell_type": "code",
   "execution_count": 55,
   "metadata": {},
   "outputs": [
    {
     "data": {
      "text/html": [
       "<div>\n",
       "<style scoped>\n",
       "    .dataframe tbody tr th:only-of-type {\n",
       "        vertical-align: middle;\n",
       "    }\n",
       "\n",
       "    .dataframe tbody tr th {\n",
       "        vertical-align: top;\n",
       "    }\n",
       "\n",
       "    .dataframe thead th {\n",
       "        text-align: right;\n",
       "    }\n",
       "</style>\n",
       "<table border=\"1\" class=\"dataframe\">\n",
       "  <thead>\n",
       "    <tr style=\"text-align: right;\">\n",
       "      <th></th>\n",
       "      <th>Papel</th>\n",
       "      <th>Cotacao</th>\n",
       "      <th>Data_ult_cot</th>\n",
       "      <th>Min_52_sem</th>\n",
       "      <th>Max_52_sem</th>\n",
       "      <th>Vol_$_med_2m</th>\n",
       "      <th>Valor_de_mercado</th>\n",
       "      <th>Nro._Acoes</th>\n",
       "    </tr>\n",
       "  </thead>\n",
       "  <tbody>\n",
       "    <tr>\n",
       "      <th>0</th>\n",
       "      <td>VALE3</td>\n",
       "      <td>101,60</td>\n",
       "      <td>02/03/2021</td>\n",
       "      <td>32,82</td>\n",
       "      <td>102,32</td>\n",
       "      <td>3.111.610.000</td>\n",
       "      <td>536.903.000.000</td>\n",
       "      <td>5.284.470.000</td>\n",
       "    </tr>\n",
       "    <tr>\n",
       "      <th>1</th>\n",
       "      <td>PETR4</td>\n",
       "      <td>21,99</td>\n",
       "      <td>02/03/2021</td>\n",
       "      <td>11,29</td>\n",
       "      <td>31,12</td>\n",
       "      <td>2.600.720.000</td>\n",
       "      <td>286.848.000.000</td>\n",
       "      <td>13.044.500.000</td>\n",
       "    </tr>\n",
       "    <tr>\n",
       "      <th>2</th>\n",
       "      <td>ITUB4</td>\n",
       "      <td>25,77</td>\n",
       "      <td>02/03/2021</td>\n",
       "      <td>20,24</td>\n",
       "      <td>32,58</td>\n",
       "      <td>1.217.880.000</td>\n",
       "      <td>252.653.000.000</td>\n",
       "      <td>9.804.140.000</td>\n",
       "    </tr>\n",
       "    <tr>\n",
       "      <th>3</th>\n",
       "      <td>GGBR4</td>\n",
       "      <td>26,67</td>\n",
       "      <td>01/03/2021</td>\n",
       "      <td>8,54</td>\n",
       "      <td>29,54</td>\n",
       "      <td>419.645.000</td>\n",
       "      <td>45.863.300.000</td>\n",
       "      <td>1.719.660.000</td>\n",
       "    </tr>\n",
       "  </tbody>\n",
       "</table>\n",
       "</div>"
      ],
      "text/plain": [
       "   Papel Cotacao Data_ult_cot Min_52_sem Max_52_sem   Vol_$_med_2m  \\\n",
       "0  VALE3  101,60   02/03/2021      32,82     102,32  3.111.610.000   \n",
       "1  PETR4   21,99   02/03/2021      11,29      31,12  2.600.720.000   \n",
       "2  ITUB4   25,77   02/03/2021      20,24      32,58  1.217.880.000   \n",
       "3  GGBR4   26,67   01/03/2021       8,54      29,54    419.645.000   \n",
       "\n",
       "  Valor_de_mercado      Nro._Acoes  \n",
       "0  536.903.000.000   5.284.470.000  \n",
       "1  286.848.000.000  13.044.500.000  \n",
       "2  252.653.000.000   9.804.140.000  \n",
       "3   45.863.300.000   1.719.660.000  "
      ]
     },
     "execution_count": 55,
     "metadata": {},
     "output_type": "execute_result"
    }
   ],
   "source": [
    "df_load.toPandas()"
   ]
  },
  {
   "cell_type": "markdown",
   "metadata": {},
   "source": [
    "## Write Spark DataFrame dos Dados de Oscilações"
   ]
  },
  {
   "cell_type": "code",
   "execution_count": null,
   "metadata": {},
   "outputs": [],
   "source": [
    "oscilacoes_label.insert(0, 'Papel')\n",
    "oscilacoes_dados.insert(0, papel)\n",
    "oscilacoes_dados = transformar_lista_em_tuples(oscilacoes_dados)\n",
    "oscilacoes_dados"
   ]
  },
  {
   "cell_type": "code",
   "execution_count": 56,
   "metadata": {},
   "outputs": [
    {
     "data": {
      "text/plain": [
       "DataFrame[Papel: string, Oscilacoes_Dia: string, Oscilacoes_Mes: string, Oscilacoes_30_dias: string, Oscilacoes_12_meses: string, Oscilacoes_2021: string, Oscilacoes_2020: string, Oscilacoes_2019: string, Oscilacoes_2018: string, Oscilacoes_2017: string, Oscilacoes_2016: string]"
      ]
     },
     "execution_count": 56,
     "metadata": {},
     "output_type": "execute_result"
    }
   ],
   "source": [
    "df = sparkSession.createDataFrame(oscilacoes_dados, oscilacoes_label)\n",
    "df"
   ]
  },
  {
   "cell_type": "code",
   "execution_count": 57,
   "metadata": {},
   "outputs": [],
   "source": [
    "df.write.save('hdfs://172.17.177.40:9000/user/hadoopuser/fundamentus/detalhes/dados_oscilacoes', format='parquet', mode='append')"
   ]
  },
  {
   "cell_type": "code",
   "execution_count": 58,
   "metadata": {},
   "outputs": [],
   "source": [
    "df_load = sparkSession.read.format('parquet').load('hdfs://172.17.177.40:9000/user/hadoopuser/fundamentus/detalhes/dados_oscilacoes')"
   ]
  },
  {
   "cell_type": "code",
   "execution_count": 59,
   "metadata": {},
   "outputs": [
    {
     "name": "stdout",
     "output_type": "stream",
     "text": [
      "+-----+--------------+--------------+------------------+-------------------+---------------+---------------+---------------+---------------+---------------+---------------+\n",
      "|Papel|Oscilacoes_Dia|Oscilacoes_Mes|Oscilacoes_30_dias|Oscilacoes_12_meses|Oscilacoes_2021|Oscilacoes_2020|Oscilacoes_2019|Oscilacoes_2018|Oscilacoes_2017|Oscilacoes_2016|\n",
      "+-----+--------------+--------------+------------------+-------------------+---------------+---------------+---------------+---------------+---------------+---------------+\n",
      "|PETR4|        -0,05%|        -1,12%|           -23,27%|            -17,11%|        -22,41%|         -6,10%|         36,87%|         45,91%|          8,29%|        116,23%|\n",
      "|ITUB4|         4,04%|         0,93%|            -8,90%|            -18,04%|        -17,91%|        -11,75%|         11,98%|         32,41%|         29,64%|         56,02%|\n",
      "|VALE3|         3,07%|         7,49%|            15,90%|            127,71%|         16,18%|         70,47%|          6,85%|         31,11%|         62,56%|        103,66%|\n",
      "|GGBR4|         3,09%|         3,09%|            16,11%|             55,83%|          9,08%|         23,86%|         37,65%|         22,31%|         15,23%|        138,66%|\n",
      "+-----+--------------+--------------+------------------+-------------------+---------------+---------------+---------------+---------------+---------------+---------------+\n",
      "\n"
     ]
    }
   ],
   "source": [
    "df_load.show()"
   ]
  },
  {
   "cell_type": "code",
   "execution_count": 60,
   "metadata": {},
   "outputs": [
    {
     "data": {
      "text/html": [
       "<div>\n",
       "<style scoped>\n",
       "    .dataframe tbody tr th:only-of-type {\n",
       "        vertical-align: middle;\n",
       "    }\n",
       "\n",
       "    .dataframe tbody tr th {\n",
       "        vertical-align: top;\n",
       "    }\n",
       "\n",
       "    .dataframe thead th {\n",
       "        text-align: right;\n",
       "    }\n",
       "</style>\n",
       "<table border=\"1\" class=\"dataframe\">\n",
       "  <thead>\n",
       "    <tr style=\"text-align: right;\">\n",
       "      <th></th>\n",
       "      <th>Papel</th>\n",
       "      <th>Oscilacoes_Dia</th>\n",
       "      <th>Oscilacoes_Mes</th>\n",
       "      <th>Oscilacoes_30_dias</th>\n",
       "      <th>Oscilacoes_12_meses</th>\n",
       "      <th>Oscilacoes_2021</th>\n",
       "      <th>Oscilacoes_2020</th>\n",
       "      <th>Oscilacoes_2019</th>\n",
       "      <th>Oscilacoes_2018</th>\n",
       "      <th>Oscilacoes_2017</th>\n",
       "      <th>Oscilacoes_2016</th>\n",
       "    </tr>\n",
       "  </thead>\n",
       "  <tbody>\n",
       "    <tr>\n",
       "      <th>0</th>\n",
       "      <td>PETR4</td>\n",
       "      <td>-0,05%</td>\n",
       "      <td>-1,12%</td>\n",
       "      <td>-23,27%</td>\n",
       "      <td>-17,11%</td>\n",
       "      <td>-22,41%</td>\n",
       "      <td>-6,10%</td>\n",
       "      <td>36,87%</td>\n",
       "      <td>45,91%</td>\n",
       "      <td>8,29%</td>\n",
       "      <td>116,23%</td>\n",
       "    </tr>\n",
       "    <tr>\n",
       "      <th>1</th>\n",
       "      <td>ITUB4</td>\n",
       "      <td>4,04%</td>\n",
       "      <td>0,93%</td>\n",
       "      <td>-8,90%</td>\n",
       "      <td>-18,04%</td>\n",
       "      <td>-17,91%</td>\n",
       "      <td>-11,75%</td>\n",
       "      <td>11,98%</td>\n",
       "      <td>32,41%</td>\n",
       "      <td>29,64%</td>\n",
       "      <td>56,02%</td>\n",
       "    </tr>\n",
       "    <tr>\n",
       "      <th>2</th>\n",
       "      <td>VALE3</td>\n",
       "      <td>3,07%</td>\n",
       "      <td>7,49%</td>\n",
       "      <td>15,90%</td>\n",
       "      <td>127,71%</td>\n",
       "      <td>16,18%</td>\n",
       "      <td>70,47%</td>\n",
       "      <td>6,85%</td>\n",
       "      <td>31,11%</td>\n",
       "      <td>62,56%</td>\n",
       "      <td>103,66%</td>\n",
       "    </tr>\n",
       "    <tr>\n",
       "      <th>3</th>\n",
       "      <td>GGBR4</td>\n",
       "      <td>3,09%</td>\n",
       "      <td>3,09%</td>\n",
       "      <td>16,11%</td>\n",
       "      <td>55,83%</td>\n",
       "      <td>9,08%</td>\n",
       "      <td>23,86%</td>\n",
       "      <td>37,65%</td>\n",
       "      <td>22,31%</td>\n",
       "      <td>15,23%</td>\n",
       "      <td>138,66%</td>\n",
       "    </tr>\n",
       "  </tbody>\n",
       "</table>\n",
       "</div>"
      ],
      "text/plain": [
       "   Papel Oscilacoes_Dia Oscilacoes_Mes Oscilacoes_30_dias Oscilacoes_12_meses  \\\n",
       "0  PETR4         -0,05%         -1,12%            -23,27%             -17,11%   \n",
       "1  ITUB4          4,04%          0,93%             -8,90%             -18,04%   \n",
       "2  VALE3          3,07%          7,49%             15,90%             127,71%   \n",
       "3  GGBR4          3,09%          3,09%             16,11%              55,83%   \n",
       "\n",
       "  Oscilacoes_2021 Oscilacoes_2020 Oscilacoes_2019 Oscilacoes_2018  \\\n",
       "0         -22,41%          -6,10%          36,87%          45,91%   \n",
       "1         -17,91%         -11,75%          11,98%          32,41%   \n",
       "2          16,18%          70,47%           6,85%          31,11%   \n",
       "3           9,08%          23,86%          37,65%          22,31%   \n",
       "\n",
       "  Oscilacoes_2017 Oscilacoes_2016  \n",
       "0           8,29%         116,23%  \n",
       "1          29,64%          56,02%  \n",
       "2          62,56%         103,66%  \n",
       "3          15,23%         138,66%  "
      ]
     },
     "execution_count": 60,
     "metadata": {},
     "output_type": "execute_result"
    }
   ],
   "source": [
    "df_load.toPandas()"
   ]
  },
  {
   "cell_type": "markdown",
   "metadata": {},
   "source": [
    "## Write Spark DataFrame dos Dados de Indicacores Fundamentalistas"
   ]
  },
  {
   "cell_type": "code",
   "execution_count": null,
   "metadata": {},
   "outputs": [],
   "source": [
    "indicador_fundamentalita_label.insert(0, \"Papel\")\n",
    "indicador_fundamentalita_dados.insert(0, papel)\n",
    "indicador_fundamentalita_dados = transformar_lista_em_tuples(indicador_fundamentalita_dados)\n",
    "indicador_fundamentalita_dados"
   ]
  },
  {
   "cell_type": "code",
   "execution_count": 61,
   "metadata": {},
   "outputs": [
    {
     "data": {
      "text/plain": [
       "DataFrame[Papel: string, P/L: string, LPA: string, P/VP: string, VPA: string, P/EBIT: string, Marg._Bruta: string, PSR: string, Marg._EBIT: string, P/Ativos: string, Marg._Liquida: string, P/Cap._Giro: string, EBIT_/_Ativo: string, P/Ativ_Circ_Liq: string, ROIC: string, Div._Yield: string, ROE: string, EV_/_EBITDA: string, Liquidez_Corr: string, EV_/_EBIT: string, Div_Br/_Patrim: string, Cres._Rec_5a: string, Giro_Ativos: string]"
      ]
     },
     "execution_count": 61,
     "metadata": {},
     "output_type": "execute_result"
    }
   ],
   "source": [
    "df = sparkSession.createDataFrame(indicador_fundamentalita_dados, indicador_fundamentalita_label)\n",
    "df"
   ]
  },
  {
   "cell_type": "code",
   "execution_count": 62,
   "metadata": {},
   "outputs": [],
   "source": [
    "df.write.save('hdfs://172.17.177.40:9000/user/hadoopuser/fundamentus/detalhes/dados_indicador_fundamentalista', format='parquet', mode='append')"
   ]
  },
  {
   "cell_type": "code",
   "execution_count": 63,
   "metadata": {},
   "outputs": [],
   "source": [
    "df_load = sparkSession.read.format('parquet').load('hdfs://172.17.177.40:9000/user/hadoopuser/fundamentus/detalhes/dados_indicador_fundamentalista')"
   ]
  },
  {
   "cell_type": "code",
   "execution_count": 64,
   "metadata": {},
   "outputs": [
    {
     "name": "stdout",
     "output_type": "stream",
     "text": [
      "+-----+-----+----+----+-----+------+-----------+----+----------+--------+-------------+-----------+------------+---------------+-----+----------+-----+-----------+-------------+---------+--------------+------------+-----------+\n",
      "|Papel|  P/L| LPA|P/VP|  VPA|P/EBIT|Marg._Bruta| PSR|Marg._EBIT|P/Ativos|Marg._Liquida|P/Cap._Giro|EBIT_/_Ativo|P/Ativ_Circ_Liq| ROIC|Div._Yield|  ROE|EV_/_EBITDA|Liquidez_Corr|EV_/_EBIT|Div_Br/_Patrim|Cres._Rec_5a|Giro_Ativos|\n",
      "+-----+-----+----+----+-----+------+-----------+----+----------+--------+-------------+-----------+------------+---------------+-----+----------+-----+-----------+-------------+---------+--------------+------------+-----------+\n",
      "|VALE3|20,10|5,05|2,89|35,16|  5,01|      52,7%|2,57|     51,4%|    1,12|        11,9%|      10,53|       22,4%|          -3,15|27,4%|      2,4%|14,4%|       4,40|         1,67|     5,09|          0,42|       20,9%|       0,44|\n",
      "|PETR4|40,36|0,54|0,93|23,64|  3,07|      45,6%|1,05|     34,3%|    0,29|         2,3%|      47,52|        9,5%|          -0,54|10,5%|      0,0%| 2,3%|       3,92|         1,04|     6,58|          1,27|       -0,1%|       0,28|\n",
      "|GGBR4|19,39|1,38|1,49|17,95| 10,42|      13,5%|1,05|     10,0%|    0,73|         5,5%|       3,85|        7,0%|          -5,32| 8,8%|      1,1%| 7,7%|       8,14|         2,04|    12,66|          0,57|        3,8%|       0,69|\n",
      "|ITUB4|13,32|1,93|1,85|13,94|     -|          -|   -|         -|       -|         0,0%|          -|        0,0%|              -|    -|      1,9%|13,9%|          -|            -|        -|             -|      -30,0%|          -|\n",
      "+-----+-----+----+----+-----+------+-----------+----+----------+--------+-------------+-----------+------------+---------------+-----+----------+-----+-----------+-------------+---------+--------------+------------+-----------+\n",
      "\n"
     ]
    }
   ],
   "source": [
    "df_load.show()"
   ]
  },
  {
   "cell_type": "code",
   "execution_count": 65,
   "metadata": {},
   "outputs": [
    {
     "data": {
      "text/html": [
       "<div>\n",
       "<style scoped>\n",
       "    .dataframe tbody tr th:only-of-type {\n",
       "        vertical-align: middle;\n",
       "    }\n",
       "\n",
       "    .dataframe tbody tr th {\n",
       "        vertical-align: top;\n",
       "    }\n",
       "\n",
       "    .dataframe thead th {\n",
       "        text-align: right;\n",
       "    }\n",
       "</style>\n",
       "<table border=\"1\" class=\"dataframe\">\n",
       "  <thead>\n",
       "    <tr style=\"text-align: right;\">\n",
       "      <th></th>\n",
       "      <th>Papel</th>\n",
       "      <th>P/L</th>\n",
       "      <th>LPA</th>\n",
       "      <th>P/VP</th>\n",
       "      <th>VPA</th>\n",
       "      <th>P/EBIT</th>\n",
       "      <th>Marg._Bruta</th>\n",
       "      <th>PSR</th>\n",
       "      <th>Marg._EBIT</th>\n",
       "      <th>P/Ativos</th>\n",
       "      <th>...</th>\n",
       "      <th>P/Ativ_Circ_Liq</th>\n",
       "      <th>ROIC</th>\n",
       "      <th>Div._Yield</th>\n",
       "      <th>ROE</th>\n",
       "      <th>EV_/_EBITDA</th>\n",
       "      <th>Liquidez_Corr</th>\n",
       "      <th>EV_/_EBIT</th>\n",
       "      <th>Div_Br/_Patrim</th>\n",
       "      <th>Cres._Rec_5a</th>\n",
       "      <th>Giro_Ativos</th>\n",
       "    </tr>\n",
       "  </thead>\n",
       "  <tbody>\n",
       "    <tr>\n",
       "      <th>0</th>\n",
       "      <td>VALE3</td>\n",
       "      <td>20,10</td>\n",
       "      <td>5,05</td>\n",
       "      <td>2,89</td>\n",
       "      <td>35,16</td>\n",
       "      <td>5,01</td>\n",
       "      <td>52,7%</td>\n",
       "      <td>2,57</td>\n",
       "      <td>51,4%</td>\n",
       "      <td>1,12</td>\n",
       "      <td>...</td>\n",
       "      <td>-3,15</td>\n",
       "      <td>27,4%</td>\n",
       "      <td>2,4%</td>\n",
       "      <td>14,4%</td>\n",
       "      <td>4,40</td>\n",
       "      <td>1,67</td>\n",
       "      <td>5,09</td>\n",
       "      <td>0,42</td>\n",
       "      <td>20,9%</td>\n",
       "      <td>0,44</td>\n",
       "    </tr>\n",
       "    <tr>\n",
       "      <th>1</th>\n",
       "      <td>PETR4</td>\n",
       "      <td>40,36</td>\n",
       "      <td>0,54</td>\n",
       "      <td>0,93</td>\n",
       "      <td>23,64</td>\n",
       "      <td>3,07</td>\n",
       "      <td>45,6%</td>\n",
       "      <td>1,05</td>\n",
       "      <td>34,3%</td>\n",
       "      <td>0,29</td>\n",
       "      <td>...</td>\n",
       "      <td>-0,54</td>\n",
       "      <td>10,5%</td>\n",
       "      <td>0,0%</td>\n",
       "      <td>2,3%</td>\n",
       "      <td>3,92</td>\n",
       "      <td>1,04</td>\n",
       "      <td>6,58</td>\n",
       "      <td>1,27</td>\n",
       "      <td>-0,1%</td>\n",
       "      <td>0,28</td>\n",
       "    </tr>\n",
       "    <tr>\n",
       "      <th>2</th>\n",
       "      <td>GGBR4</td>\n",
       "      <td>19,39</td>\n",
       "      <td>1,38</td>\n",
       "      <td>1,49</td>\n",
       "      <td>17,95</td>\n",
       "      <td>10,42</td>\n",
       "      <td>13,5%</td>\n",
       "      <td>1,05</td>\n",
       "      <td>10,0%</td>\n",
       "      <td>0,73</td>\n",
       "      <td>...</td>\n",
       "      <td>-5,32</td>\n",
       "      <td>8,8%</td>\n",
       "      <td>1,1%</td>\n",
       "      <td>7,7%</td>\n",
       "      <td>8,14</td>\n",
       "      <td>2,04</td>\n",
       "      <td>12,66</td>\n",
       "      <td>0,57</td>\n",
       "      <td>3,8%</td>\n",
       "      <td>0,69</td>\n",
       "    </tr>\n",
       "    <tr>\n",
       "      <th>3</th>\n",
       "      <td>ITUB4</td>\n",
       "      <td>13,32</td>\n",
       "      <td>1,93</td>\n",
       "      <td>1,85</td>\n",
       "      <td>13,94</td>\n",
       "      <td>-</td>\n",
       "      <td>-</td>\n",
       "      <td>-</td>\n",
       "      <td>-</td>\n",
       "      <td>-</td>\n",
       "      <td>...</td>\n",
       "      <td>-</td>\n",
       "      <td>-</td>\n",
       "      <td>1,9%</td>\n",
       "      <td>13,9%</td>\n",
       "      <td>-</td>\n",
       "      <td>-</td>\n",
       "      <td>-</td>\n",
       "      <td>-</td>\n",
       "      <td>-30,0%</td>\n",
       "      <td>-</td>\n",
       "    </tr>\n",
       "  </tbody>\n",
       "</table>\n",
       "<p>4 rows × 23 columns</p>\n",
       "</div>"
      ],
      "text/plain": [
       "   Papel    P/L   LPA  P/VP    VPA P/EBIT Marg._Bruta   PSR Marg._EBIT  \\\n",
       "0  VALE3  20,10  5,05  2,89  35,16   5,01       52,7%  2,57      51,4%   \n",
       "1  PETR4  40,36  0,54  0,93  23,64   3,07       45,6%  1,05      34,3%   \n",
       "2  GGBR4  19,39  1,38  1,49  17,95  10,42       13,5%  1,05      10,0%   \n",
       "3  ITUB4  13,32  1,93  1,85  13,94      -           -     -          -   \n",
       "\n",
       "  P/Ativos  ... P/Ativ_Circ_Liq   ROIC Div._Yield    ROE EV_/_EBITDA  \\\n",
       "0     1,12  ...           -3,15  27,4%       2,4%  14,4%        4,40   \n",
       "1     0,29  ...           -0,54  10,5%       0,0%   2,3%        3,92   \n",
       "2     0,73  ...           -5,32   8,8%       1,1%   7,7%        8,14   \n",
       "3        -  ...               -      -       1,9%  13,9%           -   \n",
       "\n",
       "  Liquidez_Corr EV_/_EBIT Div_Br/_Patrim Cres._Rec_5a Giro_Ativos  \n",
       "0          1,67      5,09           0,42        20,9%        0,44  \n",
       "1          1,04      6,58           1,27        -0,1%        0,28  \n",
       "2          2,04     12,66           0,57         3,8%        0,69  \n",
       "3             -         -              -       -30,0%           -  \n",
       "\n",
       "[4 rows x 23 columns]"
      ]
     },
     "execution_count": 65,
     "metadata": {},
     "output_type": "execute_result"
    }
   ],
   "source": [
    "df_load.toPandas()"
   ]
  },
  {
   "cell_type": "markdown",
   "metadata": {},
   "source": [
    "## Write Spark DataFrame dos Dados do Balanço"
   ]
  },
  {
   "cell_type": "code",
   "execution_count": null,
   "metadata": {},
   "outputs": [],
   "source": [
    "balanco_label.insert(0, \"Papel\")\n",
    "balanco_dados.insert(0, papel)\n",
    "balanco_dados = transformar_lista_em_tuples(balanco_dados)\n",
    "balanco_dados"
   ]
  },
  {
   "cell_type": "code",
   "execution_count": 66,
   "metadata": {},
   "outputs": [
    {
     "data": {
      "text/plain": [
       "DataFrame[Papel: string, Ult_balanco_processado: string, Valor_da_firma: string, Ativo: string, Div._Bruta: string, Disponibilidades: string, Div._Liquida: string, Ativo_Circulante: string, Patrim._Liq: string, Receita_Liquida_ult._12_meses: string, EBIT_ult._12_meses: string, Lucro_Liquido_ult._12_meses: string, Receita_Liquida_ult._3_meses: string, EBIT_ult._3_meses: string, Lucro_Liquido_ult._3_meses: string]"
      ]
     },
     "execution_count": 66,
     "metadata": {},
     "output_type": "execute_result"
    }
   ],
   "source": [
    "df = sparkSession.createDataFrame(balanco_dados, balanco_label)\n",
    "df"
   ]
  },
  {
   "cell_type": "code",
   "execution_count": 67,
   "metadata": {},
   "outputs": [],
   "source": [
    "df.write.save('hdfs://172.17.177.40:9000/user/hadoopuser/fundamentus/detalhes/dados_balanco', format='parquet', mode='append')"
   ]
  },
  {
   "cell_type": "code",
   "execution_count": 68,
   "metadata": {},
   "outputs": [],
   "source": [
    "df_load = sparkSession.read.format('parquet').load('hdfs://172.17.177.40:9000/user/hadoopuser/fundamentus/detalhes/dados_balanco')"
   ]
  },
  {
   "cell_type": "code",
   "execution_count": 69,
   "metadata": {},
   "outputs": [
    {
     "name": "stdout",
     "output_type": "stream",
     "text": [
      "+-----+----------------------+---------------+---------------+---------------+----------------+---------------+----------------+---------------+-----------------------------+------------------+---------------------------+----------------------------+-----------------+--------------------------+\n",
      "|Papel|Ult_balanco_processado| Valor_da_firma|          Ativo|     Div._Bruta|Disponibilidades|   Div._Liquida|Ativo_Circulante|    Patrim._Liq|Receita_Liquida_ult._12_meses|EBIT_ult._12_meses|Lucro_Liquido_ult._12_meses|Receita_Liquida_ult._3_meses|EBIT_ult._3_meses|Lucro_Liquido_ult._3_meses|\n",
      "+-----+----------------------+---------------+---------------+---------------+----------------+---------------+----------------+---------------+-----------------------------+------------------+---------------------------+----------------------------+-----------------+--------------------------+\n",
      "|PETR4|            31/12/2020|615.116.000.000|987.419.000.000|392.548.000.000|  64.280.000.000|328.268.000.000| 142.323.000.000|308.410.000.000|              272.069.000.000|    93.417.000.000|              7.108.000.000|              74.972.000.000|   33.838.000.000|            59.890.000.000|\n",
      "|VALE3|            31/12/2020|544.906.000.000|478.129.000.000| 78.089.100.000|  70.085.600.000|  8.003.530.000| 126.805.000.000|185.785.000.000|              208.529.000.000|   107.104.000.000|             26.712.700.000|              78.938.200.000|   47.152.400.000|             4.824.830.000|\n",
      "|GGBR4|            31/12/2020| 55.720.300.000| 63.123.000.000| 17.515.400.000|   7.658.350.000|  9.857.000.000|  23.409.500.000| 30.860.300.000|               43.814.700.000|     4.400.170.000|              2.365.760.000|              13.620.200.000|    2.176.850.000|             1.048.330.000|\n",
      "|ITUB4|            31/12/2020|              -|210.399.000.000|           null|            null|           null|            null|136.699.000.000|                         null|              null|             18.961.000.000|                        null|             null|             7.636.000.000|\n",
      "+-----+----------------------+---------------+---------------+---------------+----------------+---------------+----------------+---------------+-----------------------------+------------------+---------------------------+----------------------------+-----------------+--------------------------+\n",
      "\n"
     ]
    }
   ],
   "source": [
    "df_load.show()"
   ]
  },
  {
   "cell_type": "code",
   "execution_count": 70,
   "metadata": {},
   "outputs": [
    {
     "data": {
      "text/html": [
       "<div>\n",
       "<style scoped>\n",
       "    .dataframe tbody tr th:only-of-type {\n",
       "        vertical-align: middle;\n",
       "    }\n",
       "\n",
       "    .dataframe tbody tr th {\n",
       "        vertical-align: top;\n",
       "    }\n",
       "\n",
       "    .dataframe thead th {\n",
       "        text-align: right;\n",
       "    }\n",
       "</style>\n",
       "<table border=\"1\" class=\"dataframe\">\n",
       "  <thead>\n",
       "    <tr style=\"text-align: right;\">\n",
       "      <th></th>\n",
       "      <th>Papel</th>\n",
       "      <th>Ult_balanco_processado</th>\n",
       "      <th>Valor_da_firma</th>\n",
       "      <th>Ativo</th>\n",
       "      <th>Div._Bruta</th>\n",
       "      <th>Disponibilidades</th>\n",
       "      <th>Div._Liquida</th>\n",
       "      <th>Ativo_Circulante</th>\n",
       "      <th>Patrim._Liq</th>\n",
       "      <th>Receita_Liquida_ult._12_meses</th>\n",
       "      <th>EBIT_ult._12_meses</th>\n",
       "      <th>Lucro_Liquido_ult._12_meses</th>\n",
       "      <th>Receita_Liquida_ult._3_meses</th>\n",
       "      <th>EBIT_ult._3_meses</th>\n",
       "      <th>Lucro_Liquido_ult._3_meses</th>\n",
       "    </tr>\n",
       "  </thead>\n",
       "  <tbody>\n",
       "    <tr>\n",
       "      <th>0</th>\n",
       "      <td>PETR4</td>\n",
       "      <td>31/12/2020</td>\n",
       "      <td>615.116.000.000</td>\n",
       "      <td>987.419.000.000</td>\n",
       "      <td>392.548.000.000</td>\n",
       "      <td>64.280.000.000</td>\n",
       "      <td>328.268.000.000</td>\n",
       "      <td>142.323.000.000</td>\n",
       "      <td>308.410.000.000</td>\n",
       "      <td>272.069.000.000</td>\n",
       "      <td>93.417.000.000</td>\n",
       "      <td>7.108.000.000</td>\n",
       "      <td>74.972.000.000</td>\n",
       "      <td>33.838.000.000</td>\n",
       "      <td>59.890.000.000</td>\n",
       "    </tr>\n",
       "    <tr>\n",
       "      <th>1</th>\n",
       "      <td>VALE3</td>\n",
       "      <td>31/12/2020</td>\n",
       "      <td>544.906.000.000</td>\n",
       "      <td>478.129.000.000</td>\n",
       "      <td>78.089.100.000</td>\n",
       "      <td>70.085.600.000</td>\n",
       "      <td>8.003.530.000</td>\n",
       "      <td>126.805.000.000</td>\n",
       "      <td>185.785.000.000</td>\n",
       "      <td>208.529.000.000</td>\n",
       "      <td>107.104.000.000</td>\n",
       "      <td>26.712.700.000</td>\n",
       "      <td>78.938.200.000</td>\n",
       "      <td>47.152.400.000</td>\n",
       "      <td>4.824.830.000</td>\n",
       "    </tr>\n",
       "    <tr>\n",
       "      <th>2</th>\n",
       "      <td>GGBR4</td>\n",
       "      <td>31/12/2020</td>\n",
       "      <td>55.720.300.000</td>\n",
       "      <td>63.123.000.000</td>\n",
       "      <td>17.515.400.000</td>\n",
       "      <td>7.658.350.000</td>\n",
       "      <td>9.857.000.000</td>\n",
       "      <td>23.409.500.000</td>\n",
       "      <td>30.860.300.000</td>\n",
       "      <td>43.814.700.000</td>\n",
       "      <td>4.400.170.000</td>\n",
       "      <td>2.365.760.000</td>\n",
       "      <td>13.620.200.000</td>\n",
       "      <td>2.176.850.000</td>\n",
       "      <td>1.048.330.000</td>\n",
       "    </tr>\n",
       "    <tr>\n",
       "      <th>3</th>\n",
       "      <td>ITUB4</td>\n",
       "      <td>31/12/2020</td>\n",
       "      <td>-</td>\n",
       "      <td>210.399.000.000</td>\n",
       "      <td>None</td>\n",
       "      <td>None</td>\n",
       "      <td>None</td>\n",
       "      <td>None</td>\n",
       "      <td>136.699.000.000</td>\n",
       "      <td>None</td>\n",
       "      <td>None</td>\n",
       "      <td>18.961.000.000</td>\n",
       "      <td>None</td>\n",
       "      <td>None</td>\n",
       "      <td>7.636.000.000</td>\n",
       "    </tr>\n",
       "  </tbody>\n",
       "</table>\n",
       "</div>"
      ],
      "text/plain": [
       "   Papel Ult_balanco_processado   Valor_da_firma            Ativo  \\\n",
       "0  PETR4             31/12/2020  615.116.000.000  987.419.000.000   \n",
       "1  VALE3             31/12/2020  544.906.000.000  478.129.000.000   \n",
       "2  GGBR4             31/12/2020   55.720.300.000   63.123.000.000   \n",
       "3  ITUB4             31/12/2020                -  210.399.000.000   \n",
       "\n",
       "        Div._Bruta Disponibilidades     Div._Liquida Ativo_Circulante  \\\n",
       "0  392.548.000.000   64.280.000.000  328.268.000.000  142.323.000.000   \n",
       "1   78.089.100.000   70.085.600.000    8.003.530.000  126.805.000.000   \n",
       "2   17.515.400.000    7.658.350.000    9.857.000.000   23.409.500.000   \n",
       "3             None             None             None             None   \n",
       "\n",
       "       Patrim._Liq Receita_Liquida_ult._12_meses EBIT_ult._12_meses  \\\n",
       "0  308.410.000.000               272.069.000.000     93.417.000.000   \n",
       "1  185.785.000.000               208.529.000.000    107.104.000.000   \n",
       "2   30.860.300.000                43.814.700.000      4.400.170.000   \n",
       "3  136.699.000.000                          None               None   \n",
       "\n",
       "  Lucro_Liquido_ult._12_meses Receita_Liquida_ult._3_meses EBIT_ult._3_meses  \\\n",
       "0               7.108.000.000               74.972.000.000    33.838.000.000   \n",
       "1              26.712.700.000               78.938.200.000    47.152.400.000   \n",
       "2               2.365.760.000               13.620.200.000     2.176.850.000   \n",
       "3              18.961.000.000                         None              None   \n",
       "\n",
       "  Lucro_Liquido_ult._3_meses  \n",
       "0             59.890.000.000  \n",
       "1              4.824.830.000  \n",
       "2              1.048.330.000  \n",
       "3              7.636.000.000  "
      ]
     },
     "execution_count": 70,
     "metadata": {},
     "output_type": "execute_result"
    }
   ],
   "source": [
    "df_load.toPandas()"
   ]
  }
 ],
 "metadata": {
  "kernelspec": {
   "display_name": "Python 3",
   "language": "python",
   "name": "python3"
  },
  "language_info": {
   "codemirror_mode": {
    "name": "ipython",
    "version": 3
   },
   "file_extension": ".py",
   "mimetype": "text/x-python",
   "name": "python",
   "nbconvert_exporter": "python",
   "pygments_lexer": "ipython3",
   "version": "3.6.9"
  }
 },
 "nbformat": 4,
 "nbformat_minor": 4
}
