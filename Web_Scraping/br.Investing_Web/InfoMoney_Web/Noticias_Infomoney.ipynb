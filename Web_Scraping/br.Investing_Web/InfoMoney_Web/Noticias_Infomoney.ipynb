{
 "cells": [
  {
   "cell_type": "markdown",
   "metadata": {},
   "source": [
    "## Imports"
   ]
  },
  {
   "cell_type": "code",
   "execution_count": 106,
   "metadata": {},
   "outputs": [],
   "source": [
    "import io\n",
    "import os.path\n",
    "from scrapy import Selector\n",
    "from datetime import date, datetime\n",
    "from urllib.request import Request, urlopen"
   ]
  },
  {
   "cell_type": "markdown",
   "metadata": {},
   "source": [
    "## Receber notícia no InfoMoney pelo Web Scraping do br.Investing"
   ]
  },
  {
   "cell_type": "code",
   "execution_count": 135,
   "metadata": {},
   "outputs": [],
   "source": [
    "url_noticias = 'https://www.infomoney.com.br/onde-investir/destaque-de-2020-fundos-imobiliarios-de-recebiveis-ampliam-escopo-e-trocam-igp-m-por-ipca-em-2021/'\n",
    "\n",
    "req = Request(url_noticias, headers={'User-Agent': 'Mozilla/5.0'})\n",
    "\n",
    "response = urlopen(req, timeout=20).read()\n",
    "#noticia_html= response.decode('latin-1')\n",
    "noticia_html= response.decode('utf8')"
   ]
  },
  {
   "cell_type": "markdown",
   "metadata": {},
   "source": [
    "## Fazendo Web Scraping da noticia"
   ]
  },
  {
   "cell_type": "code",
   "execution_count": 136,
   "metadata": {},
   "outputs": [],
   "source": [
    "sel_noticia = Selector( text = noticia_html )"
   ]
  },
  {
   "cell_type": "code",
   "execution_count": 137,
   "metadata": {},
   "outputs": [
    {
     "name": "stdout",
     "output_type": "stream",
     "text": [
      "['23 fev 2021 14h02']\n"
     ]
    }
   ],
   "source": [
    "data_original = sel_noticia.xpath(\"//span[@class='article-date']//time/text()\").extract()\n",
    "print(data_original)"
   ]
  },
  {
   "cell_type": "code",
   "execution_count": 138,
   "metadata": {},
   "outputs": [
    {
     "data": {
      "text/plain": [
       "['https://www.infomoney.com.br/autor/beatriz-cutait/',\n",
       " '\\n\\t\\t\\t\\t\\tBeatriz Cutait\\t\\t\\t\\t']"
      ]
     },
     "execution_count": 138,
     "metadata": {},
     "output_type": "execute_result"
    }
   ],
   "source": [
    "autor_noticia = sel_noticia.xpath(\"//span[@class='author-name']/a/@href | //span[@class='author-name']/a/text()\").extract()\n",
    "autor_noticia"
   ]
  },
  {
   "cell_type": "code",
   "execution_count": 139,
   "metadata": {},
   "outputs": [
    {
     "data": {
      "text/plain": [
       "['Destaque de 2020, fundos imobiliários de recebíveis ampliam escopo e trocam IGP-M por IPCA em 2021']"
      ]
     },
     "execution_count": 139,
     "metadata": {},
     "output_type": "execute_result"
    }
   ],
   "source": [
    "titulo_noticia = sel_noticia.xpath(\"//h1[@class='page-title-1']/text()\").extract()\n",
    "titulo_noticia"
   ]
  },
  {
   "cell_type": "code",
   "execution_count": 140,
   "metadata": {},
   "outputs": [
    {
     "data": {
      "text/plain": [
       "['Segmento apontado como defensivo lidera as indicações de melhores fundos imobiliários em ranking do InfoMoney']"
      ]
     },
     "execution_count": 140,
     "metadata": {},
     "output_type": "execute_result"
    }
   ],
   "source": [
    "sub_titulo_noticia = sel_noticia.xpath(\"//p[@class='article-lead']/text()\").extract()\n",
    "sub_titulo_noticia"
   ]
  },
  {
   "cell_type": "code",
   "execution_count": 141,
   "metadata": {},
   "outputs": [
    {
     "data": {
      "text/plain": [
       "['SÃO PAULO – Com mais de 500 mil novos investidores de fundos imobiliários na Bolsa brasileira em 2020, a crise despertada pela pandemia de coronavírus foi um teste de fogo para a paciência e o foco da pessoa física nesse mercado.',\n",
       " 'Depois de cinco anos seguidos de alta, o Ifix, índice de fundos imobiliários, registrou queda de 10,2% no ano passado, com os ativos pressionados pelo freio imposto à atividade econômica global.',\n",
       " 'Há, contudo, uma categoria que conseguiu se diferenciar das demais, como uma espécie de meio do caminho entre a renda fixa e a renda variável: a dos fundos imobiliários de recebíveis, também chamados de fundos de papel.',\n",
       " 'Em vez de comprar imóveis, esses fundos investem em títulos ligados ao mercado imobiliário, como letras de crédito imobiliário (LCIs), letras hipotecárias (LHs), cotas de outros fundos imobiliários, certificados de recebíveis imobiliários (CRI), entre outros ativos, o que inclui até mesmo ações de empresas que atuam no mercado.',\n",
       " 'Por meio desses veículos, gestores conseguem acessar ofertas muitas vezes restritas a um pequeno grupo de investidores e indisponíveis para a maior parcela de pessoas físicas atuantes na B3.',\n",
       " 'A maior pulverização do risco das carteiras e a ausência de impacto da taxa de vacância estão entre as razões que justificam o caráter mais defensivo dos fundos de papel na comparação com os fundos de laje, cujo foco está na geração de renda a partir de imóveis como escritórios, shoppings ou galpões logísticos, diz Rafael Selegatto, sócio responsável pela gestão e análise de crédito da Iridium.',\n",
       " 'E ele ressalta que uma terceira dinâmica responsável por ajudar os fundos de recebíveis envolve o repasse da inflação mês a mês. O Índice Geral de Preços – Mercado (IGP-M), rotineiramente utilizado no reajuste de contratos de aluguel, registrou inflação de nada menos que 25,31% em 12 meses até janeiro.',\n",
       " 'Os ',\n",
       " ', títulos securitizados de renda fixa, tão presentes nas carteiras dos fundos imobiliários de papel, “engordam”, assim, de acordo com a inflação, frisa Selegatto. Securitizar é o mesmo que transformar créditos a receber – como parcelas de uma venda a prazo ou pagamentos de um financiamento – em papéis que podem ser comprados por investidores e negociados no mercado.',\n",
       " 'Ainda que esse nível de aumento de preços não deva se manter no futuro, o gestor da Iridium não espera mudanças significativas no que tange à dinâmica de crédito e de vacância dos imóveis, com vantagem frente às incertezas com relação ao futuro de shoppings e escritórios, por exemplo.',\n",
       " 'Um dos finalistas do ',\n",
       " ' de melhores fundos, o Iridium Recebíveis Imobiliários (',\n",
       " ') concentra a carteira em CRIs, mas também tem atualmente cerca de 30% em outros fundos imobiliários. A estratégia se tornou ainda mais clara na crise, quando ficou mais barato comprar cotas de outros FIIs do que CRIs, assinala o gestor.',\n",
       " 'Dentro do ranking, dos dez finalistas da categoria de fundos imobiliários, oito são de recebíveis.',\n",
       " 'Durante a crise, o único tipo de fundo que a Iridium não comprou foi justamente o de papel, dados os níveis de preço mais elevados e o menor potencial de valorização.',\n",
       " 'Hoje contudo, a categoria já domina esse segmento da carteira, com nomes como Hectare Crédito Estruturado (',\n",
       " '), Devant Recebíveis Imobiliários (',\n",
       " ') e Tordesilhas EI (',\n",
       " ').',\n",
       " '“Acredito que o futuro dos FIIs não será mais de monosegmentos, será quase um ',\n",
       " ' imobiliário, com mandato para fazer mais coisas”, avalia Selegatto.',\n",
       " 'Não à toa, o próprio IRDM11 poderá começar em breve a ter ações de empresas imobiliárias no fundo, como de investimento em imóveis comerciais, incorporadoras ou construtoras. O Iridium Recebíveis Imobiliários rende 25,7% em 12 meses, na B3.',\n",
       " 'A Hectare Capital também está em processo de mudanças em seu fundo, porém relacionadas à indexação dos contratos.',\n",
       " 'A gestora captou R$ 300 milhões em dezembro na sétima emissão de cotas e alocou os recursos em papéis atrelados ao IPCA. Até então, o IGP-M era responsável por cerca de metade do portfólio, com uma participação que caiu para 35% com a mudança, imposta pelo próprio mercado.',\n",
       " '“Ninguém quer IGP-M nas novas operações. E preferimos estar em um índice menos volátil, que vai estressar menos a operação”, assinala Eduardo Malheiros, sócio diretor da Hectare.',\n",
       " 'O HCTR11, também um dos finalistas do ranking InfoMoney-Ibmec de melhores fundos, tem cerca de 30 operações na carteira, com 95% alocados em CRIs. Ele rende 22,7% em 12 meses, na B3.',\n",
       " 'Malheiros também atribui à inflação grande parte da performance positiva dos fundos de papéis em 2020, e destaca que, mesmo com operações que se deterioraram, esses produtos conseguiram manter o fluxo de pagamento com os CRIs.',\n",
       " '“Em geral, o CRI tem mais amortecedor para tomar pancada e o carro não quebrar, em comparação a um imóvel, em que o inquilino perde receita. Há uma pulverização maior dos ativos,” observa.',\n",
       " 'Renato Iversson, da Taler, conta que a gestora de patrimônio tem desde 2018 uma parceria com a RB Capital para oferecer um fundo de fundos imobiliários aos clientes interessados no mercado, especialmente os que têm foco na preservação e na geração de renda.',\n",
       " 'O portfólio é voltado principalmente para a distribuição de dividendos e tem como base os fundos de recebíveis, apontados como mais defensíveis por Iversson e também com acesso diferenciado às emissões de papéis.',\n",
       " 'São cerca de 20 FIIs no portfólio, cujo investimento inicial começa em R$ 1 milhão.',\n",
       " 'Ainda que o horizonte siga favorável para o segmento, Selegatto, da Iridium, se preocupa com a popularização do mercado e com os sinais do que ele considera ser um excesso de otimismo, em meio ao receio de que novos entrantes mais “agressivos” pressionem a qualidade das operações.',\n",
       " '“Fundo de CRI virou moda, e tem uma dinâmica ampla de escopo, pode ser ultraconservador e muito agressivo”, diz. “Não acho que o crédito esteja piorando nesse momento, mas algumas operações estão começando a baixar a barra de qualidade. Estamos começando a ver o mercado mais tomador de risco do que entendemos ser favorável.”',\n",
       " 'Por isso é que ele ressalta ser mais importante do que nunca estar atento à gestão dos fundos, para poder separar “o joio do trigo”. Especialmente com tantos cotistas novos de FIIs. Só na base da Iridium, o gestor conta ter aproximadamente 140 mil investidores, com grande parte ainda pouco preparada.',\n",
       " 'Malheiros compartilha da preocupação de Selegatto com relação ao crescimento acelerado do segmento. “Está muito fácil para um fundo levantar dinheiro, então pode atrair gestores menos diligentes e competentes, com alguma alocação mal executada”, avalia o sócio da Hectare.',\n",
       " 'Selegatto e Malheiros participam de painel nesta quarta-feira (23), às 19h, do evento online e gratuito ',\n",
       " ', para debater o mercado de fundos imobiliários.',\n",
       " 'Para participar, conferir os eleitos, ser avisado sobre a agenda e receber posteriormente um compilado com as melhores recomendações de investimento debatidas nos painéis, deixe seu e-mail abaixo.']"
      ]
     },
     "execution_count": 141,
     "metadata": {},
     "output_type": "execute_result"
    }
   ],
   "source": [
    "texto_noticia = sel_noticia.xpath(\"//div[@class='col-md-9 col-lg-8 col-xl-6  m-sm-auto m-lg-0 article-content']/p/text()\").extract()\n",
    "texto_noticia"
   ]
  },
  {
   "cell_type": "code",
   "execution_count": null,
   "metadata": {},
   "outputs": [],
   "source": []
  },
  {
   "cell_type": "code",
   "execution_count": null,
   "metadata": {},
   "outputs": [],
   "source": []
  }
 ],
 "metadata": {
  "kernelspec": {
   "display_name": "Python 3",
   "language": "python",
   "name": "python3"
  },
  "language_info": {
   "codemirror_mode": {
    "name": "ipython",
    "version": 3
   },
   "file_extension": ".py",
   "mimetype": "text/x-python",
   "name": "python",
   "nbconvert_exporter": "python",
   "pygments_lexer": "ipython3",
   "version": "3.6.9"
  }
 },
 "nbformat": 4,
 "nbformat_minor": 4
}
