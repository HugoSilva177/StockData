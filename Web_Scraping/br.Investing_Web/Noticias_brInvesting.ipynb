{
 "cells": [
  {
   "cell_type": "markdown",
   "metadata": {},
   "source": [
    "## Imports"
   ]
  },
  {
   "cell_type": "code",
   "execution_count": 2,
   "metadata": {},
   "outputs": [],
   "source": [
    "import io\n",
    "import os.path\n",
    "from scrapy import Selector\n",
    "from datetime import date, datetime\n",
    "from urllib.request import Request, urlopen"
   ]
  },
  {
   "cell_type": "markdown",
   "metadata": {},
   "source": [
    "## Buscando lista de novas notícias no br.Investing"
   ]
  },
  {
   "cell_type": "code",
   "execution_count": 3,
   "metadata": {},
   "outputs": [],
   "source": [
    "#url_novas_noticias = 'https://www.infomoney.com.br/mercados/'\n",
    "## Todas Notícia sobre o mercado\n",
    "#url_novas_noticias = 'https://br.investing.com/news/stock-market-news'\n",
    "\n",
    "# Notícia sobre empresa especifica\n",
    "url_papel = 'petrobras-pn-news'\n",
    "url_novas_noticias = 'https://br.investing.com/equities/' + url_papel\n",
    "\n",
    "req = Request(url_novas_noticias, headers={'User-Agent': 'Mozilla/5.0'})\n",
    "\n",
    "response = urlopen(req, timeout=20).read()\n",
    "novas_noticias_html= response.decode('latin-1')\n",
    "#novas_noticias_html= response.decode('utf8')"
   ]
  },
  {
   "cell_type": "code",
   "execution_count": 4,
   "metadata": {},
   "outputs": [],
   "source": [
    "sel_noticias = Selector( text = novas_noticias_html )"
   ]
  },
  {
   "cell_type": "code",
   "execution_count": 6,
   "metadata": {},
   "outputs": [
    {
     "data": {
      "text/plain": [
       "[<Selector xpath=\"//div[@class='mediumTitle1']/article\" data='<article class=\"js-article-item artic...'>,\n",
       " <Selector xpath=\"//div[@class='mediumTitle1']/article\" data='<article class=\"js-article-item artic...'>,\n",
       " <Selector xpath=\"//div[@class='mediumTitle1']/article\" data='<article class=\"js-external-link-wrap...'>,\n",
       " <Selector xpath=\"//div[@class='mediumTitle1']/article\" data='<article class=\"js-external-link-wrap...'>,\n",
       " <Selector xpath=\"//div[@class='mediumTitle1']/article\" data='<article class=\"js-external-link-wrap...'>,\n",
       " <Selector xpath=\"//div[@class='mediumTitle1']/article\" data='<article class=\"js-external-link-wrap...'>,\n",
       " <Selector xpath=\"//div[@class='mediumTitle1']/article\" data='<article class=\"js-article-item artic...'>,\n",
       " <Selector xpath=\"//div[@class='mediumTitle1']/article\" data='<article class=\"js-external-link-wrap...'>,\n",
       " <Selector xpath=\"//div[@class='mediumTitle1']/article\" data='<article class=\"js-external-link-wrap...'>,\n",
       " <Selector xpath=\"//div[@class='mediumTitle1']/article\" data='<article class=\"js-external-link-wrap...'>]"
      ]
     },
     "execution_count": 6,
     "metadata": {},
     "output_type": "execute_result"
    }
   ],
   "source": [
    "sel_noticias.xpath(\"//div[@class='mediumTitle1']/article\")"
   ]
  },
  {
   "cell_type": "code",
   "execution_count": 8,
   "metadata": {},
   "outputs": [
    {
     "data": {
      "text/plain": [
       "['/news/stock-market-news/petrobras-convoca-assembleia-para-12-de-abril-para-debater-troca-de-ceo-840903',\n",
       " '/news/stock-market-news/eneva-tem-lucro-liquido-recorde-de-r6865-mi-no-4o-tri-840877',\n",
       " 'https://invst.ly/u3zrl',\n",
       " 'https://invst.ly/u3zrp',\n",
       " 'https://invst.ly/u40b8',\n",
       " 'https://invst.ly/u40as',\n",
       " '/news/stock-market-news/com-ny-e-foco-na-pec-emergencial-bolsa-fecha-em-alta-de-130-840776',\n",
       " 'https://invst.ly/u3rol',\n",
       " 'https://invst.ly/u3rom',\n",
       " 'https://invst.ly/u3rie']"
      ]
     },
     "execution_count": 8,
     "metadata": {},
     "output_type": "execute_result"
    }
   ],
   "source": [
    "sel_noticias.xpath(\"//div[@class='mediumTitle1']/article/a/@href\").extract()"
   ]
  },
  {
   "cell_type": "code",
   "execution_count": 12,
   "metadata": {},
   "outputs": [],
   "source": [
    "lista_url_noticias = sel_noticias.xpath(\"//div[@class='mediumTitle1']/article/a/@href\").extract()"
   ]
  },
  {
   "cell_type": "code",
   "execution_count": 13,
   "metadata": {},
   "outputs": [],
   "source": [
    "lista_url_noticias_brinvesting = []\n",
    "lista_url_noticias_outras_fontes = []\n",
    "\n",
    "for url_noticia in lista_url_noticias:\n",
    "    if url_noticia.startswith(\"/\"):\n",
    "        url_noticia = \"https://br.investing.com\" + url_noticia\n",
    "        lista_url_noticias_brinvesting.append(url_noticia)\n",
    "    else:\n",
    "        lista_url_noticias_outras_fontes.append(url_noticia)"
   ]
  },
  {
   "cell_type": "code",
   "execution_count": 14,
   "metadata": {},
   "outputs": [
    {
     "data": {
      "text/plain": [
       "['https://br.investing.com/news/stock-market-news/petrobras-convoca-assembleia-para-12-de-abril-para-debater-troca-de-ceo-840903',\n",
       " 'https://br.investing.com/news/stock-market-news/eneva-tem-lucro-liquido-recorde-de-r6865-mi-no-4o-tri-840877',\n",
       " 'https://br.investing.com/news/stock-market-news/com-ny-e-foco-na-pec-emergencial-bolsa-fecha-em-alta-de-130-840776']"
      ]
     },
     "execution_count": 14,
     "metadata": {},
     "output_type": "execute_result"
    }
   ],
   "source": [
    "lista_url_noticias_brinvesting"
   ]
  },
  {
   "cell_type": "code",
   "execution_count": 15,
   "metadata": {},
   "outputs": [
    {
     "data": {
      "text/plain": [
       "3"
      ]
     },
     "execution_count": 15,
     "metadata": {},
     "output_type": "execute_result"
    }
   ],
   "source": [
    "len(lista_url_noticias_brinvesting)"
   ]
  },
  {
   "cell_type": "markdown",
   "metadata": {},
   "source": [
    "## Conexão MongoDB"
   ]
  },
  {
   "cell_type": "code",
   "execution_count": null,
   "metadata": {},
   "outputs": [],
   "source": [
    "from pymongo import MongoClient\n",
    "\n",
    "def conexao_banco_mongodb():    \n",
    "    cliente = MongoClient('localhost', 27017)\n",
    "    cliente = MongoClient('mongodb://localhost:27017/')\n",
    "    banco = cliente['noticias']\n",
    "    \n",
    "    return banco\n",
    "\n",
    "conexao_banco_mongodb = conexao_banco_mongodb()"
   ]
  },
  {
   "cell_type": "markdown",
   "metadata": {},
   "source": [
    "### Inserindo dados no MongoDB"
   ]
  },
  {
   "cell_type": "code",
   "execution_count": null,
   "metadata": {},
   "outputs": [],
   "source": [
    "import datetime\n",
    "\n",
    "def inserir_dados_noticias_mongodb():\n",
    "    noticia = {\n",
    "        \"url_noticia\": url_noticia,\n",
    "        \"data_hora_noticia\": datetime.datetime(*data_hora_list),\n",
    "        \"titulo_noticia\": titulo_noticia,\n",
    "        \"texto_noticia\": texto_noticia\n",
    "    }\n",
    "    colecao = banco.noticias\n",
    "    noticia_id = colecao.insert_one(noticia).inserted_id\n",
    "    return noticia_id"
   ]
  },
  {
   "cell_type": "markdown",
   "metadata": {},
   "source": [
    "### Pesquisando dados no MongoDB"
   ]
  },
  {
   "cell_type": "code",
   "execution_count": null,
   "metadata": {},
   "outputs": [],
   "source": []
  },
  {
   "cell_type": "code",
   "execution_count": null,
   "metadata": {},
   "outputs": [],
   "source": []
  },
  {
   "cell_type": "markdown",
   "metadata": {},
   "source": [
    "## Gravando notícias novas no MongoDB"
   ]
  },
  {
   "cell_type": "code",
   "execution_count": 16,
   "metadata": {},
   "outputs": [],
   "source": [
    "def baixar_html_noticia(url_noticia):\n",
    "    req = Request(url_noticia, headers={'User-Agent': 'Mozilla/5.0'})\n",
    "    response = urlopen(req, timeout=20).read()\n",
    "    noticia_html= response.decode('utf8')\n",
    "    sel_noticia = Selector( text = noticia_html )\n",
    "    \n",
    "    return sel_noticia\n",
    "\n",
    "def formatar_data_hora_noticia(sel_noticia):\n",
    "    import re\n",
    "    import datetime\n",
    "\n",
    "    data_hora = sel_noticia.xpath(\"//div[@class='contentSectionDetails']/span/text()\").extract()\n",
    "    data_hora = data_hora[0]\n",
    "\n",
    "    data_hora = re.search(r'\\((.*?)\\)', data_hora).group(1).split(' ')\n",
    "\n",
    "    data_hora_list = []\n",
    "    data = data_hora[0].split('.')\n",
    "    data_hora_list.append(int(data[2]))\n",
    "    data_hora_list.append(int(data[1]))\n",
    "    data_hora_list.append(int(data[0]))\n",
    "\n",
    "    horario = data_hora[1].split(':')\n",
    "    data_hora_list.append(int(horario[0]))\n",
    "    data_hora_list.append(int(horario[1]))\n",
    "\n",
    "    return datetime.datetime(*data_hora_list)\n",
    "\n",
    "def gravar_dados_noticia_mongodb(noticia):\n",
    "    from pymongo import MongoClient\n",
    "\n",
    "    cliente = MongoClient('localhost', 27017)\n",
    "    cliente = MongoClient('mongodb://localhost:27017/')\n",
    "    banco = cliente['noticias']\n",
    "    \n",
    "    colecao = conexao_banco_mongodb.noticias\n",
    "    colecao.insert_one(noticia)\n",
    "    \n",
    "\n",
    "def coletar_dados_noticia(url_noticia):\n",
    "    sel_noticia = baixar_html_noticia(url_noticia)\n",
    "    data_hora_noticia = formatar_data_hora_noticia(sel_noticia)\n",
    "    \n",
    "    titulo_noticia = sel_noticia.xpath(\"//h1[@class='articleHeader']/text()\").extract()[0]\n",
    "    \n",
    "    texto_noticia = sel_noticia.xpath(\"//div[@class='WYSIWYG articlePage']/p/text()\").extract()\n",
    "    texto_noticia = ' '.join(texto_noticia)\n",
    "    \n",
    "    noticia = {\n",
    "        \"url_noticia\": url_noticia,\n",
    "        \"data_hora_noticia\": data_hora_noticia,\n",
    "        \"titulo_noticia\": titulo_noticia,\n",
    "        \"texto_noticia\": texto_noticia\n",
    "    }\n",
    "    \n",
    "    gravar_dados_noticia_mongodb(noticia)\n",
    "\n",
    "def percorrer_lista_url_noticias(lista_url_noticias_brinvesting):\n",
    "    colecao = conexao_banco_mongodb.noticias\n",
    "    for url_noticia in lista_url_noticias_brinvesting:\n",
    "        if colecao.count_documents({'url_noticia':url_noticia}):\n",
    "            break\n",
    "        else:\n",
    "            coletar_dados_noticia(url_noticia)"
   ]
  },
  {
   "cell_type": "code",
   "execution_count": 17,
   "metadata": {},
   "outputs": [
    {
     "ename": "NameError",
     "evalue": "name 'colecao' is not defined",
     "output_type": "error",
     "traceback": [
      "\u001b[0;31m---------------------------------------------------------------------------\u001b[0m",
      "\u001b[0;31mNameError\u001b[0m                                 Traceback (most recent call last)",
      "\u001b[0;32m<ipython-input-17-5acfb265821e>\u001b[0m in \u001b[0;36m<module>\u001b[0;34m\u001b[0m\n\u001b[0;32m----> 1\u001b[0;31m \u001b[0mpercorrer_lista_url_noticias\u001b[0m\u001b[0;34m(\u001b[0m\u001b[0mlista_url_noticias_brinvesting\u001b[0m\u001b[0;34m)\u001b[0m\u001b[0;34m\u001b[0m\u001b[0;34m\u001b[0m\u001b[0m\n\u001b[0m",
      "\u001b[0;32m<ipython-input-16-45c012692fe6>\u001b[0m in \u001b[0;36mpercorrer_lista_url_noticias\u001b[0;34m(lista_url_noticias_brinvesting)\u001b[0m\n\u001b[1;32m     59\u001b[0m \u001b[0;32mdef\u001b[0m \u001b[0mpercorrer_lista_url_noticias\u001b[0m\u001b[0;34m(\u001b[0m\u001b[0mlista_url_noticias_brinvesting\u001b[0m\u001b[0;34m)\u001b[0m\u001b[0;34m:\u001b[0m\u001b[0;34m\u001b[0m\u001b[0;34m\u001b[0m\u001b[0m\n\u001b[1;32m     60\u001b[0m     \u001b[0;32mfor\u001b[0m \u001b[0murl_noticia\u001b[0m \u001b[0;32min\u001b[0m \u001b[0mlista_url_noticias_brinvesting\u001b[0m\u001b[0;34m:\u001b[0m\u001b[0;34m\u001b[0m\u001b[0;34m\u001b[0m\u001b[0m\n\u001b[0;32m---> 61\u001b[0;31m         \u001b[0;32mif\u001b[0m \u001b[0mcolecao\u001b[0m\u001b[0;34m.\u001b[0m\u001b[0mcount_documents\u001b[0m\u001b[0;34m(\u001b[0m\u001b[0;34m{\u001b[0m\u001b[0;34m'url_noticia'\u001b[0m\u001b[0;34m:\u001b[0m\u001b[0murl_noticia\u001b[0m\u001b[0;34m}\u001b[0m\u001b[0;34m)\u001b[0m\u001b[0;34m:\u001b[0m\u001b[0;34m\u001b[0m\u001b[0;34m\u001b[0m\u001b[0m\n\u001b[0m\u001b[1;32m     62\u001b[0m             \u001b[0;32mbreak\u001b[0m\u001b[0;34m\u001b[0m\u001b[0;34m\u001b[0m\u001b[0m\n\u001b[1;32m     63\u001b[0m         \u001b[0;32melse\u001b[0m\u001b[0;34m:\u001b[0m\u001b[0;34m\u001b[0m\u001b[0;34m\u001b[0m\u001b[0m\n",
      "\u001b[0;31mNameError\u001b[0m: name 'colecao' is not defined"
     ]
    }
   ],
   "source": [
    "percorrer_lista_url_noticias(lista_url_noticias_brinvesting)"
   ]
  },
  {
   "cell_type": "code",
   "execution_count": null,
   "metadata": {},
   "outputs": [],
   "source": []
  },
  {
   "cell_type": "markdown",
   "metadata": {},
   "source": [
    "# Funções para transformar os dados"
   ]
  },
  {
   "cell_type": "code",
   "execution_count": 24,
   "metadata": {},
   "outputs": [],
   "source": [
    "def transformar_lista_em_tuples(noticia_dados):\n",
    "    noticia_dados_list = []\n",
    "    noticia_dados_list.append(tuple(noticia_dados))\n",
    "    return noticia_dados_list"
   ]
  },
  {
   "cell_type": "code",
   "execution_count": null,
   "metadata": {},
   "outputs": [],
   "source": [
    "noticia_dados = transformar_lista_em_tuples(noticia_dados)\n",
    "noticia_dados"
   ]
  },
  {
   "cell_type": "markdown",
   "metadata": {},
   "source": [
    "# Acesso ao HDFS server (Write and Read)\n",
    "## Criando uma Spark Session"
   ]
  },
  {
   "cell_type": "code",
   "execution_count": 19,
   "metadata": {},
   "outputs": [],
   "source": [
    "from pyspark.sql import SparkSession\n",
    "sparkSession = SparkSession.builder.appName(\"write-read-brinvesting-hdfs\").getOrCreate()"
   ]
  },
  {
   "cell_type": "markdown",
   "metadata": {},
   "source": [
    "## Write Spark DataFrame da Notícia"
   ]
  },
  {
   "cell_type": "code",
   "execution_count": 26,
   "metadata": {},
   "outputs": [
    {
     "data": {
      "text/plain": [
       "DataFrame[url: string, data_hora: string, titulo: string, texto: string]"
      ]
     },
     "execution_count": 26,
     "metadata": {},
     "output_type": "execute_result"
    }
   ],
   "source": [
    "df = sparkSession.createDataFrame(noticia_dados, noticia_label)\n",
    "df"
   ]
  },
  {
   "cell_type": "code",
   "execution_count": 28,
   "metadata": {},
   "outputs": [],
   "source": [
    "df.write.save('hdfs://172.17.177.40:9000/user/hadoopuser/brInvesting/noticias/stock_market_news', format='parquet', mode='append')"
   ]
  },
  {
   "cell_type": "code",
   "execution_count": 29,
   "metadata": {},
   "outputs": [],
   "source": [
    "df_load = sparkSession.read.format('parquet').load('hdfs://172.17.177.40:9000/user/hadoopuser/brInvesting/noticias/stock_market_news')"
   ]
  },
  {
   "cell_type": "code",
   "execution_count": 30,
   "metadata": {},
   "outputs": [
    {
     "name": "stdout",
     "output_type": "stream",
     "text": [
      "+--------------------+--------------------+--------------------+--------------------+\n",
      "|                 url|           data_hora|              titulo|               texto|\n",
      "+--------------------+--------------------+--------------------+--------------------+\n",
      "|https://br.invest...|3 horas atrás (02...|Ross Stores: lucr...|Investing.com - R...|\n",
      "+--------------------+--------------------+--------------------+--------------------+\n",
      "\n"
     ]
    }
   ],
   "source": [
    "df_load.show()"
   ]
  },
  {
   "cell_type": "code",
   "execution_count": 31,
   "metadata": {},
   "outputs": [
    {
     "data": {
      "text/html": [
       "<div>\n",
       "<style scoped>\n",
       "    .dataframe tbody tr th:only-of-type {\n",
       "        vertical-align: middle;\n",
       "    }\n",
       "\n",
       "    .dataframe tbody tr th {\n",
       "        vertical-align: top;\n",
       "    }\n",
       "\n",
       "    .dataframe thead th {\n",
       "        text-align: right;\n",
       "    }\n",
       "</style>\n",
       "<table border=\"1\" class=\"dataframe\">\n",
       "  <thead>\n",
       "    <tr style=\"text-align: right;\">\n",
       "      <th></th>\n",
       "      <th>url</th>\n",
       "      <th>data_hora</th>\n",
       "      <th>titulo</th>\n",
       "      <th>texto</th>\n",
       "    </tr>\n",
       "  </thead>\n",
       "  <tbody>\n",
       "    <tr>\n",
       "      <th>0</th>\n",
       "      <td>https://br.investing.com/news/stock-market-new...</td>\n",
       "      <td>3 horas atrás (02.03.2021 18:05)</td>\n",
       "      <td>Ross Stores: lucros e receita ficaram abaixo c...</td>\n",
       "      <td>Investing.com - Ross Stores (NASDAQ: ) publico...</td>\n",
       "    </tr>\n",
       "  </tbody>\n",
       "</table>\n",
       "</div>"
      ],
      "text/plain": [
       "                                                 url  \\\n",
       "0  https://br.investing.com/news/stock-market-new...   \n",
       "\n",
       "                          data_hora  \\\n",
       "0  3 horas atrás (02.03.2021 18:05)   \n",
       "\n",
       "                                              titulo  \\\n",
       "0  Ross Stores: lucros e receita ficaram abaixo c...   \n",
       "\n",
       "                                               texto  \n",
       "0  Investing.com - Ross Stores (NASDAQ: ) publico...  "
      ]
     },
     "execution_count": 31,
     "metadata": {},
     "output_type": "execute_result"
    }
   ],
   "source": [
    "df_load.toPandas()"
   ]
  },
  {
   "cell_type": "code",
   "execution_count": 32,
   "metadata": {},
   "outputs": [
    {
     "data": {
      "text/plain": [
       "'Investing.com - Ross Stores (NASDAQ: ) publicou nesta terça-feira o   do quarto trimestre e mostrou lucro que ficou mais fraco do que as projeções dos analistas. A receita ficou menor do que a mediana das previsões. A empresa divulgou que o lucro por ação (LPA) foi de US$ 0,67, resultado que ficou mais fraco do que as previsões dos analistas que apostavam em LPA de US$ 1. \\xa0 A receita do\\xa0quarto trimestre alcançou US$ 4,25B.\\xa0 A expectativa dos analistas do mercado era de receita de US$ 4,27B. No ano, as ações da empresa estão em queda de 4%, desempenho menor do que o   que acumula uma alta de 3% desde janeiro. O resultado da companhia sai após outros balanços importantes de Serviços neste mês.    - Em 2 de fevereiro, Amazon.com também publicou seu balanço, com LPA de US$ 14,09 e receita de US$ 125,56B, comparados a previsões de LPA de US$ 7,19 e receita de US$ 119,7B.  - O balanço publicado em 2 de fevereiro mostrou lucro por ação de US$ 22,03, que\\xa0 superou das expectativas dos analistas de US$ 20,59. A receita ficou em US$ 221,08B, contra projeções de US$ 214,17B'"
      ]
     },
     "execution_count": 32,
     "metadata": {},
     "output_type": "execute_result"
    }
   ],
   "source": [
    "df_load.toPandas()['texto'].values[0]"
   ]
  },
  {
   "cell_type": "markdown",
   "metadata": {},
   "source": [
    "# Acesso ao MongoDB"
   ]
  },
  {
   "cell_type": "markdown",
   "metadata": {},
   "source": [
    "## Inserindo Documento no Mongo"
   ]
  },
  {
   "cell_type": "markdown",
   "metadata": {},
   "source": [
    "### Inserindo apenas um documento"
   ]
  },
  {
   "cell_type": "code",
   "execution_count": 29,
   "metadata": {},
   "outputs": [],
   "source": [
    "\n",
    "    "
   ]
  },
  {
   "cell_type": "code",
   "execution_count": 30,
   "metadata": {},
   "outputs": [
    {
     "data": {
      "text/plain": [
       "ObjectId('60402542b489f7baa8475c7b')"
      ]
     },
     "execution_count": 30,
     "metadata": {},
     "output_type": "execute_result"
    }
   ],
   "source": [
    "colecao = banco.noticias\n",
    "noticia_id = colecao.insert_one(noticia).inserted_id\n",
    "noticia_id"
   ]
  },
  {
   "cell_type": "markdown",
   "metadata": {},
   "source": [
    "### Inserindo uma lista de documentos"
   ]
  },
  {
   "cell_type": "code",
   "execution_count": 35,
   "metadata": {},
   "outputs": [],
   "source": [
    "musicas = [\n",
    "    {\n",
    "        \"_id\": 1,\n",
    "        \"nome\": \"Radioactive\",\n",
    "        \"banda\": \"Imagine Dragons\",\n",
    "        \"categorias\": [\"indie\", \"rock\"],\n",
    "        \"lancamento\": datetime.datetime.now()\n",
    "    },\n",
    "    {\n",
    "        \"_id\": 2,\n",
    "        \"nome\": \"Hear Me\",\n",
    "        \"banda\": \"Imagine Dragons\",\n",
    "        \"categorias\": [\"indie\", \"rock\"],\n",
    "        \"lancamento\": datetime.datetime.now()\n",
    "    },\n",
    "    {\n",
    "        \"_id\": 3,\n",
    "        \"nome\": \"Demons\",\n",
    "        \"banda\": \"Imagine Dragons\",\n",
    "        \"categorias\": [\"indie\", \"rock\"],\n",
    "        \"lancamento\": datetime.datetime.now()\n",
    "    },\n",
    "    {\n",
    "        \"_id\": 4,\n",
    "        \"nome\": \"Nothing Left To Say\",\n",
    "        \"banda\": \"Imagine Dragons\",\n",
    "        \"categorias\": [\"indie\", \"rock\"],\n",
    "        \"lancamento\": datetime.datetime.now()\n",
    "    },\n",
    "    {\n",
    "        \"_id\": 5,\n",
    "        \"nome\": \"Amsterdam\",\n",
    "        \"banda\": \"Imagine Dragons\",\n",
    "        \"categorias\": [\"indie\", \"rock\"],\n",
    "        \"lancamento\": datetime.datetime.now()\n",
    "    }]"
   ]
  },
  {
   "cell_type": "code",
   "execution_count": 36,
   "metadata": {},
   "outputs": [
    {
     "data": {
      "text/plain": [
       "<pymongo.results.InsertManyResult at 0x7f80b0392bc8>"
      ]
     },
     "execution_count": 36,
     "metadata": {},
     "output_type": "execute_result"
    }
   ],
   "source": [
    "#colecao.insert_many(musicas)"
   ]
  },
  {
   "cell_type": "markdown",
   "metadata": {},
   "source": [
    "## Buscando dados no Mongo"
   ]
  },
  {
   "cell_type": "code",
   "execution_count": 31,
   "metadata": {},
   "outputs": [
    {
     "data": {
      "text/plain": [
       "{'_id': ObjectId('60402542b489f7baa8475c7b'),\n",
       " 'url_noticia': 'https://br.investing.com/news/stock-market-news/ibovespa-flerta-com-azul-mas-volta-a-cair-em-sessao-volatil-por-receios-fiscais-838184',\n",
       " 'data_hora_noticia': datetime.datetime(2021, 3, 3, 17, 25),\n",
       " 'titulo_noticia': 'Ibovespa flerta com azul, mas volta a cair em sessão volátil por receios fiscais',\n",
       " 'texto_noticia': 'SÃO PAULO (Reuters) - O   mostrava volatilidade nesta quarta-feira, chegando a trabalhar momentaneamento no azul, em meio a expectativas relacionadas ao cenário fiscal brasileiro, na esteria do agravamento da pandemia de   no país. Às 17:22, o Ibovespa caía 0,23%, a 111.278,38 pontos. Na máxima, chegou a 112.398,24 pontos, em alta de 0,77%, após recuar 3,6% no pior momento mais cedo. O volume financeiro da sessão era de 36,8 bilhões de reais. Em comentário a clientes, o BTG Pactual atribuiu a melhora a comentários do presidente da Câmara dos Deputados, Arthur Lira (PP-AL), no sentido de descartar o Bolsa Família fora do teto de gastos. \"Tanto o Senado quanto a Câmara votarão as PECs sem nenhum risco ao teto de gastos, sem nenhuma excepcionalidade ao teto. Essas especulações não contribuem para o clima de estabilidade e previsibilidade\", afirmou o deputado no Twitter. O novo parecer da PEC Emergencial, com uma versão mais desidratada da proposta, de forma a facilitar sua votação, foi oficialmente protocolado e lido em plenário na terça-feira. No mercado, houve confusão torno de o Bolsa Família ser retirado totalmente ou somente só dos gatilhos fiscais. Na versão protocolada não havia previsão de retirada do Bolsa Família, embora novas mudanças não sejam descartadas. O noticiário vespertino também trazia informações de que o Ministério da Saúde vai assinar com a   (NYSE: ) (SA: ) para comprar vacinas do laboratório contra Covid-19. Um fonte do governo, com conhecimento direto do assunto, disse à Reuters que ainda não está confirmado se o contrato será para a compra de 100 milhões de doses, com a pasta adquirindo toda a produção do laboratório disponível para o Brasil. (Por Paula Arend Laier)'}"
      ]
     },
     "execution_count": 31,
     "metadata": {},
     "output_type": "execute_result"
    }
   ],
   "source": [
    "colecao.find_one()"
   ]
  },
  {
   "cell_type": "code",
   "execution_count": 32,
   "metadata": {},
   "outputs": [
    {
     "data": {
      "text/plain": [
       "{'_id': ObjectId('60402542b489f7baa8475c7b'),\n",
       " 'url_noticia': 'https://br.investing.com/news/stock-market-news/ibovespa-flerta-com-azul-mas-volta-a-cair-em-sessao-volatil-por-receios-fiscais-838184',\n",
       " 'data_hora_noticia': datetime.datetime(2021, 3, 3, 17, 25),\n",
       " 'titulo_noticia': 'Ibovespa flerta com azul, mas volta a cair em sessão volátil por receios fiscais',\n",
       " 'texto_noticia': 'SÃO PAULO (Reuters) - O   mostrava volatilidade nesta quarta-feira, chegando a trabalhar momentaneamento no azul, em meio a expectativas relacionadas ao cenário fiscal brasileiro, na esteria do agravamento da pandemia de   no país. Às 17:22, o Ibovespa caía 0,23%, a 111.278,38 pontos. Na máxima, chegou a 112.398,24 pontos, em alta de 0,77%, após recuar 3,6% no pior momento mais cedo. O volume financeiro da sessão era de 36,8 bilhões de reais. Em comentário a clientes, o BTG Pactual atribuiu a melhora a comentários do presidente da Câmara dos Deputados, Arthur Lira (PP-AL), no sentido de descartar o Bolsa Família fora do teto de gastos. \"Tanto o Senado quanto a Câmara votarão as PECs sem nenhum risco ao teto de gastos, sem nenhuma excepcionalidade ao teto. Essas especulações não contribuem para o clima de estabilidade e previsibilidade\", afirmou o deputado no Twitter. O novo parecer da PEC Emergencial, com uma versão mais desidratada da proposta, de forma a facilitar sua votação, foi oficialmente protocolado e lido em plenário na terça-feira. No mercado, houve confusão torno de o Bolsa Família ser retirado totalmente ou somente só dos gatilhos fiscais. Na versão protocolada não havia previsão de retirada do Bolsa Família, embora novas mudanças não sejam descartadas. O noticiário vespertino também trazia informações de que o Ministério da Saúde vai assinar com a   (NYSE: ) (SA: ) para comprar vacinas do laboratório contra Covid-19. Um fonte do governo, com conhecimento direto do assunto, disse à Reuters que ainda não está confirmado se o contrato será para a compra de 100 milhões de doses, com a pasta adquirindo toda a produção do laboratório disponível para o Brasil. (Por Paula Arend Laier)'}"
      ]
     },
     "execution_count": 32,
     "metadata": {},
     "output_type": "execute_result"
    }
   ],
   "source": [
    "colecao.find_one({\"url_noticia\": url_noticia})"
   ]
  },
  {
   "cell_type": "code",
   "execution_count": 33,
   "metadata": {},
   "outputs": [],
   "source": [
    "#colecao.find_one({\"_id\": 1})"
   ]
  },
  {
   "cell_type": "markdown",
   "metadata": {},
   "source": [
    "### Verificando se o url ja está cadastrado"
   ]
  },
  {
   "cell_type": "code",
   "execution_count": 40,
   "metadata": {},
   "outputs": [],
   "source": [
    "nova_url = 'https://br.investing.com/news/commodities-news/petrobras-investe-para-ampliar-producao-de-diesel-s10-na-reduc-838195'"
   ]
  },
  {
   "cell_type": "code",
   "execution_count": 38,
   "metadata": {},
   "outputs": [
    {
     "data": {
      "text/plain": [
       "1"
      ]
     },
     "execution_count": 38,
     "metadata": {},
     "output_type": "execute_result"
    }
   ],
   "source": [
    "filter_mongo = {\"url_noticia\":url_noticia}\n",
    "colecoes_qtd = colecao.count_documents(filter_mongo)\n",
    "colecoes_qtd"
   ]
  },
  {
   "cell_type": "code",
   "execution_count": 41,
   "metadata": {},
   "outputs": [
    {
     "data": {
      "text/plain": [
       "0"
      ]
     },
     "execution_count": 41,
     "metadata": {},
     "output_type": "execute_result"
    }
   ],
   "source": [
    "filter_mongo = {\"url_noticia\":nova_url}\n",
    "colecoes_qtd = colecao.count_documents(filter_mongo)\n",
    "colecoes_qtd"
   ]
  },
  {
   "cell_type": "code",
   "execution_count": 35,
   "metadata": {},
   "outputs": [],
   "source": [
    "#for musica_id in range(colecoes_qtd):\n",
    "#    print(colecao.find_one({\"_id\": musica_id}))"
   ]
  },
  {
   "cell_type": "code",
   "execution_count": 36,
   "metadata": {},
   "outputs": [],
   "source": [
    "#range(colecao.count_documents(filter_mongo))"
   ]
  },
  {
   "cell_type": "markdown",
   "metadata": {},
   "source": [
    "## Atualizando dados no Mongo"
   ]
  },
  {
   "cell_type": "code",
   "execution_count": 18,
   "metadata": {},
   "outputs": [
    {
     "data": {
      "text/plain": [
       "<pymongo.results.UpdateResult at 0x7f70934cc648>"
      ]
     },
     "execution_count": 18,
     "metadata": {},
     "output_type": "execute_result"
    }
   ],
   "source": [
    "colecao.update_one({'_id': 2}, {'$set': {'nome':'Novo nome'}})"
   ]
  },
  {
   "cell_type": "code",
   "execution_count": 20,
   "metadata": {},
   "outputs": [
    {
     "data": {
      "text/plain": [
       "<pymongo.results.UpdateResult at 0x7f709022fcc8>"
      ]
     },
     "execution_count": 20,
     "metadata": {},
     "output_type": "execute_result"
    }
   ],
   "source": [
    "colecao.update_many({'banda': 'Imagine Dragons'}, {'$set': {'nome':'Novo nome'}})"
   ]
  },
  {
   "cell_type": "markdown",
   "metadata": {},
   "source": [
    "## Deletando dados no Mongo"
   ]
  },
  {
   "cell_type": "code",
   "execution_count": 22,
   "metadata": {},
   "outputs": [
    {
     "data": {
      "text/plain": [
       "<pymongo.results.DeleteResult at 0x7f70934b6648>"
      ]
     },
     "execution_count": 22,
     "metadata": {},
     "output_type": "execute_result"
    }
   ],
   "source": [
    "colecao.delete_one({\"_id\": 1})"
   ]
  },
  {
   "cell_type": "code",
   "execution_count": 23,
   "metadata": {},
   "outputs": [
    {
     "data": {
      "text/plain": [
       "<pymongo.results.DeleteResult at 0x7f709022fa88>"
      ]
     },
     "execution_count": 23,
     "metadata": {},
     "output_type": "execute_result"
    }
   ],
   "source": [
    "colecao.delete_many({\"banda\": \"Imagine Dragons\"})"
   ]
  },
  {
   "cell_type": "code",
   "execution_count": null,
   "metadata": {},
   "outputs": [],
   "source": []
  }
 ],
 "metadata": {
  "kernelspec": {
   "display_name": "Python 3",
   "language": "python",
   "name": "python3"
  },
  "language_info": {
   "codemirror_mode": {
    "name": "ipython",
    "version": 3
   },
   "file_extension": ".py",
   "mimetype": "text/x-python",
   "name": "python",
   "nbconvert_exporter": "python",
   "pygments_lexer": "ipython3",
   "version": "3.6.9"
  }
 },
 "nbformat": 4,
 "nbformat_minor": 4
}
