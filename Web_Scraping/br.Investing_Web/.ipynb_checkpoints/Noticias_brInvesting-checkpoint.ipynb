{
 "cells": [
  {
   "cell_type": "markdown",
   "metadata": {},
   "source": [
    "## Imports"
   ]
  },
  {
   "cell_type": "code",
   "execution_count": 34,
   "metadata": {},
   "outputs": [],
   "source": [
    "import io\n",
    "import os.path\n",
    "from scrapy import Selector\n",
    "from datetime import date, datetime\n",
    "from urllib.request import Request, urlopen"
   ]
  },
  {
   "cell_type": "markdown",
   "metadata": {},
   "source": [
    "## Buscando lista de novas notícias no br.Investing"
   ]
  },
  {
   "cell_type": "code",
   "execution_count": 35,
   "metadata": {},
   "outputs": [],
   "source": [
    "#url_novas_noticias = 'https://www.infomoney.com.br/mercados/'\n",
    "url_novas_noticias = 'https://br.investing.com/news/stock-market-news'\n",
    "\n",
    "req = Request(url_novas_noticias, headers={'User-Agent': 'Mozilla/5.0'})\n",
    "\n",
    "response = urlopen(req, timeout=20).read()\n",
    "novas_noticias_html= response.decode('latin-1')\n",
    "#novas_noticias_html= response.decode('utf8')"
   ]
  },
  {
   "cell_type": "code",
   "execution_count": 36,
   "metadata": {},
   "outputs": [],
   "source": [
    "sel_noticias = Selector( text = novas_noticias_html )"
   ]
  },
  {
   "cell_type": "code",
   "execution_count": 37,
   "metadata": {},
   "outputs": [
    {
     "data": {
      "text/plain": [
       "[<Selector xpath=\"//div[@class='largeTitle']/article\" data='<article class=\"js-article-item artic...'>,\n",
       " <Selector xpath=\"//div[@class='largeTitle']/article\" data='<article class=\"js-article-item artic...'>,\n",
       " <Selector xpath=\"//div[@class='largeTitle']/article\" data='<article class=\"js-article-item artic...'>,\n",
       " <Selector xpath=\"//div[@class='largeTitle']/article\" data='<article class=\"js-article-item artic...'>,\n",
       " <Selector xpath=\"//div[@class='largeTitle']/article\" data='<article class=\"js-article-item artic...'>,\n",
       " <Selector xpath=\"//div[@class='largeTitle']/article\" data='<article class=\"js-article-item artic...'>,\n",
       " <Selector xpath=\"//div[@class='largeTitle']/article\" data='<article class=\"articleItem dfp-nativ...'>,\n",
       " <Selector xpath=\"//div[@class='largeTitle']/article\" data='<article class=\"js-article-item artic...'>,\n",
       " <Selector xpath=\"//div[@class='largeTitle']/article\" data='<article class=\"js-article-item artic...'>,\n",
       " <Selector xpath=\"//div[@class='largeTitle']/article\" data='<article class=\"articleItem dfp-nativ...'>,\n",
       " <Selector xpath=\"//div[@class='largeTitle']/article\" data='<article class=\"js-article-item artic...'>,\n",
       " <Selector xpath=\"//div[@class='largeTitle']/article\" data='<article class=\"js-article-item artic...'>,\n",
       " <Selector xpath=\"//div[@class='largeTitle']/article\" data='<article class=\"js-article-item artic...'>,\n",
       " <Selector xpath=\"//div[@class='largeTitle']/article\" data='<article class=\"js-article-item artic...'>,\n",
       " <Selector xpath=\"//div[@class='largeTitle']/article\" data='<article class=\"js-article-item artic...'>,\n",
       " <Selector xpath=\"//div[@class='largeTitle']/article\" data='<article class=\"js-article-item artic...'>,\n",
       " <Selector xpath=\"//div[@class='largeTitle']/article\" data='<article class=\"js-article-item artic...'>,\n",
       " <Selector xpath=\"//div[@class='largeTitle']/article\" data='<article class=\"js-article-item artic...'>,\n",
       " <Selector xpath=\"//div[@class='largeTitle']/article\" data='<article class=\"js-article-item artic...'>,\n",
       " <Selector xpath=\"//div[@class='largeTitle']/article\" data='<article class=\"js-article-item artic...'>,\n",
       " <Selector xpath=\"//div[@class='largeTitle']/article\" data='<article class=\"js-article-item artic...'>,\n",
       " <Selector xpath=\"//div[@class='largeTitle']/article\" data='<article class=\"js-article-item artic...'>,\n",
       " <Selector xpath=\"//div[@class='largeTitle']/article\" data='<article class=\"js-article-item artic...'>,\n",
       " <Selector xpath=\"//div[@class='largeTitle']/article\" data='<article class=\"js-article-item artic...'>,\n",
       " <Selector xpath=\"//div[@class='largeTitle']/article\" data='<article class=\"js-article-item artic...'>,\n",
       " <Selector xpath=\"//div[@class='largeTitle']/article\" data='<article class=\"js-article-item artic...'>,\n",
       " <Selector xpath=\"//div[@class='largeTitle']/article\" data='<article class=\"js-article-item artic...'>,\n",
       " <Selector xpath=\"//div[@class='largeTitle']/article\" data='<article class=\"js-article-item artic...'>,\n",
       " <Selector xpath=\"//div[@class='largeTitle']/article\" data='<article class=\"js-article-item artic...'>,\n",
       " <Selector xpath=\"//div[@class='largeTitle']/article\" data='<article class=\"js-article-item artic...'>,\n",
       " <Selector xpath=\"//div[@class='largeTitle']/article\" data='<article class=\"js-article-item artic...'>,\n",
       " <Selector xpath=\"//div[@class='largeTitle']/article\" data='<article class=\"js-article-item artic...'>,\n",
       " <Selector xpath=\"//div[@class='largeTitle']/article\" data='<article class=\"js-article-item artic...'>,\n",
       " <Selector xpath=\"//div[@class='largeTitle']/article\" data='<article class=\"js-article-item artic...'>,\n",
       " <Selector xpath=\"//div[@class='largeTitle']/article\" data='<article class=\"js-article-item artic...'>,\n",
       " <Selector xpath=\"//div[@class='largeTitle']/article\" data='<article class=\"js-article-item artic...'>,\n",
       " <Selector xpath=\"//div[@class='largeTitle']/article\" data='<article class=\"js-external-link-wrap...'>]"
      ]
     },
     "execution_count": 37,
     "metadata": {},
     "output_type": "execute_result"
    }
   ],
   "source": [
    "sel_noticias.xpath(\"//div[@class='largeTitle']/article\")"
   ]
  },
  {
   "cell_type": "code",
   "execution_count": 38,
   "metadata": {},
   "outputs": [
    {
     "data": {
      "text/plain": [
       "['/news/stock-market-news/avast-tem-alta-na-demanda-impulsionada-por-isolamento-social-838012',\n",
       " '/news/stock-market-news/processadores-de-cafe-nos-eua-avaliam-aumentar-precos-e-citam-custos-de-transporte-838008',\n",
       " '/news/stock-market-news/ibovespa-recua-com-receios-sobre-cenario-domestico-838007',\n",
       " '/news/stock-market-news/varejo-shoppings-despencam-com-receio-por-lockdowns-em-meio-a-alta-da-covid19-838002',\n",
       " '/news/stock-market-news/wall-st-abre-em-baixa-por-decepcao-com-dados-de-emprego-privado-nos-eua-837997',\n",
       " '/news/stock-market-news/bolsa-opera-em-baixa-com-cautela-domestica-e-novas-perdas-em-petrobras-837992',\n",
       " '/news/technology-news/anghami-rival-da-spotify-se-tornara-primeira-companhia-arabe-de-tecnologia-listada-na-nasdaq-837990',\n",
       " '/news/stock-market-news/via-varejo-cai-apos-balanco-do-4t-xp-mantem-como-neutra-837985',\n",
       " '/news/stock-market-news/siderurgicas-lideram-pregao-com-aco-na-maxima-dos-ultimos-10-anos-na-china-837970',\n",
       " '/news/commodities-news/omega-geracao-ve-lucro-dobrar-no-4-tri-com-producao-recorde-em-usinas-837955',\n",
       " '/news/stock-market-news/acoes-turismo-e-transportes-caem-com-receios-por-lockdown-siderurgicas-sobem-837954',\n",
       " '/news/stock-market-news/stellantis-preve-margem-de-lucro-de-ate-75-em-2021-acao-sobe-25-em-milao-837869',\n",
       " '/news/stock-market-news/embrapa-e-nestle-firmam-parceria-para-pecuaria-leiteira-de-baixo-carbono-837888',\n",
       " '/news/stock-market-news/ibovespa-mostra-fraqueza-na-abertura-brasilia-e-balancos-ocupam-foco-837941',\n",
       " '/news/stock-market-news/magazine-luiza-compra-startup-de-sistemas-para-varejo-alimentar-837933',\n",
       " '/news/stock-market-news/toyota-inicia-producao-do-corolla-cross-no-pais-837932',\n",
       " '/news/stock-market-news/taxas-futuras-de-juros-sobem-com-cautela-local-e-com-pib-em-segundo-plano-837930',\n",
       " '/news/stock-market-news/estrangeiro-eleva-posicao-vendida-em-taxa-de-juro-futuro-pela-4a-sessao-seguida-837929',\n",
       " '/news/stock-market-news/magazine-luiza-conclui-aquisicao-de-plataforma-online-de-varejo-vipcommerce-837926',\n",
       " '/news/commodities-news/governo-cria-comite-para-discutir-compensacoes-a-petrobras-por-atapu-e-sepia-837924',\n",
       " '/news/stock-market-news/fique-por-dentro-das-5-principais-noticias-do-mercado-desta-quartafeira-837894',\n",
       " '/news/stock-market-news/cvm-pode-investigar-insider-na-petrobras-837897',\n",
       " '/news/stock-market-news/futuros-americanos-sobem-com-confianca-em-distribuicao-de-vacinas-837905',\n",
       " '/news/technology-news/samsung-avalia-quatro-locais-nos-eua-para-fabrica-de-chips-de-us17-bi-837900',\n",
       " '/news/stock-market-news/ibovespa-futuros-sobe-seguindo-exterior-de-olho-em-negociacoes-para-novo-auxilio-837892',\n",
       " '/news/stock-market-news/mint-capital-controladora-da-bahema-educacao-compra-unidade-da-rede-decisao-837870',\n",
       " '/news/economy/ue-vai-manter-suspensos-limites-de-emprestimos-em-2022-diz-comissao-837878',\n",
       " '/news/economy/quatro-conselheiros-da-petrobras-decidem-deixar-o-cargo-837874',\n",
       " '/news/stock-market-news/petrobras-indicacao-de-silva-e-luna-sera-analisada-pelo-comite-de-pessoas-837804',\n",
       " '/news/stock-market-news/petrobras-quatro-conselheiros-pedem-para-nao-ter-mandatos-renovados-837805',\n",
       " '/news/commodities-news/petrobras-diz-que-quatro-conselheiros-rejeitam-reconducao-ao-cargo-837864',\n",
       " '/news/stock-market-news/guedes-troca-na-petrobras-foi-satisfacao-politica-de-bolsonaro-a-caminhoneiros-837806',\n",
       " '/news/economic-indicators/acoes-da-china-tem-maior-ganho-em-3-semanas-com-otimismo-sobre-crescimento-837860',\n",
       " '/news/stock-market-news/sia-bolsas-fecham-na-maioria-em-alta-com-queda-nos-rendimentos-dos-treasuries-837856',\n",
       " 'https://invst.ly/u0nq2']"
      ]
     },
     "execution_count": 38,
     "metadata": {},
     "output_type": "execute_result"
    }
   ],
   "source": [
    "sel_noticias.xpath(\"//div[@class='largeTitle']/article/a/@href\").extract()"
   ]
  },
  {
   "cell_type": "code",
   "execution_count": 39,
   "metadata": {},
   "outputs": [
    {
     "data": {
      "text/plain": [
       "'/news/stock-market-news/embrapa-e-nestle-firmam-parceria-para-pecuaria-leiteira-de-baixo-carbono-837888'"
      ]
     },
     "execution_count": 39,
     "metadata": {},
     "output_type": "execute_result"
    }
   ],
   "source": [
    "# Exemplo de último link de notícia salvo\n",
    "ultimo_link_salvo = \"https://br.investing.com\" + sel_noticias.xpath(\"//div[@class='largeTitle']/article/a/@href\").extract()[12]\n",
    "ultimo_link_salvo = ultimo_link_salvo.split('https://br.investing.com')[-1]\n",
    "ultimo_link_salvo"
   ]
  },
  {
   "cell_type": "code",
   "execution_count": 40,
   "metadata": {},
   "outputs": [],
   "source": [
    "lista_link_noticias = sel_noticias.xpath(\"//div[@class='largeTitle']/article/a/@href\").extract()\n",
    "nova_lista_link_noticias = []\n",
    "for link_noticia in lista_link_noticias:\n",
    "    if link_noticia == ultimo_link_salvo:\n",
    "        break\n",
    "    if link_noticia.startswith(\"/\"):\n",
    "        link_noticia = \"https://br.investing.com\" + link_noticia\n",
    "        # Não está incluindo links externos de outros sites Ex.:'https://invst.ly/t-p1d'\n",
    "        nova_lista_link_noticias.append(link_noticia)"
   ]
  },
  {
   "cell_type": "code",
   "execution_count": 41,
   "metadata": {},
   "outputs": [
    {
     "data": {
      "text/plain": [
       "['https://br.investing.com/news/stock-market-news/avast-tem-alta-na-demanda-impulsionada-por-isolamento-social-838012',\n",
       " 'https://br.investing.com/news/stock-market-news/processadores-de-cafe-nos-eua-avaliam-aumentar-precos-e-citam-custos-de-transporte-838008',\n",
       " 'https://br.investing.com/news/stock-market-news/ibovespa-recua-com-receios-sobre-cenario-domestico-838007',\n",
       " 'https://br.investing.com/news/stock-market-news/varejo-shoppings-despencam-com-receio-por-lockdowns-em-meio-a-alta-da-covid19-838002',\n",
       " 'https://br.investing.com/news/stock-market-news/wall-st-abre-em-baixa-por-decepcao-com-dados-de-emprego-privado-nos-eua-837997',\n",
       " 'https://br.investing.com/news/stock-market-news/bolsa-opera-em-baixa-com-cautela-domestica-e-novas-perdas-em-petrobras-837992',\n",
       " 'https://br.investing.com/news/technology-news/anghami-rival-da-spotify-se-tornara-primeira-companhia-arabe-de-tecnologia-listada-na-nasdaq-837990',\n",
       " 'https://br.investing.com/news/stock-market-news/via-varejo-cai-apos-balanco-do-4t-xp-mantem-como-neutra-837985',\n",
       " 'https://br.investing.com/news/stock-market-news/siderurgicas-lideram-pregao-com-aco-na-maxima-dos-ultimos-10-anos-na-china-837970',\n",
       " 'https://br.investing.com/news/commodities-news/omega-geracao-ve-lucro-dobrar-no-4-tri-com-producao-recorde-em-usinas-837955',\n",
       " 'https://br.investing.com/news/stock-market-news/acoes-turismo-e-transportes-caem-com-receios-por-lockdown-siderurgicas-sobem-837954',\n",
       " 'https://br.investing.com/news/stock-market-news/stellantis-preve-margem-de-lucro-de-ate-75-em-2021-acao-sobe-25-em-milao-837869']"
      ]
     },
     "execution_count": 41,
     "metadata": {},
     "output_type": "execute_result"
    }
   ],
   "source": [
    "nova_lista_link_noticias"
   ]
  },
  {
   "cell_type": "markdown",
   "metadata": {},
   "source": [
    "## Selecionando Link de uma notícia"
   ]
  },
  {
   "cell_type": "code",
   "execution_count": 42,
   "metadata": {},
   "outputs": [
    {
     "data": {
      "text/plain": [
       "'https://br.investing.com/news/stock-market-news/stellantis-preve-margem-de-lucro-de-ate-75-em-2021-acao-sobe-25-em-milao-837869'"
      ]
     },
     "execution_count": 42,
     "metadata": {},
     "output_type": "execute_result"
    }
   ],
   "source": [
    "url_noticia = nova_lista_link_noticias[-1]\n",
    "url_noticia"
   ]
  },
  {
   "cell_type": "code",
   "execution_count": 43,
   "metadata": {},
   "outputs": [],
   "source": [
    "req = Request(url_noticia, headers={'User-Agent': 'Mozilla/5.0'})\n",
    "\n",
    "response = urlopen(req, timeout=20).read()\n",
    "noticia_html= response.decode('utf8')"
   ]
  },
  {
   "cell_type": "markdown",
   "metadata": {},
   "source": [
    "## Fazend Web Scraping da noticia"
   ]
  },
  {
   "cell_type": "code",
   "execution_count": 44,
   "metadata": {},
   "outputs": [],
   "source": [
    "sel_noticia = Selector( text = noticia_html )"
   ]
  },
  {
   "cell_type": "code",
   "execution_count": 45,
   "metadata": {},
   "outputs": [
    {
     "data": {
      "text/plain": [
       "'2 horas atrás (03.03.2021 10:24)'"
      ]
     },
     "execution_count": 45,
     "metadata": {},
     "output_type": "execute_result"
    }
   ],
   "source": [
    "atualizacao_data_hora = sel_noticia.xpath(\"//div[@class='contentSectionDetails']/span/text()\").extract()\n",
    "atualizacao_data_hora = atualizacao_data_hora[0]\n",
    "atualizacao_data_hora"
   ]
  },
  {
   "cell_type": "markdown",
   "metadata": {},
   "source": [
    "### Formatando a Data e Hora"
   ]
  },
  {
   "cell_type": "code",
   "execution_count": 46,
   "metadata": {},
   "outputs": [],
   "source": [
    "import re"
   ]
  },
  {
   "cell_type": "code",
   "execution_count": 52,
   "metadata": {},
   "outputs": [
    {
     "data": {
      "text/plain": [
       "['03.03.2021', '10:24']"
      ]
     },
     "execution_count": 52,
     "metadata": {},
     "output_type": "execute_result"
    }
   ],
   "source": [
    "data_hora = re.search(r'\\((.*?)\\)', atualizacao_data_hora).group(1).split(' ')\n",
    "data_hora"
   ]
  },
  {
   "cell_type": "code",
   "execution_count": 68,
   "metadata": {},
   "outputs": [],
   "source": [
    "data_hora_list = []"
   ]
  },
  {
   "cell_type": "code",
   "execution_count": 69,
   "metadata": {},
   "outputs": [
    {
     "name": "stdout",
     "output_type": "stream",
     "text": [
      "Data: [2021, 3, 3]\n"
     ]
    }
   ],
   "source": [
    "data = data_hora[0].split('.')\n",
    "data_hora_list.append(int(data[2]))\n",
    "data_hora_list.append(int(data[1]))\n",
    "data_hora_list.append(int(data[0]))\n",
    "print(f'Data: {data_hora_list}')"
   ]
  },
  {
   "cell_type": "code",
   "execution_count": 71,
   "metadata": {},
   "outputs": [
    {
     "name": "stdout",
     "output_type": "stream",
     "text": [
      "Horario: [2021, 3, 3, 10, 24]\n"
     ]
    }
   ],
   "source": [
    "horario = data_hora[1].split(':')\n",
    "data_hora_list.append(int(horario[0]))\n",
    "data_hora_list.append(int(horario[1]))\n",
    "print(f'Horario: {data_hora_list}')"
   ]
  },
  {
   "cell_type": "code",
   "execution_count": 72,
   "metadata": {},
   "outputs": [
    {
     "data": {
      "text/plain": [
       "datetime.datetime(2021, 3, 3, 10, 24)"
      ]
     },
     "execution_count": 72,
     "metadata": {},
     "output_type": "execute_result"
    }
   ],
   "source": [
    "import datetime\n",
    "datetime.datetime(*data_hora_list)"
   ]
  },
  {
   "cell_type": "markdown",
   "metadata": {},
   "source": [
    "### Pegando título e texto da notícia"
   ]
  },
  {
   "cell_type": "code",
   "execution_count": 13,
   "metadata": {},
   "outputs": [
    {
     "data": {
      "text/plain": [
       "'Ross Stores: lucros e receita ficaram abaixo consenso no Q4'"
      ]
     },
     "execution_count": 13,
     "metadata": {},
     "output_type": "execute_result"
    }
   ],
   "source": [
    "titulo_noticia = sel_noticia.xpath(\"//h1[@class='articleHeader']/text()\").extract()\n",
    "titulo_noticia = titulo_noticia[0]\n",
    "titulo_noticia"
   ]
  },
  {
   "cell_type": "code",
   "execution_count": 14,
   "metadata": {},
   "outputs": [
    {
     "data": {
      "text/plain": [
       "'Investing.com - Ross Stores (NASDAQ: ) publicou nesta terça-feira o   do quarto trimestre e mostrou lucro que ficou mais fraco do que as projeções dos analistas. A receita ficou menor do que a mediana das previsões. A empresa divulgou que o lucro por ação (LPA) foi de US$ 0,67, resultado que ficou mais fraco do que as previsões dos analistas que apostavam em LPA de US$ 1. \\xa0 A receita do\\xa0quarto trimestre alcançou US$ 4,25B.\\xa0 A expectativa dos analistas do mercado era de receita de US$ 4,27B. No ano, as ações da empresa estão em queda de 4%, desempenho menor do que o   que acumula uma alta de 3% desde janeiro. O resultado da companhia sai após outros balanços importantes de Serviços neste mês.    - Em 2 de fevereiro, Amazon.com também publicou seu balanço, com LPA de US$ 14,09 e receita de US$ 125,56B, comparados a previsões de LPA de US$ 7,19 e receita de US$ 119,7B.  - O balanço publicado em 2 de fevereiro mostrou lucro por ação de US$ 22,03, que\\xa0 superou das expectativas dos analistas de US$ 20,59. A receita ficou em US$ 221,08B, contra projeções de US$ 214,17B'"
      ]
     },
     "execution_count": 14,
     "metadata": {},
     "output_type": "execute_result"
    }
   ],
   "source": [
    "texto_noticia = sel_noticia.xpath(\"//div[@class='WYSIWYG articlePage']/p/text()\").extract()\n",
    "texto_noticia = ' '.join(texto_noticia)\n",
    "texto_noticia"
   ]
  },
  {
   "cell_type": "markdown",
   "metadata": {},
   "source": [
    "# Transformando dados das notícias em DataFrame"
   ]
  },
  {
   "cell_type": "code",
   "execution_count": 15,
   "metadata": {},
   "outputs": [],
   "source": [
    "import pandas as pd\n",
    "import numpy as np"
   ]
  },
  {
   "cell_type": "code",
   "execution_count": 21,
   "metadata": {},
   "outputs": [
    {
     "data": {
      "text/plain": [
       "['url', 'data_hora', 'titulo', 'texto']"
      ]
     },
     "execution_count": 21,
     "metadata": {},
     "output_type": "execute_result"
    }
   ],
   "source": [
    "noticia_label = ['url', 'data_hora', 'titulo', 'texto']\n",
    "noticia_label"
   ]
  },
  {
   "cell_type": "code",
   "execution_count": 20,
   "metadata": {},
   "outputs": [
    {
     "data": {
      "text/plain": [
       "['https://br.investing.com/news/stock-market-news/ross-stores-lucros-e-receita-ficaram-abaixo-consenso-no-q4-837694',\n",
       " '3 horas atrás (02.03.2021 18:05)',\n",
       " 'Ross Stores: lucros e receita ficaram abaixo consenso no Q4',\n",
       " 'Investing.com - Ross Stores (NASDAQ: ) publicou nesta terça-feira o   do quarto trimestre e mostrou lucro que ficou mais fraco do que as projeções dos analistas. A receita ficou menor do que a mediana das previsões. A empresa divulgou que o lucro por ação (LPA) foi de US$ 0,67, resultado que ficou mais fraco do que as previsões dos analistas que apostavam em LPA de US$ 1. \\xa0 A receita do\\xa0quarto trimestre alcançou US$ 4,25B.\\xa0 A expectativa dos analistas do mercado era de receita de US$ 4,27B. No ano, as ações da empresa estão em queda de 4%, desempenho menor do que o   que acumula uma alta de 3% desde janeiro. O resultado da companhia sai após outros balanços importantes de Serviços neste mês.    - Em 2 de fevereiro, Amazon.com também publicou seu balanço, com LPA de US$ 14,09 e receita de US$ 125,56B, comparados a previsões de LPA de US$ 7,19 e receita de US$ 119,7B.  - O balanço publicado em 2 de fevereiro mostrou lucro por ação de US$ 22,03, que\\xa0 superou das expectativas dos analistas de US$ 20,59. A receita ficou em US$ 221,08B, contra projeções de US$ 214,17B']"
      ]
     },
     "execution_count": 20,
     "metadata": {},
     "output_type": "execute_result"
    }
   ],
   "source": [
    "noticia_dados = [url_noticia, atualizacao_data_hora, titulo_noticia, texto_noticia]\n",
    "noticia_dados"
   ]
  },
  {
   "cell_type": "code",
   "execution_count": 22,
   "metadata": {},
   "outputs": [
    {
     "data": {
      "text/html": [
       "<div>\n",
       "<style scoped>\n",
       "    .dataframe tbody tr th:only-of-type {\n",
       "        vertical-align: middle;\n",
       "    }\n",
       "\n",
       "    .dataframe tbody tr th {\n",
       "        vertical-align: top;\n",
       "    }\n",
       "\n",
       "    .dataframe thead th {\n",
       "        text-align: right;\n",
       "    }\n",
       "</style>\n",
       "<table border=\"1\" class=\"dataframe\">\n",
       "  <thead>\n",
       "    <tr style=\"text-align: right;\">\n",
       "      <th></th>\n",
       "      <th>url</th>\n",
       "      <th>data_hora</th>\n",
       "      <th>titulo</th>\n",
       "      <th>texto</th>\n",
       "    </tr>\n",
       "  </thead>\n",
       "  <tbody>\n",
       "    <tr>\n",
       "      <th>0</th>\n",
       "      <td>https://br.investing.com/news/stock-market-new...</td>\n",
       "      <td>3 horas atrás (02.03.2021 18:05)</td>\n",
       "      <td>Ross Stores: lucros e receita ficaram abaixo c...</td>\n",
       "      <td>Investing.com - Ross Stores (NASDAQ: ) publico...</td>\n",
       "    </tr>\n",
       "  </tbody>\n",
       "</table>\n",
       "</div>"
      ],
      "text/plain": [
       "                                                 url  \\\n",
       "0  https://br.investing.com/news/stock-market-new...   \n",
       "\n",
       "                          data_hora  \\\n",
       "0  3 horas atrás (02.03.2021 18:05)   \n",
       "\n",
       "                                              titulo  \\\n",
       "0  Ross Stores: lucros e receita ficaram abaixo c...   \n",
       "\n",
       "                                               texto  \n",
       "0  Investing.com - Ross Stores (NASDAQ: ) publico...  "
      ]
     },
     "execution_count": 22,
     "metadata": {},
     "output_type": "execute_result"
    }
   ],
   "source": [
    "df = pd.DataFrame(np.array([noticia_dados]), columns=noticia_label)\n",
    "df"
   ]
  },
  {
   "cell_type": "code",
   "execution_count": 23,
   "metadata": {},
   "outputs": [
    {
     "data": {
      "text/plain": [
       "'Investing.com - Ross Stores (NASDAQ: ) publicou nesta terça-feira o   do quarto trimestre e mostrou lucro que ficou mais fraco do que as projeções dos analistas. A receita ficou menor do que a mediana das previsões. A empresa divulgou que o lucro por ação (LPA) foi de US$ 0,67, resultado que ficou mais fraco do que as previsões dos analistas que apostavam em LPA de US$ 1. \\xa0 A receita do\\xa0quarto trimestre alcançou US$ 4,25B.\\xa0 A expectativa dos analistas do mercado era de receita de US$ 4,27B. No ano, as ações da empresa estão em queda de 4%, desempenho menor do que o   que acumula uma alta de 3% desde janeiro. O resultado da companhia sai após outros balanços importantes de Serviços neste mês.    - Em 2 de fevereiro, Amazon.com também publicou seu balanço, com LPA de US$ 14,09 e receita de US$ 125,56B, comparados a previsões de LPA de US$ 7,19 e receita de US$ 119,7B.  - O balanço publicado em 2 de fevereiro mostrou lucro por ação de US$ 22,03, que\\xa0 superou das expectativas dos analistas de US$ 20,59. A receita ficou em US$ 221,08B, contra projeções de US$ 214,17B'"
      ]
     },
     "execution_count": 23,
     "metadata": {},
     "output_type": "execute_result"
    }
   ],
   "source": [
    "df['texto'].values[0]"
   ]
  },
  {
   "cell_type": "markdown",
   "metadata": {},
   "source": [
    "# Funções para transformar os dados"
   ]
  },
  {
   "cell_type": "code",
   "execution_count": 24,
   "metadata": {},
   "outputs": [],
   "source": [
    "def transformar_lista_em_tuples(noticia_dados):\n",
    "    noticia_dados_list = []\n",
    "    noticia_dados_list.append(tuple(noticia_dados))\n",
    "    return noticia_dados_list"
   ]
  },
  {
   "cell_type": "code",
   "execution_count": null,
   "metadata": {},
   "outputs": [],
   "source": [
    "noticia_dados = transformar_lista_em_tuples(noticia_dados)\n",
    "noticia_dados"
   ]
  },
  {
   "cell_type": "markdown",
   "metadata": {},
   "source": [
    "# Acesso ao HDFS server (Write and Read)\n",
    "## Criando uma Spark Session"
   ]
  },
  {
   "cell_type": "code",
   "execution_count": 19,
   "metadata": {},
   "outputs": [],
   "source": [
    "from pyspark.sql import SparkSession\n",
    "sparkSession = SparkSession.builder.appName(\"write-read-brinvesting-hdfs\").getOrCreate()"
   ]
  },
  {
   "cell_type": "markdown",
   "metadata": {},
   "source": [
    "## Write Spark DataFrame da Notícia"
   ]
  },
  {
   "cell_type": "code",
   "execution_count": 26,
   "metadata": {},
   "outputs": [
    {
     "data": {
      "text/plain": [
       "DataFrame[url: string, data_hora: string, titulo: string, texto: string]"
      ]
     },
     "execution_count": 26,
     "metadata": {},
     "output_type": "execute_result"
    }
   ],
   "source": [
    "df = sparkSession.createDataFrame(noticia_dados, noticia_label)\n",
    "df"
   ]
  },
  {
   "cell_type": "code",
   "execution_count": 28,
   "metadata": {},
   "outputs": [],
   "source": [
    "df.write.save('hdfs://172.17.177.40:9000/user/hadoopuser/brInvesting/noticias/stock_market_news', format='parquet', mode='append')"
   ]
  },
  {
   "cell_type": "code",
   "execution_count": 29,
   "metadata": {},
   "outputs": [],
   "source": [
    "df_load = sparkSession.read.format('parquet').load('hdfs://172.17.177.40:9000/user/hadoopuser/brInvesting/noticias/stock_market_news')"
   ]
  },
  {
   "cell_type": "code",
   "execution_count": 30,
   "metadata": {},
   "outputs": [
    {
     "name": "stdout",
     "output_type": "stream",
     "text": [
      "+--------------------+--------------------+--------------------+--------------------+\n",
      "|                 url|           data_hora|              titulo|               texto|\n",
      "+--------------------+--------------------+--------------------+--------------------+\n",
      "|https://br.invest...|3 horas atrás (02...|Ross Stores: lucr...|Investing.com - R...|\n",
      "+--------------------+--------------------+--------------------+--------------------+\n",
      "\n"
     ]
    }
   ],
   "source": [
    "df_load.show()"
   ]
  },
  {
   "cell_type": "code",
   "execution_count": 31,
   "metadata": {},
   "outputs": [
    {
     "data": {
      "text/html": [
       "<div>\n",
       "<style scoped>\n",
       "    .dataframe tbody tr th:only-of-type {\n",
       "        vertical-align: middle;\n",
       "    }\n",
       "\n",
       "    .dataframe tbody tr th {\n",
       "        vertical-align: top;\n",
       "    }\n",
       "\n",
       "    .dataframe thead th {\n",
       "        text-align: right;\n",
       "    }\n",
       "</style>\n",
       "<table border=\"1\" class=\"dataframe\">\n",
       "  <thead>\n",
       "    <tr style=\"text-align: right;\">\n",
       "      <th></th>\n",
       "      <th>url</th>\n",
       "      <th>data_hora</th>\n",
       "      <th>titulo</th>\n",
       "      <th>texto</th>\n",
       "    </tr>\n",
       "  </thead>\n",
       "  <tbody>\n",
       "    <tr>\n",
       "      <th>0</th>\n",
       "      <td>https://br.investing.com/news/stock-market-new...</td>\n",
       "      <td>3 horas atrás (02.03.2021 18:05)</td>\n",
       "      <td>Ross Stores: lucros e receita ficaram abaixo c...</td>\n",
       "      <td>Investing.com - Ross Stores (NASDAQ: ) publico...</td>\n",
       "    </tr>\n",
       "  </tbody>\n",
       "</table>\n",
       "</div>"
      ],
      "text/plain": [
       "                                                 url  \\\n",
       "0  https://br.investing.com/news/stock-market-new...   \n",
       "\n",
       "                          data_hora  \\\n",
       "0  3 horas atrás (02.03.2021 18:05)   \n",
       "\n",
       "                                              titulo  \\\n",
       "0  Ross Stores: lucros e receita ficaram abaixo c...   \n",
       "\n",
       "                                               texto  \n",
       "0  Investing.com - Ross Stores (NASDAQ: ) publico...  "
      ]
     },
     "execution_count": 31,
     "metadata": {},
     "output_type": "execute_result"
    }
   ],
   "source": [
    "df_load.toPandas()"
   ]
  },
  {
   "cell_type": "code",
   "execution_count": 32,
   "metadata": {},
   "outputs": [
    {
     "data": {
      "text/plain": [
       "'Investing.com - Ross Stores (NASDAQ: ) publicou nesta terça-feira o   do quarto trimestre e mostrou lucro que ficou mais fraco do que as projeções dos analistas. A receita ficou menor do que a mediana das previsões. A empresa divulgou que o lucro por ação (LPA) foi de US$ 0,67, resultado que ficou mais fraco do que as previsões dos analistas que apostavam em LPA de US$ 1. \\xa0 A receita do\\xa0quarto trimestre alcançou US$ 4,25B.\\xa0 A expectativa dos analistas do mercado era de receita de US$ 4,27B. No ano, as ações da empresa estão em queda de 4%, desempenho menor do que o   que acumula uma alta de 3% desde janeiro. O resultado da companhia sai após outros balanços importantes de Serviços neste mês.    - Em 2 de fevereiro, Amazon.com também publicou seu balanço, com LPA de US$ 14,09 e receita de US$ 125,56B, comparados a previsões de LPA de US$ 7,19 e receita de US$ 119,7B.  - O balanço publicado em 2 de fevereiro mostrou lucro por ação de US$ 22,03, que\\xa0 superou das expectativas dos analistas de US$ 20,59. A receita ficou em US$ 221,08B, contra projeções de US$ 214,17B'"
      ]
     },
     "execution_count": 32,
     "metadata": {},
     "output_type": "execute_result"
    }
   ],
   "source": [
    "df_load.toPandas()['texto'].values[0]"
   ]
  },
  {
   "cell_type": "markdown",
   "metadata": {},
   "source": [
    "# Acesso ao MongoDB (EXEMPLO)"
   ]
  },
  {
   "cell_type": "code",
   "execution_count": 1,
   "metadata": {},
   "outputs": [
    {
     "name": "stdout",
     "output_type": "stream",
     "text": [
      "Defaulting to user installation because normal site-packages is not writeable\n",
      "Collecting pymongo\n",
      "  Downloading pymongo-3.11.3-cp36-cp36m-manylinux2014_x86_64.whl (509 kB)\n",
      "\u001b[K     |████████████████████████████████| 509 kB 621 kB/s eta 0:00:01\n",
      "\u001b[?25hInstalling collected packages: pymongo\n",
      "Successfully installed pymongo-3.11.3\n",
      "\u001b[33mWARNING: You are using pip version 20.2; however, version 21.0.1 is available.\n",
      "You should consider upgrading via the '/usr/bin/python -m pip install --upgrade pip' command.\u001b[0m\n"
     ]
    }
   ],
   "source": [
    "#!pip install pymongo"
   ]
  },
  {
   "cell_type": "code",
   "execution_count": 1,
   "metadata": {},
   "outputs": [],
   "source": [
    "from pymongo import MongoClient"
   ]
  },
  {
   "cell_type": "code",
   "execution_count": 2,
   "metadata": {},
   "outputs": [],
   "source": [
    "cliente = MongoClient('localhost', 27017)"
   ]
  },
  {
   "cell_type": "code",
   "execution_count": 3,
   "metadata": {},
   "outputs": [],
   "source": [
    "cliente = MongoClient('mongodb://localhost:27017/')"
   ]
  },
  {
   "cell_type": "code",
   "execution_count": 4,
   "metadata": {},
   "outputs": [],
   "source": [
    "banco = cliente['noticias']"
   ]
  },
  {
   "cell_type": "markdown",
   "metadata": {},
   "source": [
    "## Inserindo Documento no Mongo"
   ]
  },
  {
   "cell_type": "markdown",
   "metadata": {},
   "source": [
    "### Inserindo apenas um documento"
   ]
  },
  {
   "cell_type": "code",
   "execution_count": 5,
   "metadata": {},
   "outputs": [],
   "source": [
    "import datetime\n",
    "\n",
    "musica = {\n",
    "    \"nome\": \"Thunder\",\n",
    "    \"banda\": \"Imagine Dragons\",\n",
    "    \"categorias\": [\"rock\"],\n",
    "    \"lancamento\": datetime.datetime.now()\n",
    "}"
   ]
  },
  {
   "cell_type": "code",
   "execution_count": 28,
   "metadata": {},
   "outputs": [
    {
     "data": {
      "text/plain": [
       "datetime.datetime(2021, 3, 3, 12, 30, 21, 602846)"
      ]
     },
     "execution_count": 28,
     "metadata": {},
     "output_type": "execute_result"
    }
   ],
   "source": [
    "# ano - mes - dia - hora - minuto - segundo\n",
    "datetime.datetime.now()"
   ]
  },
  {
   "cell_type": "code",
   "execution_count": 62,
   "metadata": {},
   "outputs": [
    {
     "data": {
      "text/plain": [
       "datetime.datetime(2020, 12, 21, 23, 59)"
      ]
     },
     "execution_count": 62,
     "metadata": {},
     "output_type": "execute_result"
    }
   ],
   "source": [
    "datetime.datetime(2020, 12, 21, 23, 59)"
   ]
  },
  {
   "cell_type": "code",
   "execution_count": 6,
   "metadata": {},
   "outputs": [
    {
     "data": {
      "text/plain": [
       "ObjectId('603fa726186b7c3de587cf31')"
      ]
     },
     "execution_count": 6,
     "metadata": {},
     "output_type": "execute_result"
    }
   ],
   "source": [
    "colecao = banco.noticias\n",
    "musica_id = colecao.insert_one(musica).inserted_id\n",
    "musica_id"
   ]
  },
  {
   "cell_type": "markdown",
   "metadata": {},
   "source": [
    "### Inserindo uma lista de documentos"
   ]
  },
  {
   "cell_type": "code",
   "execution_count": 35,
   "metadata": {},
   "outputs": [],
   "source": [
    "musicas = [\n",
    "    {\n",
    "        \"_id\": 1,\n",
    "        \"nome\": \"Radioactive\",\n",
    "        \"banda\": \"Imagine Dragons\",\n",
    "        \"categorias\": [\"indie\", \"rock\"],\n",
    "        \"lancamento\": datetime.datetime.now()\n",
    "    },\n",
    "    {\n",
    "        \"_id\": 2,\n",
    "        \"nome\": \"Hear Me\",\n",
    "        \"banda\": \"Imagine Dragons\",\n",
    "        \"categorias\": [\"indie\", \"rock\"],\n",
    "        \"lancamento\": datetime.datetime.now()\n",
    "    },\n",
    "    {\n",
    "        \"_id\": 3,\n",
    "        \"nome\": \"Demons\",\n",
    "        \"banda\": \"Imagine Dragons\",\n",
    "        \"categorias\": [\"indie\", \"rock\"],\n",
    "        \"lancamento\": datetime.datetime.now()\n",
    "    },\n",
    "    {\n",
    "        \"_id\": 4,\n",
    "        \"nome\": \"Nothing Left To Say\",\n",
    "        \"banda\": \"Imagine Dragons\",\n",
    "        \"categorias\": [\"indie\", \"rock\"],\n",
    "        \"lancamento\": datetime.datetime.now()\n",
    "    },\n",
    "    {\n",
    "        \"_id\": 5,\n",
    "        \"nome\": \"Amsterdam\",\n",
    "        \"banda\": \"Imagine Dragons\",\n",
    "        \"categorias\": [\"indie\", \"rock\"],\n",
    "        \"lancamento\": datetime.datetime.now()\n",
    "    }]"
   ]
  },
  {
   "cell_type": "code",
   "execution_count": 36,
   "metadata": {},
   "outputs": [
    {
     "data": {
      "text/plain": [
       "<pymongo.results.InsertManyResult at 0x7f80b0392bc8>"
      ]
     },
     "execution_count": 36,
     "metadata": {},
     "output_type": "execute_result"
    }
   ],
   "source": [
    "colecao.insert_many(musicas)"
   ]
  },
  {
   "cell_type": "markdown",
   "metadata": {},
   "source": [
    "## Buscando dados no Mongo"
   ]
  },
  {
   "cell_type": "code",
   "execution_count": 7,
   "metadata": {},
   "outputs": [
    {
     "data": {
      "text/plain": [
       "{'_id': ObjectId('603fa68bc07121c8ab35bfa3'),\n",
       " 'nome': 'Nothing left to say',\n",
       " 'banda': 'Imagine Dragons',\n",
       " 'categorias': ['indie', 'rock'],\n",
       " 'lancamento': datetime.datetime(2021, 3, 3, 12, 8, 58, 736000)}"
      ]
     },
     "execution_count": 7,
     "metadata": {},
     "output_type": "execute_result"
    }
   ],
   "source": [
    "colecao.find_one()"
   ]
  },
  {
   "cell_type": "code",
   "execution_count": 8,
   "metadata": {},
   "outputs": [
    {
     "data": {
      "text/plain": [
       "{'_id': 1,\n",
       " 'nome': 'Radioactive',\n",
       " 'banda': 'Imagine Dragons',\n",
       " 'categorias': ['indie', 'rock'],\n",
       " 'lancamento': datetime.datetime(2021, 3, 3, 12, 9, 34, 751000)}"
      ]
     },
     "execution_count": 8,
     "metadata": {},
     "output_type": "execute_result"
    }
   ],
   "source": [
    "colecao.find_one({\"nome\": \"Radioactive\"})"
   ]
  },
  {
   "cell_type": "code",
   "execution_count": 9,
   "metadata": {},
   "outputs": [
    {
     "data": {
      "text/plain": [
       "{'_id': 1,\n",
       " 'nome': 'Radioactive',\n",
       " 'banda': 'Imagine Dragons',\n",
       " 'categorias': ['indie', 'rock'],\n",
       " 'lancamento': datetime.datetime(2021, 3, 3, 12, 9, 34, 751000)}"
      ]
     },
     "execution_count": 9,
     "metadata": {},
     "output_type": "execute_result"
    }
   ],
   "source": [
    "colecao.find_one({\"_id\": 1})"
   ]
  },
  {
   "cell_type": "code",
   "execution_count": 17,
   "metadata": {},
   "outputs": [
    {
     "data": {
      "text/plain": [
       "7"
      ]
     },
     "execution_count": 17,
     "metadata": {},
     "output_type": "execute_result"
    }
   ],
   "source": [
    "filter_mongo = {\"banda\":\"Imagine Dragons\"}\n",
    "colecoes_qtd = colecao.count_documents(filter_mongo)\n",
    "colecoes_qtd"
   ]
  },
  {
   "cell_type": "code",
   "execution_count": 16,
   "metadata": {},
   "outputs": [
    {
     "name": "stdout",
     "output_type": "stream",
     "text": [
      "None\n",
      "{'_id': 1, 'nome': 'Radioactive', 'banda': 'Imagine Dragons', 'categorias': ['indie', 'rock'], 'lancamento': datetime.datetime(2021, 3, 3, 12, 9, 34, 751000)}\n",
      "{'_id': 2, 'nome': 'Hear Me', 'banda': 'Imagine Dragons', 'categorias': ['indie', 'rock'], 'lancamento': datetime.datetime(2021, 3, 3, 12, 9, 34, 751000)}\n",
      "{'_id': 3, 'nome': 'Demons', 'banda': 'Imagine Dragons', 'categorias': ['indie', 'rock'], 'lancamento': datetime.datetime(2021, 3, 3, 12, 9, 34, 751000)}\n",
      "{'_id': 4, 'nome': 'Nothing Left To Say', 'banda': 'Imagine Dragons', 'categorias': ['indie', 'rock'], 'lancamento': datetime.datetime(2021, 3, 3, 12, 9, 34, 751000)}\n",
      "{'_id': 5, 'nome': 'Amsterdam', 'banda': 'Imagine Dragons', 'categorias': ['indie', 'rock'], 'lancamento': datetime.datetime(2021, 3, 3, 12, 9, 34, 751000)}\n",
      "None\n"
     ]
    }
   ],
   "source": [
    "for musica_id in range(colecoes_qtd):\n",
    "    print(colecao.find_one({\"_id\": musica_id}))"
   ]
  },
  {
   "cell_type": "code",
   "execution_count": 14,
   "metadata": {},
   "outputs": [
    {
     "data": {
      "text/plain": [
       "range(0, 7)"
      ]
     },
     "execution_count": 14,
     "metadata": {},
     "output_type": "execute_result"
    }
   ],
   "source": [
    "range(colecao.count_documents(filter_mongo))"
   ]
  },
  {
   "cell_type": "markdown",
   "metadata": {},
   "source": [
    "## Atualizando dados no Mongo"
   ]
  },
  {
   "cell_type": "code",
   "execution_count": 18,
   "metadata": {},
   "outputs": [
    {
     "data": {
      "text/plain": [
       "<pymongo.results.UpdateResult at 0x7f70934cc648>"
      ]
     },
     "execution_count": 18,
     "metadata": {},
     "output_type": "execute_result"
    }
   ],
   "source": [
    "colecao.update_one({'_id': 2}, {'$set': {'nome':'Novo nome'}})"
   ]
  },
  {
   "cell_type": "code",
   "execution_count": 20,
   "metadata": {},
   "outputs": [
    {
     "data": {
      "text/plain": [
       "<pymongo.results.UpdateResult at 0x7f709022fcc8>"
      ]
     },
     "execution_count": 20,
     "metadata": {},
     "output_type": "execute_result"
    }
   ],
   "source": [
    "colecao.update_many({'banda': 'Imagine Dragons'}, {'$set': {'nome':'Novo nome'}})"
   ]
  },
  {
   "cell_type": "markdown",
   "metadata": {},
   "source": [
    "## Deltando dados no Mongo"
   ]
  },
  {
   "cell_type": "code",
   "execution_count": 22,
   "metadata": {},
   "outputs": [
    {
     "data": {
      "text/plain": [
       "<pymongo.results.DeleteResult at 0x7f70934b6648>"
      ]
     },
     "execution_count": 22,
     "metadata": {},
     "output_type": "execute_result"
    }
   ],
   "source": [
    "colecao.delete_one({\"_id\": 1})"
   ]
  },
  {
   "cell_type": "code",
   "execution_count": 23,
   "metadata": {},
   "outputs": [
    {
     "data": {
      "text/plain": [
       "<pymongo.results.DeleteResult at 0x7f709022fa88>"
      ]
     },
     "execution_count": 23,
     "metadata": {},
     "output_type": "execute_result"
    }
   ],
   "source": [
    "colecao.delete_many({\"banda\": \"Imagine Dragons\"})"
   ]
  },
  {
   "cell_type": "code",
   "execution_count": null,
   "metadata": {},
   "outputs": [],
   "source": []
  }
 ],
 "metadata": {
  "kernelspec": {
   "display_name": "Python 3",
   "language": "python",
   "name": "python3"
  },
  "language_info": {
   "codemirror_mode": {
    "name": "ipython",
    "version": 3
   },
   "file_extension": ".py",
   "mimetype": "text/x-python",
   "name": "python",
   "nbconvert_exporter": "python",
   "pygments_lexer": "ipython3",
   "version": "3.6.9"
  }
 },
 "nbformat": 4,
 "nbformat_minor": 4
}
