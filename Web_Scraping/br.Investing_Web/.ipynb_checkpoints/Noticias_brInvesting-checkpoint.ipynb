{
 "cells": [
  {
   "cell_type": "markdown",
   "metadata": {},
   "source": [
    "## Imports"
   ]
  },
  {
   "cell_type": "code",
   "execution_count": 1,
   "metadata": {},
   "outputs": [],
   "source": [
    "import io\n",
    "import os.path\n",
    "from scrapy import Selector\n",
    "from datetime import date, datetime\n",
    "from urllib.request import Request, urlopen"
   ]
  },
  {
   "cell_type": "markdown",
   "metadata": {},
   "source": [
    "## Buscando lista de novas notícias no br.Investing"
   ]
  },
  {
   "cell_type": "code",
   "execution_count": 2,
   "metadata": {},
   "outputs": [],
   "source": [
    "#url_novas_noticias = 'https://www.infomoney.com.br/mercados/'\n",
    "url_novas_noticias = 'https://br.investing.com/news/stock-market-news'\n",
    "\n",
    "req = Request(url_novas_noticias, headers={'User-Agent': 'Mozilla/5.0'})\n",
    "\n",
    "response = urlopen(req, timeout=20).read()\n",
    "novas_noticias_html= response.decode('latin-1')\n",
    "#novas_noticias_html= response.decode('utf8')"
   ]
  },
  {
   "cell_type": "code",
   "execution_count": 3,
   "metadata": {},
   "outputs": [],
   "source": [
    "sel_noticias = Selector( text = novas_noticias_html )"
   ]
  },
  {
   "cell_type": "code",
   "execution_count": 4,
   "metadata": {},
   "outputs": [
    {
     "data": {
      "text/plain": [
       "[<Selector xpath=\"//div[@class='largeTitle']/article\" data='<article class=\"js-article-item artic...'>,\n",
       " <Selector xpath=\"//div[@class='largeTitle']/article\" data='<article class=\"js-article-item artic...'>,\n",
       " <Selector xpath=\"//div[@class='largeTitle']/article\" data='<article class=\"js-article-item artic...'>,\n",
       " <Selector xpath=\"//div[@class='largeTitle']/article\" data='<article class=\"js-article-item artic...'>,\n",
       " <Selector xpath=\"//div[@class='largeTitle']/article\" data='<article class=\"js-article-item artic...'>,\n",
       " <Selector xpath=\"//div[@class='largeTitle']/article\" data='<article class=\"js-article-item artic...'>,\n",
       " <Selector xpath=\"//div[@class='largeTitle']/article\" data='<article class=\"articleItem dfp-nativ...'>,\n",
       " <Selector xpath=\"//div[@class='largeTitle']/article\" data='<article class=\"js-article-item artic...'>,\n",
       " <Selector xpath=\"//div[@class='largeTitle']/article\" data='<article class=\"js-article-item artic...'>,\n",
       " <Selector xpath=\"//div[@class='largeTitle']/article\" data='<article class=\"articleItem dfp-nativ...'>,\n",
       " <Selector xpath=\"//div[@class='largeTitle']/article\" data='<article class=\"js-article-item artic...'>,\n",
       " <Selector xpath=\"//div[@class='largeTitle']/article\" data='<article class=\"js-article-item artic...'>,\n",
       " <Selector xpath=\"//div[@class='largeTitle']/article\" data='<article class=\"js-article-item artic...'>,\n",
       " <Selector xpath=\"//div[@class='largeTitle']/article\" data='<article class=\"js-article-item artic...'>,\n",
       " <Selector xpath=\"//div[@class='largeTitle']/article\" data='<article class=\"js-article-item artic...'>,\n",
       " <Selector xpath=\"//div[@class='largeTitle']/article\" data='<article class=\"js-article-item artic...'>,\n",
       " <Selector xpath=\"//div[@class='largeTitle']/article\" data='<article class=\"js-article-item artic...'>,\n",
       " <Selector xpath=\"//div[@class='largeTitle']/article\" data='<article class=\"js-article-item artic...'>,\n",
       " <Selector xpath=\"//div[@class='largeTitle']/article\" data='<article class=\"js-external-link-wrap...'>,\n",
       " <Selector xpath=\"//div[@class='largeTitle']/article\" data='<article class=\"js-external-link-wrap...'>,\n",
       " <Selector xpath=\"//div[@class='largeTitle']/article\" data='<article class=\"js-article-item artic...'>,\n",
       " <Selector xpath=\"//div[@class='largeTitle']/article\" data='<article class=\"js-article-item artic...'>,\n",
       " <Selector xpath=\"//div[@class='largeTitle']/article\" data='<article class=\"js-external-link-wrap...'>,\n",
       " <Selector xpath=\"//div[@class='largeTitle']/article\" data='<article class=\"js-external-link-wrap...'>,\n",
       " <Selector xpath=\"//div[@class='largeTitle']/article\" data='<article class=\"js-external-link-wrap...'>,\n",
       " <Selector xpath=\"//div[@class='largeTitle']/article\" data='<article class=\"js-article-item artic...'>,\n",
       " <Selector xpath=\"//div[@class='largeTitle']/article\" data='<article class=\"js-external-link-wrap...'>,\n",
       " <Selector xpath=\"//div[@class='largeTitle']/article\" data='<article class=\"js-article-item artic...'>,\n",
       " <Selector xpath=\"//div[@class='largeTitle']/article\" data='<article class=\"js-article-item artic...'>,\n",
       " <Selector xpath=\"//div[@class='largeTitle']/article\" data='<article class=\"js-external-link-wrap...'>,\n",
       " <Selector xpath=\"//div[@class='largeTitle']/article\" data='<article class=\"js-external-link-wrap...'>,\n",
       " <Selector xpath=\"//div[@class='largeTitle']/article\" data='<article class=\"js-external-link-wrap...'>,\n",
       " <Selector xpath=\"//div[@class='largeTitle']/article\" data='<article class=\"js-external-link-wrap...'>,\n",
       " <Selector xpath=\"//div[@class='largeTitle']/article\" data='<article class=\"js-external-link-wrap...'>,\n",
       " <Selector xpath=\"//div[@class='largeTitle']/article\" data='<article class=\"js-article-item artic...'>,\n",
       " <Selector xpath=\"//div[@class='largeTitle']/article\" data='<article class=\"js-external-link-wrap...'>,\n",
       " <Selector xpath=\"//div[@class='largeTitle']/article\" data='<article class=\"js-external-link-wrap...'>]"
      ]
     },
     "execution_count": 4,
     "metadata": {},
     "output_type": "execute_result"
    }
   ],
   "source": [
    "sel_noticias.xpath(\"//div[@class='largeTitle']/article\")"
   ]
  },
  {
   "cell_type": "code",
   "execution_count": 5,
   "metadata": {},
   "outputs": [
    {
     "data": {
      "text/plain": [
       "['/news/stock-market-news/banco-pan-pede-registro-para-oferta-de-acoes-detidas-pela-caixapar-838283',\n",
       " '/news/stock-market-news/cia-hering-tem-queda-de-12-no-lucro-do-4o-tri-838253',\n",
       " '/news/stock-market-news/petrobras-confirma-que-leonardo-antonelli-nao-pretende-ser-reconduzido-a-conselho-838245',\n",
       " '/news/stock-market-news/taxas-sobem-na-sessao-regular-e-caem-na-estendida-com-fala-de-lira-e-vacinas-838244',\n",
       " '/news/stock-market-news/em-sessao-volatil-bolsa-fecha-em-leve-baixa-de-032-838242',\n",
       " '/news/stock-market-news/cinco-conselheiros-da-petrobras-rejeitam-reconducao-ao-cargo-838235',\n",
       " '/news/stock-market-news/wall-st-recua-com-queda-de-acoes-de-alta-tecnologia-838213',\n",
       " '/news/stock-market-news/povos-indigenas-processam-controladora-do-gpa-por-destruicao-da-amazonia-838020',\n",
       " '/news/stock-market-news/ibovespa-fecha-em-queda-apos-volatilidade-com-quadro-fiscal-petrobras-pesa-838209',\n",
       " '/news/technology-news/gm-amplia-cortes-de-producao-por-falta-de-chips-stellantis-alerta-para-problemas-838204',\n",
       " '/news/commodities-news/petrobras-investe-para-ampliar-producao-de-diesel-s10-na-reduc-838195',\n",
       " '/news/stock-market-news/ibovespa-flerta-com-azul-mas-volta-a-cair-em-sessao-volatil-por-receios-fiscais-838184',\n",
       " '/news/stock-market-news/vendas-da-divisao-agricola-no-1o-bimestre-superam-o-total-de-2020-diz-embraer-838176',\n",
       " '/news/stock-market-news/ibovespa-estavel-apos-lira-descartar-bolsa-familia-fora-do-teto-de-gastos-838175',\n",
       " '/news/stock-market-news/ibovespa-perde-os-108-mil-com-lockdown-em-sao-paulo-ameaca-ao-teto-de-gastos-838172',\n",
       " '/news/politics/nova-alta-do-petroleo-reforca-mudanca-na-petrobras-diz-bolsonaro-838155',\n",
       " 'https://invst.ly/u0v52',\n",
       " 'https://invst.ly/u0v3h',\n",
       " '/news/stock-market-news/bolsas-da-europa-fecham-mistas-com-foco-em-indicadores-838119',\n",
       " '/news/stock-market-news/bunge-amplia-acoes-no-cerrado-e-quer-eliminar-soja-ligada-a-desmate-legal-em-2025-838114',\n",
       " 'https://invst.ly/u0v2e',\n",
       " 'https://invst.ly/u0u-1',\n",
       " 'https://invst.ly/u0u-3',\n",
       " '/news/stock-market-news/minoritarios-acusam-operador-de-insider-trading-com-acoes-da-petrobras-e-acionam-cvm-838109',\n",
       " 'https://invst.ly/u0u-5',\n",
       " '/news/stock-market-news/desembargador-impoe-a-odebrecht-60-dias-para-novo-plano-de-pagamento-dos-credores-838103',\n",
       " '/news/stock-market-news/cnh-industrial-adquire-parte-da-monarch-tractor-838102',\n",
       " 'https://invst.ly/u0utn',\n",
       " 'https://invst.ly/u0utl',\n",
       " 'https://invst.ly/u0urz',\n",
       " 'https://invst.ly/u0us2',\n",
       " 'https://invst.ly/u0uqk',\n",
       " '/news/stock-market-news/petrobras-vai-aumentar-producao-de-diesel-s10-comecando-pela-reduc-838089',\n",
       " 'https://invst.ly/u0uns',\n",
       " 'https://invst.ly/u0uph']"
      ]
     },
     "execution_count": 5,
     "metadata": {},
     "output_type": "execute_result"
    }
   ],
   "source": [
    "sel_noticias.xpath(\"//div[@class='largeTitle']/article/a/@href\").extract()"
   ]
  },
  {
   "cell_type": "code",
   "execution_count": 6,
   "metadata": {},
   "outputs": [
    {
     "data": {
      "text/plain": [
       "'/news/stock-market-news/vendas-da-divisao-agricola-no-1o-bimestre-superam-o-total-de-2020-diz-embraer-838176'"
      ]
     },
     "execution_count": 6,
     "metadata": {},
     "output_type": "execute_result"
    }
   ],
   "source": [
    "# Exemplo de último link de notícia salvo\n",
    "ultimo_link_salvo = \"https://br.investing.com\" + sel_noticias.xpath(\"//div[@class='largeTitle']/article/a/@href\").extract()[12]\n",
    "ultimo_link_salvo = ultimo_link_salvo.split('https://br.investing.com')[-1]\n",
    "ultimo_link_salvo"
   ]
  },
  {
   "cell_type": "code",
   "execution_count": 7,
   "metadata": {},
   "outputs": [],
   "source": [
    "lista_link_noticias = sel_noticias.xpath(\"//div[@class='largeTitle']/article/a/@href\").extract()\n",
    "nova_lista_link_noticias = []\n",
    "for link_noticia in lista_link_noticias:\n",
    "    if link_noticia == ultimo_link_salvo:\n",
    "        break\n",
    "    if link_noticia.startswith(\"/\"):\n",
    "        link_noticia = \"https://br.investing.com\" + link_noticia\n",
    "        # Não está incluindo links externos de outros sites Ex.:'https://invst.ly/t-p1d'\n",
    "        nova_lista_link_noticias.append(link_noticia)"
   ]
  },
  {
   "cell_type": "code",
   "execution_count": 8,
   "metadata": {},
   "outputs": [
    {
     "data": {
      "text/plain": [
       "['https://br.investing.com/news/stock-market-news/banco-pan-pede-registro-para-oferta-de-acoes-detidas-pela-caixapar-838283',\n",
       " 'https://br.investing.com/news/stock-market-news/cia-hering-tem-queda-de-12-no-lucro-do-4o-tri-838253',\n",
       " 'https://br.investing.com/news/stock-market-news/petrobras-confirma-que-leonardo-antonelli-nao-pretende-ser-reconduzido-a-conselho-838245',\n",
       " 'https://br.investing.com/news/stock-market-news/taxas-sobem-na-sessao-regular-e-caem-na-estendida-com-fala-de-lira-e-vacinas-838244',\n",
       " 'https://br.investing.com/news/stock-market-news/em-sessao-volatil-bolsa-fecha-em-leve-baixa-de-032-838242',\n",
       " 'https://br.investing.com/news/stock-market-news/cinco-conselheiros-da-petrobras-rejeitam-reconducao-ao-cargo-838235',\n",
       " 'https://br.investing.com/news/stock-market-news/wall-st-recua-com-queda-de-acoes-de-alta-tecnologia-838213',\n",
       " 'https://br.investing.com/news/stock-market-news/povos-indigenas-processam-controladora-do-gpa-por-destruicao-da-amazonia-838020',\n",
       " 'https://br.investing.com/news/stock-market-news/ibovespa-fecha-em-queda-apos-volatilidade-com-quadro-fiscal-petrobras-pesa-838209',\n",
       " 'https://br.investing.com/news/technology-news/gm-amplia-cortes-de-producao-por-falta-de-chips-stellantis-alerta-para-problemas-838204',\n",
       " 'https://br.investing.com/news/commodities-news/petrobras-investe-para-ampliar-producao-de-diesel-s10-na-reduc-838195',\n",
       " 'https://br.investing.com/news/stock-market-news/ibovespa-flerta-com-azul-mas-volta-a-cair-em-sessao-volatil-por-receios-fiscais-838184']"
      ]
     },
     "execution_count": 8,
     "metadata": {},
     "output_type": "execute_result"
    }
   ],
   "source": [
    "nova_lista_link_noticias"
   ]
  },
  {
   "cell_type": "markdown",
   "metadata": {},
   "source": [
    "## Selecionando Link de uma notícia"
   ]
  },
  {
   "cell_type": "code",
   "execution_count": 9,
   "metadata": {},
   "outputs": [
    {
     "data": {
      "text/plain": [
       "'https://br.investing.com/news/stock-market-news/ibovespa-flerta-com-azul-mas-volta-a-cair-em-sessao-volatil-por-receios-fiscais-838184'"
      ]
     },
     "execution_count": 9,
     "metadata": {},
     "output_type": "execute_result"
    }
   ],
   "source": [
    "url_noticia = nova_lista_link_noticias[-1]\n",
    "url_noticia"
   ]
  },
  {
   "cell_type": "code",
   "execution_count": 10,
   "metadata": {},
   "outputs": [],
   "source": [
    "req = Request(url_noticia, headers={'User-Agent': 'Mozilla/5.0'})\n",
    "\n",
    "response = urlopen(req, timeout=20).read()\n",
    "noticia_html= response.decode('utf8')"
   ]
  },
  {
   "cell_type": "markdown",
   "metadata": {},
   "source": [
    "## Fazend Web Scraping da noticia"
   ]
  },
  {
   "cell_type": "code",
   "execution_count": 11,
   "metadata": {},
   "outputs": [],
   "source": [
    "sel_noticia = Selector( text = noticia_html )"
   ]
  },
  {
   "cell_type": "code",
   "execution_count": 12,
   "metadata": {},
   "outputs": [
    {
     "data": {
      "text/plain": [
       "'3 horas atrás (03.03.2021 17:25)'"
      ]
     },
     "execution_count": 12,
     "metadata": {},
     "output_type": "execute_result"
    }
   ],
   "source": [
    "atualizacao_data_hora = sel_noticia.xpath(\"//div[@class='contentSectionDetails']/span/text()\").extract()\n",
    "atualizacao_data_hora = atualizacao_data_hora[0]\n",
    "atualizacao_data_hora"
   ]
  },
  {
   "cell_type": "markdown",
   "metadata": {},
   "source": [
    "### Formatando a Data e Hora"
   ]
  },
  {
   "cell_type": "code",
   "execution_count": 13,
   "metadata": {},
   "outputs": [],
   "source": [
    "import re"
   ]
  },
  {
   "cell_type": "code",
   "execution_count": 14,
   "metadata": {},
   "outputs": [
    {
     "data": {
      "text/plain": [
       "['03.03.2021', '17:25']"
      ]
     },
     "execution_count": 14,
     "metadata": {},
     "output_type": "execute_result"
    }
   ],
   "source": [
    "data_hora = re.search(r'\\((.*?)\\)', atualizacao_data_hora).group(1).split(' ')\n",
    "data_hora"
   ]
  },
  {
   "cell_type": "code",
   "execution_count": 15,
   "metadata": {},
   "outputs": [],
   "source": [
    "data_hora_list = []"
   ]
  },
  {
   "cell_type": "code",
   "execution_count": 16,
   "metadata": {},
   "outputs": [
    {
     "name": "stdout",
     "output_type": "stream",
     "text": [
      "Data: [2021, 3, 3]\n"
     ]
    }
   ],
   "source": [
    "data = data_hora[0].split('.')\n",
    "data_hora_list.append(int(data[2]))\n",
    "data_hora_list.append(int(data[1]))\n",
    "data_hora_list.append(int(data[0]))\n",
    "print(f'Data: {data_hora_list}')"
   ]
  },
  {
   "cell_type": "code",
   "execution_count": 17,
   "metadata": {},
   "outputs": [
    {
     "name": "stdout",
     "output_type": "stream",
     "text": [
      "Horario: [2021, 3, 3, 17, 25]\n"
     ]
    }
   ],
   "source": [
    "horario = data_hora[1].split(':')\n",
    "data_hora_list.append(int(horario[0]))\n",
    "data_hora_list.append(int(horario[1]))\n",
    "print(f'Horario: {data_hora_list}')"
   ]
  },
  {
   "cell_type": "code",
   "execution_count": 18,
   "metadata": {},
   "outputs": [
    {
     "data": {
      "text/plain": [
       "datetime.datetime(2021, 3, 3, 17, 25)"
      ]
     },
     "execution_count": 18,
     "metadata": {},
     "output_type": "execute_result"
    }
   ],
   "source": [
    "import datetime\n",
    "datetime.datetime(*data_hora_list)"
   ]
  },
  {
   "cell_type": "markdown",
   "metadata": {},
   "source": [
    "### Pegando título e texto da notícia"
   ]
  },
  {
   "cell_type": "code",
   "execution_count": 19,
   "metadata": {},
   "outputs": [
    {
     "data": {
      "text/plain": [
       "'Ibovespa flerta com azul, mas volta a cair em sessão volátil por receios fiscais'"
      ]
     },
     "execution_count": 19,
     "metadata": {},
     "output_type": "execute_result"
    }
   ],
   "source": [
    "titulo_noticia = sel_noticia.xpath(\"//h1[@class='articleHeader']/text()\").extract()\n",
    "titulo_noticia = titulo_noticia[0]\n",
    "titulo_noticia"
   ]
  },
  {
   "cell_type": "code",
   "execution_count": 20,
   "metadata": {},
   "outputs": [
    {
     "data": {
      "text/plain": [
       "'SÃO PAULO (Reuters) - O   mostrava volatilidade nesta quarta-feira, chegando a trabalhar momentaneamento no azul, em meio a expectativas relacionadas ao cenário fiscal brasileiro, na esteria do agravamento da pandemia de   no país. Às 17:22, o Ibovespa caía 0,23%, a 111.278,38 pontos. Na máxima, chegou a 112.398,24 pontos, em alta de 0,77%, após recuar 3,6% no pior momento mais cedo. O volume financeiro da sessão era de 36,8 bilhões de reais. Em comentário a clientes, o BTG Pactual atribuiu a melhora a comentários do presidente da Câmara dos Deputados, Arthur Lira (PP-AL), no sentido de descartar o Bolsa Família fora do teto de gastos. \"Tanto o Senado quanto a Câmara votarão as PECs sem nenhum risco ao teto de gastos, sem nenhuma excepcionalidade ao teto. Essas especulações não contribuem para o clima de estabilidade e previsibilidade\", afirmou o deputado no Twitter. O novo parecer da PEC Emergencial, com uma versão mais desidratada da proposta, de forma a facilitar sua votação, foi oficialmente protocolado e lido em plenário na terça-feira. No mercado, houve confusão torno de o Bolsa Família ser retirado totalmente ou somente só dos gatilhos fiscais. Na versão protocolada não havia previsão de retirada do Bolsa Família, embora novas mudanças não sejam descartadas. O noticiário vespertino também trazia informações de que o Ministério da Saúde vai assinar com a   (NYSE: ) (SA: ) para comprar vacinas do laboratório contra Covid-19. Um fonte do governo, com conhecimento direto do assunto, disse à Reuters que ainda não está confirmado se o contrato será para a compra de 100 milhões de doses, com a pasta adquirindo toda a produção do laboratório disponível para o Brasil. (Por Paula Arend Laier)'"
      ]
     },
     "execution_count": 20,
     "metadata": {},
     "output_type": "execute_result"
    }
   ],
   "source": [
    "texto_noticia = sel_noticia.xpath(\"//div[@class='WYSIWYG articlePage']/p/text()\").extract()\n",
    "texto_noticia = ' '.join(texto_noticia)\n",
    "texto_noticia"
   ]
  },
  {
   "cell_type": "markdown",
   "metadata": {},
   "source": [
    "# Transformando dados das notícias em DataFrame"
   ]
  },
  {
   "cell_type": "code",
   "execution_count": 15,
   "metadata": {},
   "outputs": [],
   "source": [
    "import pandas as pd\n",
    "import numpy as np"
   ]
  },
  {
   "cell_type": "code",
   "execution_count": 21,
   "metadata": {},
   "outputs": [
    {
     "data": {
      "text/plain": [
       "['url', 'data_hora', 'titulo', 'texto']"
      ]
     },
     "execution_count": 21,
     "metadata": {},
     "output_type": "execute_result"
    }
   ],
   "source": [
    "noticia_label = ['url', 'data_hora', 'titulo', 'texto']\n",
    "noticia_label"
   ]
  },
  {
   "cell_type": "code",
   "execution_count": 20,
   "metadata": {},
   "outputs": [
    {
     "data": {
      "text/plain": [
       "['https://br.investing.com/news/stock-market-news/ross-stores-lucros-e-receita-ficaram-abaixo-consenso-no-q4-837694',\n",
       " '3 horas atrás (02.03.2021 18:05)',\n",
       " 'Ross Stores: lucros e receita ficaram abaixo consenso no Q4',\n",
       " 'Investing.com - Ross Stores (NASDAQ: ) publicou nesta terça-feira o   do quarto trimestre e mostrou lucro que ficou mais fraco do que as projeções dos analistas. A receita ficou menor do que a mediana das previsões. A empresa divulgou que o lucro por ação (LPA) foi de US$ 0,67, resultado que ficou mais fraco do que as previsões dos analistas que apostavam em LPA de US$ 1. \\xa0 A receita do\\xa0quarto trimestre alcançou US$ 4,25B.\\xa0 A expectativa dos analistas do mercado era de receita de US$ 4,27B. No ano, as ações da empresa estão em queda de 4%, desempenho menor do que o   que acumula uma alta de 3% desde janeiro. O resultado da companhia sai após outros balanços importantes de Serviços neste mês.    - Em 2 de fevereiro, Amazon.com também publicou seu balanço, com LPA de US$ 14,09 e receita de US$ 125,56B, comparados a previsões de LPA de US$ 7,19 e receita de US$ 119,7B.  - O balanço publicado em 2 de fevereiro mostrou lucro por ação de US$ 22,03, que\\xa0 superou das expectativas dos analistas de US$ 20,59. A receita ficou em US$ 221,08B, contra projeções de US$ 214,17B']"
      ]
     },
     "execution_count": 20,
     "metadata": {},
     "output_type": "execute_result"
    }
   ],
   "source": [
    "noticia_dados = [url_noticia, atualizacao_data_hora, titulo_noticia, texto_noticia]\n",
    "noticia_dados"
   ]
  },
  {
   "cell_type": "code",
   "execution_count": 22,
   "metadata": {},
   "outputs": [
    {
     "data": {
      "text/html": [
       "<div>\n",
       "<style scoped>\n",
       "    .dataframe tbody tr th:only-of-type {\n",
       "        vertical-align: middle;\n",
       "    }\n",
       "\n",
       "    .dataframe tbody tr th {\n",
       "        vertical-align: top;\n",
       "    }\n",
       "\n",
       "    .dataframe thead th {\n",
       "        text-align: right;\n",
       "    }\n",
       "</style>\n",
       "<table border=\"1\" class=\"dataframe\">\n",
       "  <thead>\n",
       "    <tr style=\"text-align: right;\">\n",
       "      <th></th>\n",
       "      <th>url</th>\n",
       "      <th>data_hora</th>\n",
       "      <th>titulo</th>\n",
       "      <th>texto</th>\n",
       "    </tr>\n",
       "  </thead>\n",
       "  <tbody>\n",
       "    <tr>\n",
       "      <th>0</th>\n",
       "      <td>https://br.investing.com/news/stock-market-new...</td>\n",
       "      <td>3 horas atrás (02.03.2021 18:05)</td>\n",
       "      <td>Ross Stores: lucros e receita ficaram abaixo c...</td>\n",
       "      <td>Investing.com - Ross Stores (NASDAQ: ) publico...</td>\n",
       "    </tr>\n",
       "  </tbody>\n",
       "</table>\n",
       "</div>"
      ],
      "text/plain": [
       "                                                 url  \\\n",
       "0  https://br.investing.com/news/stock-market-new...   \n",
       "\n",
       "                          data_hora  \\\n",
       "0  3 horas atrás (02.03.2021 18:05)   \n",
       "\n",
       "                                              titulo  \\\n",
       "0  Ross Stores: lucros e receita ficaram abaixo c...   \n",
       "\n",
       "                                               texto  \n",
       "0  Investing.com - Ross Stores (NASDAQ: ) publico...  "
      ]
     },
     "execution_count": 22,
     "metadata": {},
     "output_type": "execute_result"
    }
   ],
   "source": [
    "df = pd.DataFrame(np.array([noticia_dados]), columns=noticia_label)\n",
    "df"
   ]
  },
  {
   "cell_type": "code",
   "execution_count": 23,
   "metadata": {},
   "outputs": [
    {
     "data": {
      "text/plain": [
       "'Investing.com - Ross Stores (NASDAQ: ) publicou nesta terça-feira o   do quarto trimestre e mostrou lucro que ficou mais fraco do que as projeções dos analistas. A receita ficou menor do que a mediana das previsões. A empresa divulgou que o lucro por ação (LPA) foi de US$ 0,67, resultado que ficou mais fraco do que as previsões dos analistas que apostavam em LPA de US$ 1. \\xa0 A receita do\\xa0quarto trimestre alcançou US$ 4,25B.\\xa0 A expectativa dos analistas do mercado era de receita de US$ 4,27B. No ano, as ações da empresa estão em queda de 4%, desempenho menor do que o   que acumula uma alta de 3% desde janeiro. O resultado da companhia sai após outros balanços importantes de Serviços neste mês.    - Em 2 de fevereiro, Amazon.com também publicou seu balanço, com LPA de US$ 14,09 e receita de US$ 125,56B, comparados a previsões de LPA de US$ 7,19 e receita de US$ 119,7B.  - O balanço publicado em 2 de fevereiro mostrou lucro por ação de US$ 22,03, que\\xa0 superou das expectativas dos analistas de US$ 20,59. A receita ficou em US$ 221,08B, contra projeções de US$ 214,17B'"
      ]
     },
     "execution_count": 23,
     "metadata": {},
     "output_type": "execute_result"
    }
   ],
   "source": [
    "df['texto'].values[0]"
   ]
  },
  {
   "cell_type": "markdown",
   "metadata": {},
   "source": [
    "# Funções para transformar os dados"
   ]
  },
  {
   "cell_type": "code",
   "execution_count": 24,
   "metadata": {},
   "outputs": [],
   "source": [
    "def transformar_lista_em_tuples(noticia_dados):\n",
    "    noticia_dados_list = []\n",
    "    noticia_dados_list.append(tuple(noticia_dados))\n",
    "    return noticia_dados_list"
   ]
  },
  {
   "cell_type": "code",
   "execution_count": null,
   "metadata": {},
   "outputs": [],
   "source": [
    "noticia_dados = transformar_lista_em_tuples(noticia_dados)\n",
    "noticia_dados"
   ]
  },
  {
   "cell_type": "markdown",
   "metadata": {},
   "source": [
    "# Acesso ao HDFS server (Write and Read)\n",
    "## Criando uma Spark Session"
   ]
  },
  {
   "cell_type": "code",
   "execution_count": 19,
   "metadata": {},
   "outputs": [],
   "source": [
    "from pyspark.sql import SparkSession\n",
    "sparkSession = SparkSession.builder.appName(\"write-read-brinvesting-hdfs\").getOrCreate()"
   ]
  },
  {
   "cell_type": "markdown",
   "metadata": {},
   "source": [
    "## Write Spark DataFrame da Notícia"
   ]
  },
  {
   "cell_type": "code",
   "execution_count": 26,
   "metadata": {},
   "outputs": [
    {
     "data": {
      "text/plain": [
       "DataFrame[url: string, data_hora: string, titulo: string, texto: string]"
      ]
     },
     "execution_count": 26,
     "metadata": {},
     "output_type": "execute_result"
    }
   ],
   "source": [
    "df = sparkSession.createDataFrame(noticia_dados, noticia_label)\n",
    "df"
   ]
  },
  {
   "cell_type": "code",
   "execution_count": 28,
   "metadata": {},
   "outputs": [],
   "source": [
    "df.write.save('hdfs://172.17.177.40:9000/user/hadoopuser/brInvesting/noticias/stock_market_news', format='parquet', mode='append')"
   ]
  },
  {
   "cell_type": "code",
   "execution_count": 29,
   "metadata": {},
   "outputs": [],
   "source": [
    "df_load = sparkSession.read.format('parquet').load('hdfs://172.17.177.40:9000/user/hadoopuser/brInvesting/noticias/stock_market_news')"
   ]
  },
  {
   "cell_type": "code",
   "execution_count": 30,
   "metadata": {},
   "outputs": [
    {
     "name": "stdout",
     "output_type": "stream",
     "text": [
      "+--------------------+--------------------+--------------------+--------------------+\n",
      "|                 url|           data_hora|              titulo|               texto|\n",
      "+--------------------+--------------------+--------------------+--------------------+\n",
      "|https://br.invest...|3 horas atrás (02...|Ross Stores: lucr...|Investing.com - R...|\n",
      "+--------------------+--------------------+--------------------+--------------------+\n",
      "\n"
     ]
    }
   ],
   "source": [
    "df_load.show()"
   ]
  },
  {
   "cell_type": "code",
   "execution_count": 31,
   "metadata": {},
   "outputs": [
    {
     "data": {
      "text/html": [
       "<div>\n",
       "<style scoped>\n",
       "    .dataframe tbody tr th:only-of-type {\n",
       "        vertical-align: middle;\n",
       "    }\n",
       "\n",
       "    .dataframe tbody tr th {\n",
       "        vertical-align: top;\n",
       "    }\n",
       "\n",
       "    .dataframe thead th {\n",
       "        text-align: right;\n",
       "    }\n",
       "</style>\n",
       "<table border=\"1\" class=\"dataframe\">\n",
       "  <thead>\n",
       "    <tr style=\"text-align: right;\">\n",
       "      <th></th>\n",
       "      <th>url</th>\n",
       "      <th>data_hora</th>\n",
       "      <th>titulo</th>\n",
       "      <th>texto</th>\n",
       "    </tr>\n",
       "  </thead>\n",
       "  <tbody>\n",
       "    <tr>\n",
       "      <th>0</th>\n",
       "      <td>https://br.investing.com/news/stock-market-new...</td>\n",
       "      <td>3 horas atrás (02.03.2021 18:05)</td>\n",
       "      <td>Ross Stores: lucros e receita ficaram abaixo c...</td>\n",
       "      <td>Investing.com - Ross Stores (NASDAQ: ) publico...</td>\n",
       "    </tr>\n",
       "  </tbody>\n",
       "</table>\n",
       "</div>"
      ],
      "text/plain": [
       "                                                 url  \\\n",
       "0  https://br.investing.com/news/stock-market-new...   \n",
       "\n",
       "                          data_hora  \\\n",
       "0  3 horas atrás (02.03.2021 18:05)   \n",
       "\n",
       "                                              titulo  \\\n",
       "0  Ross Stores: lucros e receita ficaram abaixo c...   \n",
       "\n",
       "                                               texto  \n",
       "0  Investing.com - Ross Stores (NASDAQ: ) publico...  "
      ]
     },
     "execution_count": 31,
     "metadata": {},
     "output_type": "execute_result"
    }
   ],
   "source": [
    "df_load.toPandas()"
   ]
  },
  {
   "cell_type": "code",
   "execution_count": 32,
   "metadata": {},
   "outputs": [
    {
     "data": {
      "text/plain": [
       "'Investing.com - Ross Stores (NASDAQ: ) publicou nesta terça-feira o   do quarto trimestre e mostrou lucro que ficou mais fraco do que as projeções dos analistas. A receita ficou menor do que a mediana das previsões. A empresa divulgou que o lucro por ação (LPA) foi de US$ 0,67, resultado que ficou mais fraco do que as previsões dos analistas que apostavam em LPA de US$ 1. \\xa0 A receita do\\xa0quarto trimestre alcançou US$ 4,25B.\\xa0 A expectativa dos analistas do mercado era de receita de US$ 4,27B. No ano, as ações da empresa estão em queda de 4%, desempenho menor do que o   que acumula uma alta de 3% desde janeiro. O resultado da companhia sai após outros balanços importantes de Serviços neste mês.    - Em 2 de fevereiro, Amazon.com também publicou seu balanço, com LPA de US$ 14,09 e receita de US$ 125,56B, comparados a previsões de LPA de US$ 7,19 e receita de US$ 119,7B.  - O balanço publicado em 2 de fevereiro mostrou lucro por ação de US$ 22,03, que\\xa0 superou das expectativas dos analistas de US$ 20,59. A receita ficou em US$ 221,08B, contra projeções de US$ 214,17B'"
      ]
     },
     "execution_count": 32,
     "metadata": {},
     "output_type": "execute_result"
    }
   ],
   "source": [
    "df_load.toPandas()['texto'].values[0]"
   ]
  },
  {
   "cell_type": "markdown",
   "metadata": {},
   "source": [
    "# Acesso ao MongoDB (EXEMPLO)"
   ]
  },
  {
   "cell_type": "code",
   "execution_count": 1,
   "metadata": {},
   "outputs": [
    {
     "name": "stdout",
     "output_type": "stream",
     "text": [
      "Defaulting to user installation because normal site-packages is not writeable\n",
      "Collecting pymongo\n",
      "  Downloading pymongo-3.11.3-cp36-cp36m-manylinux2014_x86_64.whl (509 kB)\n",
      "\u001b[K     |████████████████████████████████| 509 kB 621 kB/s eta 0:00:01\n",
      "\u001b[?25hInstalling collected packages: pymongo\n",
      "Successfully installed pymongo-3.11.3\n",
      "\u001b[33mWARNING: You are using pip version 20.2; however, version 21.0.1 is available.\n",
      "You should consider upgrading via the '/usr/bin/python -m pip install --upgrade pip' command.\u001b[0m\n"
     ]
    }
   ],
   "source": [
    "#!pip install pymongo"
   ]
  },
  {
   "cell_type": "code",
   "execution_count": 24,
   "metadata": {},
   "outputs": [],
   "source": [
    "from pymongo import MongoClient"
   ]
  },
  {
   "cell_type": "code",
   "execution_count": 25,
   "metadata": {},
   "outputs": [],
   "source": [
    "cliente = MongoClient('localhost', 27017)"
   ]
  },
  {
   "cell_type": "code",
   "execution_count": 26,
   "metadata": {},
   "outputs": [],
   "source": [
    "cliente = MongoClient('mongodb://localhost:27017/')"
   ]
  },
  {
   "cell_type": "code",
   "execution_count": 27,
   "metadata": {},
   "outputs": [],
   "source": [
    "banco = cliente['noticias']"
   ]
  },
  {
   "cell_type": "markdown",
   "metadata": {},
   "source": [
    "## Inserindo Documento no Mongo"
   ]
  },
  {
   "cell_type": "markdown",
   "metadata": {},
   "source": [
    "### Inserindo apenas um documento"
   ]
  },
  {
   "cell_type": "code",
   "execution_count": 29,
   "metadata": {},
   "outputs": [],
   "source": [
    "import datetime\n",
    "\n",
    "noticia = {\n",
    "    \"url_noticia\": url_noticia,\n",
    "    \"data_hora_noticia\": datetime.datetime(*data_hora_list),\n",
    "    \"titulo_noticia\": titulo_noticia,\n",
    "    \"texto_noticia\": texto_noticia\n",
    "}"
   ]
  },
  {
   "cell_type": "code",
   "execution_count": 30,
   "metadata": {},
   "outputs": [
    {
     "data": {
      "text/plain": [
       "ObjectId('60402542b489f7baa8475c7b')"
      ]
     },
     "execution_count": 30,
     "metadata": {},
     "output_type": "execute_result"
    }
   ],
   "source": [
    "colecao = banco.noticias\n",
    "noticia_id = colecao.insert_one(noticia).inserted_id\n",
    "noticia_id"
   ]
  },
  {
   "cell_type": "markdown",
   "metadata": {},
   "source": [
    "### Inserindo uma lista de documentos"
   ]
  },
  {
   "cell_type": "code",
   "execution_count": 35,
   "metadata": {},
   "outputs": [],
   "source": [
    "musicas = [\n",
    "    {\n",
    "        \"_id\": 1,\n",
    "        \"nome\": \"Radioactive\",\n",
    "        \"banda\": \"Imagine Dragons\",\n",
    "        \"categorias\": [\"indie\", \"rock\"],\n",
    "        \"lancamento\": datetime.datetime.now()\n",
    "    },\n",
    "    {\n",
    "        \"_id\": 2,\n",
    "        \"nome\": \"Hear Me\",\n",
    "        \"banda\": \"Imagine Dragons\",\n",
    "        \"categorias\": [\"indie\", \"rock\"],\n",
    "        \"lancamento\": datetime.datetime.now()\n",
    "    },\n",
    "    {\n",
    "        \"_id\": 3,\n",
    "        \"nome\": \"Demons\",\n",
    "        \"banda\": \"Imagine Dragons\",\n",
    "        \"categorias\": [\"indie\", \"rock\"],\n",
    "        \"lancamento\": datetime.datetime.now()\n",
    "    },\n",
    "    {\n",
    "        \"_id\": 4,\n",
    "        \"nome\": \"Nothing Left To Say\",\n",
    "        \"banda\": \"Imagine Dragons\",\n",
    "        \"categorias\": [\"indie\", \"rock\"],\n",
    "        \"lancamento\": datetime.datetime.now()\n",
    "    },\n",
    "    {\n",
    "        \"_id\": 5,\n",
    "        \"nome\": \"Amsterdam\",\n",
    "        \"banda\": \"Imagine Dragons\",\n",
    "        \"categorias\": [\"indie\", \"rock\"],\n",
    "        \"lancamento\": datetime.datetime.now()\n",
    "    }]"
   ]
  },
  {
   "cell_type": "code",
   "execution_count": 36,
   "metadata": {},
   "outputs": [
    {
     "data": {
      "text/plain": [
       "<pymongo.results.InsertManyResult at 0x7f80b0392bc8>"
      ]
     },
     "execution_count": 36,
     "metadata": {},
     "output_type": "execute_result"
    }
   ],
   "source": [
    "#colecao.insert_many(musicas)"
   ]
  },
  {
   "cell_type": "markdown",
   "metadata": {},
   "source": [
    "## Buscando dados no Mongo"
   ]
  },
  {
   "cell_type": "code",
   "execution_count": 31,
   "metadata": {},
   "outputs": [
    {
     "data": {
      "text/plain": [
       "{'_id': ObjectId('60402542b489f7baa8475c7b'),\n",
       " 'url_noticia': 'https://br.investing.com/news/stock-market-news/ibovespa-flerta-com-azul-mas-volta-a-cair-em-sessao-volatil-por-receios-fiscais-838184',\n",
       " 'data_hora_noticia': datetime.datetime(2021, 3, 3, 17, 25),\n",
       " 'titulo_noticia': 'Ibovespa flerta com azul, mas volta a cair em sessão volátil por receios fiscais',\n",
       " 'texto_noticia': 'SÃO PAULO (Reuters) - O   mostrava volatilidade nesta quarta-feira, chegando a trabalhar momentaneamento no azul, em meio a expectativas relacionadas ao cenário fiscal brasileiro, na esteria do agravamento da pandemia de   no país. Às 17:22, o Ibovespa caía 0,23%, a 111.278,38 pontos. Na máxima, chegou a 112.398,24 pontos, em alta de 0,77%, após recuar 3,6% no pior momento mais cedo. O volume financeiro da sessão era de 36,8 bilhões de reais. Em comentário a clientes, o BTG Pactual atribuiu a melhora a comentários do presidente da Câmara dos Deputados, Arthur Lira (PP-AL), no sentido de descartar o Bolsa Família fora do teto de gastos. \"Tanto o Senado quanto a Câmara votarão as PECs sem nenhum risco ao teto de gastos, sem nenhuma excepcionalidade ao teto. Essas especulações não contribuem para o clima de estabilidade e previsibilidade\", afirmou o deputado no Twitter. O novo parecer da PEC Emergencial, com uma versão mais desidratada da proposta, de forma a facilitar sua votação, foi oficialmente protocolado e lido em plenário na terça-feira. No mercado, houve confusão torno de o Bolsa Família ser retirado totalmente ou somente só dos gatilhos fiscais. Na versão protocolada não havia previsão de retirada do Bolsa Família, embora novas mudanças não sejam descartadas. O noticiário vespertino também trazia informações de que o Ministério da Saúde vai assinar com a   (NYSE: ) (SA: ) para comprar vacinas do laboratório contra Covid-19. Um fonte do governo, com conhecimento direto do assunto, disse à Reuters que ainda não está confirmado se o contrato será para a compra de 100 milhões de doses, com a pasta adquirindo toda a produção do laboratório disponível para o Brasil. (Por Paula Arend Laier)'}"
      ]
     },
     "execution_count": 31,
     "metadata": {},
     "output_type": "execute_result"
    }
   ],
   "source": [
    "colecao.find_one()"
   ]
  },
  {
   "cell_type": "code",
   "execution_count": 32,
   "metadata": {},
   "outputs": [
    {
     "data": {
      "text/plain": [
       "{'_id': ObjectId('60402542b489f7baa8475c7b'),\n",
       " 'url_noticia': 'https://br.investing.com/news/stock-market-news/ibovespa-flerta-com-azul-mas-volta-a-cair-em-sessao-volatil-por-receios-fiscais-838184',\n",
       " 'data_hora_noticia': datetime.datetime(2021, 3, 3, 17, 25),\n",
       " 'titulo_noticia': 'Ibovespa flerta com azul, mas volta a cair em sessão volátil por receios fiscais',\n",
       " 'texto_noticia': 'SÃO PAULO (Reuters) - O   mostrava volatilidade nesta quarta-feira, chegando a trabalhar momentaneamento no azul, em meio a expectativas relacionadas ao cenário fiscal brasileiro, na esteria do agravamento da pandemia de   no país. Às 17:22, o Ibovespa caía 0,23%, a 111.278,38 pontos. Na máxima, chegou a 112.398,24 pontos, em alta de 0,77%, após recuar 3,6% no pior momento mais cedo. O volume financeiro da sessão era de 36,8 bilhões de reais. Em comentário a clientes, o BTG Pactual atribuiu a melhora a comentários do presidente da Câmara dos Deputados, Arthur Lira (PP-AL), no sentido de descartar o Bolsa Família fora do teto de gastos. \"Tanto o Senado quanto a Câmara votarão as PECs sem nenhum risco ao teto de gastos, sem nenhuma excepcionalidade ao teto. Essas especulações não contribuem para o clima de estabilidade e previsibilidade\", afirmou o deputado no Twitter. O novo parecer da PEC Emergencial, com uma versão mais desidratada da proposta, de forma a facilitar sua votação, foi oficialmente protocolado e lido em plenário na terça-feira. No mercado, houve confusão torno de o Bolsa Família ser retirado totalmente ou somente só dos gatilhos fiscais. Na versão protocolada não havia previsão de retirada do Bolsa Família, embora novas mudanças não sejam descartadas. O noticiário vespertino também trazia informações de que o Ministério da Saúde vai assinar com a   (NYSE: ) (SA: ) para comprar vacinas do laboratório contra Covid-19. Um fonte do governo, com conhecimento direto do assunto, disse à Reuters que ainda não está confirmado se o contrato será para a compra de 100 milhões de doses, com a pasta adquirindo toda a produção do laboratório disponível para o Brasil. (Por Paula Arend Laier)'}"
      ]
     },
     "execution_count": 32,
     "metadata": {},
     "output_type": "execute_result"
    }
   ],
   "source": [
    "colecao.find_one({\"url_noticia\": url_noticia})"
   ]
  },
  {
   "cell_type": "code",
   "execution_count": 33,
   "metadata": {},
   "outputs": [],
   "source": [
    "#colecao.find_one({\"_id\": 1})"
   ]
  },
  {
   "cell_type": "code",
   "execution_count": 17,
   "metadata": {},
   "outputs": [
    {
     "data": {
      "text/plain": [
       "7"
      ]
     },
     "execution_count": 17,
     "metadata": {},
     "output_type": "execute_result"
    }
   ],
   "source": [
    "#filter_mongo = {\"banda\":\"Imagine Dragons\"}\n",
    "#colecoes_qtd = colecao.count_documents(filter_mongo)\n",
    "#colecoes_qtd"
   ]
  },
  {
   "cell_type": "code",
   "execution_count": 16,
   "metadata": {},
   "outputs": [
    {
     "name": "stdout",
     "output_type": "stream",
     "text": [
      "None\n",
      "{'_id': 1, 'nome': 'Radioactive', 'banda': 'Imagine Dragons', 'categorias': ['indie', 'rock'], 'lancamento': datetime.datetime(2021, 3, 3, 12, 9, 34, 751000)}\n",
      "{'_id': 2, 'nome': 'Hear Me', 'banda': 'Imagine Dragons', 'categorias': ['indie', 'rock'], 'lancamento': datetime.datetime(2021, 3, 3, 12, 9, 34, 751000)}\n",
      "{'_id': 3, 'nome': 'Demons', 'banda': 'Imagine Dragons', 'categorias': ['indie', 'rock'], 'lancamento': datetime.datetime(2021, 3, 3, 12, 9, 34, 751000)}\n",
      "{'_id': 4, 'nome': 'Nothing Left To Say', 'banda': 'Imagine Dragons', 'categorias': ['indie', 'rock'], 'lancamento': datetime.datetime(2021, 3, 3, 12, 9, 34, 751000)}\n",
      "{'_id': 5, 'nome': 'Amsterdam', 'banda': 'Imagine Dragons', 'categorias': ['indie', 'rock'], 'lancamento': datetime.datetime(2021, 3, 3, 12, 9, 34, 751000)}\n",
      "None\n"
     ]
    }
   ],
   "source": [
    "#for musica_id in range(colecoes_qtd):\n",
    "#    print(colecao.find_one({\"_id\": musica_id}))"
   ]
  },
  {
   "cell_type": "code",
   "execution_count": 14,
   "metadata": {},
   "outputs": [
    {
     "data": {
      "text/plain": [
       "range(0, 7)"
      ]
     },
     "execution_count": 14,
     "metadata": {},
     "output_type": "execute_result"
    }
   ],
   "source": [
    "range(colecao.count_documents(filter_mongo))"
   ]
  },
  {
   "cell_type": "markdown",
   "metadata": {},
   "source": [
    "## Atualizando dados no Mongo"
   ]
  },
  {
   "cell_type": "code",
   "execution_count": 18,
   "metadata": {},
   "outputs": [
    {
     "data": {
      "text/plain": [
       "<pymongo.results.UpdateResult at 0x7f70934cc648>"
      ]
     },
     "execution_count": 18,
     "metadata": {},
     "output_type": "execute_result"
    }
   ],
   "source": [
    "colecao.update_one({'_id': 2}, {'$set': {'nome':'Novo nome'}})"
   ]
  },
  {
   "cell_type": "code",
   "execution_count": 20,
   "metadata": {},
   "outputs": [
    {
     "data": {
      "text/plain": [
       "<pymongo.results.UpdateResult at 0x7f709022fcc8>"
      ]
     },
     "execution_count": 20,
     "metadata": {},
     "output_type": "execute_result"
    }
   ],
   "source": [
    "colecao.update_many({'banda': 'Imagine Dragons'}, {'$set': {'nome':'Novo nome'}})"
   ]
  },
  {
   "cell_type": "markdown",
   "metadata": {},
   "source": [
    "## Deltando dados no Mongo"
   ]
  },
  {
   "cell_type": "code",
   "execution_count": 22,
   "metadata": {},
   "outputs": [
    {
     "data": {
      "text/plain": [
       "<pymongo.results.DeleteResult at 0x7f70934b6648>"
      ]
     },
     "execution_count": 22,
     "metadata": {},
     "output_type": "execute_result"
    }
   ],
   "source": [
    "colecao.delete_one({\"_id\": 1})"
   ]
  },
  {
   "cell_type": "code",
   "execution_count": 23,
   "metadata": {},
   "outputs": [
    {
     "data": {
      "text/plain": [
       "<pymongo.results.DeleteResult at 0x7f709022fa88>"
      ]
     },
     "execution_count": 23,
     "metadata": {},
     "output_type": "execute_result"
    }
   ],
   "source": [
    "colecao.delete_many({\"banda\": \"Imagine Dragons\"})"
   ]
  },
  {
   "cell_type": "code",
   "execution_count": null,
   "metadata": {},
   "outputs": [],
   "source": []
  }
 ],
 "metadata": {
  "kernelspec": {
   "display_name": "Python 3",
   "language": "python",
   "name": "python3"
  },
  "language_info": {
   "codemirror_mode": {
    "name": "ipython",
    "version": 3
   },
   "file_extension": ".py",
   "mimetype": "text/x-python",
   "name": "python",
   "nbconvert_exporter": "python",
   "pygments_lexer": "ipython3",
   "version": "3.6.9"
  }
 },
 "nbformat": 4,
 "nbformat_minor": 4
}
