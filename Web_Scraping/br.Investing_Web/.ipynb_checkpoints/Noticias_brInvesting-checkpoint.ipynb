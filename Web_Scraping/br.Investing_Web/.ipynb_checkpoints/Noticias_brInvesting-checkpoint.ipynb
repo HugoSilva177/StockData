{
 "cells": [
  {
   "cell_type": "markdown",
   "metadata": {},
   "source": [
    "## Imports"
   ]
  },
  {
   "cell_type": "code",
   "execution_count": 1,
   "metadata": {},
   "outputs": [],
   "source": [
    "import io\n",
    "import os.path\n",
    "from scrapy import Selector\n",
    "from datetime import date, datetime\n",
    "from urllib.request import Request, urlopen"
   ]
  },
  {
   "cell_type": "markdown",
   "metadata": {},
   "source": [
    "## Buscando lista de novas notícias no br.Investing"
   ]
  },
  {
   "cell_type": "code",
   "execution_count": 2,
   "metadata": {},
   "outputs": [],
   "source": [
    "#url_novas_noticias = 'https://www.infomoney.com.br/mercados/'\n",
    "url_novas_noticias = 'https://br.investing.com/news/stock-market-news'\n",
    "\n",
    "req = Request(url_novas_noticias, headers={'User-Agent': 'Mozilla/5.0'})\n",
    "\n",
    "response = urlopen(req, timeout=20).read()\n",
    "novas_noticias_html= response.decode('latin-1')\n",
    "#novas_noticias_html= response.decode('utf8')"
   ]
  },
  {
   "cell_type": "code",
   "execution_count": 3,
   "metadata": {},
   "outputs": [],
   "source": [
    "sel_noticias = Selector( text = novas_noticias_html )"
   ]
  },
  {
   "cell_type": "code",
   "execution_count": 4,
   "metadata": {},
   "outputs": [
    {
     "data": {
      "text/plain": [
       "[<Selector xpath=\"//div[@class='largeTitle']/article\" data='<article class=\"js-article-item artic...'>,\n",
       " <Selector xpath=\"//div[@class='largeTitle']/article\" data='<article class=\"js-article-item artic...'>,\n",
       " <Selector xpath=\"//div[@class='largeTitle']/article\" data='<article class=\"js-article-item artic...'>,\n",
       " <Selector xpath=\"//div[@class='largeTitle']/article\" data='<article class=\"js-article-item artic...'>,\n",
       " <Selector xpath=\"//div[@class='largeTitle']/article\" data='<article class=\"js-article-item artic...'>,\n",
       " <Selector xpath=\"//div[@class='largeTitle']/article\" data='<article class=\"js-article-item artic...'>,\n",
       " <Selector xpath=\"//div[@class='largeTitle']/article\" data='<article class=\"articleItem dfp-nativ...'>,\n",
       " <Selector xpath=\"//div[@class='largeTitle']/article\" data='<article class=\"js-article-item artic...'>,\n",
       " <Selector xpath=\"//div[@class='largeTitle']/article\" data='<article class=\"js-article-item artic...'>,\n",
       " <Selector xpath=\"//div[@class='largeTitle']/article\" data='<article class=\"articleItem dfp-nativ...'>,\n",
       " <Selector xpath=\"//div[@class='largeTitle']/article\" data='<article class=\"js-article-item artic...'>,\n",
       " <Selector xpath=\"//div[@class='largeTitle']/article\" data='<article class=\"js-article-item artic...'>,\n",
       " <Selector xpath=\"//div[@class='largeTitle']/article\" data='<article class=\"js-article-item artic...'>,\n",
       " <Selector xpath=\"//div[@class='largeTitle']/article\" data='<article class=\"js-article-item artic...'>,\n",
       " <Selector xpath=\"//div[@class='largeTitle']/article\" data='<article class=\"js-article-item artic...'>,\n",
       " <Selector xpath=\"//div[@class='largeTitle']/article\" data='<article class=\"js-article-item artic...'>,\n",
       " <Selector xpath=\"//div[@class='largeTitle']/article\" data='<article class=\"js-article-item artic...'>,\n",
       " <Selector xpath=\"//div[@class='largeTitle']/article\" data='<article class=\"js-article-item artic...'>,\n",
       " <Selector xpath=\"//div[@class='largeTitle']/article\" data='<article class=\"js-article-item artic...'>,\n",
       " <Selector xpath=\"//div[@class='largeTitle']/article\" data='<article class=\"js-article-item artic...'>,\n",
       " <Selector xpath=\"//div[@class='largeTitle']/article\" data='<article class=\"js-article-item artic...'>,\n",
       " <Selector xpath=\"//div[@class='largeTitle']/article\" data='<article class=\"js-article-item artic...'>,\n",
       " <Selector xpath=\"//div[@class='largeTitle']/article\" data='<article class=\"js-article-item artic...'>,\n",
       " <Selector xpath=\"//div[@class='largeTitle']/article\" data='<article class=\"js-article-item artic...'>,\n",
       " <Selector xpath=\"//div[@class='largeTitle']/article\" data='<article class=\"js-article-item artic...'>,\n",
       " <Selector xpath=\"//div[@class='largeTitle']/article\" data='<article class=\"js-article-item artic...'>,\n",
       " <Selector xpath=\"//div[@class='largeTitle']/article\" data='<article class=\"js-article-item artic...'>,\n",
       " <Selector xpath=\"//div[@class='largeTitle']/article\" data='<article class=\"js-article-item artic...'>,\n",
       " <Selector xpath=\"//div[@class='largeTitle']/article\" data='<article class=\"js-article-item artic...'>,\n",
       " <Selector xpath=\"//div[@class='largeTitle']/article\" data='<article class=\"js-article-item artic...'>,\n",
       " <Selector xpath=\"//div[@class='largeTitle']/article\" data='<article class=\"js-external-link-wrap...'>,\n",
       " <Selector xpath=\"//div[@class='largeTitle']/article\" data='<article class=\"js-external-link-wrap...'>,\n",
       " <Selector xpath=\"//div[@class='largeTitle']/article\" data='<article class=\"js-article-item artic...'>,\n",
       " <Selector xpath=\"//div[@class='largeTitle']/article\" data='<article class=\"js-external-link-wrap...'>,\n",
       " <Selector xpath=\"//div[@class='largeTitle']/article\" data='<article class=\"js-article-item artic...'>,\n",
       " <Selector xpath=\"//div[@class='largeTitle']/article\" data='<article class=\"js-external-link-wrap...'>,\n",
       " <Selector xpath=\"//div[@class='largeTitle']/article\" data='<article class=\"js-external-link-wrap...'>]"
      ]
     },
     "execution_count": 4,
     "metadata": {},
     "output_type": "execute_result"
    }
   ],
   "source": [
    "sel_noticias.xpath(\"//div[@class='largeTitle']/article\")"
   ]
  },
  {
   "cell_type": "code",
   "execution_count": 5,
   "metadata": {},
   "outputs": [
    {
     "data": {
      "text/plain": [
       "['/news/stock-market-news/dona-da-marca-de-carne-de-frango-super-frango-pede-registro-para-ipo-834659',\n",
       " '/news/economic-indicators/acoes-europeias-recuam-com-perdas-de-tecnologia-e-pressao-de-rendimentos-dos-titulos-834658',\n",
       " '/news/stock-market-news/mourao-diz-que-petrobras-ja-tomou-outros-tombos-no-passado-e-voltou-834642',\n",
       " '/news/stock-market-news/lira-diz-que-reacao-do-mercado-sobre-petrobras-e-bolha-histerica-e-precisa-ser-sanada-834613',\n",
       " '/news/stock-market-news/governo-deve-publicar-mp-de-privatizacao-da-eletrobras-nesta-terca-dizem-fontes-834624',\n",
       " '/news/stock-market-news/wall-street-abre-em-baixa-antes-de-discurso-de-powell-834559',\n",
       " '/news/stock-market-news/entrevista-politica-de-precos-da-petrobras-esta-blindada-834621',\n",
       " '/news/stock-market-news/cvm-pede-relatorios-de-compliance-mais-detalhados-a-administradores-de-carteira-834620',\n",
       " '/news/stock-market-news/bolsonaro-diz-que-ha-muita-coisa-errada-na-petrobras-e-que-silva-e-luna-arrumara-834607',\n",
       " '/news/stock-market-news/tesla-tropeca-conforme-bitcoin-devolve-os-ganhos-834582',\n",
       " '/news/stock-market-news/por-ilicitos-em-contrato-com-petrobras-samsung-heavy-industries-fecha-leniencia-834581',\n",
       " '/news/stock-market-news/petrobras-reage-e-lidera-recuperacao-do-ibovespa-mas-ny-freia-impeto-834578',\n",
       " '/news/stock-market-news/bb-anuncia-r16-bi-para-precusteio-202122-e-quer-crescer-carteira-agro-em-10-834577',\n",
       " '/news/stock-market-news/gpa-reporta-resultados-do-4t-apos-o-fechamento-veja-estimativas-834570',\n",
       " '/news/stock-market-news/brumadinhovale-marco-aurelio-nega-pedido-de-partidos-e-movimentos-contra-acordo-834563',\n",
       " '/news/stock-market-news/recuperacao-marca-bolsa-apesar-de-exterior-negativo-e-duvidas-sobre-petrobras-834561',\n",
       " '/news/stock-market-news/negocio-da-cogna-com-a-eleva-decepciona-analistas-por-desalavancagem-timida-834550',\n",
       " '/news/stock-market-news/superintendencia-do-cade-aprova-parceria-de-klabin-e-timber-em-spe-834538',\n",
       " '/news/stock-market-news/gpa-sobe-com-resultado-do-assai-varejista-reporta-nesta-terca-834519',\n",
       " '/news/stock-market-news/estrangeiro-reduz-posicao-vendida-em-taxa-de-juro-futuro-pela-4a-sessao-seguida-834518',\n",
       " '/news/stock-market-news/juros-taxas-futuras-se-ajustam-em-leve-baixa-com-dolar-e-apos-alta-da-vespera-834517',\n",
       " '/news/stock-market-news/petrobras-reage-e-lidera-recuperacao-do-ibovespa-nos-primeiros-negocios-834511',\n",
       " '/news/stock-market-news/isa-cteep-avanca-com-resultados-do-4t-em-linha-com-expectativas-834494',\n",
       " '/news/stock-market-news/acoes-petrobras-bb-e-eletrobras-recuperam-parte-do-tombo-varejistas-recuam-834489',\n",
       " '/news/stock-market-news/csn-mineracao-avanca-apos-reportar-alta-de-88-no-lucro-liquido-do-4t-834490',\n",
       " '/news/stock-market-news/movida-tem-alta-de-65-no-lucro-liquido-ajustado-do-4o-tri-834495',\n",
       " '/news/stock-market-news/fique-por-dentro-das-5-principais-noticias-do-mercado-desta-tercafeira-834436',\n",
       " '/news/stock-market-news/bndespar-vende-acoes-da-vale-e-confirma-nao-ter-mais-participacao-na-mineradora-834479',\n",
       " 'https://invst.ly/txs73',\n",
       " 'https://invst.ly/txs74',\n",
       " '/news/stock-market-news/lucro-do-assai-cresce-31-no-4o-tri-para-r299-mi-834473',\n",
       " 'https://invst.ly/txs44',\n",
       " '/news/stock-market-news/futuros-do-nasdaq-caem-com-investidores-de-olho-em-comentarios-de-powell-sobre-inflacao-834470',\n",
       " 'https://invst.ly/txs3y',\n",
       " 'https://invst.ly/txs3w']"
      ]
     },
     "execution_count": 5,
     "metadata": {},
     "output_type": "execute_result"
    }
   ],
   "source": [
    "sel_noticias.xpath(\"//div[@class='largeTitle']/article/a/@href\").extract()"
   ]
  },
  {
   "cell_type": "markdown",
   "metadata": {},
   "source": [
    "## Selecionando Link de uma notícia"
   ]
  },
  {
   "cell_type": "code",
   "execution_count": 6,
   "metadata": {},
   "outputs": [
    {
     "data": {
      "text/plain": [
       "'/news/stock-market-news/futuros-do-nasdaq-caem-com-investidores-de-olho-em-comentarios-de-powell-sobre-inflacao-834470'"
      ]
     },
     "execution_count": 6,
     "metadata": {},
     "output_type": "execute_result"
    }
   ],
   "source": [
    "url_noticia = sel_noticias.xpath(\"//div[@class='largeTitle']/article/a/@href\").extract()[-3]\n",
    "url_noticia"
   ]
  },
  {
   "cell_type": "code",
   "execution_count": 7,
   "metadata": {},
   "outputs": [
    {
     "data": {
      "text/plain": [
       "'https://br.investing.com/news/stock-market-news/futuros-do-nasdaq-caem-com-investidores-de-olho-em-comentarios-de-powell-sobre-inflacao-834470'"
      ]
     },
     "execution_count": 7,
     "metadata": {},
     "output_type": "execute_result"
    }
   ],
   "source": [
    "if url_noticia.startswith(\"/news/\"):\n",
    "    url_noticia = \"https://br.investing.com\" + url_noticia\n",
    "url_noticia"
   ]
  },
  {
   "cell_type": "code",
   "execution_count": 8,
   "metadata": {},
   "outputs": [],
   "source": [
    "req = Request(url_noticia, headers={'User-Agent': 'Mozilla/5.0'})\n",
    "\n",
    "response = urlopen(req, timeout=20).read()\n",
    "noticia_html= response.decode('utf8')"
   ]
  },
  {
   "cell_type": "markdown",
   "metadata": {},
   "source": [
    "## Fazend Web Scraping da noticia"
   ]
  },
  {
   "cell_type": "code",
   "execution_count": 9,
   "metadata": {},
   "outputs": [],
   "source": [
    "sel_noticia = Selector( text = noticia_html )"
   ]
  },
  {
   "cell_type": "code",
   "execution_count": 15,
   "metadata": {},
   "outputs": [
    {
     "data": {
      "text/plain": [
       "['5 horas atrás (23.02.2021 09:32)']"
      ]
     },
     "execution_count": 15,
     "metadata": {},
     "output_type": "execute_result"
    }
   ],
   "source": [
    "atualizacao_data_hora = sel_noticia.xpath(\"//div[@class='contentSectionDetails']/span/text()\").extract()\n",
    "atualizacao_data_hora"
   ]
  },
  {
   "cell_type": "code",
   "execution_count": null,
   "metadata": {},
   "outputs": [],
   "source": [
    "## CONTINUAR DAQUI. CONFIGURAR DE ACORDO COM A PÁGINA br.investing"
   ]
  },
  {
   "cell_type": "code",
   "execution_count": null,
   "metadata": {},
   "outputs": [],
   "source": []
  },
  {
   "cell_type": "code",
   "execution_count": null,
   "metadata": {},
   "outputs": [],
   "source": []
  },
  {
   "cell_type": "code",
   "execution_count": null,
   "metadata": {},
   "outputs": [],
   "source": []
  },
  {
   "cell_type": "code",
   "execution_count": 12,
   "metadata": {},
   "outputs": [
    {
     "data": {
      "text/plain": [
       "['https://www.infomoney.com.br/autor/rodrigo-tolotti-umpieres/',\n",
       " '\\n\\t\\t\\t\\t\\tRodrigo Tolotti\\t\\t\\t\\t']"
      ]
     },
     "execution_count": 12,
     "metadata": {},
     "output_type": "execute_result"
    }
   ],
   "source": [
    "autor_noticia = sel_noticia.xpath(\"//span[@class='author-name']/a/@href | //span[@class='author-name']/a/text()\").extract()\n",
    "autor_noticia"
   ]
  },
  {
   "cell_type": "code",
   "execution_count": 13,
   "metadata": {},
   "outputs": [
    {
     "data": {
      "text/plain": [
       "['Ibovespa sobe com recuperação das ações da Petrobras após derrocada da véspera; dólar vira para alta']"
      ]
     },
     "execution_count": 13,
     "metadata": {},
     "output_type": "execute_result"
    }
   ],
   "source": [
    "titulo_noticia = sel_noticia.xpath(\"//h1[@class='page-title-1']/text()\").extract()\n",
    "titulo_noticia"
   ]
  },
  {
   "cell_type": "code",
   "execution_count": 14,
   "metadata": {},
   "outputs": [
    {
     "data": {
      "text/plain": [
       "['Investidores acompanham hoje a reunião do Conselho da Petrobras, enquanto no exterior os papéis de empresas de tecnologia seguem em queda']"
      ]
     },
     "execution_count": 14,
     "metadata": {},
     "output_type": "execute_result"
    }
   ],
   "source": [
    "sub_titulo_noticia = sel_noticia.xpath(\"//p[@class='article-lead']/text()\").extract()\n",
    "sub_titulo_noticia"
   ]
  },
  {
   "cell_type": "code",
   "execution_count": 15,
   "metadata": {},
   "outputs": [
    {
     "data": {
      "text/plain": [
       "['SÃO PAULO – O ',\n",
       " ' tenta recuperar parte das perdas de 4,9% da véspera apesar do cenário ainda tenso no mercado. O índice sobe nesta terça-feira (23) enquanto investidores seguem atentos ao noticiário da Petrobras (',\n",
       " '; ',\n",
       " ') e ao exterior, onde as principais bolsas registram queda.',\n",
       " 'No radar da estatal, ocorre hoje a reunião do Conselho de Administração, que deve analisar a indicação do nome do general Joaquim Silva e Luna para substituir Roberto Castello Branco no comando da empresa. No início do pregão de hoje, as ações da estatal sobem mais de 7%, após a derrocada de 20% da véspera.',\n",
       " 'Apesar do tema na reunião, dificilmente haverá uma decisão ainda nesta terça, já que existe um rito que deve ser obedecido antes que o Conselho vote a indicação do presidente. Uma nova assembleia deve ser marcada em até 30 dias.',\n",
       " 'Do lado macroeconômico, as atenções se voltam ao ministro da Economia, Paulo Guedes, que fala em evento sobre a Organização para Cooperação e Desenvolvimento Econômico (OCDE) à tarde. Lá fora, o presidente do Federal Reserve dará depoimento no Congresso dos Estados Unidos.',\n",
       " 'Às 11h59 (horário de Brasília), o benchmark da bolsa registrava alta de 0,86%, a 113.631 pontos.',\n",
       " 'Enquanto isso, o dólar comercial opera em alta de 0,33% a R$ 5,4716 na compra e a R$ 5,4721 na venda. Já o dólar futuro com vencimento em março opera praticamente estável, com leve variação positiva de 0,05%, a R$ 5,472.',\n",
       " 'No mercado de juros futuros, o DI para janeiro de 2022 cai cinco pontos-base a 3,48%, o DI para janeiro de 2023 tem queda de seis pontos-base a 5,26%, o DI para janeiro de 2025 recua três pontos-base a 6,90% e o DI para janeiro de 2027 registra variação positiva de um ponto-base a 7,58%.',\n",
       " 'No exterior, as bolsas continuam a ter quedas nesta terça. Na véspera, fortes perdas no setor de tecnologia afetaram o índice S&P 500 e Nasdaq. A alta contínua nos juros de títulos do Tesouro americano continua a alimentar o temor de que empresas com rápido crescimento tenham dificuldade de se financiar. Também há receio de migração de investidores do mercado de ações para esses papéis.',\n",
       " 'Nos EUA, o pacote democrata segue avançando nas comissões da Câmara. A Casa pode aprová-lo em plenário até o fim da semana. Apesar da falta de consenso entre os democratas para o avanço do aumento do salário mínimo, grande parte do US$ 1,9 trilhão segue com menores resistências.',\n",
       " 'Os títulos com vencimento em dez anos continuaram a se valorizar, a 1,376% pela madrugada. Os títulos com vencimento em 30 anos subiram a 2,198%.',\n",
       " 'As bolsas europeias têm quedas também. A presidente do Banco Central Europeu (BCE), Christine Lagarde, afirmou em um discurso que a instituição “continua a monitorar a evolução dos juros nominais de títulos”. Os juros de títulos europeus tiveram quedas, em aparente resposta a sua fala.',\n",
       " 'Os mercados europeus continuam em uma tendência cautelosa, observando o desempenho na Ásia e nos Estados Unidos, onde ações do setor de tecnologia tiveram quedas nas negociações de overnight.',\n",
       " 'As ações do Reino Unido acumulam quedas menores, após o governo britânico divulgar propostas na segunda-feira sobre como pretende encerrar as restrições de lockdowns, implementadas em reação ao coronavírus. A reabertura deve ser gradual, mas o governo planeja encerrar todas as restrições ainda em 2021.',\n",
       " 'De acordo com informações do Valor, aguardado pela classe política para destravar mais quatro meses de pagamento do auxílio emergencial, o parecer do senador Márcio Bittar (MDB-AC) sobre a proposta de emenda constitucional (PEC) emergencial foi adiado de novo, desta vez para hoje, diante de impasses nas negociações.',\n",
       " 'Desde o fim do ano passado, a proposta já vem sendo desidratada para excluir as medidas de ajuste fiscal mais duras e, no fim de semana, ocorreu uma nova rodada de “enxugamento”. A votação em primeiro turno no plenário do Senado está marcada para quinta-feira e o parecer seria apresentado formalmente ontem, após ser enviado para os partidos para uma análise final, mas questões polêmicas como o fim do piso para gastos com saúde e educação levaram a mais negociações e adiaram o protocolo.',\n",
       " 'Ainda no radar dos mercados, a Fiocruz (Fundação Oswaldo Cruz) anunciou que mais 2 milhões de doses da vacina desenvolvida pela parceria entre Universidade de Oxford e a farmacêutica AstraZeneca devem chegar ao Rio nesta terça.',\n",
       " 'O Instituto Butantan, em São Paulo, também anunciou que vai entregar 2,7 milhões de doses da CoronaVac, produzida em parceria com o laboratório chinês Sinovac, nesta semana.',\n",
       " 'O aumento da ocupação de leitos de UTI em São Paulo devem levar o governo do estado a anunciar uma nova revisão no combate a pandemia e impor na quarta limitações de mobilidade e funcionamento de estabelecimentos em algumas regiões.',\n",
       " 'Na segunda, o estado registrava 6.410 pacientes internados em UTIs com covid. A máxima havia sido de 6.250, segundo apontou o coordenador executivo do Centro de Contingência do Coronavírus de São Paulo, João Gabbardo, em coletiva à imprensa no Palácio do Bandeirantes. Por isso, a equipe multidisciplinar que comanda apresentou recomendações extraordinárias, que deverão ser anunciadas na quarta.',\n",
       " 'Além disso, o presidente do Senado, Rodrigo Pacheco (DEM-MG), afirmou, após reunião com o ministro da Saúde, general Eduardo Pazuello, que o Congresso deve elaborar um projeto autorizando não só União, mas estados, municípios e a iniciativa privada a assumirem a compra de vacinas contra a Covid. A proposta seria uma forma de viabilizar um acordo para compra dos imunizantes desenvolvidos pela Janssen, que pertence à Johnson & Johnson, e pela parceria entre Pfizer e BioNTech.',\n",
       " '“Identificamos um caminho inteligente, que eu considero seguro, que é de uma alternativa legislativa. Um projeto que será concebido, eu acredito, ainda hoje no âmbito do Senado Federal para que encontremos um caminho que autorize a União, mas também Estados e municípios a assumirem os riscos das compras das vacinas”, afirmou Pacheco.',\n",
       " 'No domingo, o Ministério da Saúde divulgou uma nota afirmando que pedira apoio ao Planalto para destravar negociações com as farmacêuticas. A Pfizer afirmou que as cláusulas estão em linha com aquilo pedido em outros países. A Janssen afirmou que mantém diálogo frequente com a pasta e com a Anvisa, e que os termos contratuais estão em linha com o pedido em outros países.',\n",
       " 'O Conselho de administração da Petrobras (',\n",
       " '; ',\n",
       " ') se reúne nesta terça-feira para examinar pedido do governo de realização de Assembleia Geral Extraordinária para discutir os próximos passos da companhia, após o presidente Jair Bolsonaro indicar o general da reserva Joaquim Silva e Luna, diretor-geral da Itaipu Binacional, para ocupar o cargo de presidente da estatal. Na véspera, os papéis caíram cerca de 20%, na pior queda desde 9 de março de 2020, em meio aos sinais de maior intervenção estatal na empresa.',\n",
       " 'Vale destacar que, na noite da véspera, o relator da Lei de Responsabilidade das Estatais no Senado, o senador Tasso Jereissati enviou carta aos conselheiros da Petrobras e ao presidente da Comissão de Valores Mobiliários (CVM), Marcelo Barbosa, para alertar que a troca de comando da companhia feita pelo presidente Jair Bolsonaro está em desacordo com a legislação aprovada em 2016. Na carta, o senador tucano manifesta preocupação com a decisão do presidente e diz que a decisão de Bolsonaro não visa o interesse da empresa. Veja mais clicando aqui.',\n",
       " 'Na segunda-feira, os mercados reagiram negativamente à troca do comando da Petrobras de Roberto Castello Branco pelo general Joaquim Silva e Luna, anunciada no final da semana anterior pelo presidente Jair Bolsonaro (sem partido). Os papéis preferenciais da estatal desabaram 21,5%, enquanto as ações ordinárias despencaram 20,5%. O Ibovespa caiu 4,9%.',\n",
       " 'A desvalorização da Petrobras ultrapassou a marca de R$ 100 bilhões. Como Bolsonaro havia indicado mudanças em outras estatais, o Banco do Brasil também teve quedas de R$ 12,6 bilhões. A cotação do dólar atingiu R$ 5,45, e o risco país subiu 11%.',\n",
       " 'Após a interferência, Bolsonaro afirmou a apoiadores em frente ao Palácio da Alvorada que “ninguém vai interferir na política de preços da Petrobras”, em uma declaração transmitida por um canal simpático ao presidente. “Eu não peço não, eu exijo transparência de quem é subordinado meu”, afirmou.',\n",
       " '“Falaram interferência minha. Baixou o preço do combustível? Foi anunciado 15% [de aumento] no diesel, 10% na gasolina. Abaixou o percentual? Está valendo o mesmo percentual? Como é que houve interferência? O que eu quero da Petrobras e exijo é transparência e previsibilidade, nada mais além disso”, afirmou.',\n",
       " 'O vice Hamilton Mourão afirmou que a mudança está dentro da atribuição do presidente, e disse que não vê interferência. Ele afirmou que vê como solução a criação de um fundo soberano a partir de royalties do petróleo, que poderia ser usado para compensar momentos de flutuação de preços.',\n",
       " 'Ao analisar uma ação popular, a Justiça Federal de Minas Gerais decidiu que o presidente e a Petrobras têm 72 horas para explicar os motivos que levaram ao anúncio da mudança.]',\n",
       " 'Na ação, dois advogados pedem que a Justiça dê uma liminar para barrar a troca na direção da Petrobras. O juiz federal André Prado de Vasconcelos decidiu que, antes de julgar o pedido, quer ouvir as partes envolvidas.',\n",
       " '“Por oportuno, destaco que, conforme amplamente divulgado pelos veículos de comunicação, a aprovação do indicado para a presidência da Petrobras depende de deliberação do respectivo Conselho de Administração, ainda não ocorrida”, disse.',\n",
       " '“Assim, intimem-se os réus tão-somente para manifestação, no prazo de 72 (setenta e duas) horas, sobre o pedido de liminar, articulando, de forma concisa e objetiva, as razões e argumentos que entender pertinentes e relevantes à discussão da causa”, afirmou o magistrado.',\n",
       " 'A Advocacia-Geral da União, que representa o presidente judicialmente, disse que não comenta processos em tramitação na Justiça. A Petrobras não respondeu de imediato pedido de comentário.',\n",
       " 'A temporada de resultados prossegue e tem como destaque a CSN, que lucrou R$ 3,897 bilhões no 4º trimestre de 2020, alta de quase 3,5 vezes ante o lucro de R$ 1,134 bilhão em igual período de 2019. A receita líquida somou R$ 9,794 bilhões de outubro a dezembro do ano passado, 50,1% maior ante os R$ 6,524 bilhões de igual intervalo de 2019.',\n",
       " 'Já a Itaúsa teve lucro líquido de R$ 3,66 bilhões no quarto trimestre, alta de 6,2% ante mesma etapa de 2019. A Transmissão Paulista viu o lucro líquido do quarto trimestre de 2020 subir 8,4%, a R$ 374,4 milhões, contra os R$ 345,4 milhões registrados nos últimos três meses de 2019. A companhia ainda aprovou dividendos intermediários de R$ 531,2 milhões. Após o fechamento, serão divulgados os balanços de GPA e Unidas.',\n",
       " 'O Banco do Brasil informou na segunda não ter recebido qualquer indicação de mudança na composição de seu corpo diretivo. O fato relevante divulgado pela instituição se deve o recente noticiário envolvendo a companhia e a oscilação atípica dos papéis. As ações do banco despencaram 11,65% nesta segunda, em meio aos temores de que o BB seria o próximo alvo de interferências do governo. Em valor de mercado, a empresa perdeu R$ 10,9 bilhões apenas no pregão de hoje.',\n",
       " 'A Braskem investe US$ 61 milhões para ampliar capacidade de eteno verde.']"
      ]
     },
     "execution_count": 15,
     "metadata": {},
     "output_type": "execute_result"
    }
   ],
   "source": [
    "texto_noticia = sel_noticia.xpath(\"//div[@class='col-md-9 col-lg-8 col-xl-6  m-sm-auto m-lg-0 article-content']/p/text()\").extract()\n",
    "texto_noticia"
   ]
  },
  {
   "cell_type": "code",
   "execution_count": null,
   "metadata": {},
   "outputs": [],
   "source": []
  }
 ],
 "metadata": {
  "kernelspec": {
   "display_name": "Python 3",
   "language": "python",
   "name": "python3"
  },
  "language_info": {
   "codemirror_mode": {
    "name": "ipython",
    "version": 3
   },
   "file_extension": ".py",
   "mimetype": "text/x-python",
   "name": "python",
   "nbconvert_exporter": "python",
   "pygments_lexer": "ipython3",
   "version": "3.6.9"
  }
 },
 "nbformat": 4,
 "nbformat_minor": 4
}
