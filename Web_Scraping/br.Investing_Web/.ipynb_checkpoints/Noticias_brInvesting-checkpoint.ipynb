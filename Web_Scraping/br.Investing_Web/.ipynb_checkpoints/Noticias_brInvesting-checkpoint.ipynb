{
 "cells": [
  {
   "cell_type": "markdown",
   "metadata": {},
   "source": [
    "## Imports"
   ]
  },
  {
   "cell_type": "code",
   "execution_count": 1,
   "metadata": {},
   "outputs": [],
   "source": [
    "import io\n",
    "import os.path\n",
    "from scrapy import Selector\n",
    "from datetime import date, datetime\n",
    "from urllib.request import Request, urlopen"
   ]
  },
  {
   "cell_type": "markdown",
   "metadata": {},
   "source": [
    "## Buscando lista de novas notícias no br.Investing"
   ]
  },
  {
   "cell_type": "code",
   "execution_count": 2,
   "metadata": {},
   "outputs": [],
   "source": [
    "#url_novas_noticias = 'https://www.infomoney.com.br/mercados/'\n",
    "url_novas_noticias = 'https://br.investing.com/news/stock-market-news'\n",
    "\n",
    "req = Request(url_novas_noticias, headers={'User-Agent': 'Mozilla/5.0'})\n",
    "\n",
    "response = urlopen(req, timeout=20).read()\n",
    "novas_noticias_html= response.decode('latin-1')\n",
    "#novas_noticias_html= response.decode('utf8')"
   ]
  },
  {
   "cell_type": "code",
   "execution_count": 3,
   "metadata": {},
   "outputs": [],
   "source": [
    "sel_noticias = Selector( text = novas_noticias_html )"
   ]
  },
  {
   "cell_type": "code",
   "execution_count": 16,
   "metadata": {},
   "outputs": [
    {
     "data": {
      "text/plain": [
       "[<Selector xpath=\"//div[@class='largeTitle']/article\" data='<article class=\"js-article-item artic...'>,\n",
       " <Selector xpath=\"//div[@class='largeTitle']/article\" data='<article class=\"js-article-item artic...'>,\n",
       " <Selector xpath=\"//div[@class='largeTitle']/article\" data='<article class=\"js-article-item artic...'>,\n",
       " <Selector xpath=\"//div[@class='largeTitle']/article\" data='<article class=\"js-article-item artic...'>,\n",
       " <Selector xpath=\"//div[@class='largeTitle']/article\" data='<article class=\"js-article-item artic...'>,\n",
       " <Selector xpath=\"//div[@class='largeTitle']/article\" data='<article class=\"js-article-item artic...'>,\n",
       " <Selector xpath=\"//div[@class='largeTitle']/article\" data='<article class=\"articleItem dfp-nativ...'>,\n",
       " <Selector xpath=\"//div[@class='largeTitle']/article\" data='<article class=\"js-article-item artic...'>,\n",
       " <Selector xpath=\"//div[@class='largeTitle']/article\" data='<article class=\"js-article-item artic...'>,\n",
       " <Selector xpath=\"//div[@class='largeTitle']/article\" data='<article class=\"articleItem dfp-nativ...'>,\n",
       " <Selector xpath=\"//div[@class='largeTitle']/article\" data='<article class=\"js-article-item artic...'>,\n",
       " <Selector xpath=\"//div[@class='largeTitle']/article\" data='<article class=\"js-article-item artic...'>,\n",
       " <Selector xpath=\"//div[@class='largeTitle']/article\" data='<article class=\"js-article-item artic...'>,\n",
       " <Selector xpath=\"//div[@class='largeTitle']/article\" data='<article class=\"js-article-item artic...'>,\n",
       " <Selector xpath=\"//div[@class='largeTitle']/article\" data='<article class=\"js-article-item artic...'>,\n",
       " <Selector xpath=\"//div[@class='largeTitle']/article\" data='<article class=\"js-article-item artic...'>,\n",
       " <Selector xpath=\"//div[@class='largeTitle']/article\" data='<article class=\"js-article-item artic...'>,\n",
       " <Selector xpath=\"//div[@class='largeTitle']/article\" data='<article class=\"js-article-item artic...'>,\n",
       " <Selector xpath=\"//div[@class='largeTitle']/article\" data='<article class=\"js-article-item artic...'>,\n",
       " <Selector xpath=\"//div[@class='largeTitle']/article\" data='<article class=\"js-article-item artic...'>,\n",
       " <Selector xpath=\"//div[@class='largeTitle']/article\" data='<article class=\"js-article-item artic...'>,\n",
       " <Selector xpath=\"//div[@class='largeTitle']/article\" data='<article class=\"js-article-item artic...'>,\n",
       " <Selector xpath=\"//div[@class='largeTitle']/article\" data='<article class=\"js-article-item artic...'>,\n",
       " <Selector xpath=\"//div[@class='largeTitle']/article\" data='<article class=\"js-article-item artic...'>,\n",
       " <Selector xpath=\"//div[@class='largeTitle']/article\" data='<article class=\"js-article-item artic...'>,\n",
       " <Selector xpath=\"//div[@class='largeTitle']/article\" data='<article class=\"js-article-item artic...'>,\n",
       " <Selector xpath=\"//div[@class='largeTitle']/article\" data='<article class=\"js-article-item artic...'>,\n",
       " <Selector xpath=\"//div[@class='largeTitle']/article\" data='<article class=\"js-external-link-wrap...'>,\n",
       " <Selector xpath=\"//div[@class='largeTitle']/article\" data='<article class=\"js-external-link-wrap...'>,\n",
       " <Selector xpath=\"//div[@class='largeTitle']/article\" data='<article class=\"js-external-link-wrap...'>,\n",
       " <Selector xpath=\"//div[@class='largeTitle']/article\" data='<article class=\"js-external-link-wrap...'>,\n",
       " <Selector xpath=\"//div[@class='largeTitle']/article\" data='<article class=\"js-external-link-wrap...'>,\n",
       " <Selector xpath=\"//div[@class='largeTitle']/article\" data='<article class=\"js-article-item artic...'>,\n",
       " <Selector xpath=\"//div[@class='largeTitle']/article\" data='<article class=\"js-article-item artic...'>,\n",
       " <Selector xpath=\"//div[@class='largeTitle']/article\" data='<article class=\"js-external-link-wrap...'>,\n",
       " <Selector xpath=\"//div[@class='largeTitle']/article\" data='<article class=\"js-external-link-wrap...'>,\n",
       " <Selector xpath=\"//div[@class='largeTitle']/article\" data='<article class=\"js-external-link-wrap...'>,\n",
       " <Selector xpath=\"//div[@class='largeTitle']/article\" data='<article class=\"js-external-link-wrap...'>]"
      ]
     },
     "execution_count": 16,
     "metadata": {},
     "output_type": "execute_result"
    }
   ],
   "source": [
    "sel_noticias.xpath(\"//div[@class='largeTitle']/article\")"
   ]
  },
  {
   "cell_type": "code",
   "execution_count": 17,
   "metadata": {},
   "outputs": [
    {
     "data": {
      "text/plain": [
       "['/news/stock-market-news/hypera-divulga-resultados-solidos-veja-o-que-dizem-os-analistas-837297',\n",
       " '/news/stock-market-news/mercado-livre-vai-investir-r-10-bi-no-brasil-em-2021-837281',\n",
       " '/news/stock-market-news/copasa-tem-lucro-liquido-de-r-268754-milhoes-no-4o-trimestre-alta-de-53-837280',\n",
       " '/jp.php?v2=MHA1azRjMmhjNGFpZjM1MzVkNGY_PmJlYHdkNjU_Zy45fzI7ZDw3cT83OSczbzNpNEcxbj42ZnBiNG48OntuLTB3NWs0ZDJvYzFhZWYjNXQ1aTRtPz1idmAhZGo=',\n",
       " '/news/stock-market-news/jbs-vai-captar-ate-r18-bi-com-debentures-para-compra-de-gado-837271',\n",
       " '/news/stock-market-news/telefonica-avalia-termos-finais-e-valor-do-edital-5g-mas-ja-confirma-interesse-837268',\n",
       " '/news/stock-market-news/telefonicagebara-queremos-ser-hub-de-distribuicao-de-solucoes-digitais-837267',\n",
       " '/news/stock-market-news/bolsas-de-ny-fecham-em-alta-impulsionadas-por-estimulos-e-vacinacao-837265',\n",
       " '/news/stock-market-news/taxas-sobem-pressionadas-por-treasuries-risco-fiscal-e-de-inflacao-837263',\n",
       " '/news/stock-market-news/com-foco-em-bancos-bolsa-limita-alta-no-fechamento-a-027-837261',\n",
       " '/news/stock-market-news/wall-st-tem-rali-com-estabilizacao-de-yields-dos-treasuries-837221',\n",
       " '/news/stock-market-news/nestle-e-embrapa-anunciam-parceria-para-pecuaria-leiteira-de-baixo-carbono-837256',\n",
       " '/news/stock-market-news/sony-vai-parar-de-vender-produtos-eletronicos-no-brasil-837198',\n",
       " '/news/stock-market-news/ibovespa-fecha-em-alta-mas-reduz-folego-com-receio-sobre-compensacoes-fiscais-837240',\n",
       " '/news/stock-market-news/zoom-divulga-resultados-surpreendentes-no-quarto-trimestre-acoes-disparam-837232',\n",
       " '/news/stock-market-news/ibovespa-fecha-em-alta-mas-longe-de-maxima-e-com-receio-sobre-compensacoes-fiscais-837216',\n",
       " '/news/stock-market-news/gm-promove-layoff-no-interior-de-sp-por-falta-de-pecas-diz-sindicato-837193',\n",
       " '/news/stock-market-news/fusao-da-hapvida-intermedica-cria-gigante-da-saude-veja-o-que-dizem-os-analistas-837152',\n",
       " '/news/technology-news/logitech-eleva-perspectiva-para-2021-com-efeito-de-pandemia-837147',\n",
       " '/news/stock-market-news/gm-vai-dar-layoff-e-suspender-segundo-turno-em-sao-jose-dos-campos-837131',\n",
       " '/news/stock-market-news/pdt-aciona-supremo-para-derrubar-mp-da-privatizacao-da-eletrobras-de-bolsonaro-837130',\n",
       " '/news/stock-market-news/calendario-de-balancos-petrorio-magazine-luiza-azul-reportam-nesta-semana-837121',\n",
       " '/news/stock-market-news/bolsas-da-europa-fecham-em-alta-puxadas-por-indicadores-e-pacote-fiscal-nos-eua-837119',\n",
       " '/news/stock-market-news/tribunal-de-sao-paulo-rejeita-vinculo-de-emprego-de-motorista-com-a-uber-837105',\n",
       " '/news/stock-market-news/caso-aprovada-fusao-com-hapvida-sera-transformacional-no-setor-diz-notre-dame-837104',\n",
       " 'https://invst.ly/t-p1d',\n",
       " 'https://invst.ly/t-o-h',\n",
       " 'https://invst.ly/t-o-i',\n",
       " 'https://invst.ly/t-p0f',\n",
       " 'https://invst.ly/t-p1h',\n",
       " '/news/stock-market-news/renault-anuncia-investimento-de-r-11-bi-no-brasil-837081',\n",
       " '/news/stock-market-news/acoes-europeias-tem-melhor-pregao-em-quase-4-meses-apos-liquidacao-por-titulos-837079',\n",
       " 'https://invst.ly/t-oyb',\n",
       " 'https://invst.ly/t-oy9',\n",
       " 'https://invst.ly/t-ouc',\n",
       " 'https://invst.ly/t-oq2']"
      ]
     },
     "execution_count": 17,
     "metadata": {},
     "output_type": "execute_result"
    }
   ],
   "source": [
    "sel_noticias.xpath(\"//div[@class='largeTitle']/article/a/@href\").extract()"
   ]
  },
  {
   "cell_type": "code",
   "execution_count": 6,
   "metadata": {},
   "outputs": [
    {
     "data": {
      "text/plain": [
       "'/news/stock-market-news/sony-vai-parar-de-vender-produtos-eletronicos-no-brasil-837198'"
      ]
     },
     "execution_count": 6,
     "metadata": {},
     "output_type": "execute_result"
    }
   ],
   "source": [
    "# Exemplo de último link de notícia salvo\n",
    "ultimo_link_salvo = sel_noticias.xpath(\"//div[@class='largeTitle']/article/a/@href\").extract()[12]\n",
    "ultimo_link_salvo"
   ]
  },
  {
   "cell_type": "code",
   "execution_count": 18,
   "metadata": {},
   "outputs": [],
   "source": [
    "lista_link_noticias = sel_noticias.xpath(\"//div[@class='largeTitle']/article/a/@href\").extract()\n",
    "nova_lista_link_noticias = []\n",
    "for link_noticia in lista_link_noticias:\n",
    "    if link_noticia == ultimo_link_salvo:\n",
    "        break\n",
    "    if link_noticia.startswith(\"/\"):\n",
    "        link_noticia = \"https://br.investing.com\" + link_noticia\n",
    "        # Não está incluindo links externos de outros sites Ex.:'https://invst.ly/t-p1d'\n",
    "        nova_lista_link_noticias.append(link_noticia)"
   ]
  },
  {
   "cell_type": "code",
   "execution_count": 19,
   "metadata": {},
   "outputs": [
    {
     "data": {
      "text/plain": [
       "['https://br.investing.com/news/stock-market-news/hypera-divulga-resultados-solidos-veja-o-que-dizem-os-analistas-837297',\n",
       " 'https://br.investing.com/news/stock-market-news/mercado-livre-vai-investir-r-10-bi-no-brasil-em-2021-837281',\n",
       " 'https://br.investing.com/news/stock-market-news/copasa-tem-lucro-liquido-de-r-268754-milhoes-no-4o-trimestre-alta-de-53-837280',\n",
       " 'https://br.investing.com/jp.php?v2=MHA1azRjMmhjNGFpZjM1MzVkNGY_PmJlYHdkNjU_Zy45fzI7ZDw3cT83OSczbzNpNEcxbj42ZnBiNG48OntuLTB3NWs0ZDJvYzFhZWYjNXQ1aTRtPz1idmAhZGo=',\n",
       " 'https://br.investing.com/news/stock-market-news/jbs-vai-captar-ate-r18-bi-com-debentures-para-compra-de-gado-837271',\n",
       " 'https://br.investing.com/news/stock-market-news/telefonica-avalia-termos-finais-e-valor-do-edital-5g-mas-ja-confirma-interesse-837268',\n",
       " 'https://br.investing.com/news/stock-market-news/telefonicagebara-queremos-ser-hub-de-distribuicao-de-solucoes-digitais-837267',\n",
       " 'https://br.investing.com/news/stock-market-news/bolsas-de-ny-fecham-em-alta-impulsionadas-por-estimulos-e-vacinacao-837265',\n",
       " 'https://br.investing.com/news/stock-market-news/taxas-sobem-pressionadas-por-treasuries-risco-fiscal-e-de-inflacao-837263',\n",
       " 'https://br.investing.com/news/stock-market-news/com-foco-em-bancos-bolsa-limita-alta-no-fechamento-a-027-837261',\n",
       " 'https://br.investing.com/news/stock-market-news/wall-st-tem-rali-com-estabilizacao-de-yields-dos-treasuries-837221',\n",
       " 'https://br.investing.com/news/stock-market-news/nestle-e-embrapa-anunciam-parceria-para-pecuaria-leiteira-de-baixo-carbono-837256',\n",
       " 'https://br.investing.com/news/stock-market-news/sony-vai-parar-de-vender-produtos-eletronicos-no-brasil-837198',\n",
       " 'https://br.investing.com/news/stock-market-news/ibovespa-fecha-em-alta-mas-reduz-folego-com-receio-sobre-compensacoes-fiscais-837240',\n",
       " 'https://br.investing.com/news/stock-market-news/zoom-divulga-resultados-surpreendentes-no-quarto-trimestre-acoes-disparam-837232',\n",
       " 'https://br.investing.com/news/stock-market-news/ibovespa-fecha-em-alta-mas-longe-de-maxima-e-com-receio-sobre-compensacoes-fiscais-837216',\n",
       " 'https://br.investing.com/news/stock-market-news/gm-promove-layoff-no-interior-de-sp-por-falta-de-pecas-diz-sindicato-837193',\n",
       " 'https://br.investing.com/news/stock-market-news/fusao-da-hapvida-intermedica-cria-gigante-da-saude-veja-o-que-dizem-os-analistas-837152',\n",
       " 'https://br.investing.com/news/technology-news/logitech-eleva-perspectiva-para-2021-com-efeito-de-pandemia-837147',\n",
       " 'https://br.investing.com/news/stock-market-news/gm-vai-dar-layoff-e-suspender-segundo-turno-em-sao-jose-dos-campos-837131',\n",
       " 'https://br.investing.com/news/stock-market-news/pdt-aciona-supremo-para-derrubar-mp-da-privatizacao-da-eletrobras-de-bolsonaro-837130',\n",
       " 'https://br.investing.com/news/stock-market-news/calendario-de-balancos-petrorio-magazine-luiza-azul-reportam-nesta-semana-837121',\n",
       " 'https://br.investing.com/news/stock-market-news/bolsas-da-europa-fecham-em-alta-puxadas-por-indicadores-e-pacote-fiscal-nos-eua-837119',\n",
       " 'https://br.investing.com/news/stock-market-news/tribunal-de-sao-paulo-rejeita-vinculo-de-emprego-de-motorista-com-a-uber-837105',\n",
       " 'https://br.investing.com/news/stock-market-news/caso-aprovada-fusao-com-hapvida-sera-transformacional-no-setor-diz-notre-dame-837104',\n",
       " 'https://br.investing.com/news/stock-market-news/renault-anuncia-investimento-de-r-11-bi-no-brasil-837081',\n",
       " 'https://br.investing.com/news/stock-market-news/acoes-europeias-tem-melhor-pregao-em-quase-4-meses-apos-liquidacao-por-titulos-837079']"
      ]
     },
     "execution_count": 19,
     "metadata": {},
     "output_type": "execute_result"
    }
   ],
   "source": [
    "nova_lista_link_noticias"
   ]
  },
  {
   "cell_type": "markdown",
   "metadata": {},
   "source": [
    "## Selecionando Link de uma notícia"
   ]
  },
  {
   "cell_type": "code",
   "execution_count": 10,
   "metadata": {},
   "outputs": [
    {
     "data": {
      "text/plain": [
       "'https://br.investing.com/news/stock-market-news/nestle-e-embrapa-anunciam-parceria-para-pecuaria-leiteira-de-baixo-carbono-837256'"
      ]
     },
     "execution_count": 10,
     "metadata": {},
     "output_type": "execute_result"
    }
   ],
   "source": [
    "url_noticia = nova_lista_link_noticias[-1]\n",
    "url_noticia"
   ]
  },
  {
   "cell_type": "code",
   "execution_count": 11,
   "metadata": {},
   "outputs": [],
   "source": [
    "req = Request(url_noticia, headers={'User-Agent': 'Mozilla/5.0'})\n",
    "\n",
    "response = urlopen(req, timeout=20).read()\n",
    "noticia_html= response.decode('utf8')"
   ]
  },
  {
   "cell_type": "markdown",
   "metadata": {},
   "source": [
    "## Fazend Web Scraping da noticia"
   ]
  },
  {
   "cell_type": "code",
   "execution_count": 12,
   "metadata": {},
   "outputs": [],
   "source": [
    "sel_noticia = Selector( text = noticia_html )"
   ]
  },
  {
   "cell_type": "code",
   "execution_count": 13,
   "metadata": {},
   "outputs": [
    {
     "data": {
      "text/plain": [
       "['1 hora atrás (01.03.2021 18:55)']"
      ]
     },
     "execution_count": 13,
     "metadata": {},
     "output_type": "execute_result"
    }
   ],
   "source": [
    "atualizacao_data_hora = sel_noticia.xpath(\"//div[@class='contentSectionDetails']/span/text()\").extract()\n",
    "atualizacao_data_hora"
   ]
  },
  {
   "cell_type": "code",
   "execution_count": 14,
   "metadata": {},
   "outputs": [
    {
     "data": {
      "text/plain": [
       "['Nestlé e Embrapa anunciam parceria para pecuária leiteira de baixo carbono']"
      ]
     },
     "execution_count": 14,
     "metadata": {},
     "output_type": "execute_result"
    }
   ],
   "source": [
    "titulo_noticia = sel_noticia.xpath(\"//h1[@class='articleHeader']/text()\").extract()\n",
    "titulo_noticia"
   ]
  },
  {
   "cell_type": "code",
   "execution_count": 15,
   "metadata": {},
   "outputs": [
    {
     "data": {
      "text/plain": [
       "['SÃO PAULO (Reuters) - A Nestlé\\xa0(SIX:',\n",
       " ') e a Empresa Brasileira de Pesquisa Agropecuária (Embrapa) firmaram uma parceria para o desenvolvimento das primeiras fazendas de pecuária leiteira com emissão líquida zero de carbono no Brasil, informou a companhia suíça nesta segunda-feira.',\n",
       " 'A iniciativa, que prevê que as unidades iniciais \"net zero\" tenham pilotos ainda em 2021, faz parte de uma parceria mais ampla que promoverá também o desenvolvimento de um protocolo nacional pioneiro para pecuária de leite de baixo carbono.',\n",
       " 'Segundo a Nestlé, o projeto integra o compromisso global da empresa de neutralizar as emissões de suas operações até 2050, incluindo as cadeias de oferta. A promessa conta com metas intermediárias de redução de 20% até 2025 e 50% até 2030.',\n",
       " '\"Atualmente, não existe nenhuma ferramenta que consiga mensurar de forma realista e adaptada para a realidade brasileira as emissões geradas em propriedades leiteiras\", disse a gerente de Desenvolvimento de Fornecedores e Qualidade da Nestlé Brasil, Barbara Sollero.',\n",
       " '\"Nosso objetivo, como uma das principais empresas captadoras de leite do Brasil, é justamente... criar um protocolo com diretrizes claras para a produção de leite de baixo carbono\", acrescentou.',\n",
       " 'Dessa forma, além das fazendas de emissão líquida zero, Nestlé e Embrapa pretendem criar guias e materiais com orientações para os produtores, bem como uma calculadora que mostrará o balanço de carbono das propriedades, utilizando métricas e modelos matemáticos adaptados pela Embrapa.',\n",
       " 'O projeto visa considerar, em um protocolo amplo, questões como manejo de solo, transporte, manejo e alimentação dos animais e manejo dos dejetos.',\n",
       " 'A Nestlé realiza medições das pegadas de carbono de fazendas leiteiras do Brasil desde 2018, mas com uma ferramenta que não traduz 100% a realidade brasileira, pois tem como base indicadores globais, sem foco nos climas tropicais.',\n",
       " 'Com o novo projeto, pretende trazer critérios específicos para o Brasil, incluindo os dados de fazendas em diferentes biomas e sistemas de produção e a criação de planos individualizados para as propriedades.',\n",
       " '\"Para se chegar ao leite de baixo carbono é preciso adotar diferentes tecnologias, boas práticas de manejo na fazenda, nutrição, estrutura de rebanho e uso de sistemas integrados e florestas plantadas\", afirmou o chefe de Pesquisa e Desenvolvimento da Embrapa Pecuária Sudeste, Alexandre Berndt.',\n",
       " 'As companhias não detalharam datas previstas para o lançamento do novo protocolo e valores envolvidos na parceria.',\n",
       " '(Por Gabriel Araujo)']"
      ]
     },
     "execution_count": 15,
     "metadata": {},
     "output_type": "execute_result"
    }
   ],
   "source": [
    "texto_noticia = sel_noticia.xpath(\"//div[@class='WYSIWYG articlePage']/p/text()\").extract()\n",
    "texto_noticia"
   ]
  },
  {
   "cell_type": "code",
   "execution_count": null,
   "metadata": {},
   "outputs": [],
   "source": []
  }
 ],
 "metadata": {
  "kernelspec": {
   "display_name": "Python 3",
   "language": "python",
   "name": "python3"
  },
  "language_info": {
   "codemirror_mode": {
    "name": "ipython",
    "version": 3
   },
   "file_extension": ".py",
   "mimetype": "text/x-python",
   "name": "python",
   "nbconvert_exporter": "python",
   "pygments_lexer": "ipython3",
   "version": "3.6.9"
  }
 },
 "nbformat": 4,
 "nbformat_minor": 4
}
