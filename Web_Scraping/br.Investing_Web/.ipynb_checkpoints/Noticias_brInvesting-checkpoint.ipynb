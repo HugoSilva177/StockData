{
 "cells": [
  {
   "cell_type": "markdown",
   "metadata": {},
   "source": [
    "## Imports"
   ]
  },
  {
   "cell_type": "code",
   "execution_count": 1,
   "metadata": {},
   "outputs": [],
   "source": [
    "import io\n",
    "import os.path\n",
    "from scrapy import Selector\n",
    "from datetime import date, datetime\n",
    "from urllib.request import Request, urlopen"
   ]
  },
  {
   "cell_type": "markdown",
   "metadata": {},
   "source": [
    "## Buscando lista de novas notícias no br.Investing"
   ]
  },
  {
   "cell_type": "code",
   "execution_count": 2,
   "metadata": {},
   "outputs": [],
   "source": [
    "#url_novas_noticias = 'https://www.infomoney.com.br/mercados/'\n",
    "url_novas_noticias = 'https://br.investing.com/news/stock-market-news'\n",
    "\n",
    "req = Request(url_novas_noticias, headers={'User-Agent': 'Mozilla/5.0'})\n",
    "\n",
    "response = urlopen(req, timeout=20).read()\n",
    "novas_noticias_html= response.decode('latin-1')\n",
    "#novas_noticias_html= response.decode('utf8')"
   ]
  },
  {
   "cell_type": "code",
   "execution_count": 3,
   "metadata": {},
   "outputs": [],
   "source": [
    "sel_noticias = Selector( text = novas_noticias_html )"
   ]
  },
  {
   "cell_type": "code",
   "execution_count": 4,
   "metadata": {},
   "outputs": [
    {
     "data": {
      "text/plain": [
       "[<Selector xpath=\"//div[@class='largeTitle']/article\" data='<article class=\"js-article-item artic...'>,\n",
       " <Selector xpath=\"//div[@class='largeTitle']/article\" data='<article class=\"js-article-item artic...'>,\n",
       " <Selector xpath=\"//div[@class='largeTitle']/article\" data='<article class=\"js-article-item artic...'>,\n",
       " <Selector xpath=\"//div[@class='largeTitle']/article\" data='<article class=\"js-article-item artic...'>,\n",
       " <Selector xpath=\"//div[@class='largeTitle']/article\" data='<article class=\"js-article-item artic...'>,\n",
       " <Selector xpath=\"//div[@class='largeTitle']/article\" data='<article class=\"js-article-item artic...'>,\n",
       " <Selector xpath=\"//div[@class='largeTitle']/article\" data='<article class=\"articleItem dfp-nativ...'>,\n",
       " <Selector xpath=\"//div[@class='largeTitle']/article\" data='<article class=\"js-article-item artic...'>,\n",
       " <Selector xpath=\"//div[@class='largeTitle']/article\" data='<article class=\"js-article-item artic...'>,\n",
       " <Selector xpath=\"//div[@class='largeTitle']/article\" data='<article class=\"articleItem dfp-nativ...'>,\n",
       " <Selector xpath=\"//div[@class='largeTitle']/article\" data='<article class=\"js-article-item artic...'>,\n",
       " <Selector xpath=\"//div[@class='largeTitle']/article\" data='<article class=\"js-article-item artic...'>,\n",
       " <Selector xpath=\"//div[@class='largeTitle']/article\" data='<article class=\"js-article-item artic...'>,\n",
       " <Selector xpath=\"//div[@class='largeTitle']/article\" data='<article class=\"js-article-item artic...'>,\n",
       " <Selector xpath=\"//div[@class='largeTitle']/article\" data='<article class=\"js-article-item artic...'>,\n",
       " <Selector xpath=\"//div[@class='largeTitle']/article\" data='<article class=\"js-article-item artic...'>,\n",
       " <Selector xpath=\"//div[@class='largeTitle']/article\" data='<article class=\"js-article-item artic...'>,\n",
       " <Selector xpath=\"//div[@class='largeTitle']/article\" data='<article class=\"js-article-item artic...'>,\n",
       " <Selector xpath=\"//div[@class='largeTitle']/article\" data='<article class=\"js-article-item artic...'>,\n",
       " <Selector xpath=\"//div[@class='largeTitle']/article\" data='<article class=\"js-article-item artic...'>,\n",
       " <Selector xpath=\"//div[@class='largeTitle']/article\" data='<article class=\"js-article-item artic...'>,\n",
       " <Selector xpath=\"//div[@class='largeTitle']/article\" data='<article class=\"js-article-item artic...'>,\n",
       " <Selector xpath=\"//div[@class='largeTitle']/article\" data='<article class=\"js-article-item artic...'>,\n",
       " <Selector xpath=\"//div[@class='largeTitle']/article\" data='<article class=\"js-article-item artic...'>,\n",
       " <Selector xpath=\"//div[@class='largeTitle']/article\" data='<article class=\"js-article-item artic...'>,\n",
       " <Selector xpath=\"//div[@class='largeTitle']/article\" data='<article class=\"js-article-item artic...'>,\n",
       " <Selector xpath=\"//div[@class='largeTitle']/article\" data='<article class=\"js-article-item artic...'>,\n",
       " <Selector xpath=\"//div[@class='largeTitle']/article\" data='<article class=\"js-article-item artic...'>,\n",
       " <Selector xpath=\"//div[@class='largeTitle']/article\" data='<article class=\"js-article-item artic...'>,\n",
       " <Selector xpath=\"//div[@class='largeTitle']/article\" data='<article class=\"js-article-item artic...'>,\n",
       " <Selector xpath=\"//div[@class='largeTitle']/article\" data='<article class=\"js-article-item artic...'>,\n",
       " <Selector xpath=\"//div[@class='largeTitle']/article\" data='<article class=\"js-article-item artic...'>,\n",
       " <Selector xpath=\"//div[@class='largeTitle']/article\" data='<article class=\"js-article-item artic...'>,\n",
       " <Selector xpath=\"//div[@class='largeTitle']/article\" data='<article class=\"js-article-item artic...'>,\n",
       " <Selector xpath=\"//div[@class='largeTitle']/article\" data='<article class=\"js-article-item artic...'>,\n",
       " <Selector xpath=\"//div[@class='largeTitle']/article\" data='<article class=\"js-article-item artic...'>,\n",
       " <Selector xpath=\"//div[@class='largeTitle']/article\" data='<article class=\"js-article-item artic...'>]"
      ]
     },
     "execution_count": 4,
     "metadata": {},
     "output_type": "execute_result"
    }
   ],
   "source": [
    "sel_noticias.xpath(\"//div[@class='largeTitle']/article\")"
   ]
  },
  {
   "cell_type": "code",
   "execution_count": 5,
   "metadata": {},
   "outputs": [
    {
     "data": {
      "text/plain": [
       "['/news/stock-market-news/aeris-anuncia-contrato-de-r3-bi-para-fornecer-pas-eolicas-a-siemens-gamesa-834925',\n",
       " '/news/stock-market-news/bolsonaro-entrega-mp-da-eletrobras-ao-congresso-e-lira-diz-que-medida-vai-a-plenario-semana-que-vem-834922',\n",
       " '/news/stock-market-news/entrevista-carro-por-assinatura-para-pessoa-fisica-e-aposta-da-movida-para-2021-834920',\n",
       " '/news/stock-market-news/lucro-da-unidas-mais-do-que-dobra-no-4o-tri-834917',\n",
       " '/news/stock-market-news/eletrobras-confirma-recebimento-de-oficio-do-governo-sobre-mp-para-privatizacao-834903',\n",
       " '/news/stock-market-news/conselho-da-petrobras-autoriza-convocacao-de-assembleia-para-destituicao-de-castello-branco-834866',\n",
       " '/news/stock-market-news/conselho-da-petrobras-autoriza-convocacao-de-assembleia-geral-extraordinaria-834897',\n",
       " '/news/stock-market-news/equipe-de-silva-e-luna-ja-fez-contato-com-petrobras-e-prepara-transicao-834896',\n",
       " '/news/stock-market-news/lucro-liquido-ajustado-da-xp-sobe-73-no-4o-tri-de-2020-para-r-721-milhoes-834880',\n",
       " '/news/stock-market-news/bolsonaro-elogia-guedes-e-diz-que-nao-quer-briga-com-petrobras-834879',\n",
       " '/news/stock-market-news/vale-nivel-de-emergencia-da-barragem-itabirucu-mg-foi-retirado-834878',\n",
       " '/news/stock-market-news/juros-caem-com-otimismo-sobre-reformas-elogio-de-bolsonaro-a-guedes-e-powell-834877',\n",
       " '/news/stock-market-news/com-recuperacao-tecnica-bolsa-fecha-em-alta-de-227-aos-11522746-pontos-834875',\n",
       " '/news/stock-market-news/sp-500-encerra-em-alta-ao-fim-de-sessao-de-oscilacao-834816',\n",
       " '/news/stock-market-news/petrobras-recebe-oferta-da-sbm-para-fornecimento-de-plataforma-mero-4-dizem-fontes-834823',\n",
       " '/news/stock-market-news/engie-brasil-e-autorizada-a-operar-comercialmente-campo-largo-ix-na-bahia-834856',\n",
       " '/news/stock-market-news/anapetro-entra-na-cvm-contra-a-venda-da-rlam-ao-fundo-mubadala-834848',\n",
       " '/news/stock-market-news/engie-parque-eolico-campo-largo-ix-recebe-autorizacao-da-aneel-para-operar-834847',\n",
       " '/news/stock-market-news/xp-tem-lucro-de-r721-mi-no-4o-tri-834821',\n",
       " '/news/stock-market-news/bolsas-de-ny-fecham-sem-sinal-unico-puxadas-por-powell-e-com-treasuries-no-radar-834845',\n",
       " '/news/stock-market-news/petrobras-pode-ter-ceo-interino-por-prazo-legal-de-troca-de-comando-dizem-fontes-834842',\n",
       " '/news/stock-market-news/bolsonaro-afaga-guedes-em-evento-no-planalto-e-diz-nao-haver-briga-com-petrobras-834776',\n",
       " '/news/technology-news/motoristas-da-uber-na-frica-do-sul-tambem-pedem-direitos-trabalhistas-834781',\n",
       " '/news/stock-market-news/ibovespa-fecha-em-alta-com-reacao-de-petrobras-e-bancos-eletrobras-dispara-834806',\n",
       " '/news/stock-market-news/mp-da-privatizacao-da-eletrobras-sera-levada-nesta-tercafeira-ao-congresso-nacional-834815',\n",
       " '/news/stock-market-news/tim-anuncia-metas-de-crescimento-para-o-trienio-20212023-834812',\n",
       " '/news/stock-market-news/antt-aprova-celebracao-de-aditivo-para-estender-prazo-de-concessao-da-dutra-834811',\n",
       " '/news/stock-market-news/intuit-lucros-e-receita-ficaram-abaixo-consenso-no-q2-834805',\n",
       " '/news/stock-market-news/risco-politico-com-petrobras-aumenta-incerteza-para-setor-de-etanol-diz-fitch-834795',\n",
       " '/news/stock-market-news/csn-diz-que-vai-aumentar-precos-de-aco-em-marco-e-ve-necessidade-de-novo-reajuste-no-2o-tri-834785',\n",
       " '/news/stock-market-news/petrobras-solta-esclarecimento-sobre-politica-de-remuneracao-da-diretoria-834768',\n",
       " '/news/stock-market-news/banco-pan-caixa-informou-sobre-possibilidade-de-eventual-venda-de-acoes-834767',\n",
       " '/news/stock-market-news/cvm-abre-novo-processo-envolvendo-supervisao-da-petrobras-834746',\n",
       " '/news/stock-market-news/cvm-multa-executivo-da-refit-por-falha-na-divulgacao-de-informacoes-834745',\n",
       " '/news/stock-market-news/nota-de-esclarecimento-alertas-fora-do-horario-de-funcionamento-do-mercado-834731']"
      ]
     },
     "execution_count": 5,
     "metadata": {},
     "output_type": "execute_result"
    }
   ],
   "source": [
    "sel_noticias.xpath(\"//div[@class='largeTitle']/article/a/@href\").extract()"
   ]
  },
  {
   "cell_type": "markdown",
   "metadata": {},
   "source": [
    "## Selecionando Link de uma notícia"
   ]
  },
  {
   "cell_type": "code",
   "execution_count": 16,
   "metadata": {},
   "outputs": [
    {
     "data": {
      "text/plain": [
       "'/news/stock-market-news/equipe-de-silva-e-luna-ja-fez-contato-com-petrobras-e-prepara-transicao-834896'"
      ]
     },
     "execution_count": 16,
     "metadata": {},
     "output_type": "execute_result"
    }
   ],
   "source": [
    "url_noticia = sel_noticias.xpath(\"//div[@class='largeTitle']/article/a/@href\").extract()[7]\n",
    "url_noticia"
   ]
  },
  {
   "cell_type": "code",
   "execution_count": 17,
   "metadata": {},
   "outputs": [
    {
     "data": {
      "text/plain": [
       "'https://br.investing.com/news/stock-market-news/equipe-de-silva-e-luna-ja-fez-contato-com-petrobras-e-prepara-transicao-834896'"
      ]
     },
     "execution_count": 17,
     "metadata": {},
     "output_type": "execute_result"
    }
   ],
   "source": [
    "if url_noticia.startswith(\"/news/\"):\n",
    "    url_noticia = \"https://br.investing.com\" + url_noticia\n",
    "url_noticia"
   ]
  },
  {
   "cell_type": "code",
   "execution_count": 18,
   "metadata": {},
   "outputs": [],
   "source": [
    "req = Request(url_noticia, headers={'User-Agent': 'Mozilla/5.0'})\n",
    "\n",
    "response = urlopen(req, timeout=20).read()\n",
    "noticia_html= response.decode('utf8')"
   ]
  },
  {
   "cell_type": "markdown",
   "metadata": {},
   "source": [
    "## Fazend Web Scraping da noticia"
   ]
  },
  {
   "cell_type": "code",
   "execution_count": 19,
   "metadata": {},
   "outputs": [],
   "source": [
    "sel_noticia = Selector( text = noticia_html )"
   ]
  },
  {
   "cell_type": "code",
   "execution_count": 20,
   "metadata": {},
   "outputs": [
    {
     "data": {
      "text/plain": [
       "['1 hora atrás (23.02.2021 19:40)']"
      ]
     },
     "execution_count": 20,
     "metadata": {},
     "output_type": "execute_result"
    }
   ],
   "source": [
    "atualizacao_data_hora = sel_noticia.xpath(\"//div[@class='contentSectionDetails']/span/text()\").extract()\n",
    "atualizacao_data_hora"
   ]
  },
  {
   "cell_type": "code",
   "execution_count": 21,
   "metadata": {},
   "outputs": [
    {
     "data": {
      "text/plain": [
       "['Equipe de Silva e Luna já fez contato com Petrobras e prepara transição']"
      ]
     },
     "execution_count": 21,
     "metadata": {},
     "output_type": "execute_result"
    }
   ],
   "source": [
    "titulo_noticia = sel_noticia.xpath(\"//h1[@class='articleHeader']/text()\").extract()\n",
    "titulo_noticia"
   ]
  },
  {
   "cell_type": "code",
   "execution_count": 23,
   "metadata": {},
   "outputs": [
    {
     "data": {
      "text/plain": [
       "['A equipe do general Joaquim Silva e Luna já entrou em contato com a Petrobras (SA:',\n",
       " ') para iniciar o processo de transição para a nova gestão da companhia, que deve ser iniciada entre o final de março e o início de abril. O Conselho de Administração da Petrobras aprovou nesta terça-feira, 23, a realização de uma assembleia de acionistas da para aprovar o nome de Luna como conselheiro. O passo seguinte será elegê-lo presidente, no lugar de Roberto Castello Branco.',\n",
       " 'Enquanto não assumir o posto, dificilmente o general deverá emitir sua opinião sobre os temas mais polêmicos da estatal, informaram fontes próximas, como a forma que irá utilizar para tornar os preços dos combustíveis mais \"transparentes e previsíveis\", como deseja o presidente da República, Jair Bolsonaro, e prioridade de Luna, e também sobre o processo de venda das oito refinarias da companhia.',\n",
       " 'Mas o entendimento do general é de que será buscado um equilíbrio nos preços, o que será feito com suporte técnico e sem atropelos. Os estudos, porém, já começam a ser feitos pela equipe, formada por um número pequeno de pessoas, segundo uma fonte, e que deve acompanhar o general na mudança para o Rio de Janeiro.',\n",
       " 'A percepção da equipe é de que a alta das ações da Petrobras nesta terça tornaram as perspectivas mais otimistas para a troca de comando da empresa, depois dos papéis da estatal perderem quase R$ 100 bilhões em valor de mercado após o anúncio do nome de Luna pelo presidente Jair Bolsonaro. Nesta terça-feira, parte das perdas foram revertidas e os papéis fecharam em alta de 12,17% a ação preferencial, e de 8,96% as ordinárias.',\n",
       " 'A interpretação é de que a alta das ações foi um sinal de aprovação ao nome de Luna, considerado um gestor eficiente após o trabalho feito na usina binacional Itaipu, um dos motivos que levou Bolsonaro a indicá-lo para a Petrobras.',\n",
       " 'Na sexta-feira, Bolsonaro está sendo esperado em Itaipu para participar do lançamento da revitalização das linhas de transmissão de Furnas, projeto de R$ 1 bilhão, que vai revitalizar o sistema da energia não consumida pelo Paraguai. No momento, segundo as fontes, o general está concentrado nesse projeto para deixar tudo acertado antes de sair da empresa, fechando um ciclo de dois anos.']"
      ]
     },
     "execution_count": 23,
     "metadata": {},
     "output_type": "execute_result"
    }
   ],
   "source": [
    "texto_noticia = sel_noticia.xpath(\"//div[@class='WYSIWYG articlePage']/p/text()\").extract()\n",
    "texto_noticia"
   ]
  },
  {
   "cell_type": "code",
   "execution_count": null,
   "metadata": {},
   "outputs": [],
   "source": []
  }
 ],
 "metadata": {
  "kernelspec": {
   "display_name": "Python 3",
   "language": "python",
   "name": "python3"
  },
  "language_info": {
   "codemirror_mode": {
    "name": "ipython",
    "version": 3
   },
   "file_extension": ".py",
   "mimetype": "text/x-python",
   "name": "python",
   "nbconvert_exporter": "python",
   "pygments_lexer": "ipython3",
   "version": "3.6.9"
  }
 },
 "nbformat": 4,
 "nbformat_minor": 4
}
