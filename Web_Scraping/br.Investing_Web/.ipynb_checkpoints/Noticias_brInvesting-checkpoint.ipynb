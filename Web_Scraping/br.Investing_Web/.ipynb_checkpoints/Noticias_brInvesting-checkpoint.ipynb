{
 "cells": [
  {
   "cell_type": "markdown",
   "metadata": {},
   "source": [
    "## Imports"
   ]
  },
  {
   "cell_type": "code",
   "execution_count": 1,
   "metadata": {},
   "outputs": [],
   "source": [
    "import io\n",
    "import os.path\n",
    "from scrapy import Selector\n",
    "from datetime import date, datetime\n",
    "from urllib.request import Request, urlopen"
   ]
  },
  {
   "cell_type": "markdown",
   "metadata": {},
   "source": [
    "## Buscando lista de novas notícias no br.Investing"
   ]
  },
  {
   "cell_type": "code",
   "execution_count": 2,
   "metadata": {},
   "outputs": [],
   "source": [
    "#url_novas_noticias = 'https://www.infomoney.com.br/mercados/'\n",
    "url_novas_noticias = 'https://br.investing.com/news/stock-market-news'\n",
    "\n",
    "req = Request(url_novas_noticias, headers={'User-Agent': 'Mozilla/5.0'})\n",
    "\n",
    "response = urlopen(req, timeout=20).read()\n",
    "novas_noticias_html= response.decode('latin-1')\n",
    "#novas_noticias_html= response.decode('utf8')"
   ]
  },
  {
   "cell_type": "code",
   "execution_count": 3,
   "metadata": {},
   "outputs": [],
   "source": [
    "sel_noticias = Selector( text = novas_noticias_html )"
   ]
  },
  {
   "cell_type": "code",
   "execution_count": 4,
   "metadata": {},
   "outputs": [
    {
     "data": {
      "text/plain": [
       "[<Selector xpath=\"//div[@class='largeTitle']/article\" data='<article class=\"js-article-item artic...'>,\n",
       " <Selector xpath=\"//div[@class='largeTitle']/article\" data='<article class=\"js-article-item artic...'>,\n",
       " <Selector xpath=\"//div[@class='largeTitle']/article\" data='<article class=\"js-article-item artic...'>,\n",
       " <Selector xpath=\"//div[@class='largeTitle']/article\" data='<article class=\"js-article-item artic...'>,\n",
       " <Selector xpath=\"//div[@class='largeTitle']/article\" data='<article class=\"js-article-item artic...'>,\n",
       " <Selector xpath=\"//div[@class='largeTitle']/article\" data='<article class=\"js-article-item artic...'>,\n",
       " <Selector xpath=\"//div[@class='largeTitle']/article\" data='<article class=\"articleItem dfp-nativ...'>,\n",
       " <Selector xpath=\"//div[@class='largeTitle']/article\" data='<article class=\"js-article-item artic...'>,\n",
       " <Selector xpath=\"//div[@class='largeTitle']/article\" data='<article class=\"js-article-item artic...'>,\n",
       " <Selector xpath=\"//div[@class='largeTitle']/article\" data='<article class=\"articleItem dfp-nativ...'>,\n",
       " <Selector xpath=\"//div[@class='largeTitle']/article\" data='<article class=\"js-article-item artic...'>,\n",
       " <Selector xpath=\"//div[@class='largeTitle']/article\" data='<article class=\"js-article-item artic...'>,\n",
       " <Selector xpath=\"//div[@class='largeTitle']/article\" data='<article class=\"js-article-item artic...'>,\n",
       " <Selector xpath=\"//div[@class='largeTitle']/article\" data='<article class=\"js-article-item artic...'>,\n",
       " <Selector xpath=\"//div[@class='largeTitle']/article\" data='<article class=\"js-article-item artic...'>,\n",
       " <Selector xpath=\"//div[@class='largeTitle']/article\" data='<article class=\"js-article-item artic...'>,\n",
       " <Selector xpath=\"//div[@class='largeTitle']/article\" data='<article class=\"js-article-item artic...'>,\n",
       " <Selector xpath=\"//div[@class='largeTitle']/article\" data='<article class=\"js-article-item artic...'>,\n",
       " <Selector xpath=\"//div[@class='largeTitle']/article\" data='<article class=\"js-article-item artic...'>,\n",
       " <Selector xpath=\"//div[@class='largeTitle']/article\" data='<article class=\"js-article-item artic...'>,\n",
       " <Selector xpath=\"//div[@class='largeTitle']/article\" data='<article class=\"js-external-link-wrap...'>,\n",
       " <Selector xpath=\"//div[@class='largeTitle']/article\" data='<article class=\"js-external-link-wrap...'>,\n",
       " <Selector xpath=\"//div[@class='largeTitle']/article\" data='<article class=\"js-external-link-wrap...'>,\n",
       " <Selector xpath=\"//div[@class='largeTitle']/article\" data='<article class=\"js-external-link-wrap...'>,\n",
       " <Selector xpath=\"//div[@class='largeTitle']/article\" data='<article class=\"js-article-item artic...'>,\n",
       " <Selector xpath=\"//div[@class='largeTitle']/article\" data='<article class=\"js-article-item artic...'>,\n",
       " <Selector xpath=\"//div[@class='largeTitle']/article\" data='<article class=\"js-article-item artic...'>,\n",
       " <Selector xpath=\"//div[@class='largeTitle']/article\" data='<article class=\"js-external-link-wrap...'>,\n",
       " <Selector xpath=\"//div[@class='largeTitle']/article\" data='<article class=\"js-article-item artic...'>,\n",
       " <Selector xpath=\"//div[@class='largeTitle']/article\" data='<article class=\"js-article-item artic...'>,\n",
       " <Selector xpath=\"//div[@class='largeTitle']/article\" data='<article class=\"js-external-link-wrap...'>,\n",
       " <Selector xpath=\"//div[@class='largeTitle']/article\" data='<article class=\"js-article-item artic...'>,\n",
       " <Selector xpath=\"//div[@class='largeTitle']/article\" data='<article class=\"js-article-item artic...'>,\n",
       " <Selector xpath=\"//div[@class='largeTitle']/article\" data='<article class=\"js-article-item artic...'>,\n",
       " <Selector xpath=\"//div[@class='largeTitle']/article\" data='<article class=\"js-external-link-wrap...'>,\n",
       " <Selector xpath=\"//div[@class='largeTitle']/article\" data='<article class=\"js-external-link-wrap...'>,\n",
       " <Selector xpath=\"//div[@class='largeTitle']/article\" data='<article class=\"js-external-link-wrap...'>]"
      ]
     },
     "execution_count": 4,
     "metadata": {},
     "output_type": "execute_result"
    }
   ],
   "source": [
    "sel_noticias.xpath(\"//div[@class='largeTitle']/article\")"
   ]
  },
  {
   "cell_type": "code",
   "execution_count": 5,
   "metadata": {},
   "outputs": [
    {
     "data": {
      "text/plain": [
       "['/news/stock-market-news/impulso-do-comercio-eletronico-leva-via-varejo-de-volta-ao-lucro-no-4o-tri-837751',\n",
       " '/news/stock-market-news/urba-braco-de-loteamentos-da-mrv-desiste-de-ipo-837764',\n",
       " '/news/stock-market-news/telefonica-faz-acordo-com-canadense-cdpq-para-rede-de-fibra-no-brasil-837749',\n",
       " '/news/stock-market-news/taxas-sobem-em-reacao-a-alta-da-csll-para-bancos-e-receio-com-pec-emergencial-837745',\n",
       " '/news/stock-market-news/com-bancos-na-ponta-positiva-ibovespa-fecha-em-alta-de-109-837744',\n",
       " '/news/stock-market-news/bolsas-de-ny-fecham-em-baixa-com-pressao-de-techs-e-mercado-de-treasuries-837742',\n",
       " '/news/stock-market-news/bancos-reagem-e-ibovespa-sobe-1-ajudado-por-vale-e-pec-837732',\n",
       " '/news/stock-market-news/isa-cteep-conclui-aquisicao-da-piratininga--bandeirantes-transmissora-837721',\n",
       " '/news/stock-market-news/wall-st-encerra-em-baixa-sob-pressao-de-apple-e-tesla-837719',\n",
       " '/news/stock-market-news/bancos-reagem-e-ibovespa-fecha-em-alta-ajudado-por-vale-e-pec-837695',\n",
       " '/news/technology-news/divisao-de-robotica-de-empresa-adquirida-pela-uber-se-separa-em-nova-empresa-837706',\n",
       " '/news/stock-market-news/ross-stores-lucros-e-receita-ficaram-abaixo-consenso-no-q4-837694',\n",
       " '/news/stock-market-news/petrorio-planeja-iniciar-perfuracao-no-campo-de-frade-no-4o-tri-diz-ceo-837689',\n",
       " '/news/stock-market-news/petrobras-utilizara-tecnologia-para-reduzir-custos-de-producao-de-oleo-e-gas-837666',\n",
       " '/news/stock-market-news/robinhood-aumenta-emprestimo-de-acoes-para-vendedores-a-descoberto-837661',\n",
       " '/news/stock-market-news/diretorpresidente-da-conab-morre-vitima-de-covid19-837644',\n",
       " '/news/stock-market-news/cvm-abre-terceiro-processo-administrativo-desde-inicio-da-crise-na-petrobras-837642',\n",
       " '/news/technology-news/adevinta-e-ebay-venderao-unidades-no-reino-unido-para-garantir-fusao-de-us92-bi-837591',\n",
       " 'https://invst.ly/u08zz',\n",
       " 'https://invst.ly/u08-0',\n",
       " 'https://invst.ly/u08xj',\n",
       " 'https://invst.ly/u08ui',\n",
       " '/news/stock-market-news/rio-alto-energias-renovaveis-contrata-bancos-para-ipo-837520',\n",
       " '/news/stock-market-news/petrobras-diz-querer-ser-referencia-em-baixas-emissoes-na-producao-de-petroleo-837602',\n",
       " '/news/technology-news/google-faz-parcerias-com-allianz-e-munich-re-para-clientes-de-computacao-em-nuvem-837595',\n",
       " 'https://invst.ly/u08or',\n",
       " '/news/stock-market-news/governadores-formam-consorcio-para-compra-de-spunik-v-sao-paulo-comprara-20-milhoes-de-doses-837571',\n",
       " '/news/stock-market-news/acoes-fecham-em-alta-com-recuperacao-de-setor-de-commodities-837590',\n",
       " 'https://invst.ly/u08mj',\n",
       " '/news/stock-market-news/gpa-veja-as-novas-recomendacoes-da-xp-goldman-sachs-apos-cisao-com-o-assai-837585',\n",
       " '/news/stock-market-news/bolsas-da-europa-fecham-sem-direcao-unica-com-mercado-de-titulos-e-dados-no-radar-837583',\n",
       " '/news/stock-market-news/indicado-para-sec-nos-eua-mostra-temor-sobre-gamificacao-nas-operacoes-de-mercado-837582',\n",
       " 'https://invst.ly/u08jf',\n",
       " 'https://invst.ly/u08j6',\n",
       " 'https://invst.ly/u08jd']"
      ]
     },
     "execution_count": 5,
     "metadata": {},
     "output_type": "execute_result"
    }
   ],
   "source": [
    "sel_noticias.xpath(\"//div[@class='largeTitle']/article/a/@href\").extract()"
   ]
  },
  {
   "cell_type": "code",
   "execution_count": 6,
   "metadata": {},
   "outputs": [
    {
     "data": {
      "text/plain": [
       "'/news/stock-market-news/petrorio-planeja-iniciar-perfuracao-no-campo-de-frade-no-4o-tri-diz-ceo-837689'"
      ]
     },
     "execution_count": 6,
     "metadata": {},
     "output_type": "execute_result"
    }
   ],
   "source": [
    "# Exemplo de último link de notícia salvo\n",
    "ultimo_link_salvo = \"https://br.investing.com\" + sel_noticias.xpath(\"//div[@class='largeTitle']/article/a/@href\").extract()[12]\n",
    "ultimo_link_salvo = ultimo_link_salvo.split('https://br.investing.com')[-1]\n",
    "ultimo_link_salvo"
   ]
  },
  {
   "cell_type": "code",
   "execution_count": 7,
   "metadata": {},
   "outputs": [],
   "source": [
    "lista_link_noticias = sel_noticias.xpath(\"//div[@class='largeTitle']/article/a/@href\").extract()\n",
    "nova_lista_link_noticias = []\n",
    "for link_noticia in lista_link_noticias:\n",
    "    if link_noticia == ultimo_link_salvo:\n",
    "        break\n",
    "    if link_noticia.startswith(\"/\"):\n",
    "        link_noticia = \"https://br.investing.com\" + link_noticia\n",
    "        # Não está incluindo links externos de outros sites Ex.:'https://invst.ly/t-p1d'\n",
    "        nova_lista_link_noticias.append(link_noticia)"
   ]
  },
  {
   "cell_type": "code",
   "execution_count": 8,
   "metadata": {},
   "outputs": [
    {
     "data": {
      "text/plain": [
       "['https://br.investing.com/news/stock-market-news/impulso-do-comercio-eletronico-leva-via-varejo-de-volta-ao-lucro-no-4o-tri-837751',\n",
       " 'https://br.investing.com/news/stock-market-news/urba-braco-de-loteamentos-da-mrv-desiste-de-ipo-837764',\n",
       " 'https://br.investing.com/news/stock-market-news/telefonica-faz-acordo-com-canadense-cdpq-para-rede-de-fibra-no-brasil-837749',\n",
       " 'https://br.investing.com/news/stock-market-news/taxas-sobem-em-reacao-a-alta-da-csll-para-bancos-e-receio-com-pec-emergencial-837745',\n",
       " 'https://br.investing.com/news/stock-market-news/com-bancos-na-ponta-positiva-ibovespa-fecha-em-alta-de-109-837744',\n",
       " 'https://br.investing.com/news/stock-market-news/bolsas-de-ny-fecham-em-baixa-com-pressao-de-techs-e-mercado-de-treasuries-837742',\n",
       " 'https://br.investing.com/news/stock-market-news/bancos-reagem-e-ibovespa-sobe-1-ajudado-por-vale-e-pec-837732',\n",
       " 'https://br.investing.com/news/stock-market-news/isa-cteep-conclui-aquisicao-da-piratininga--bandeirantes-transmissora-837721',\n",
       " 'https://br.investing.com/news/stock-market-news/wall-st-encerra-em-baixa-sob-pressao-de-apple-e-tesla-837719',\n",
       " 'https://br.investing.com/news/stock-market-news/bancos-reagem-e-ibovespa-fecha-em-alta-ajudado-por-vale-e-pec-837695',\n",
       " 'https://br.investing.com/news/technology-news/divisao-de-robotica-de-empresa-adquirida-pela-uber-se-separa-em-nova-empresa-837706',\n",
       " 'https://br.investing.com/news/stock-market-news/ross-stores-lucros-e-receita-ficaram-abaixo-consenso-no-q4-837694']"
      ]
     },
     "execution_count": 8,
     "metadata": {},
     "output_type": "execute_result"
    }
   ],
   "source": [
    "nova_lista_link_noticias"
   ]
  },
  {
   "cell_type": "markdown",
   "metadata": {},
   "source": [
    "## Selecionando Link de uma notícia"
   ]
  },
  {
   "cell_type": "code",
   "execution_count": 9,
   "metadata": {},
   "outputs": [
    {
     "data": {
      "text/plain": [
       "'https://br.investing.com/news/stock-market-news/ross-stores-lucros-e-receita-ficaram-abaixo-consenso-no-q4-837694'"
      ]
     },
     "execution_count": 9,
     "metadata": {},
     "output_type": "execute_result"
    }
   ],
   "source": [
    "url_noticia = nova_lista_link_noticias[-1]\n",
    "url_noticia"
   ]
  },
  {
   "cell_type": "code",
   "execution_count": 10,
   "metadata": {},
   "outputs": [],
   "source": [
    "req = Request(url_noticia, headers={'User-Agent': 'Mozilla/5.0'})\n",
    "\n",
    "response = urlopen(req, timeout=20).read()\n",
    "noticia_html= response.decode('utf8')"
   ]
  },
  {
   "cell_type": "markdown",
   "metadata": {},
   "source": [
    "## Fazend Web Scraping da noticia"
   ]
  },
  {
   "cell_type": "code",
   "execution_count": 11,
   "metadata": {},
   "outputs": [],
   "source": [
    "sel_noticia = Selector( text = noticia_html )"
   ]
  },
  {
   "cell_type": "code",
   "execution_count": 12,
   "metadata": {},
   "outputs": [
    {
     "data": {
      "text/plain": [
       "'3 horas atrás (02.03.2021 18:05)'"
      ]
     },
     "execution_count": 12,
     "metadata": {},
     "output_type": "execute_result"
    }
   ],
   "source": [
    "atualizacao_data_hora = sel_noticia.xpath(\"//div[@class='contentSectionDetails']/span/text()\").extract()\n",
    "atualizacao_data_hora = atualizacao_data_hora[0]\n",
    "atualizacao_data_hora"
   ]
  },
  {
   "cell_type": "code",
   "execution_count": 13,
   "metadata": {},
   "outputs": [
    {
     "data": {
      "text/plain": [
       "'Ross Stores: lucros e receita ficaram abaixo consenso no Q4'"
      ]
     },
     "execution_count": 13,
     "metadata": {},
     "output_type": "execute_result"
    }
   ],
   "source": [
    "titulo_noticia = sel_noticia.xpath(\"//h1[@class='articleHeader']/text()\").extract()\n",
    "titulo_noticia = titulo_noticia[0]\n",
    "titulo_noticia"
   ]
  },
  {
   "cell_type": "code",
   "execution_count": 14,
   "metadata": {},
   "outputs": [
    {
     "data": {
      "text/plain": [
       "'Investing.com - Ross Stores (NASDAQ: ) publicou nesta terça-feira o   do quarto trimestre e mostrou lucro que ficou mais fraco do que as projeções dos analistas. A receita ficou menor do que a mediana das previsões. A empresa divulgou que o lucro por ação (LPA) foi de US$ 0,67, resultado que ficou mais fraco do que as previsões dos analistas que apostavam em LPA de US$ 1. \\xa0 A receita do\\xa0quarto trimestre alcançou US$ 4,25B.\\xa0 A expectativa dos analistas do mercado era de receita de US$ 4,27B. No ano, as ações da empresa estão em queda de 4%, desempenho menor do que o   que acumula uma alta de 3% desde janeiro. O resultado da companhia sai após outros balanços importantes de Serviços neste mês.    - Em 2 de fevereiro, Amazon.com também publicou seu balanço, com LPA de US$ 14,09 e receita de US$ 125,56B, comparados a previsões de LPA de US$ 7,19 e receita de US$ 119,7B.  - O balanço publicado em 2 de fevereiro mostrou lucro por ação de US$ 22,03, que\\xa0 superou das expectativas dos analistas de US$ 20,59. A receita ficou em US$ 221,08B, contra projeções de US$ 214,17B'"
      ]
     },
     "execution_count": 14,
     "metadata": {},
     "output_type": "execute_result"
    }
   ],
   "source": [
    "texto_noticia = sel_noticia.xpath(\"//div[@class='WYSIWYG articlePage']/p/text()\").extract()\n",
    "texto_noticia = ' '.join(texto_noticia)\n",
    "texto_noticia"
   ]
  },
  {
   "cell_type": "markdown",
   "metadata": {},
   "source": [
    "# Transformando dados das notícias em DataFrame"
   ]
  },
  {
   "cell_type": "code",
   "execution_count": 15,
   "metadata": {},
   "outputs": [],
   "source": [
    "import pandas as pd\n",
    "import numpy as np"
   ]
  },
  {
   "cell_type": "code",
   "execution_count": 21,
   "metadata": {},
   "outputs": [
    {
     "data": {
      "text/plain": [
       "['url', 'data_hora', 'titulo', 'texto']"
      ]
     },
     "execution_count": 21,
     "metadata": {},
     "output_type": "execute_result"
    }
   ],
   "source": [
    "noticia_label = ['url', 'data_hora', 'titulo', 'texto']\n",
    "noticia_label"
   ]
  },
  {
   "cell_type": "code",
   "execution_count": 20,
   "metadata": {},
   "outputs": [
    {
     "data": {
      "text/plain": [
       "['https://br.investing.com/news/stock-market-news/ross-stores-lucros-e-receita-ficaram-abaixo-consenso-no-q4-837694',\n",
       " '3 horas atrás (02.03.2021 18:05)',\n",
       " 'Ross Stores: lucros e receita ficaram abaixo consenso no Q4',\n",
       " 'Investing.com - Ross Stores (NASDAQ: ) publicou nesta terça-feira o   do quarto trimestre e mostrou lucro que ficou mais fraco do que as projeções dos analistas. A receita ficou menor do que a mediana das previsões. A empresa divulgou que o lucro por ação (LPA) foi de US$ 0,67, resultado que ficou mais fraco do que as previsões dos analistas que apostavam em LPA de US$ 1. \\xa0 A receita do\\xa0quarto trimestre alcançou US$ 4,25B.\\xa0 A expectativa dos analistas do mercado era de receita de US$ 4,27B. No ano, as ações da empresa estão em queda de 4%, desempenho menor do que o   que acumula uma alta de 3% desde janeiro. O resultado da companhia sai após outros balanços importantes de Serviços neste mês.    - Em 2 de fevereiro, Amazon.com também publicou seu balanço, com LPA de US$ 14,09 e receita de US$ 125,56B, comparados a previsões de LPA de US$ 7,19 e receita de US$ 119,7B.  - O balanço publicado em 2 de fevereiro mostrou lucro por ação de US$ 22,03, que\\xa0 superou das expectativas dos analistas de US$ 20,59. A receita ficou em US$ 221,08B, contra projeções de US$ 214,17B']"
      ]
     },
     "execution_count": 20,
     "metadata": {},
     "output_type": "execute_result"
    }
   ],
   "source": [
    "noticia_dados = [url_noticia, atualizacao_data_hora, titulo_noticia, texto_noticia]\n",
    "noticia_dados"
   ]
  },
  {
   "cell_type": "code",
   "execution_count": 22,
   "metadata": {},
   "outputs": [
    {
     "data": {
      "text/html": [
       "<div>\n",
       "<style scoped>\n",
       "    .dataframe tbody tr th:only-of-type {\n",
       "        vertical-align: middle;\n",
       "    }\n",
       "\n",
       "    .dataframe tbody tr th {\n",
       "        vertical-align: top;\n",
       "    }\n",
       "\n",
       "    .dataframe thead th {\n",
       "        text-align: right;\n",
       "    }\n",
       "</style>\n",
       "<table border=\"1\" class=\"dataframe\">\n",
       "  <thead>\n",
       "    <tr style=\"text-align: right;\">\n",
       "      <th></th>\n",
       "      <th>url</th>\n",
       "      <th>data_hora</th>\n",
       "      <th>titulo</th>\n",
       "      <th>texto</th>\n",
       "    </tr>\n",
       "  </thead>\n",
       "  <tbody>\n",
       "    <tr>\n",
       "      <th>0</th>\n",
       "      <td>https://br.investing.com/news/stock-market-new...</td>\n",
       "      <td>3 horas atrás (02.03.2021 18:05)</td>\n",
       "      <td>Ross Stores: lucros e receita ficaram abaixo c...</td>\n",
       "      <td>Investing.com - Ross Stores (NASDAQ: ) publico...</td>\n",
       "    </tr>\n",
       "  </tbody>\n",
       "</table>\n",
       "</div>"
      ],
      "text/plain": [
       "                                                 url  \\\n",
       "0  https://br.investing.com/news/stock-market-new...   \n",
       "\n",
       "                          data_hora  \\\n",
       "0  3 horas atrás (02.03.2021 18:05)   \n",
       "\n",
       "                                              titulo  \\\n",
       "0  Ross Stores: lucros e receita ficaram abaixo c...   \n",
       "\n",
       "                                               texto  \n",
       "0  Investing.com - Ross Stores (NASDAQ: ) publico...  "
      ]
     },
     "execution_count": 22,
     "metadata": {},
     "output_type": "execute_result"
    }
   ],
   "source": [
    "df = pd.DataFrame(np.array([noticia_dados]), columns=noticia_label)\n",
    "df"
   ]
  },
  {
   "cell_type": "code",
   "execution_count": 23,
   "metadata": {},
   "outputs": [
    {
     "data": {
      "text/plain": [
       "'Investing.com - Ross Stores (NASDAQ: ) publicou nesta terça-feira o   do quarto trimestre e mostrou lucro que ficou mais fraco do que as projeções dos analistas. A receita ficou menor do que a mediana das previsões. A empresa divulgou que o lucro por ação (LPA) foi de US$ 0,67, resultado que ficou mais fraco do que as previsões dos analistas que apostavam em LPA de US$ 1. \\xa0 A receita do\\xa0quarto trimestre alcançou US$ 4,25B.\\xa0 A expectativa dos analistas do mercado era de receita de US$ 4,27B. No ano, as ações da empresa estão em queda de 4%, desempenho menor do que o   que acumula uma alta de 3% desde janeiro. O resultado da companhia sai após outros balanços importantes de Serviços neste mês.    - Em 2 de fevereiro, Amazon.com também publicou seu balanço, com LPA de US$ 14,09 e receita de US$ 125,56B, comparados a previsões de LPA de US$ 7,19 e receita de US$ 119,7B.  - O balanço publicado em 2 de fevereiro mostrou lucro por ação de US$ 22,03, que\\xa0 superou das expectativas dos analistas de US$ 20,59. A receita ficou em US$ 221,08B, contra projeções de US$ 214,17B'"
      ]
     },
     "execution_count": 23,
     "metadata": {},
     "output_type": "execute_result"
    }
   ],
   "source": [
    "df['texto'].values[0]"
   ]
  },
  {
   "cell_type": "markdown",
   "metadata": {},
   "source": [
    "# Funções para transformar os dados"
   ]
  },
  {
   "cell_type": "code",
   "execution_count": 24,
   "metadata": {},
   "outputs": [],
   "source": [
    "def transformar_lista_em_tuples(noticia_dados):\n",
    "    noticia_dados_list = []\n",
    "    noticia_dados_list.append(tuple(noticia_dados))\n",
    "    return noticia_dados_list"
   ]
  },
  {
   "cell_type": "code",
   "execution_count": null,
   "metadata": {},
   "outputs": [],
   "source": [
    "noticia_dados = transformar_lista_em_tuples(noticia_dados)\n",
    "noticia_dados"
   ]
  },
  {
   "cell_type": "markdown",
   "metadata": {},
   "source": [
    "# Acesso ao HDFS server (Write and Read)\n",
    "## Criando uma Spark Session"
   ]
  },
  {
   "cell_type": "code",
   "execution_count": 19,
   "metadata": {},
   "outputs": [],
   "source": [
    "from pyspark.sql import SparkSession\n",
    "sparkSession = SparkSession.builder.appName(\"write-read-brinvesting-hdfs\").getOrCreate()"
   ]
  },
  {
   "cell_type": "markdown",
   "metadata": {},
   "source": [
    "## Write Spark DataFrame da Notícia"
   ]
  },
  {
   "cell_type": "code",
   "execution_count": 26,
   "metadata": {},
   "outputs": [
    {
     "data": {
      "text/plain": [
       "DataFrame[url: string, data_hora: string, titulo: string, texto: string]"
      ]
     },
     "execution_count": 26,
     "metadata": {},
     "output_type": "execute_result"
    }
   ],
   "source": [
    "df = sparkSession.createDataFrame(noticia_dados, noticia_label)\n",
    "df"
   ]
  },
  {
   "cell_type": "code",
   "execution_count": 28,
   "metadata": {},
   "outputs": [],
   "source": [
    "df.write.save('hdfs://172.17.177.40:9000/user/hadoopuser/brInvesting/noticias/stock_market_news', format='parquet', mode='append')"
   ]
  },
  {
   "cell_type": "code",
   "execution_count": 29,
   "metadata": {},
   "outputs": [],
   "source": [
    "df_load = sparkSession.read.format('parquet').load('hdfs://172.17.177.40:9000/user/hadoopuser/brInvesting/noticias/stock_market_news')"
   ]
  },
  {
   "cell_type": "code",
   "execution_count": 30,
   "metadata": {},
   "outputs": [
    {
     "name": "stdout",
     "output_type": "stream",
     "text": [
      "+--------------------+--------------------+--------------------+--------------------+\n",
      "|                 url|           data_hora|              titulo|               texto|\n",
      "+--------------------+--------------------+--------------------+--------------------+\n",
      "|https://br.invest...|3 horas atrás (02...|Ross Stores: lucr...|Investing.com - R...|\n",
      "+--------------------+--------------------+--------------------+--------------------+\n",
      "\n"
     ]
    }
   ],
   "source": [
    "df_load.show()"
   ]
  },
  {
   "cell_type": "code",
   "execution_count": 31,
   "metadata": {},
   "outputs": [
    {
     "data": {
      "text/html": [
       "<div>\n",
       "<style scoped>\n",
       "    .dataframe tbody tr th:only-of-type {\n",
       "        vertical-align: middle;\n",
       "    }\n",
       "\n",
       "    .dataframe tbody tr th {\n",
       "        vertical-align: top;\n",
       "    }\n",
       "\n",
       "    .dataframe thead th {\n",
       "        text-align: right;\n",
       "    }\n",
       "</style>\n",
       "<table border=\"1\" class=\"dataframe\">\n",
       "  <thead>\n",
       "    <tr style=\"text-align: right;\">\n",
       "      <th></th>\n",
       "      <th>url</th>\n",
       "      <th>data_hora</th>\n",
       "      <th>titulo</th>\n",
       "      <th>texto</th>\n",
       "    </tr>\n",
       "  </thead>\n",
       "  <tbody>\n",
       "    <tr>\n",
       "      <th>0</th>\n",
       "      <td>https://br.investing.com/news/stock-market-new...</td>\n",
       "      <td>3 horas atrás (02.03.2021 18:05)</td>\n",
       "      <td>Ross Stores: lucros e receita ficaram abaixo c...</td>\n",
       "      <td>Investing.com - Ross Stores (NASDAQ: ) publico...</td>\n",
       "    </tr>\n",
       "  </tbody>\n",
       "</table>\n",
       "</div>"
      ],
      "text/plain": [
       "                                                 url  \\\n",
       "0  https://br.investing.com/news/stock-market-new...   \n",
       "\n",
       "                          data_hora  \\\n",
       "0  3 horas atrás (02.03.2021 18:05)   \n",
       "\n",
       "                                              titulo  \\\n",
       "0  Ross Stores: lucros e receita ficaram abaixo c...   \n",
       "\n",
       "                                               texto  \n",
       "0  Investing.com - Ross Stores (NASDAQ: ) publico...  "
      ]
     },
     "execution_count": 31,
     "metadata": {},
     "output_type": "execute_result"
    }
   ],
   "source": [
    "df_load.toPandas()"
   ]
  },
  {
   "cell_type": "code",
   "execution_count": 32,
   "metadata": {},
   "outputs": [
    {
     "data": {
      "text/plain": [
       "'Investing.com - Ross Stores (NASDAQ: ) publicou nesta terça-feira o   do quarto trimestre e mostrou lucro que ficou mais fraco do que as projeções dos analistas. A receita ficou menor do que a mediana das previsões. A empresa divulgou que o lucro por ação (LPA) foi de US$ 0,67, resultado que ficou mais fraco do que as previsões dos analistas que apostavam em LPA de US$ 1. \\xa0 A receita do\\xa0quarto trimestre alcançou US$ 4,25B.\\xa0 A expectativa dos analistas do mercado era de receita de US$ 4,27B. No ano, as ações da empresa estão em queda de 4%, desempenho menor do que o   que acumula uma alta de 3% desde janeiro. O resultado da companhia sai após outros balanços importantes de Serviços neste mês.    - Em 2 de fevereiro, Amazon.com também publicou seu balanço, com LPA de US$ 14,09 e receita de US$ 125,56B, comparados a previsões de LPA de US$ 7,19 e receita de US$ 119,7B.  - O balanço publicado em 2 de fevereiro mostrou lucro por ação de US$ 22,03, que\\xa0 superou das expectativas dos analistas de US$ 20,59. A receita ficou em US$ 221,08B, contra projeções de US$ 214,17B'"
      ]
     },
     "execution_count": 32,
     "metadata": {},
     "output_type": "execute_result"
    }
   ],
   "source": [
    "df_load.toPandas()['texto'].values[0]"
   ]
  },
  {
   "cell_type": "code",
   "execution_count": null,
   "metadata": {},
   "outputs": [],
   "source": []
  }
 ],
 "metadata": {
  "kernelspec": {
   "display_name": "Python 3",
   "language": "python",
   "name": "python3"
  },
  "language_info": {
   "codemirror_mode": {
    "name": "ipython",
    "version": 3
   },
   "file_extension": ".py",
   "mimetype": "text/x-python",
   "name": "python",
   "nbconvert_exporter": "python",
   "pygments_lexer": "ipython3",
   "version": "3.6.9"
  }
 },
 "nbformat": 4,
 "nbformat_minor": 4
}
