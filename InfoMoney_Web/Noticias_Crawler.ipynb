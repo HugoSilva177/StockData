{
 "cells": [
  {
   "cell_type": "markdown",
   "metadata": {},
   "source": [
    "## Imports"
   ]
  },
  {
   "cell_type": "code",
   "execution_count": 1,
   "metadata": {},
   "outputs": [],
   "source": [
    "import io\n",
    "import os.path\n",
    "from scrapy import Selector\n",
    "from datetime import date, datetime\n",
    "from urllib.request import Request, urlopen"
   ]
  },
  {
   "cell_type": "markdown",
   "metadata": {},
   "source": [
    "## Buscando lista de novas notícias no InfoMoney (Web Crawling)"
   ]
  },
  {
   "cell_type": "code",
   "execution_count": 2,
   "metadata": {},
   "outputs": [],
   "source": [
    "url_novas_noticias = 'https://www.infomoney.com.br/mercados/'\n",
    "\n",
    "req = Request(url_novas_noticias, headers={'User-Agent': 'Mozilla/5.0'})\n",
    "\n",
    "response = urlopen(req, timeout=20).read()\n",
    "novas_noticias_html= response.decode('latin-1')"
   ]
  },
  {
   "cell_type": "code",
   "execution_count": 4,
   "metadata": {},
   "outputs": [],
   "source": [
    "sel_noticias = Selector( text = new_html )"
   ]
  },
  {
   "cell_type": "code",
   "execution_count": 9,
   "metadata": {},
   "outputs": [
    {
     "data": {
      "text/plain": [
       "[<Selector xpath=\"//span[@class='hl-title hl-title-2']/a\" data='<a href=\"https://www.infomoney.com.br...'>,\n",
       " <Selector xpath=\"//span[@class='hl-title hl-title-2']/a\" data='<a href=\"https://www.infomoney.com.br...'>,\n",
       " <Selector xpath=\"//span[@class='hl-title hl-title-2']/a\" data='<a href=\"https://www.infomoney.com.br...'>,\n",
       " <Selector xpath=\"//span[@class='hl-title hl-title-2']/a\" data='<a href=\"https://www.infomoney.com.br...'>,\n",
       " <Selector xpath=\"//span[@class='hl-title hl-title-2']/a\" data='<a href=\"https://www.infomoney.com.br...'>,\n",
       " <Selector xpath=\"//span[@class='hl-title hl-title-2']/a\" data='<a href=\"https://www.infomoney.com.br...'>,\n",
       " <Selector xpath=\"//span[@class='hl-title hl-title-2']/a\" data='<a href=\"https://www.infomoney.com.br...'>,\n",
       " <Selector xpath=\"//span[@class='hl-title hl-title-2']/a\" data='<a href=\"https://www.infomoney.com.br...'>,\n",
       " <Selector xpath=\"//span[@class='hl-title hl-title-2']/a\" data='<a href=\"https://www.infomoney.com.br...'>,\n",
       " <Selector xpath=\"//span[@class='hl-title hl-title-2']/a\" data='<a href=\"https://www.infomoney.com.br...'>]"
      ]
     },
     "execution_count": 9,
     "metadata": {},
     "output_type": "execute_result"
    }
   ],
   "source": [
    "sel_noticias.xpath(\"//span[@class='hl-title hl-title-2']/a\")"
   ]
  },
  {
   "cell_type": "code",
   "execution_count": 10,
   "metadata": {},
   "outputs": [
    {
     "data": {
      "text/plain": [
       "['https://www.infomoney.com.br/mercados/acao-de-empresa-de-veiculos-eletricos-no-vermelho-dispara-3-000/',\n",
       " 'https://www.infomoney.com.br/mercados/bitcoin-tesla-compra-us-15-bilhao-e-criptomoeda-dispara-15-chegando-a-us-44-mil/',\n",
       " 'https://www.infomoney.com.br/mercados/novo-reajuste-de-combustiveis-vai-gerar-chiadeira-com-razao-diz-bolsonaro/',\n",
       " 'https://www.infomoney.com.br/mercados/carteira-grafica-semanal-da-xp-sobe-mais-do-que-o-ibovespa-na-semana-e-troca-2-acoes/',\n",
       " 'https://www.infomoney.com.br/mercados/programas-de-desligamento-do-bb-validam-saida-voluntaria-de-5-533-funcionarios/',\n",
       " 'https://www.infomoney.com.br/mercados/petrobras-anuncia-novos-reajustes-para-gasolina-diesel-e-gas-de-cozinha/',\n",
       " 'https://www.infomoney.com.br/mercados/mercado-ainda-nao-ve-risco-de-inflacao-sair-do-controle-nos-eua-aponta-jpmorgan/',\n",
       " 'https://www.infomoney.com.br/mercados/ibovespa-opera-entre-perdas-e-ganhos-com-tentativa-de-correcao-ofuscada-por-ganhos-no-exterior-dolar-sobe-a-r-539/',\n",
       " 'https://www.infomoney.com.br/mercados/na-pandemia-arezzo-passa-por-transformacao/',\n",
       " 'https://www.infomoney.com.br/mercados/raizen-assina-acordo-para-comprar-usinas-da-biosev-por-r-36-bilhoes-e-acoes/']"
      ]
     },
     "execution_count": 10,
     "metadata": {},
     "output_type": "execute_result"
    }
   ],
   "source": [
    "sel_noticias.xpath(\"//span[@class='hl-title hl-title-2']/a/@href\").extract()"
   ]
  },
  {
   "cell_type": "markdown",
   "metadata": {},
   "source": [
    "## Selecionando Link de uma notícia (Web Crawling)"
   ]
  },
  {
   "cell_type": "code",
   "execution_count": 13,
   "metadata": {},
   "outputs": [
    {
     "data": {
      "text/plain": [
       "'https://www.infomoney.com.br/mercados/acao-de-empresa-de-veiculos-eletricos-no-vermelho-dispara-3-000/'"
      ]
     },
     "execution_count": 13,
     "metadata": {},
     "output_type": "execute_result"
    }
   ],
   "source": [
    "url_noticia = sel_noticias.xpath(\"//span[@class='hl-title hl-title-2']/a/@href\").extract()[0]\n",
    "url_noticia"
   ]
  },
  {
   "cell_type": "code",
   "execution_count": 19,
   "metadata": {},
   "outputs": [],
   "source": [
    "req = Request(url_noticia, headers={'User-Agent': 'Mozilla/5.0'})\n",
    "\n",
    "response = urlopen(req, timeout=20).read()\n",
    "noticia_html= response.decode('utf8')"
   ]
  },
  {
   "cell_type": "markdown",
   "metadata": {},
   "source": [
    "## Fazend Web Scraping da noticia"
   ]
  },
  {
   "cell_type": "code",
   "execution_count": 20,
   "metadata": {},
   "outputs": [],
   "source": [
    "sel_noticia = Selector( text = noticia_html )"
   ]
  },
  {
   "cell_type": "code",
   "execution_count": 50,
   "metadata": {},
   "outputs": [
    {
     "name": "stdout",
     "output_type": "stream",
     "text": [
      "8 fev 2021 17h53\n",
      " Atualizado 5 horas atrás\n"
     ]
    }
   ],
   "source": [
    "data_original = sel_noticia.xpath(\"//span[@class='article-date']//time/text()\").extract()[0]\n",
    "atualizado_em = sel_noticia.xpath(\"//span[@class='article-date']//time/text()\").extract()[1]\n",
    "print(data_original)\n",
    "print(atualizado_em)"
   ]
  },
  {
   "cell_type": "code",
   "execution_count": 46,
   "metadata": {},
   "outputs": [
    {
     "data": {
      "text/plain": [
       "['https://www.infomoney.com.br/autor/bloomberg/',\n",
       " '\\n\\t\\t\\t\\t\\tBloomberg\\t\\t\\t\\t']"
      ]
     },
     "execution_count": 46,
     "metadata": {},
     "output_type": "execute_result"
    }
   ],
   "source": [
    "autor_noticia = sel_noticia.xpath(\"//span[@class='author-name']/a/@href | //span[@class='author-name']/a/text()\").extract()\n",
    "autor_noticia"
   ]
  },
  {
   "cell_type": "code",
   "execution_count": 28,
   "metadata": {},
   "outputs": [
    {
     "data": {
      "text/plain": [
       "['Ação de empresa de veículos elétricos no vermelho dispara 3.000%']"
      ]
     },
     "execution_count": 28,
     "metadata": {},
     "output_type": "execute_result"
    }
   ],
   "source": [
    "titulo_noticia = sel_noticia.xpath(\"//h1[@class='page-title-1']/text()\").extract()\n",
    "titulo_noticia"
   ]
  },
  {
   "cell_type": "code",
   "execution_count": 31,
   "metadata": {},
   "outputs": [
    {
     "data": {
      "text/plain": [
       "['A Blink é uma empresa de energia verde, proprietária e operadora de estações de recarga de veículos elétricos']"
      ]
     },
     "execution_count": 31,
     "metadata": {},
     "output_type": "execute_result"
    }
   ],
   "source": [
    "sub_titulo_noticia = sel_noticia.xpath(\"//p[@class='article-lead']/text()\").extract()\n",
    "sub_titulo_noticia"
   ]
  },
  {
   "cell_type": "code",
   "execution_count": 24,
   "metadata": {},
   "outputs": [
    {
     "data": {
      "text/plain": [
       "['(Bloomberg) — Não há nada no balanço da Blink Charging indicando que a ação da empresa está entre as mais populares nos Estados Unidos.',\n",
       " 'A companhia nunca registrou lucro anual em seus 11 anos de história; alertou no ano passado que poderia ir à falência; tem perdido participação de mercado e registra uma receita anêmica.',\n",
       " 'Ainda assim, a demanda pela ação da empresa é alta. Os papéis da Blink deram um salto de 3.000% nos últimos oito meses. Apenas sete ações – de cerca de 2.700 que valem pelo menos US$ 1 bilhão – subiram mais ao longo desse período.',\n",
       " 'O motivo: a Blink é uma empresa de energia verde, proprietária e operadora de estações de recarga de veículos elétricos. E se os investidores têm certeza de alguma coisa é que as empresas verdes são investimentos imperdíveis e obrigatórios do futuro.',\n",
       " 'Nenhuma ação capta melhor essa euforia do que a da Blink. Com valor de mercado de US$ 2,3 bilhões, o indicador de valor/vendas da empresa – uma métrica comum para saber se uma ação está sobrevalorizada – disparou para 493. Em comparação, para a Tesla – a queridinha do mundo de veículos elétricos e uma empresa com valor de mercado muito maior – esse número é de apenas 25.',\n",
       " '“Tudo sobre a empresa está errado”, disse Andrew Left, fundador da Citron Research. “É apenas um nome bonito que chamou a atenção dos investidores de varejo.”',\n",
       " 'A Citron foi uma das poucas empresas que apostou contra a Blink no ano passado, com operações de venda a descoberto que recompensariam se o preço das ações caísse.',\n",
       " 'É uma das várias apostas de baixa em ações favorecidas pela multidão de investidores de varejo que se posicionaram contra a Citron – com a GameStop sendo a mais conhecida -, o que levou Left a anunciar em 29 de janeiro que a empresa iria suspender pesquisas sobre ações com posições vendidas.',\n",
       " 'O indicador de posições vendidas em ações da Blink – que mostra a quantidade de apostas contra os papéis – caiu para menos de 25% das ações em circulação em relação a mais de 40% no final de dezembro.',\n",
       " 'Para os vendedores a descoberto, uma das coisas que chama atenção é que vários nomes da Blink, incluindo o CEO e presidente do conselho, Michael Farkas, foram associados a empresas que entraram em conflito com normas regulatórias anos atrás.',\n",
       " 'Farkas descarta essa e outras críticas feitas por investidores com posições vendidas. “Sempre houve e sempre haverá críticos”, disse Farkas por e-mail. “Quando fundei a empresa, os críticos questionavam se a mudança para veículos elétricos era real. Agora, à medida que o valor do nosso negócio cresce, os críticos tendem a ser vendedores a descoberto.”']"
      ]
     },
     "execution_count": 24,
     "metadata": {},
     "output_type": "execute_result"
    }
   ],
   "source": [
    "texto_noticia = sel_noticia.xpath(\"//div[@class='col-md-9 col-lg-8 col-xl-6  m-sm-auto m-lg-0 article-content']/p/text()\").extract()\n",
    "texto_noticia"
   ]
  },
  {
   "cell_type": "code",
   "execution_count": null,
   "metadata": {},
   "outputs": [],
   "source": []
  }
 ],
 "metadata": {
  "kernelspec": {
   "display_name": "Python 3",
   "language": "python",
   "name": "python3"
  },
  "language_info": {
   "codemirror_mode": {
    "name": "ipython",
    "version": 3
   },
   "file_extension": ".py",
   "mimetype": "text/x-python",
   "name": "python",
   "nbconvert_exporter": "python",
   "pygments_lexer": "ipython3",
   "version": "3.6.9"
  }
 },
 "nbformat": 4,
 "nbformat_minor": 4
}
