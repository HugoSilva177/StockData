{
 "cells": [
  {
   "cell_type": "code",
   "execution_count": 70,
   "metadata": {},
   "outputs": [],
   "source": [
    "import sys\n",
    "import json\n",
    "import socket\n",
    "from confluent_kafka import Consumer, Producer\n",
    "from confluent_kafka.cimpl import KafkaException, KafkaError\n",
    "\n",
    "class WebScrapingProducer:\n",
    "\n",
    "    def __init__(self):\n",
    "        conf = {'bootstrap.servers': \"localhost:9092,localhost:9092\",\n",
    "                'client.id': socket.gethostname()}\n",
    "        self.__producer = Producer(conf)\n",
    "\n",
    "    def criar_mensagem_producer(self, topic, dados_empresa):\n",
    "        dados_empresa = json.dumps(dados_empresa).encode('utf-8')\n",
    "        self.__producer.produce(topic=topic,\n",
    "                                key=\"key\",\n",
    "                                value=dados_empresa,\n",
    "                                callback=WebScrapingProducer.__retorno_resultado_mensagem_producer)\n",
    "        # Wait up to 1 second for events. Callbacks will be invoked during\n",
    "        # this method call if the message is acknowledged.\n",
    "        self.__producer.poll(1)\n",
    "\n",
    "    @staticmethod\n",
    "    def __retorno_resultado_mensagem_producer(err, dados_empresa):\n",
    "        if err is not None:\n",
    "            print(\"Failed to deliver message: %s: %s\" % (str(dados_empresa), str(err)))\n",
    "        else:\n",
    "            print(\"Mensagem criada\")"
   ]
  },
  {
   "cell_type": "code",
   "execution_count": 71,
   "metadata": {},
   "outputs": [],
   "source": [
    "producer = WebScrapingProducer()"
   ]
  },
  {
   "cell_type": "code",
   "execution_count": 72,
   "metadata": {},
   "outputs": [
    {
     "name": "stdout",
     "output_type": "stream",
     "text": [
      "Mensagem criada\n"
     ]
    }
   ],
   "source": [
    "retorno = producer.criar_mensagem_producer(\"teste\", {'nome':'Hugo', 'idade':30})"
   ]
  },
  {
   "cell_type": "code",
   "execution_count": 73,
   "metadata": {},
   "outputs": [],
   "source": [
    "import sys\n",
    "from confluent_kafka import Consumer\n",
    "from confluent_kafka.cimpl import KafkaException, KafkaError\n",
    "\n",
    "\n",
    "class WebScrapingConsumer:\n",
    "\n",
    "    def __init__(self, topics):\n",
    "        self.__topics = topics\n",
    "        conf = {'bootstrap.servers': \"localhost:9092,localhost:9092\",\n",
    "                'group.id': \"foo\",\n",
    "                'auto.offset.reset': 'smallest'}\n",
    "        self.__consumer = Consumer(conf)\n",
    "\n",
    "    def mensagem_dados_empresa_consumer(self):\n",
    "        try:\n",
    "            self.__consumer.subscribe(self.__topics)\n",
    "            mensagem = self.__consumer.poll(timeout=1.0)\n",
    "            if mensagem is None:\n",
    "                return None\n",
    "            if mensagem.error():\n",
    "                if mensagem.error().code() == KafkaError._PARTITION_EOF:\n",
    "                    # End of partition event\n",
    "                    sys.stderr.write('%% %s [%d] reached end at offset %d\\n' %\n",
    "                                        (mensagem.topic(), mensagem.partition(), mensagem.offset()))\n",
    "                elif mensagem.error():\n",
    "                    raise KafkaException(mensagem.error())\n",
    "            else:\n",
    "                return json.loads(mensagem.value().decode('utf-8'))\n",
    "        finally:\n",
    "            self.__consumer.close()\n",
    "\n",
    "    def shutdown(self):\n",
    "        running = False"
   ]
  },
  {
   "cell_type": "code",
   "execution_count": 74,
   "metadata": {},
   "outputs": [],
   "source": [
    "consumer = WebScrapingConsumer([\"teste\"])"
   ]
  },
  {
   "cell_type": "code",
   "execution_count": 75,
   "metadata": {},
   "outputs": [
    {
     "data": {
      "text/plain": [
       "{'nome': 'Hugo', 'idade': 30}"
      ]
     },
     "execution_count": 75,
     "metadata": {},
     "output_type": "execute_result"
    }
   ],
   "source": [
    "consumer.mensagem_dados_empresa_consumer()"
   ]
  },
  {
   "cell_type": "code",
   "execution_count": null,
   "metadata": {},
   "outputs": [],
   "source": []
  },
  {
   "cell_type": "code",
   "execution_count": null,
   "metadata": {},
   "outputs": [],
   "source": []
  }
 ],
 "metadata": {
  "kernelspec": {
   "display_name": "Python 3",
   "language": "python",
   "name": "python3"
  },
  "language_info": {
   "codemirror_mode": {
    "name": "ipython",
    "version": 3
   },
   "file_extension": ".py",
   "mimetype": "text/x-python",
   "name": "python",
   "nbconvert_exporter": "python",
   "pygments_lexer": "ipython3",
   "version": "3.6.9"
  }
 },
 "nbformat": 4,
 "nbformat_minor": 4
}
