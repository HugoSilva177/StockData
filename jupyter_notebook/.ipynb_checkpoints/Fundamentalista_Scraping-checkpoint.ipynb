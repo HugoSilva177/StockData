{
 "cells": [
  {
   "cell_type": "markdown",
   "metadata": {},
   "source": [
    "## Imports"
   ]
  },
  {
   "cell_type": "code",
   "execution_count": 1,
   "metadata": {},
   "outputs": [],
   "source": [
    "import io\n",
    "import os.path\n",
    "from scrapy import Selector\n",
    "from datetime import datetime\n",
    "from unicodedata import normalize\n",
    "from urllib.request import Request, urlopen"
   ]
  },
  {
   "cell_type": "code",
   "execution_count": 2,
   "metadata": {},
   "outputs": [],
   "source": [
    "papel = \"PETR4\"\n",
    "url = 'https://fundamentus.com.br/detalhes.php?papel=%s' % papel\n",
    "\n",
    "req = Request(url, headers={'User-Agent': 'Mozilla/5.0'})\n",
    "\n",
    "response = urlopen(req, timeout=20).read()\n",
    "html_dados = response.decode('latin-1')\n",
    "    \n",
    "global html_selector\n",
    "html_selector = Selector( text = html_dados )"
   ]
  },
  {
   "cell_type": "code",
   "execution_count": 3,
   "metadata": {},
   "outputs": [
    {
     "data": {
      "text/plain": [
       "5"
      ]
     },
     "execution_count": 3,
     "metadata": {},
     "output_type": "execute_result"
    }
   ],
   "source": [
    "len(html_selector.xpath(\"//table[@class='w728']\").extract())"
   ]
  },
  {
   "cell_type": "code",
   "execution_count": 4,
   "metadata": {},
   "outputs": [
    {
     "data": {
      "text/plain": [
       "True"
      ]
     },
     "execution_count": 4,
     "metadata": {},
     "output_type": "execute_result"
    }
   ],
   "source": [
    "str(type(html_selector)) == \"<class 'scrapy.selector.unified.Selector'>\""
   ]
  },
  {
   "cell_type": "code",
   "execution_count": 5,
   "metadata": {},
   "outputs": [
    {
     "data": {
      "text/plain": [
       "5"
      ]
     },
     "execution_count": 5,
     "metadata": {},
     "output_type": "execute_result"
    }
   ],
   "source": [
    "len(html_selector.xpath(\"//table[1]//span[@class='txt']/text() | //table[1]//span[@class='txt']/a/text()\").extract()[0::2][0::2])"
   ]
  },
  {
   "cell_type": "code",
   "execution_count": 5,
   "metadata": {},
   "outputs": [
    {
     "data": {
      "text/plain": [
       "['<table class=\"w728\">\\n<tr>\\n<td class=\"label w15\"><span class=\"help tips\" title=\"Código da ação\">?</span><span class=\"txt\">Papel</span></td>\\n<td class=\"data w35\"><span class=\"txt\">PETR4</span></td>\\n<td class=\"label destaque w2\"><span class=\"help tips\" title=\"Cotação de fechamento da ação no último pregão\">?</span><span class=\"txt\">Cotação</span></td>\\n<td class=\"data destaque w3\"><span class=\"txt\">23,46</span></td>\\n</tr>\\n<tr>\\n<td class=\"label\"><span class=\"help tips\" title=\"ON = Ordinária, PN = Preferencial, PNA = Pref. tipo A, etc\">?</span><span class=\"txt\">Tipo</span></td>\\n<td class=\"data\"><span class=\"txt\">PN</span></td>\\n<td class=\"label\"><span class=\"help tips\" title=\"Data do último pregão em  que o ativo foi negociado\">?</span><span class=\"txt\">Data últ cot</span></td>\\n<td class=\"data\"><span class=\"txt\">26/03/2021</span></td>\\n</tr>\\n<tr>\\n<td class=\"label\"><span class=\"help tips\" title=\"Nome comercial da empresa.\">?</span><span class=\"txt\">Empresa</span></td>\\n<td class=\"data\"><span class=\"txt\">PETROBRAS PN</span></td>\\n<td class=\"label\"><span class=\"help tips\" title=\"Menor cotação da ação nos últimos 12 meses.\">?</span><span class=\"txt\">Min 52 sem</span></td>\\n<td class=\"data\"><span class=\"txt\">13,30</span></td>\\n</tr>\\n<tr>\\n<td class=\"label\"><span class=\"help tips\" title=\"Classificação setorial\">?</span><span class=\"txt\">Setor</span></td>\\n<td class=\"data\"><span class=\"txt\"><a href=\"resultado.php?setor=30\">Petróleo, Gás e Biocombustíveis</a></span></td>\\n<td class=\"label\"><span class=\"help tips\" title=\"Maior cotação da ação nos últimos 12 meses\">?</span><span class=\"txt\">Max 52 sem</span></td>\\n<td class=\"data\"><span class=\"txt\">31,12</span></td>\\n</tr>\\n<tr>\\n<td class=\"label\"><span class=\"help tips\" title=\"Classificação por segmento de atuação.\">?</span><span class=\"txt\">Subsetor</span></td>\\n<td class=\"data\"><span class=\"txt\"><a href=\"resultado.php?segmento=52\">Exploração, Refino e Distribuição</a></span></td>\\n<td class=\"label\"><span class=\"help tips\" title=\"Volume médio de negociação da ação nos últimos 2 meses (R$)\">?</span><span class=\"txt\">Vol $ méd (2m)</span></td>\\n<td class=\"data\"><span class=\"txt\">2.627.880.000</span></td>\\n</tr>\\n</table>']"
      ]
     },
     "execution_count": 5,
     "metadata": {},
     "output_type": "execute_result"
    }
   ],
   "source": [
    "html_selector.xpath(\"//table[1]\").extract() "
   ]
  },
  {
   "cell_type": "code",
   "execution_count": null,
   "metadata": {},
   "outputs": [],
   "source": []
  },
  {
   "cell_type": "code",
   "execution_count": 6,
   "metadata": {},
   "outputs": [
    {
     "ename": "NameError",
     "evalue": "name 'remover_caracteres_especiais' is not defined",
     "output_type": "error",
     "traceback": [
      "\u001b[0;31m---------------------------------------------------------------------------\u001b[0m",
      "\u001b[0;31mNameError\u001b[0m                                 Traceback (most recent call last)",
      "\u001b[0;32m<ipython-input-6-33c91b17ffc1>\u001b[0m in \u001b[0;36m<module>\u001b[0;34m\u001b[0m\n\u001b[1;32m      1\u001b[0m \u001b[0minfo_empresa_label\u001b[0m \u001b[0;34m=\u001b[0m \u001b[0mhtml_selector\u001b[0m\u001b[0;34m.\u001b[0m\u001b[0mxpath\u001b[0m\u001b[0;34m(\u001b[0m\u001b[0;34m\"//table[1]//span[@class='txt']/text() | //table[1]//span[@class='txt']/a/text()\"\u001b[0m\u001b[0;34m)\u001b[0m\u001b[0;34m.\u001b[0m\u001b[0mextract\u001b[0m\u001b[0;34m(\u001b[0m\u001b[0;34m)\u001b[0m\u001b[0;34m[\u001b[0m\u001b[0;36m0\u001b[0m\u001b[0;34m:\u001b[0m\u001b[0;34m:\u001b[0m\u001b[0;36m2\u001b[0m\u001b[0;34m]\u001b[0m\u001b[0;34m[\u001b[0m\u001b[0;36m0\u001b[0m\u001b[0;34m:\u001b[0m\u001b[0;34m:\u001b[0m\u001b[0;36m2\u001b[0m\u001b[0;34m]\u001b[0m\u001b[0;34m\u001b[0m\u001b[0;34m\u001b[0m\u001b[0m\n\u001b[0;32m----> 2\u001b[0;31m \u001b[0minfo_empresa_label\u001b[0m \u001b[0;34m=\u001b[0m \u001b[0mremover_caracteres_especiais\u001b[0m\u001b[0;34m(\u001b[0m\u001b[0minfo_empresa_label\u001b[0m\u001b[0;34m)\u001b[0m\u001b[0;34m\u001b[0m\u001b[0;34m\u001b[0m\u001b[0m\n\u001b[0m\u001b[1;32m      3\u001b[0m \u001b[0mprint\u001b[0m\u001b[0;34m(\u001b[0m\u001b[0minfo_empresa_label\u001b[0m\u001b[0;34m)\u001b[0m\u001b[0;34m\u001b[0m\u001b[0;34m\u001b[0m\u001b[0m\n",
      "\u001b[0;31mNameError\u001b[0m: name 'remover_caracteres_especiais' is not defined"
     ]
    }
   ],
   "source": [
    "info_empresa_label = html_selector.xpath(\"//table[1]//span[@class='txt']/text() | //table[1]//span[@class='txt']/a/text()\").extract()[0::2][0::2]\n",
    "info_empresa_label = remover_caracteres_especiais(info_empresa_label)\n",
    "print(info_empresa_label)"
   ]
  },
  {
   "cell_type": "markdown",
   "metadata": {},
   "source": [
    "## Baixando HTML do site Fundamentus (Web Crawling)"
   ]
  },
  {
   "cell_type": "code",
   "execution_count": 4,
   "metadata": {},
   "outputs": [],
   "source": [
    "def baixar_html_site_fundamentus(papel):\n",
    "    print(f\"Baixando dados em HTML do '{papel}' no site fundamentus...\")\n",
    "    print(\"--------------------------------------------\")\n",
    "    url = 'https://fundamentus.com.br/detalhes.php?papel=%s' % papel\n",
    "\n",
    "    req = Request(url, headers={'User-Agent': 'Mozilla/5.0'})\n",
    "\n",
    "    response = urlopen(req, timeout=20).read()\n",
    "    html_dados = response.decode('latin-1')\n",
    "    \n",
    "    global html_selector\n",
    "    html_selector = Selector( text = html_dados )"
   ]
  },
  {
   "cell_type": "markdown",
   "metadata": {},
   "source": [
    "## Funções para transformar os dados e labels"
   ]
  },
  {
   "cell_type": "code",
   "execution_count": 5,
   "metadata": {},
   "outputs": [],
   "source": [
    "def remover_acentos(txt):\n",
    "    return normalize('NFKD', txt).encode('ASCII', 'ignore').decode('ASCII')\n",
    "\n",
    "#if __name__ == '__main__':\n",
    "#    from doctest import testmod\n",
    "#    testmod()"
   ]
  },
  {
   "cell_type": "code",
   "execution_count": 6,
   "metadata": {},
   "outputs": [],
   "source": [
    "def remover_caracteres_especiais(empresa_label):\n",
    "    empresa_label = list(map(lambda x: remover_acentos(x), empresa_label))\n",
    "    empresa_label = list(map(lambda st: str.replace(st, \" \",\"_\"), empresa_label))\n",
    "    empresa_label = list(map(lambda st: str.replace(st, \"(\",\"\"), empresa_label))\n",
    "    empresa_label = list(map(lambda st: str.replace(st, \")\",\"\"), empresa_label))\n",
    "    empresa_label = list(map(lambda st: str.replace(st, \".\",\"\"), empresa_label))\n",
    "    return empresa_label"
   ]
  },
  {
   "cell_type": "code",
   "execution_count": 7,
   "metadata": {},
   "outputs": [],
   "source": [
    "def validar_data(valor):\n",
    "    try:\n",
    "        valor = datetime.strptime(valor, '%d/%m/%Y')\n",
    "        return valor\n",
    "    except TypeError:\n",
    "        return valor"
   ]
  },
  {
   "cell_type": "code",
   "execution_count": 8,
   "metadata": {},
   "outputs": [],
   "source": [
    "def formatar_tipagem_dados(empresa_dados):\n",
    "    empresa_dados = list(map(lambda st: str.replace(st, \",\",\".\"), empresa_dados))\n",
    "    \n",
    "    nova_lista_empresa_dados = []\n",
    "    for valor in empresa_dados:\n",
    "        eh_valor_percentual = valor.endswith('%')\n",
    "        \n",
    "        if eh_valor_percentual:\n",
    "            nova_lista_empresa_dados.append(valor)\n",
    "        elif \"/\" in valor:\n",
    "            nova_lista_empresa_dados.append(validar_data(valor))\n",
    "        elif not eh_valor_percentual:\n",
    "            try:\n",
    "                nova_lista_empresa_dados.append(float(valor))\n",
    "            except ValueError:\n",
    "                nova_lista_empresa_dados.append(valor)\n",
    "    \n",
    "    return nova_lista_empresa_dados"
   ]
  },
  {
   "cell_type": "code",
   "execution_count": 9,
   "metadata": {},
   "outputs": [],
   "source": [
    "def transformar_lista_em_tuples(empresa_dados):\n",
    "    empresa_dados_list = []\n",
    "    empresa_dados_list.append(tuple(empresa_dados))\n",
    "    return empresa_dados_list"
   ]
  },
  {
   "cell_type": "code",
   "execution_count": 10,
   "metadata": {},
   "outputs": [],
   "source": [
    "def transformar_listas_em_dicionario(lista_keys, lista_values):\n",
    "    novo_dicionario = {lista_keys[i]: lista_values[i] for i in range(len(lista_keys))}\n",
    "    \n",
    "    return novo_dicionario"
   ]
  },
  {
   "cell_type": "code",
   "execution_count": 11,
   "metadata": {},
   "outputs": [
    {
     "data": {
      "text/plain": [
       "[(1, 2, 3, 4)]"
      ]
     },
     "execution_count": 11,
     "metadata": {},
     "output_type": "execute_result"
    }
   ],
   "source": [
    "transformar_lista_em_tuples([1,2,3,4])"
   ]
  },
  {
   "cell_type": "code",
   "execution_count": null,
   "metadata": {},
   "outputs": [],
   "source": []
  },
  {
   "cell_type": "code",
   "execution_count": null,
   "metadata": {},
   "outputs": [],
   "source": []
  },
  {
   "cell_type": "markdown",
   "metadata": {},
   "source": [
    "## Pegando data última cotação e data último balanço"
   ]
  },
  {
   "cell_type": "code",
   "execution_count": 12,
   "metadata": {},
   "outputs": [],
   "source": [
    "def extrair_data_ult_cotacao():\n",
    "    data_ult_cotacao = html_selector.xpath(\"//table[1]//span[@class='txt']/text() | // table[1]//span[@class='txt']/a/text()\").extract()[7]\n",
    "    #data_ult_cotacao = validar_data(data_ult_cotacao)\n",
    "    return data_ult_cotacao\n",
    "\n",
    "def extrair_data_ult_balanco():\n",
    "    data_ult_balanco = html_selector.xpath(\"//table[2]//span[@class='txt']/text()\").extract()[3]\n",
    "    #data_ult_balanco = validar_data(data_ult_balanco)\n",
    "    return data_ult_balanco"
   ]
  },
  {
   "cell_type": "code",
   "execution_count": 15,
   "metadata": {},
   "outputs": [
    {
     "data": {
      "text/plain": [
       "'05/04/2021'"
      ]
     },
     "execution_count": 15,
     "metadata": {},
     "output_type": "execute_result"
    }
   ],
   "source": [
    "extrair_data_ult_cotacao()"
   ]
  },
  {
   "cell_type": "markdown",
   "metadata": {},
   "source": [
    "## Verificação se já existe os dados:\n",
    "* Verificar se o papel já existe nos dados gravados\n",
    "    * Se não existir, inserir dados da empresa, dados de cotação e dados do balanço\n",
    "    * Se existir, verificar se a cotação mais atual já existe\n",
    "    * Se existir, verificar se o balanço mais atual já existe\n",
    "* Verificando se a cotaçao mais atual já existe\n",
    "    * Se não existir, inserir dados da cotação atualizado\n",
    "    * Se existir, não fazer nada\n",
    "* Verificando se o balanço mais atual já existe\n",
    "    * Se não existir, inserir dados do balanço atualizado\n",
    "    * Se existir, não fazer nada"
   ]
  },
  {
   "cell_type": "markdown",
   "metadata": {},
   "source": [
    "## Conexão com o MongoDB"
   ]
  },
  {
   "cell_type": "code",
   "execution_count": 47,
   "metadata": {},
   "outputs": [],
   "source": [
    "from pymongo import MongoClient\n",
    "\n",
    "def conexao_banco_mongodb():    \n",
    "    cliente = MongoClient('mongodb://localhost:27017/')\n",
    "    global conexao_banco_mongodb\n",
    "    conexao_banco_mongodb = cliente['test_fundamentus']\n",
    "\n",
    "conexao_banco_mongodb()"
   ]
  },
  {
   "cell_type": "code",
   "execution_count": 52,
   "metadata": {},
   "outputs": [
    {
     "data": {
      "text/plain": [
       "\"<class 'pymongo.collection.Collection'>\""
      ]
     },
     "execution_count": 52,
     "metadata": {},
     "output_type": "execute_result"
    }
   ],
   "source": [
    "str(type(conexao_banco_mongodb.info_empres))"
   ]
  },
  {
   "cell_type": "markdown",
   "metadata": {},
   "source": [
    "### Buscar dados no MongoDB"
   ]
  },
  {
   "cell_type": "code",
   "execution_count": 8,
   "metadata": {},
   "outputs": [],
   "source": [
    "def buscar_dados_empresa_por_papel(papel):\n",
    "    colecao = conexao_banco_mongodb.info_empresa\n",
    "    dados_empresa = colecao.find_one({\"Papel\": papel})\n",
    "    \n",
    "    return dados_empresa"
   ]
  },
  {
   "cell_type": "code",
   "execution_count": 10,
   "metadata": {},
   "outputs": [],
   "source": [
    "dados = buscar_dados_empresa_por_papel('PETR')\n",
    "dados"
   ]
  },
  {
   "cell_type": "code",
   "execution_count": 13,
   "metadata": {},
   "outputs": [
    {
     "data": {
      "text/plain": [
       "\"<class 'NoneType'>\""
      ]
     },
     "execution_count": 13,
     "metadata": {},
     "output_type": "execute_result"
    }
   ],
   "source": [
    "str(type(dados))"
   ]
  },
  {
   "cell_type": "code",
   "execution_count": 16,
   "metadata": {},
   "outputs": [],
   "source": [
    "def buscar_lista_cotacoes_empresa_por_papel(papel):\n",
    "    colecao = conexao_banco_mongodb.cotacao\n",
    "    lista_cotacoes = colecao.find({\"Papel\": papel})\n",
    "    \n",
    "    return lista_cotacoes"
   ]
  },
  {
   "cell_type": "code",
   "execution_count": 17,
   "metadata": {},
   "outputs": [],
   "source": [
    "def buscar_cotacao_empresa_por_papel_data(papel, data_cotacao):\n",
    "    colecao = conexao_banco_mongodb.cotacao\n",
    "    cotacao_papel_data = colecao.find_one({\"Papel\": papel, \"Data_ult_cot\": data_cotacao})\n",
    "    \n",
    "    return cotacao_papel_data"
   ]
  },
  {
   "cell_type": "code",
   "execution_count": 18,
   "metadata": {},
   "outputs": [],
   "source": [
    "def buscar_lista_balancos_empresa_por_papel(papel):\n",
    "    colecao = conexao_banco_mongodb.balanco\n",
    "    lista_balancos = colecao.find({\"Papel\": papel})\n",
    "    \n",
    "    return lista_balancos"
   ]
  },
  {
   "cell_type": "code",
   "execution_count": 19,
   "metadata": {},
   "outputs": [],
   "source": [
    "def buscar_balanco_empresa_por_papel_data(papel, data_balanco):\n",
    "    colecao = conexao_banco_mongodb.balanco\n",
    "    balanco_papel_data = colecao.find_one({\"Papel\": papel, \"Data_ult_cot\": data_balanco})\n",
    "    \n",
    "    return balanco_papel_data"
   ]
  },
  {
   "cell_type": "markdown",
   "metadata": {},
   "source": [
    "### Atualizar dados no MongoDB"
   ]
  },
  {
   "cell_type": "code",
   "execution_count": 20,
   "metadata": {},
   "outputs": [],
   "source": [
    "def atualizar_oscilacao_na_cotacao_mongodb(id_inserido_oscilacoes, id_inserido_cotacao):\n",
    "    colecao = conexao_banco_mongodb.cotacao\n",
    "    colecao.update_one({\"_id\":  id_inserido_cotacao}, {'$set': {'Oscilacao':id_inserido_oscilacoes}})"
   ]
  },
  {
   "cell_type": "code",
   "execution_count": 21,
   "metadata": {},
   "outputs": [],
   "source": [
    "def atualizar_indicadores_fundamentalistas_na_cotacao_mongodb(id_inserido_indicadores, id_inserido_cotacao):\n",
    "    colecao = conexao_banco_mongodb.cotacao\n",
    "    colecao.update_one({\"_id\":  id_inserido_cotacao}, {'$set': {'Indicador_Fundamentalista': id_inserido_indicadores}})"
   ]
  },
  {
   "cell_type": "code",
   "execution_count": 22,
   "metadata": {},
   "outputs": [],
   "source": [
    "# Balanço da Empresa\n",
    "def atualizar_cotacoes_no_balanco_por_id_mongodb(id_inserido_balanco, id_inserido_cotacao):\n",
    "    colecao = conexao_banco_mongodb.balanco\n",
    "    colecao.update_one({\"_id\":  id_inserido_balanco}, {'$push': {'Cotacoes': id_inserido_cotacao }})"
   ]
  },
  {
   "cell_type": "code",
   "execution_count": 23,
   "metadata": {},
   "outputs": [],
   "source": [
    "def atualizar_cotacoes_no_balanco_por_papel_data_mongodb(papel, data_ult_balanco, id_inserido_cotacao):\n",
    "    print(\"*** Atualizando dados de Cotação no Balanço atual da Empresa...\")\n",
    "    colecao = conexao_banco_mongodb.balanco\n",
    "    colecao.update_one({\"Papel\":  papel, \"Ult_balanco_processado\": data_ult_balanco}, {'$push': {'Cotacoes': id_inserido_cotacao }})"
   ]
  },
  {
   "cell_type": "code",
   "execution_count": null,
   "metadata": {},
   "outputs": [],
   "source": []
  },
  {
   "cell_type": "markdown",
   "metadata": {},
   "source": [
    "### Inserir dados no MongoDB"
   ]
  },
  {
   "cell_type": "code",
   "execution_count": 24,
   "metadata": {},
   "outputs": [],
   "source": [
    "# Dados da Empresa\n",
    "def inserir_dados_empresa_mongodb(info_empresa):\n",
    "    print(\"** Salvando Informações da Empresa...\")\n",
    "    colecao = conexao_banco_mongodb.dados_empresa\n",
    "    colecao.insert_one(info_empresa)"
   ]
  },
  {
   "cell_type": "code",
   "execution_count": 25,
   "metadata": {},
   "outputs": [],
   "source": [
    "# Cotação da Empresa\n",
    "def inserir_cotacao_empresa_mongodb(cotacao_empresa):\n",
    "    print(\"** Salvando dados de Cotação da Empresa...\")\n",
    "    colecao = conexao_banco_mongodb.cotacao\n",
    "    id_inserido_cotacao = colecao.insert_one(cotacao_empresa).inserted_id\n",
    "    \n",
    "    return id_inserido_cotacao"
   ]
  },
  {
   "cell_type": "code",
   "execution_count": 26,
   "metadata": {},
   "outputs": [],
   "source": [
    "# Oscilações da Empresa\n",
    "def inserir_oscilacoes_empresa_mongodb(oscilacoes_empresa, id_inserido_cotacao):\n",
    "    print(\"** Salvando dados de Oscilações da Empresa...\")\n",
    "    oscilacoes_empresa['Cotacao'] = id_inserido_cotacao\n",
    "    colecao = conexao_banco_mongodb.oscilacoes\n",
    "    id_inserido_oscilacoes = colecao.insert_one(oscilacoes_empresa).inserted_id\n",
    "    \n",
    "    atualizar_oscilacao_na_cotacao_mongodb(id_inserido_oscilacoes, id_inserido_cotacao)"
   ]
  },
  {
   "cell_type": "code",
   "execution_count": 27,
   "metadata": {},
   "outputs": [],
   "source": [
    "# Indicadores Fundamentalistas da Empresa\n",
    "def inserir_indicadores_fundamentalista_empresa_mongodb(indicadores_fundamentalitas_empresa, id_inserido_cotacao):\n",
    "    print(\"** Salvando dados de Indicadores Fundamentalistas da Empresa...\")\n",
    "    indicadores_fundamentalitas_empresa['Cotacao'] = id_inserido_cotacao\n",
    "    colecao = conexao_banco_mongodb.indicadores_fundamentalista\n",
    "    id_inserido_indicadores = colecao.insert_one(indicadores_fundamentalitas_empresa).inserted_id\n",
    "\n",
    "    atualizar_indicadores_fundamentalistas_na_cotacao_mongodb(id_inserido_indicadores, id_inserido_cotacao)"
   ]
  },
  {
   "cell_type": "code",
   "execution_count": 28,
   "metadata": {},
   "outputs": [],
   "source": [
    "def inserir_balanco_empresa_mongodb(balanco_empresa, id_inserido_cotacao):\n",
    "    print(\"** Salvando dados de Balanço da Empresa...\")\n",
    "    colecao = conexao_banco_mongodb.balanco\n",
    "    id_inserido_balanco = colecao.insert_one(balanco_empresa).inserted_id\n",
    "    \n",
    "    atualizar_cotacoes_no_balanco_por_id_mongodb(id_inserido_balanco, id_inserido_cotacao)"
   ]
  },
  {
   "cell_type": "markdown",
   "metadata": {},
   "source": [
    "## Extrair Dados da Empresa e transformar em dicionario"
   ]
  },
  {
   "cell_type": "code",
   "execution_count": 13,
   "metadata": {},
   "outputs": [],
   "source": [
    "def extrair_info_empresa_label():\n",
    "    info_empresa_label = html_selector.xpath(\"//table[1]//span[@class='txt']/text() | //table[1]//span[@class='txt']/a/text()\").extract()[0::2][0::2]\n",
    "    info_empresa_label = remover_caracteres_especiais(info_empresa_label)\n",
    "    \n",
    "    return info_empresa_label"
   ]
  },
  {
   "cell_type": "code",
   "execution_count": 14,
   "metadata": {},
   "outputs": [],
   "source": [
    "def extrair_info_empresa_dados():\n",
    "    info_empresa_dados = html_selector.xpath(\"//table[1]//span[@class='txt']/text() | //table[1]//span[@class='txt']/a/text()\").extract()[1::2][0::2]\n",
    "    \n",
    "    return info_empresa_dados"
   ]
  },
  {
   "cell_type": "code",
   "execution_count": 15,
   "metadata": {},
   "outputs": [],
   "source": [
    "def criar_dicionario_info_empresa():\n",
    "    print('* Extraindo Informações da Empresa...')\n",
    "    info_empresa_label = extrair_info_empresa_label()\n",
    "    info_empresa_dados = extrair_info_empresa_dados()\n",
    "    info_empresa = transformar_listas_em_dicionario(info_empresa_label, info_empresa_dados)\n",
    "    \n",
    "    return info_empresa"
   ]
  },
  {
   "cell_type": "markdown",
   "metadata": {},
   "source": [
    "## Extraindo Dados atualizados de Cotação (caso estejam desatualizados)\n",
    "### Extrair Dados Básicos Cotação e transformar em dicionario"
   ]
  },
  {
   "cell_type": "code",
   "execution_count": 16,
   "metadata": {},
   "outputs": [],
   "source": [
    "def extrair_cotacao_label():\n",
    "    cotacao_label = html_selector.xpath(\"//table[1]//span[@class='txt']/text() | //table[1]//span[@class='txt']/a/text()\").extract()[0::2][1::2]\n",
    "    cotacao_label += html_selector.xpath(\"//table[2]//span[@class='txt']/text()\").extract()[0::2][0::3]\n",
    "    cotacao_label = remover_caracteres_especiais(cotacao_label)\n",
    "    cotacao_label.insert(0, 'Papel')    \n",
    "\n",
    "    return cotacao_label"
   ]
  },
  {
   "cell_type": "code",
   "execution_count": 17,
   "metadata": {},
   "outputs": [],
   "source": [
    "def extrair_cotacao_dados(papel):\n",
    "    cotacao_dados = html_selector.xpath(\"//table[1]//span[@class='txt']/text() | //table[1]//span[@class='txt']/a/text()\").extract()[1::2][1::2]\n",
    "    cotacao_dados += html_selector.xpath(\"//table[2]//span[@class='txt']/text()\").extract()[1::2][0::3]\n",
    "    #cotacao_dados = formatar_tipagem_dados(cotacao_dados)\n",
    "    cotacao_dados.insert(0, papel)\n",
    "    \n",
    "    return cotacao_dados"
   ]
  },
  {
   "cell_type": "code",
   "execution_count": 18,
   "metadata": {},
   "outputs": [],
   "source": [
    "def criar_dicionario_cotacao_empresa(papel):\n",
    "    print('* Extraindo Cotação da Empresa...')\n",
    "    cotacao_label = extrair_cotacao_label()\n",
    "    cotacao_dados = extrair_cotacao_dados(papel)\n",
    "    cotacao_empresa = transformar_listas_em_dicionario(cotacao_label, cotacao_dados)\n",
    "    \n",
    "    return cotacao_empresa\n"
   ]
  },
  {
   "cell_type": "markdown",
   "metadata": {},
   "source": [
    "### Extrair Dados Oscilação e transformar em dicionario"
   ]
  },
  {
   "cell_type": "code",
   "execution_count": 19,
   "metadata": {},
   "outputs": [],
   "source": [
    "def extrair_oscilacao_cotacao_label():\n",
    "    oscilacao_label = html_selector.xpath(\"//table[3]//td[@class='nivel1']//span/text()\").extract()[0]\n",
    "    lista_oscilacoes_label = html_selector.xpath(\"//table[3]//td[@class='label w1']//span/text()\").extract()\n",
    "    oscilacoes_label = list(map(lambda label: oscilacao_label + \"_\" + label, lista_oscilacoes_label))\n",
    "    oscilacoes_label = remover_caracteres_especiais(oscilacoes_label)\n",
    "    oscilacoes_label.insert(0, 'Data_ult_cot')\n",
    "    oscilacoes_label.insert(0, 'Papel')\n",
    "    \n",
    "    return oscilacoes_label"
   ]
  },
  {
   "cell_type": "code",
   "execution_count": 20,
   "metadata": {},
   "outputs": [],
   "source": [
    "def extrair_oscilacao_cotacao_dados(papel):\n",
    "    oscilacoes_dados = html_selector.xpath(\"//table[3]//span[@class='oscil']/font/text()\").extract()\n",
    "    oscilacoes_dados.insert(0, extrair_data_ult_cotacao())\n",
    "    oscilacoes_dados.insert(0, papel)\n",
    "    #oscilacoes_dados = formatar_tipagem_dados(oscilacoes_dados)\n",
    "    \n",
    "    return oscilacoes_dados"
   ]
  },
  {
   "cell_type": "code",
   "execution_count": 21,
   "metadata": {},
   "outputs": [],
   "source": [
    "def criar_dicionario_oscilacoes_empresa(papel):\n",
    "    print('* Extraindo Oscilações de Cotação da Empresa...')\n",
    "    oscilacoes_label = extrair_oscilacao_cotacao_label()\n",
    "    oscilacoes_dados = extrair_oscilacao_cotacao_dados(papel)\n",
    "    oscilacoes_empresa = transformar_listas_em_dicionario(oscilacoes_label, oscilacoes_dados)\n",
    "    \n",
    "    return oscilacoes_empresa"
   ]
  },
  {
   "cell_type": "markdown",
   "metadata": {},
   "source": [
    "### Extrair Dados Indicadores Fundamentalistas e transformar em dicionario"
   ]
  },
  {
   "cell_type": "code",
   "execution_count": 22,
   "metadata": {},
   "outputs": [],
   "source": [
    "def extrair_indicadores_fundamentalistas_label():\n",
    "    indicador_fundamentalita_label = html_selector.xpath(\"//table[3]//td[@class='label w2']//span[@class='txt']/text() | //table[3]//td[@class='label']//span[@class='txt']/text()\").extract()\n",
    "    indicador_fundamentalita_label = remover_caracteres_especiais(indicador_fundamentalita_label)\n",
    "    indicador_fundamentalita_label.insert(0, 'Data_ult_cot')\n",
    "    indicador_fundamentalita_label.insert(0, 'Papel')\n",
    "    \n",
    "    return indicador_fundamentalita_label"
   ]
  },
  {
   "cell_type": "code",
   "execution_count": 23,
   "metadata": {},
   "outputs": [],
   "source": [
    "def extrair_indicadores_fundamentalistas_dados(papel):\n",
    "    indicador_fundamentalita_dados = html_selector.xpath(\"//table[3]//td[@class='data w2']//span[@class='txt']/text() | //table[3]//td[@class='data']//span[@class='txt']/text()\").extract()\n",
    "    indicador_fundamentalita_dados.insert(0, extrair_data_ult_cotacao())\n",
    "    indicador_fundamentalita_dados.insert(0, papel)\n",
    "    indicador_fundamentalita_dados = list(map(lambda dado: dado.replace(\"\\n\", \"\"), indicador_fundamentalita_dados))\n",
    "    #indicador_fundamentalita_dados = formatar_tipagem_dados(indicador_fundamentalita_dados)\n",
    "    \n",
    "    return indicador_fundamentalita_dados"
   ]
  },
  {
   "cell_type": "code",
   "execution_count": 24,
   "metadata": {},
   "outputs": [],
   "source": [
    "def criar_dicionario_indicadores_fundamentalistas_empresa(papel):\n",
    "    print('* Extraindo Indicadores Fundamentalistas da Empresa...')\n",
    "    indicador_fundamentalita_label = extrair_indicadores_fundamentalistas_label()\n",
    "    indicador_fundamentalita_dados = extrair_indicadores_fundamentalistas_dados(papel)\n",
    "    indicadores_fundamentalistas_empresa = transformar_listas_em_dicionario(indicador_fundamentalita_label, indicador_fundamentalita_dados)\n",
    "\n",
    "    return indicadores_fundamentalistas_empresa"
   ]
  },
  {
   "cell_type": "markdown",
   "metadata": {},
   "source": [
    "## Extrair Dados do Balanço e transformar em dicionario"
   ]
  },
  {
   "cell_type": "code",
   "execution_count": 25,
   "metadata": {},
   "outputs": [],
   "source": [
    "def extrair_balanco_label():\n",
    "    balanco_label = html_selector.xpath(\"//table[2]//span[@class='txt']/text()\").extract()[2:6][0::2]\n",
    "    balanco_label += html_selector.xpath(\"//table[4]//td[@class='label w2']//span[@class='txt']/text() | //table[4]//td[@class='label']//span[@class='txt']/text()\").extract()\n",
    "    dre_12_meses = html_selector.xpath(\"//table[5]//td[@class='label w2']//span[@class='txt']/text() | //table[5]//td[@class='label']//span[@class='txt']/text()\").extract()[0::2]\n",
    "    balanco_label += list(map(lambda label: label + \"_ult._12_meses\", dre_12_meses))\n",
    "    dre_3_meses = html_selector.xpath(\"//table[5]//td[@class='label w2']//span[@class='txt']/text() | //table[5]//td[@class='label']//span[@class='txt']/text()\").extract()[1::2]\n",
    "    balanco_label += list(map(lambda label: label + \"_ult._3_meses\", dre_3_meses))\n",
    "    balanco_label = remover_caracteres_especiais(balanco_label)\n",
    "    balanco_label.insert(0, 'Papel')\n",
    "    \n",
    "    return balanco_label"
   ]
  },
  {
   "cell_type": "code",
   "execution_count": 26,
   "metadata": {},
   "outputs": [],
   "source": [
    "def extrair_balanco_dados(papel):\n",
    "    balanco_dados = html_selector.xpath(\"//table[2]//span[@class='txt']/text()\").extract()[2:6][1::2]\n",
    "    balanco_dados += html_selector.xpath(\"//table[4]//td[@class='data w3']//span[@class='txt']/text() | //table[4]//td[@class='data']//span[@class='txt']/text()\").extract()\n",
    "    balanco_dados += html_selector.xpath(\"//table[5]//td[@class='data w3']//span[@class='txt']/text() | //table[5]//td[@class='data']//span[@class='txt']/text()\").extract()[0::2]\n",
    "    balanco_dados += html_selector.xpath(\"//table[5]//td[@class='data w3']//span[@class='txt']/text() | //table[5]//td[@class='data']//span[@class='txt']/text()\").extract()[1::2]\n",
    "    balanco_dados.insert(0, papel)\n",
    "    #balanco_dados = formatar_tipagem_dados(balanco_dados)\n",
    "    \n",
    "    return balanco_dados"
   ]
  },
  {
   "cell_type": "code",
   "execution_count": 27,
   "metadata": {},
   "outputs": [],
   "source": [
    "def criar_dicionario_balanco_empresa(papel):\n",
    "    print('* Extraindo dados do Balanço da Empresa...')\n",
    "    balanco_label = extrair_balanco_label()\n",
    "    balanco_dados = extrair_balanco_dados(papel)\n",
    "    balanco_empresa = transformar_listas_em_dicionario(balanco_label, balanco_dados)\n",
    "    \n",
    "    return balanco_empresa"
   ]
  },
  {
   "cell_type": "markdown",
   "metadata": {},
   "source": [
    "## Adicionar Dados a serem inseridos no MongoDB"
   ]
  },
  {
   "cell_type": "code",
   "execution_count": 44,
   "metadata": {},
   "outputs": [],
   "source": [
    "def adicionar_info_empresa():\n",
    "    info_empresa = criar_dicionario_info_empresa()\n",
    "    inserir_dados_empresa_mongodb(info_empresa)"
   ]
  },
  {
   "cell_type": "code",
   "execution_count": 45,
   "metadata": {},
   "outputs": [],
   "source": [
    "def adicionar_cotacao_empresa(papel):\n",
    "    cotacao_empresa = criar_dicionario_cotacao_empresa(papel)    \n",
    "    id_inserido_cotacao = inserir_cotacao_empresa_mongodb(cotacao_empresa)\n",
    "        \n",
    "    oscilacoes_empresa = criar_dicionario_oscilacoes_empresa(papel)\n",
    "    inserir_oscilacoes_empresa_mongodb(oscilacoes_empresa, id_inserido_cotacao)\n",
    "        \n",
    "    indicadores_fundamentalistas_empresa = criar_dicionario_indicadores_fundamentalistas_empresa(papel)\n",
    "    inserir_indicadores_fundamentalista_empresa_mongodb(indicadores_fundamentalistas_empresa, id_inserido_cotacao)\n",
    "    \n",
    "    return id_inserido_cotacao"
   ]
  },
  {
   "cell_type": "code",
   "execution_count": 46,
   "metadata": {},
   "outputs": [],
   "source": [
    "def adicionar_balanco_empresa(papel, id_inserido_cotacao):\n",
    "    balanco_empresa = criar_dicionario_balanco_empresa(papel)\n",
    "    inserir_balanco_empresa_mongodb(balanco_empresa, id_inserido_cotacao)"
   ]
  },
  {
   "cell_type": "markdown",
   "metadata": {},
   "source": [
    "### Verificação se dados já existem no MongoDB"
   ]
  },
  {
   "cell_type": "code",
   "execution_count": 47,
   "metadata": {},
   "outputs": [],
   "source": [
    "def dados_empresa_nao_existem(papel):\n",
    "    dados_empresa = buscar_dados_empresa_por_papel(papel)\n",
    "    if dados_empresa is None:\n",
    "        return True\n",
    "    else:\n",
    "        return False \n",
    "    \n",
    "\n",
    "def ultima_cotacao_nao_existem(papel, data_ult_cotacao):\n",
    "    ultima_cotacao = buscar_cotacao_empresa_por_papel_data(papel, data_ult_cotacao)\n",
    "    if ultima_cotacao is None:\n",
    "        return True\n",
    "    else:\n",
    "        return False\n",
    "    \n",
    "\n",
    "def ultimo_balanco_nao_existem(papel, data_ult_balanco):\n",
    "    ultimo_balanco = buscar_balanco_empresa_por_papel_data(papel, data_ult_balanco)\n",
    "    if ultimo_balanco is None:\n",
    "        return True\n",
    "    else:\n",
    "        return False"
   ]
  },
  {
   "cell_type": "markdown",
   "metadata": {},
   "source": [
    "## Método principal (main)"
   ]
  },
  {
   "cell_type": "code",
   "execution_count": 169,
   "metadata": {},
   "outputs": [],
   "source": [
    "def metodo_main():\n",
    "    \n",
    "    print('Iniciando Web Scraping:')\n",
    "    print(\"--------------------------------------------\")\n",
    "    papel = input(\"Digite o código do papel: \").upper()\n",
    "    \n",
    "    baixar_html_site_fundamentus(papel)\n",
    "    data_ult_cotacao = extrair_data_ult_cotacao()\n",
    "    data_ult_balanco = extrair_data_ult_balanco()\n",
    "    \n",
    "    # ADICIONAR DADOS DA EMPRESA\n",
    "    if dados_empresa_nao_existem(papel):\n",
    "        print(f\"Dados da empresa '{papel}' ainda não existem:\")\n",
    "        adicionar_info_empresa()\n",
    "        id_inserido_cotacao = adicionar_cotacao_empresa(papel)\n",
    "        adicionar_balanco_empresa(papel, id_inserido_cotacao)\n",
    "\n",
    "    # ADICIONAR DADOS DA ÚLTIMA COTAÇÃO\n",
    "    # ADICIONAR DADOS DA ÚLTIMA OSCILAÇÃO\n",
    "    # ADICIONAR DADOS DOS ÚLTIMOS INDICADORES FUNDAMENTALISTAS\n",
    "    elif ultima_cotacao_nao_existem(papel, data_ult_cotacao):\n",
    "        print(f\"Dados da empresa '{papel}' já existem:\")\n",
    "        print('* Atualizando Dados de Cotação....')\n",
    "        id_inserido_cotacao = adicionar_cotacao_empresa(papel)\n",
    "        \n",
    "        if ultimo_balanco_nao_existem(papel, data_ult_balanco):\n",
    "            print(\"--------------------------------------------\")\n",
    "            print('* Adicionando Balanço atualizado da empresa....')\n",
    "            adicionar_balanco_empresa(papel, id_inserido_cotacao)\n",
    "        \n",
    "        else:\n",
    "            print(\"--------------------------------------------\")\n",
    "            print('Dados atuais do Balanço da empresa já existem:')\n",
    "            print('* Adicionando Balanço atualizado da empresa....')\n",
    "            atualizar_cotacoes_no_balanco_por_papel_data_mongodb(papel, data_ult_balanco, id_inserido_cotacao)\n",
    "    else:\n",
    "        print(\"--------------------------------------------\")\n",
    "        print('Todos os dados já estão atualizados!')"
   ]
  },
  {
   "cell_type": "code",
   "execution_count": 170,
   "metadata": {},
   "outputs": [
    {
     "name": "stdout",
     "output_type": "stream",
     "text": [
      "Iniciando Web Scraping:\n",
      "--------------------------------------------\n"
     ]
    },
    {
     "name": "stdin",
     "output_type": "stream",
     "text": [
      "Digite o código do papel:  GGBR4\n"
     ]
    },
    {
     "name": "stdout",
     "output_type": "stream",
     "text": [
      "Baixando dados em HTML do 'GGBR4' no site fundamentus...\n",
      "--------------------------------------------\n",
      "Dados da empresa 'GGBR4' ainda não existem:\n",
      "* Extraindo Informações da Empresa...\n",
      "** Salvando Informações da Empresa...\n",
      "* Extraindo Cotação da Empresa...\n",
      "** Salvando dados de Cotação da Empresa...\n",
      "* Extraindo Oscilações de Cotação da Empresa...\n",
      "** Salvando dados de Oscilações da Empresa...\n",
      "* Extraindo Indicadores Fundamentalistas da Empresa...\n",
      "** Salvando dados de Indicadores Fundamentalistas da Empresa...\n",
      "* Extraindo dados do Balanço da Empresa...\n",
      "** Salvando dados de Balanço da Empresa...\n"
     ]
    }
   ],
   "source": [
    "metodo_main()"
   ]
  },
  {
   "cell_type": "markdown",
   "metadata": {},
   "source": [
    "## Buscando dados no MongoDB"
   ]
  },
  {
   "cell_type": "code",
   "execution_count": 73,
   "metadata": {},
   "outputs": [],
   "source": [
    "def buscar_balanco_por_papel(papel):\n",
    "    colecao = conexao_banco_mongodb.balanco\n",
    "    resultado = colecao.find_one({ \"Papel\": papel})\n",
    "    \n",
    "    return resultado\n",
    "\n",
    "resultado = buscar_balanco_por_papel('ggbr4')\n",
    "resultado"
   ]
  },
  {
   "cell_type": "code",
   "execution_count": 74,
   "metadata": {},
   "outputs": [
    {
     "name": "stdout",
     "output_type": "stream",
     "text": [
      "Vazio\n"
     ]
    }
   ],
   "source": [
    "if (resultado is None) or (len(resultado) == 0):\n",
    "    print('Vazio')\n",
    "else:\n",
    "    print(True)"
   ]
  },
  {
   "cell_type": "code",
   "execution_count": null,
   "metadata": {},
   "outputs": [],
   "source": []
  },
  {
   "cell_type": "code",
   "execution_count": null,
   "metadata": {},
   "outputs": [],
   "source": [
    "def buscar_cotacao_e_dados_oscilacao(papel):\n",
    "    pipeline = [\n",
    "        {\"$match\" : { \"Papel\" : papel }},\n",
    "        {\"$lookup\" : { \"from\": \"oscilacoes\",\n",
    "                       \"localField\": \"Papel\",\n",
    "                       \"foreignField\": \"Papel\",\n",
    "                       \"as\": \"Oscilacao_Papel\" }},\n",
    "        {\"$unset\": [\"Oscilacao_Papel._id\", \"Oscilacao_Papel.Papel\", \"Oscilacao_Papel.Cotacao\"]} # Ocultando campos no retorno\n",
    "    ]\n",
    "    colecao = conexao_banco_mongodb.cotacao\n",
    "    resultado = list(colecao.aggregate(pipeline))\n",
    "    \n",
    "    return resultado\n",
    "\n",
    "resultado = buscar_cotacao_e_dados_oscilacao(\"PETR4\")\n",
    "resultado"
   ]
  },
  {
   "cell_type": "code",
   "execution_count": null,
   "metadata": {},
   "outputs": [],
   "source": [
    "resultado[0]['Oscilacao_Papel']"
   ]
  },
  {
   "cell_type": "markdown",
   "metadata": {},
   "source": [
    "### Testando inclusão de item na lista Cotacoes na coleção Balanço"
   ]
  },
  {
   "cell_type": "code",
   "execution_count": 98,
   "metadata": {},
   "outputs": [
    {
     "ename": "NameError",
     "evalue": "name 'buscar_balanco_por_papel' is not defined",
     "output_type": "error",
     "traceback": [
      "\u001b[0;31m---------------------------------------------------------------------------\u001b[0m",
      "\u001b[0;31mNameError\u001b[0m                                 Traceback (most recent call last)",
      "\u001b[0;32m<ipython-input-98-2537201d807c>\u001b[0m in \u001b[0;36m<module>\u001b[0;34m\u001b[0m\n\u001b[0;32m----> 1\u001b[0;31m \u001b[0mresultado\u001b[0m \u001b[0;34m=\u001b[0m \u001b[0mbuscar_balanco_por_papel\u001b[0m\u001b[0;34m(\u001b[0m\u001b[0;34m\"PETR4\"\u001b[0m\u001b[0;34m)\u001b[0m\u001b[0;34m\u001b[0m\u001b[0;34m\u001b[0m\u001b[0m\n\u001b[0m\u001b[1;32m      2\u001b[0m \u001b[0mid_balanco\u001b[0m \u001b[0;34m=\u001b[0m \u001b[0mresultado\u001b[0m\u001b[0;34m[\u001b[0m\u001b[0;34m'_id'\u001b[0m\u001b[0;34m]\u001b[0m\u001b[0;34m\u001b[0m\u001b[0;34m\u001b[0m\u001b[0m\n\u001b[1;32m      3\u001b[0m \u001b[0;34m\u001b[0m\u001b[0m\n\u001b[1;32m      4\u001b[0m \u001b[0matualizar_lista_cotacoes_no_balanco\u001b[0m\u001b[0;34m(\u001b[0m\u001b[0mid_balanco\u001b[0m\u001b[0;34m)\u001b[0m\u001b[0;34m\u001b[0m\u001b[0;34m\u001b[0m\u001b[0m\n",
      "\u001b[0;31mNameError\u001b[0m: name 'buscar_balanco_por_papel' is not defined"
     ]
    }
   ],
   "source": [
    "resultado = buscar_balanco_por_papel(\"PETR4\")\n",
    "id_balanco = resultado['_id']\n",
    "\n",
    "atualizar_lista_cotacoes_no_balanco(id_balanco)"
   ]
  },
  {
   "cell_type": "markdown",
   "metadata": {},
   "source": [
    "# --------------------------------------------------------------------------------------------"
   ]
  },
  {
   "cell_type": "markdown",
   "metadata": {},
   "source": [
    "## Verificando se o arquivo já existe"
   ]
  },
  {
   "cell_type": "code",
   "execution_count": 37,
   "metadata": {},
   "outputs": [],
   "source": [
    "#path = '/home/hugo/Documents/Repositorios_GitHub/Projetos/02-StockData/Web_Scraping/Fundamentus_Web/'\n",
    "#file_name = '%s_fundamentus_%s.txt' % (papel, str(data_ult_balanco_new_html))\n",
    "\n",
    "#if os.path.isfile(path+file_name):\n",
    "#    print('Arquivo já existe com balanço mais atual!')\n",
    "#else:\n",
    "#    print('Arquivo com balanço atual ainda não existe!')"
   ]
  },
  {
   "cell_type": "markdown",
   "metadata": {},
   "source": [
    "## Salvando conteúdo do HTML (em bytes) em um arquivo local como txt"
   ]
  },
  {
   "cell_type": "code",
   "execution_count": 38,
   "metadata": {},
   "outputs": [],
   "source": [
    "#file_name = '%s_fundamentus_%s.txt' % (papel, data_ult_balanco_new_html)\n",
    "\n",
    "#with io.open(path+file_name, 'w', encoding='utf-8') as f:\n",
    "#    f.write(new_html)"
   ]
  },
  {
   "cell_type": "markdown",
   "metadata": {},
   "source": [
    "## Lendo conteúdo do arquivo Local e armazenando em uma variável"
   ]
  },
  {
   "cell_type": "code",
   "execution_count": 39,
   "metadata": {},
   "outputs": [],
   "source": [
    "#with io.open(path+file_name, 'r', encoding='utf8') as f:\n",
    "#    html = f.read()"
   ]
  },
  {
   "cell_type": "markdown",
   "metadata": {},
   "source": [
    "# -----------------------------------------------------------------------------------------"
   ]
  },
  {
   "cell_type": "code",
   "execution_count": 53,
   "metadata": {},
   "outputs": [],
   "source": [
    "# ADICIONA ITEM A UMA LISTA\n",
    "\n",
    "#colecao = banco.cotacao\n",
    "#colecao.update_one({\"_id\":  id_inserido_cotacao}, {'$push': {'oscilacoes': id_inserido_cotacao }})"
   ]
  },
  {
   "cell_type": "code",
   "execution_count": 59,
   "metadata": {},
   "outputs": [],
   "source": [
    "#colecao = banco.balanco\n",
    "\n",
    "#colecao.update_one({\"_id\":  id_inserido_balanco}, {'$set': {'Indicador_Fundamentalista': id_inserido_indicadores}})"
   ]
  },
  {
   "cell_type": "markdown",
   "metadata": {},
   "source": [
    "# -----------------------------------------------------------------------------------------"
   ]
  },
  {
   "cell_type": "markdown",
   "metadata": {},
   "source": [
    "# Acesso ao HDFS server (Write and Read)\n",
    "## Criando uma Spark Session"
   ]
  },
  {
   "cell_type": "code",
   "execution_count": 40,
   "metadata": {},
   "outputs": [],
   "source": [
    "#!pip3 install pyspark"
   ]
  },
  {
   "cell_type": "code",
   "execution_count": 43,
   "metadata": {},
   "outputs": [
    {
     "data": {
      "text/plain": [
       "NoneType"
      ]
     },
     "execution_count": 43,
     "metadata": {},
     "output_type": "execute_result"
    }
   ],
   "source": [
    "from pyspark.sql import SparkSession\n",
    "\n",
    "def criar_spark_session():\n",
    "    global sparkSession\n",
    "    sparkSession = SparkSession.builder.appName(\"write-read-fundamentus-hdfs\").getOrCreate()\n",
    "criar_spark_session()"
   ]
  },
  {
   "cell_type": "code",
   "execution_count": 46,
   "metadata": {},
   "outputs": [
    {
     "data": {
      "text/plain": [
       "\"<class 'pyspark.sql.session.SparkSession'>\""
      ]
     },
     "execution_count": 46,
     "metadata": {},
     "output_type": "execute_result"
    }
   ],
   "source": [
    "str(type(sparkSession))"
   ]
  },
  {
   "cell_type": "code",
   "execution_count": null,
   "metadata": {},
   "outputs": [],
   "source": []
  },
  {
   "cell_type": "markdown",
   "metadata": {},
   "source": [
    "## Write Spark DataFrame dos Dados da Empresa"
   ]
  },
  {
   "cell_type": "markdown",
   "metadata": {},
   "source": [
    "### Necessário configurar a versão do Python utilizada pelo Linux como a 3.6.\n",
    "* sudo update-alternatives --install /usr/bin/python python /usr/bin/python3.4 1\n",
    "* sudo update-alternatives --install /usr/bin/python python /usr/bin/python3.6 2\n",
    "* sudo update-alternatives --config python\n",
    "* sudo update-alternatives  --set python /usr/bin/python3.6"
   ]
  },
  {
   "cell_type": "code",
   "execution_count": 45,
   "metadata": {},
   "outputs": [
    {
     "ename": "NameError",
     "evalue": "name 'empresa_dados' is not defined",
     "output_type": "error",
     "traceback": [
      "\u001b[0;31m---------------------------------------------------------------------------\u001b[0m",
      "\u001b[0;31mNameError\u001b[0m                                 Traceback (most recent call last)",
      "\u001b[0;32m<ipython-input-45-17575028b8a4>\u001b[0m in \u001b[0;36m<module>\u001b[0;34m\u001b[0m\n\u001b[0;32m----> 1\u001b[0;31m \u001b[0mempresa_dados\u001b[0m\u001b[0;34m\u001b[0m\u001b[0;34m\u001b[0m\u001b[0m\n\u001b[0m",
      "\u001b[0;31mNameError\u001b[0m: name 'empresa_dados' is not defined"
     ]
    }
   ],
   "source": [
    "empresa_dados"
   ]
  },
  {
   "cell_type": "code",
   "execution_count": 29,
   "metadata": {},
   "outputs": [],
   "source": [
    "def criar_spark_dataframe(empresa_label, empresa_dados):\n",
    "    dados_tuple = transformar_lista_em_tuples(empresa_dados)\n",
    "    empresa_df = sparkSession.createDataFrame(dados_tuple, empresa_label)\n",
    "    \n",
    "    return empresa_df"
   ]
  },
  {
   "cell_type": "code",
   "execution_count": null,
   "metadata": {},
   "outputs": [],
   "source": []
  },
  {
   "cell_type": "code",
   "execution_count": null,
   "metadata": {},
   "outputs": [],
   "source": []
  },
  {
   "cell_type": "code",
   "execution_count": 30,
   "metadata": {},
   "outputs": [],
   "source": [
    "dataframe_label = extrair_info_empresa_label()\n",
    "dataframe_dados = extrair_info_empresa_dados()\n",
    "    \n",
    "empresa_df = criar_spark_dataframe(dataframe_label, dataframe_dados)"
   ]
  },
  {
   "cell_type": "code",
   "execution_count": 31,
   "metadata": {},
   "outputs": [
    {
     "data": {
      "text/plain": [
       "DataFrame[Papel: string, Tipo: string, Empresa: string, Setor: string, Subsetor: string]"
      ]
     },
     "execution_count": 31,
     "metadata": {},
     "output_type": "execute_result"
    }
   ],
   "source": [
    "empresa_df"
   ]
  },
  {
   "cell_type": "code",
   "execution_count": 55,
   "metadata": {},
   "outputs": [
    {
     "data": {
      "text/plain": [
       "['PETR4',\n",
       " 'PN',\n",
       " 'PETROBRAS PN',\n",
       " 'Petróleo, Gás e Biocombustíveis',\n",
       " 'Exploração, Refino e Distribuição']"
      ]
     },
     "execution_count": 55,
     "metadata": {},
     "output_type": "execute_result"
    }
   ],
   "source": [
    "dataframe_dados"
   ]
  },
  {
   "cell_type": "code",
   "execution_count": 47,
   "metadata": {},
   "outputs": [
    {
     "name": "stdout",
     "output_type": "stream",
     "text": [
      "+-----+----+------------+--------------------+--------------------+\n",
      "|Papel|Tipo|     Empresa|               Setor|            Subsetor|\n",
      "+-----+----+------------+--------------------+--------------------+\n",
      "|PETR4|  PN|PETROBRAS PN|Petróleo, Gás e B...|Exploração, Refin...|\n",
      "+-----+----+------------+--------------------+--------------------+\n",
      "\n"
     ]
    }
   ],
   "source": [
    "empresa_df.show()"
   ]
  },
  {
   "cell_type": "code",
   "execution_count": 16,
   "metadata": {},
   "outputs": [],
   "source": [
    "# Salvar Spark DataFrame no HDFS\n",
    "def salvar_spark_dataframe_hdfs(url_hdfs, empresa_df):\n",
    "    empresa_df.write.save(url_hdfs, format='parquet', mode='append')\n"
   ]
  },
  {
   "cell_type": "markdown",
   "metadata": {},
   "source": [
    "### URLs dos dados no HDFS"
   ]
  },
  {
   "cell_type": "code",
   "execution_count": 32,
   "metadata": {},
   "outputs": [],
   "source": [
    "def retorna_url_hdfs_dados_empresa():\n",
    "    url_hdfs = 'hdfs://172.17.177.40:9000/user/hadoopuser/fundamentus/detalhes/info_empresa'\n",
    "    \n",
    "    return url_hdfs"
   ]
  },
  {
   "cell_type": "code",
   "execution_count": 33,
   "metadata": {},
   "outputs": [],
   "source": [
    "def retorna_url_hdfs_cotacao_empresa():\n",
    "    url_hdfs = 'hdfs://172.17.177.40:9000/user/hadoopuser/fundamentus/detalhes/cotacao_empresa'\n",
    "    \n",
    "    return url_hdfs"
   ]
  },
  {
   "cell_type": "code",
   "execution_count": 34,
   "metadata": {},
   "outputs": [],
   "source": [
    "def retorna_url_hdfs_oscilacoes_empresa():\n",
    "    url_hdfs = 'hdfs://172.17.177.40:9000/user/hadoopuser/fundamentus/detalhes/oscilacoes_empresa'\n",
    "    \n",
    "    return url_hdfs"
   ]
  },
  {
   "cell_type": "code",
   "execution_count": 35,
   "metadata": {},
   "outputs": [],
   "source": [
    "def retorna_url_hdfs_indicacores_fundamentalistas_empresa():\n",
    "    url_hdfs = 'hdfs://172.17.177.40:9000/user/hadoopuser/fundamentus/detalhes/indicadores_empresa'\n",
    "    \n",
    "    return url_hdfs"
   ]
  },
  {
   "cell_type": "code",
   "execution_count": 36,
   "metadata": {},
   "outputs": [],
   "source": [
    "def retorna_url_hdfs_balanco_empresa():\n",
    "    url_hdfs = 'hdfs://172.17.177.40:9000/user/hadoopuser/fundamentus/detalhes/balanco_empresa'\n",
    "    \n",
    "    return url_hdfs"
   ]
  },
  {
   "cell_type": "markdown",
   "metadata": {},
   "source": [
    "### Informações da Empresa"
   ]
  },
  {
   "cell_type": "code",
   "execution_count": 40,
   "metadata": {},
   "outputs": [],
   "source": [
    "# Salvar dados da empresa no HDFS\n",
    "def salvar_fundamentus_dados_empresa():\n",
    "    url_hdfs = retorna_url_hdfs_dados_empresa()\n",
    "    \n",
    "    dataframe_label = extrair_info_empresa_label()\n",
    "    dataframe_dados = extrair_info_empresa_dados()\n",
    "    \n",
    "    empresa_df = criar_spark_dataframe(dataframe_label, dataframe_dados)\n",
    "    \n",
    "    salvar_spark_dataframe_hdfs(url_hdfs, empresa_df)\n",
    "    \n",
    "salvar_fundamentus_dados_empresa()"
   ]
  },
  {
   "cell_type": "code",
   "execution_count": 42,
   "metadata": {},
   "outputs": [
    {
     "name": "stdout",
     "output_type": "stream",
     "text": [
      "Diretório não existe!\n"
     ]
    }
   ],
   "source": [
    "from pyspark.sql.utils import AnalysisException\n",
    "\n",
    "try:\n",
    "    url_hdfs = retorna_url_hdfs_cotacao_empresa()\n",
    "    empresa_df = sparkSession.read.format('parquet').load(url_hdfs)\n",
    "    empresa_df\n",
    "except AnalysisException as err:\n",
    "    print('Diretório não existe!')"
   ]
  },
  {
   "cell_type": "code",
   "execution_count": 57,
   "metadata": {},
   "outputs": [
    {
     "data": {
      "text/plain": [
       "'hdfs://172.17.177.40:9000/user/hadoopuser/fundamentus/detalhes/'"
      ]
     },
     "execution_count": 57,
     "metadata": {},
     "output_type": "execute_result"
    }
   ],
   "source": [
    "url_hdfs = retorna_url_hdfs_dados_empresa()\n",
    "url_hdfs"
   ]
  },
  {
   "cell_type": "code",
   "execution_count": 37,
   "metadata": {},
   "outputs": [],
   "source": [
    "# Ler dados da empresa no HDFS\n",
    "def ler_fundamentus_dados_empresa():\n",
    "    url_hdfs = retorna_url_hdfs_dados_empresa()\n",
    "    empresa_df = sparkSession.read.format('parquet').load(url_hdfs)\n",
    "    \n",
    "    return empresa_df"
   ]
  },
  {
   "cell_type": "code",
   "execution_count": 38,
   "metadata": {},
   "outputs": [
    {
     "data": {
      "text/plain": [
       "DataFrame[Papel: string, Tipo: string, Empresa: string, Setor: string, Subsetor: string]"
      ]
     },
     "execution_count": 38,
     "metadata": {},
     "output_type": "execute_result"
    }
   ],
   "source": [
    "empresa_df = ler_fundamentus_dados_empresa()\n",
    "empresa_df"
   ]
  },
  {
   "cell_type": "code",
   "execution_count": 39,
   "metadata": {},
   "outputs": [
    {
     "name": "stdout",
     "output_type": "stream",
     "text": [
      "+-----+-----+------------------+--------------------+--------------------+\n",
      "|Papel| Tipo|           Empresa|               Setor|            Subsetor|\n",
      "+-----+-----+------------------+--------------------+--------------------+\n",
      "|PETR4|   PN|      PETROBRAS PN|Petróleo, Gás e B...|Exploração, Refin...|\n",
      "|ITUB4|PN N1|ITAUUNIBANCO PN N1|Intermediários Fi...|              Bancos|\n",
      "|GGBR4|PN N1| GERDAU S.A. PN N1|Siderurgia e Meta...|          Siderurgia|\n",
      "+-----+-----+------------------+--------------------+--------------------+\n",
      "\n"
     ]
    }
   ],
   "source": [
    "empresa_df.show()"
   ]
  },
  {
   "cell_type": "code",
   "execution_count": 41,
   "metadata": {},
   "outputs": [
    {
     "data": {
      "text/plain": [
       "\"<class 'pyspark.sql.dataframe.DataFrame'>\""
      ]
     },
     "execution_count": 41,
     "metadata": {},
     "output_type": "execute_result"
    }
   ],
   "source": [
    "str(type(empresa_df))"
   ]
  },
  {
   "cell_type": "code",
   "execution_count": null,
   "metadata": {},
   "outputs": [],
   "source": []
  },
  {
   "cell_type": "markdown",
   "metadata": {},
   "source": [
    "### Selecionando colunas especificas com PySpark"
   ]
  },
  {
   "cell_type": "code",
   "execution_count": 48,
   "metadata": {},
   "outputs": [
    {
     "data": {
      "text/plain": [
       "[Row(Papel='ITUB4')]"
      ]
     },
     "execution_count": 48,
     "metadata": {},
     "output_type": "execute_result"
    }
   ],
   "source": [
    "empresa_df.select('Papel').collect()"
   ]
  },
  {
   "cell_type": "code",
   "execution_count": 49,
   "metadata": {},
   "outputs": [
    {
     "data": {
      "text/plain": [
       "[Row(Papel='ITUB4', Tipo='PN N1')]"
      ]
     },
     "execution_count": 49,
     "metadata": {},
     "output_type": "execute_result"
    }
   ],
   "source": [
    "empresa_df.select('Papel', 'Tipo').collect()"
   ]
  },
  {
   "cell_type": "markdown",
   "metadata": {},
   "source": [
    "### Filtrando valores em colunas com PySpark"
   ]
  },
  {
   "cell_type": "code",
   "execution_count": 70,
   "metadata": {},
   "outputs": [
    {
     "data": {
      "text/plain": [
       "DataFrame[Papel: string, Tipo: string, Empresa: string, Setor: string, Subsetor: string]"
      ]
     },
     "execution_count": 70,
     "metadata": {},
     "output_type": "execute_result"
    }
   ],
   "source": [
    "empresa_df.filter(\"Papel == 'PETR4'\")"
   ]
  },
  {
   "cell_type": "code",
   "execution_count": 73,
   "metadata": {},
   "outputs": [
    {
     "data": {
      "text/plain": [
       "[Row(Papel='PETR4', Tipo='PN', Empresa='PETROBRAS PN', Setor='Petróleo, Gás e Biocombustíveis', Subsetor='Exploração, Refino e Distribuição')]"
      ]
     },
     "execution_count": 73,
     "metadata": {},
     "output_type": "execute_result"
    }
   ],
   "source": [
    "resultado = empresa_df.filter(\"Papel == 'PETR4'\").collect()\n",
    "resultado"
   ]
  },
  {
   "cell_type": "code",
   "execution_count": null,
   "metadata": {},
   "outputs": [],
   "source": []
  },
  {
   "cell_type": "code",
   "execution_count": 74,
   "metadata": {},
   "outputs": [
    {
     "name": "stdout",
     "output_type": "stream",
     "text": [
      "True\n"
     ]
    }
   ],
   "source": [
    "if (resultado is None) or (len(resultado) == 0):\n",
    "    print('Vazio')\n",
    "else:\n",
    "    print(True)"
   ]
  },
  {
   "cell_type": "code",
   "execution_count": null,
   "metadata": {},
   "outputs": [],
   "source": []
  },
  {
   "cell_type": "code",
   "execution_count": 60,
   "metadata": {},
   "outputs": [
    {
     "data": {
      "text/plain": [
       "Row(Papel='PETR4', Tipo='PN', Empresa='PETROBRAS PN', Setor='Petróleo, Gás e Biocombustíveis', Subsetor='Exploração, Refino e Distribuição')"
      ]
     },
     "execution_count": 60,
     "metadata": {},
     "output_type": "execute_result"
    }
   ],
   "source": [
    "empresa_df.filter(\"Papel == 'PETR4'\").collect()[0]"
   ]
  },
  {
   "cell_type": "code",
   "execution_count": 61,
   "metadata": {},
   "outputs": [
    {
     "data": {
      "text/plain": [
       "'PETR4'"
      ]
     },
     "execution_count": 61,
     "metadata": {},
     "output_type": "execute_result"
    }
   ],
   "source": [
    "empresa_df.filter(\"Papel == 'PETR4'\").collect()[0]['Papel']"
   ]
  },
  {
   "cell_type": "markdown",
   "metadata": {},
   "source": [
    "### Convertendo Spark Dataframe em Pandas Dataframe"
   ]
  },
  {
   "cell_type": "code",
   "execution_count": 94,
   "metadata": {},
   "outputs": [
    {
     "data": {
      "text/html": [
       "<div>\n",
       "<style scoped>\n",
       "    .dataframe tbody tr th:only-of-type {\n",
       "        vertical-align: middle;\n",
       "    }\n",
       "\n",
       "    .dataframe tbody tr th {\n",
       "        vertical-align: top;\n",
       "    }\n",
       "\n",
       "    .dataframe thead th {\n",
       "        text-align: right;\n",
       "    }\n",
       "</style>\n",
       "<table border=\"1\" class=\"dataframe\">\n",
       "  <thead>\n",
       "    <tr style=\"text-align: right;\">\n",
       "      <th></th>\n",
       "      <th>Papel</th>\n",
       "      <th>Tipo</th>\n",
       "      <th>Empresa</th>\n",
       "      <th>Setor</th>\n",
       "      <th>Subsetor</th>\n",
       "    </tr>\n",
       "  </thead>\n",
       "  <tbody>\n",
       "    <tr>\n",
       "      <th>0</th>\n",
       "      <td>PETR4</td>\n",
       "      <td>PN</td>\n",
       "      <td>PETROBRAS PN</td>\n",
       "      <td>Petróleo, Gás e Biocombustíveis</td>\n",
       "      <td>Exploração, Refino e Distribuição</td>\n",
       "    </tr>\n",
       "    <tr>\n",
       "      <th>1</th>\n",
       "      <td>ITUB4</td>\n",
       "      <td>PN N1</td>\n",
       "      <td>ITAUUNIBANCO PN N1</td>\n",
       "      <td>Intermediários Financeiros</td>\n",
       "      <td>Bancos</td>\n",
       "    </tr>\n",
       "    <tr>\n",
       "      <th>2</th>\n",
       "      <td>GGBR4</td>\n",
       "      <td>PN N1</td>\n",
       "      <td>GERDAU S.A. PN N1</td>\n",
       "      <td>Siderurgia e Metalurgia</td>\n",
       "      <td>Siderurgia</td>\n",
       "    </tr>\n",
       "  </tbody>\n",
       "</table>\n",
       "</div>"
      ],
      "text/plain": [
       "   Papel   Tipo             Empresa                            Setor  \\\n",
       "0  PETR4     PN        PETROBRAS PN  Petróleo, Gás e Biocombustíveis   \n",
       "1  ITUB4  PN N1  ITAUUNIBANCO PN N1       Intermediários Financeiros   \n",
       "2  GGBR4  PN N1   GERDAU S.A. PN N1          Siderurgia e Metalurgia   \n",
       "\n",
       "                            Subsetor  \n",
       "0  Exploração, Refino e Distribuição  \n",
       "1                             Bancos  \n",
       "2                         Siderurgia  "
      ]
     },
     "execution_count": 94,
     "metadata": {},
     "output_type": "execute_result"
    }
   ],
   "source": [
    "empresa_df.toPandas()"
   ]
  },
  {
   "cell_type": "markdown",
   "metadata": {},
   "source": [
    "### Cotações da Empresa"
   ]
  },
  {
   "cell_type": "code",
   "execution_count": null,
   "metadata": {},
   "outputs": [],
   "source": [
    "# Salvar cotação da ação da empresa no HDFS\n",
    "def salvar_fundamentus_cotacao_empresa(papel):\n",
    "    url_hdfs = retorna_url_hdfs_cotacao_empresa()\n",
    "    \n",
    "    dataframe_label = extrair_cotacao_label()\n",
    "    dataframe_dados = extrair_cotacao_dados(papel)\n",
    "    \n",
    "    empresa_df = criar_spark_dataframe(dataframe_label, dataframe_dados)\n",
    "    \n",
    "    salvar_spark_dataframe_hdfs(url_hdfs, empresa_df)\n",
    "    \n",
    "salvar_fundamentus_cotacao_empresa(papel)"
   ]
  },
  {
   "cell_type": "code",
   "execution_count": 33,
   "metadata": {},
   "outputs": [],
   "source": [
    "# Ler cotação da ação da empresa no HDFS\n",
    "def ler_fundamentus_cotacao_empresa():\n",
    "    url_hdfs = retorna_url_hdfs_cotacao_empresa()\n",
    "    empresa_df = sparkSession.read.format('parquet').load(url_hdfs)\n",
    "    \n",
    "    return empresa_df"
   ]
  },
  {
   "cell_type": "code",
   "execution_count": 34,
   "metadata": {},
   "outputs": [],
   "source": [
    "empresa_df = ler_fundamentus_cotacao_empresa()"
   ]
  },
  {
   "cell_type": "code",
   "execution_count": 35,
   "metadata": {},
   "outputs": [
    {
     "data": {
      "text/plain": [
       "pyspark.sql.dataframe.DataFrame"
      ]
     },
     "execution_count": 35,
     "metadata": {},
     "output_type": "execute_result"
    }
   ],
   "source": [
    "type(empresa_df)"
   ]
  },
  {
   "cell_type": "code",
   "execution_count": 36,
   "metadata": {},
   "outputs": [
    {
     "name": "stdout",
     "output_type": "stream",
     "text": [
      "+-----+-------+------------+----------+----------+-------------+----------------+--------------+\n",
      "|Papel|Cotacao|Data_ult_cot|Min_52_sem|Max_52_sem| Vol_$_med_2m|Valor_de_mercado|     Nro_Acoes|\n",
      "+-----+-------+------------+----------+----------+-------------+----------------+--------------+\n",
      "|PETR4|  23,97|  13/04/2021|     15,72|     31,12|2.473.550.000| 312.677.000.000|13.044.500.000|\n",
      "|ITUB4|  27,29|  13/04/2021|     20,57|     32,51|1.077.330.000| 267.555.000.000| 9.804.140.000|\n",
      "|GGBR4|  31,94|  13/04/2021|     10,75|     31,94|  496.379.000|  54.925.900.000| 1.719.660.000|\n",
      "+-----+-------+------------+----------+----------+-------------+----------------+--------------+\n",
      "\n"
     ]
    }
   ],
   "source": [
    "empresa_df.show()"
   ]
  },
  {
   "cell_type": "code",
   "execution_count": 357,
   "metadata": {},
   "outputs": [
    {
     "data": {
      "text/plain": [
       "[Row(Papel='PETR4'),\n",
       " Row(Papel='VALE3'),\n",
       " Row(Papel='ITUB4'),\n",
       " Row(Papel='GGBR4')]"
      ]
     },
     "execution_count": 357,
     "metadata": {},
     "output_type": "execute_result"
    }
   ],
   "source": [
    "empresa_df.select(\"Papel\").collect()"
   ]
  },
  {
   "cell_type": "code",
   "execution_count": 256,
   "metadata": {},
   "outputs": [
    {
     "name": "stdout",
     "output_type": "stream",
     "text": [
      "+-----+-------+------------+----------+----------+-------------+----------------+--------------+\n",
      "|Papel|Cotacao|Data_ult_cot|Min_52_sem|Max_52_sem| Vol_$_med_2m|Valor_de_mercado|     Nro_Acoes|\n",
      "+-----+-------+------------+----------+----------+-------------+----------------+--------------+\n",
      "|PETR4|  24,04|  05/04/2021|     15,72|     31,12|2.578.990.000| 313.590.000.000|13.044.500.000|\n",
      "+-----+-------+------------+----------+----------+-------------+----------------+--------------+\n",
      "\n"
     ]
    }
   ],
   "source": [
    "empresa_df.filter(\"Papel == 'PETR4'\").show()"
   ]
  },
  {
   "cell_type": "code",
   "execution_count": 257,
   "metadata": {},
   "outputs": [
    {
     "data": {
      "text/plain": [
       "1"
      ]
     },
     "execution_count": 257,
     "metadata": {},
     "output_type": "execute_result"
    }
   ],
   "source": [
    "len(empresa_df.filter(\"Papel == 'PETR4'\").collect())"
   ]
  },
  {
   "cell_type": "code",
   "execution_count": 362,
   "metadata": {},
   "outputs": [
    {
     "name": "stdout",
     "output_type": "stream",
     "text": [
      "+-----+-------+------------+----------+----------+-------------+----------------+--------------+\n",
      "|Papel|Cotacao|Data_ult_cot|Min_52_sem|Max_52_sem| Vol_$_med_2m|Valor_de_mercado|     Nro_Acoes|\n",
      "+-----+-------+------------+----------+----------+-------------+----------------+--------------+\n",
      "|PETR4|  23,46|  26/03/2021|     13,30|     31,12|2.627.880.000| 306.024.000.000|13.044.500.000|\n",
      "+-----+-------+------------+----------+----------+-------------+----------------+--------------+\n",
      "\n"
     ]
    }
   ],
   "source": [
    "filterA = \"Papel == 'PETR4'\"\n",
    "filterB = \"Data_ult_cot == '26/03/2021'\"\n",
    "empresa_df.filter(filterA).filter(filterB).show()"
   ]
  },
  {
   "cell_type": "code",
   "execution_count": 108,
   "metadata": {},
   "outputs": [
    {
     "data": {
      "text/plain": [
       "0"
      ]
     },
     "execution_count": 108,
     "metadata": {},
     "output_type": "execute_result"
    }
   ],
   "source": [
    "len(empresa_df.filter(filterA).filter(filterB).collect())"
   ]
  },
  {
   "cell_type": "code",
   "execution_count": 109,
   "metadata": {},
   "outputs": [
    {
     "data": {
      "text/plain": [
       "False"
      ]
     },
     "execution_count": 109,
     "metadata": {},
     "output_type": "execute_result"
    }
   ],
   "source": [
    "empresa_df is None"
   ]
  },
  {
   "cell_type": "code",
   "execution_count": 153,
   "metadata": {},
   "outputs": [],
   "source": [
    "papel = \"PETR4\"\n",
    "data = \"02/03/2021\""
   ]
  },
  {
   "cell_type": "code",
   "execution_count": 154,
   "metadata": {},
   "outputs": [
    {
     "name": "stdout",
     "output_type": "stream",
     "text": [
      "+-----+-------+------------+----------+----------+------------+----------------+---------+\n",
      "|Papel|Cotacao|Data_ult_cot|Min_52_sem|Max_52_sem|Vol_$_med_2m|Valor_de_mercado|Nro_Acoes|\n",
      "+-----+-------+------------+----------+----------+------------+----------------+---------+\n",
      "+-----+-------+------------+----------+----------+------------+----------------+---------+\n",
      "\n"
     ]
    }
   ],
   "source": [
    "filterA = \"Papel == '%s'\" % papel\n",
    "filterB = \"Data_ult_cot >= '%s'\" % data\n",
    "empresa_df.filter(filterA).filter(filterB).show()"
   ]
  },
  {
   "cell_type": "code",
   "execution_count": 91,
   "metadata": {},
   "outputs": [
    {
     "data": {
      "text/plain": [
       "1"
      ]
     },
     "execution_count": 91,
     "metadata": {},
     "output_type": "execute_result"
    }
   ],
   "source": [
    "len(empresa_df.filter(filterA).filter(filterB).collect())"
   ]
  },
  {
   "cell_type": "markdown",
   "metadata": {},
   "source": [
    "### Oscilações Empresa"
   ]
  },
  {
   "cell_type": "code",
   "execution_count": 237,
   "metadata": {},
   "outputs": [],
   "source": [
    "# Salvar oscilações do papel da empresa no HDFS\n",
    "def salvar_fundamentus_oscilacoes_empresa(papel):\n",
    "    url_hdfs = retorna_url_hdfs_oscilacoes_empresa()\n",
    "    \n",
    "    dataframe_label = extrair_oscilacao_cotacao_label()\n",
    "    dataframe_dados = extrair_oscilacao_cotacao_dados(papel)\n",
    "    \n",
    "    empresa_df = criar_spark_dataframe(dataframe_label, dataframe_dados)\n",
    "    \n",
    "    salvar_spark_dataframe_hdfs(url_hdfs, empresa_df)\n",
    "    \n",
    "salvar_fundamentus_oscilacoes_empresa(papel)"
   ]
  },
  {
   "cell_type": "code",
   "execution_count": 37,
   "metadata": {},
   "outputs": [],
   "source": [
    "# Ler oscilações do papel da empresa no HDFS\n",
    "def ler_fundamentus_oscilacoes_empresa():\n",
    "    url_hdfs = retorna_url_hdfs_oscilacoes_empresa()\n",
    "    empresa_df = sparkSession.read.format('parquet').load(url_hdfs)\n",
    "    \n",
    "    return empresa_df"
   ]
  },
  {
   "cell_type": "code",
   "execution_count": 38,
   "metadata": {},
   "outputs": [
    {
     "name": "stdout",
     "output_type": "stream",
     "text": [
      "+-----+------------+--------------+--------------+------------------+-------------------+---------------+---------------+---------------+---------------+---------------+---------------+\n",
      "|Papel|Data_ult_cot|Oscilacoes_Dia|Oscilacoes_Mes|Oscilacoes_30_dias|Oscilacoes_12_meses|Oscilacoes_2021|Oscilacoes_2020|Oscilacoes_2019|Oscilacoes_2018|Oscilacoes_2017|Oscilacoes_2016|\n",
      "+-----+------------+--------------+--------------+------------------+-------------------+---------------+---------------+---------------+---------------+---------------+---------------+\n",
      "|ITUB4|  13/04/2021|        -0,04%|        -2,37%|             0,62%|             15,45%|        -12,88%|        -11,75%|         11,98%|         32,41%|         29,64%|         56,02%|\n",
      "|GGBR4|  13/04/2021|         2,31%|         5,69%|            16,15%|            188,81%|         31,15%|         23,86%|         37,65%|         22,31%|         15,23%|        138,66%|\n",
      "|PETR4|  13/04/2021|         0,33%|        -0,54%|             3,45%|             41,58%|        -15,42%|         -6,10%|         36,87%|         45,91%|          8,29%|        116,23%|\n",
      "+-----+------------+--------------+--------------+------------------+-------------------+---------------+---------------+---------------+---------------+---------------+---------------+\n",
      "\n"
     ]
    }
   ],
   "source": [
    "empresa_df = ler_fundamentus_oscilacoes_empresa()\n",
    "empresa_df.show()"
   ]
  },
  {
   "cell_type": "code",
   "execution_count": 240,
   "metadata": {},
   "outputs": [
    {
     "data": {
      "text/html": [
       "<div>\n",
       "<style scoped>\n",
       "    .dataframe tbody tr th:only-of-type {\n",
       "        vertical-align: middle;\n",
       "    }\n",
       "\n",
       "    .dataframe tbody tr th {\n",
       "        vertical-align: top;\n",
       "    }\n",
       "\n",
       "    .dataframe thead th {\n",
       "        text-align: right;\n",
       "    }\n",
       "</style>\n",
       "<table border=\"1\" class=\"dataframe\">\n",
       "  <thead>\n",
       "    <tr style=\"text-align: right;\">\n",
       "      <th></th>\n",
       "      <th>Papel</th>\n",
       "      <th>Data_ult_cot</th>\n",
       "      <th>Oscilacoes_Dia</th>\n",
       "      <th>Oscilacoes_Mes</th>\n",
       "      <th>Oscilacoes_30_dias</th>\n",
       "      <th>Oscilacoes_12_meses</th>\n",
       "      <th>Oscilacoes_2021</th>\n",
       "      <th>Oscilacoes_2020</th>\n",
       "      <th>Oscilacoes_2019</th>\n",
       "      <th>Oscilacoes_2018</th>\n",
       "      <th>Oscilacoes_2017</th>\n",
       "      <th>Oscilacoes_2016</th>\n",
       "    </tr>\n",
       "  </thead>\n",
       "  <tbody>\n",
       "    <tr>\n",
       "      <th>0</th>\n",
       "      <td>MGLU3</td>\n",
       "      <td>05/04/2021</td>\n",
       "      <td>-0,10%</td>\n",
       "      <td>0,89%</td>\n",
       "      <td>-18,74%</td>\n",
       "      <td>130,62%</td>\n",
       "      <td>-18,16%</td>\n",
       "      <td>110,08%</td>\n",
       "      <td>112,19%</td>\n",
       "      <td>126,39%</td>\n",
       "      <td>509,27%</td>\n",
       "      <td>503,87%</td>\n",
       "    </tr>\n",
       "    <tr>\n",
       "      <th>1</th>\n",
       "      <td>ITUB4</td>\n",
       "      <td>05/04/2021</td>\n",
       "      <td>1,29%</td>\n",
       "      <td>-1,80%</td>\n",
       "      <td>-0,44%</td>\n",
       "      <td>34,90%</td>\n",
       "      <td>-12,37%</td>\n",
       "      <td>-11,75%</td>\n",
       "      <td>11,98%</td>\n",
       "      <td>32,41%</td>\n",
       "      <td>29,64%</td>\n",
       "      <td>56,02%</td>\n",
       "    </tr>\n",
       "    <tr>\n",
       "      <th>2</th>\n",
       "      <td>PETR4</td>\n",
       "      <td>05/04/2021</td>\n",
       "      <td>0,63%</td>\n",
       "      <td>-0,25%</td>\n",
       "      <td>7,37%</td>\n",
       "      <td>56,71%</td>\n",
       "      <td>-15,17%</td>\n",
       "      <td>-6,10%</td>\n",
       "      <td>36,87%</td>\n",
       "      <td>45,91%</td>\n",
       "      <td>8,29%</td>\n",
       "      <td>116,23%</td>\n",
       "    </tr>\n",
       "    <tr>\n",
       "      <th>3</th>\n",
       "      <td>VALE3</td>\n",
       "      <td>05/04/2021</td>\n",
       "      <td>6,16%</td>\n",
       "      <td>5,53%</td>\n",
       "      <td>3,17%</td>\n",
       "      <td>176,82%</td>\n",
       "      <td>23,39%</td>\n",
       "      <td>70,47%</td>\n",
       "      <td>6,85%</td>\n",
       "      <td>31,11%</td>\n",
       "      <td>62,56%</td>\n",
       "      <td>103,66%</td>\n",
       "    </tr>\n",
       "  </tbody>\n",
       "</table>\n",
       "</div>"
      ],
      "text/plain": [
       "   Papel Data_ult_cot Oscilacoes_Dia Oscilacoes_Mes Oscilacoes_30_dias  \\\n",
       "0  MGLU3   05/04/2021         -0,10%          0,89%            -18,74%   \n",
       "1  ITUB4   05/04/2021          1,29%         -1,80%             -0,44%   \n",
       "2  PETR4   05/04/2021          0,63%         -0,25%              7,37%   \n",
       "3  VALE3   05/04/2021          6,16%          5,53%              3,17%   \n",
       "\n",
       "  Oscilacoes_12_meses Oscilacoes_2021 Oscilacoes_2020 Oscilacoes_2019  \\\n",
       "0             130,62%         -18,16%         110,08%         112,19%   \n",
       "1              34,90%         -12,37%         -11,75%          11,98%   \n",
       "2              56,71%         -15,17%          -6,10%          36,87%   \n",
       "3             176,82%          23,39%          70,47%           6,85%   \n",
       "\n",
       "  Oscilacoes_2018 Oscilacoes_2017 Oscilacoes_2016  \n",
       "0         126,39%         509,27%         503,87%  \n",
       "1          32,41%          29,64%          56,02%  \n",
       "2          45,91%           8,29%         116,23%  \n",
       "3          31,11%          62,56%         103,66%  "
      ]
     },
     "execution_count": 240,
     "metadata": {},
     "output_type": "execute_result"
    }
   ],
   "source": [
    "empresa_df.toPandas()"
   ]
  },
  {
   "cell_type": "markdown",
   "metadata": {},
   "source": [
    "### Indicadores Fundamentalistas"
   ]
  },
  {
   "cell_type": "code",
   "execution_count": 241,
   "metadata": {},
   "outputs": [],
   "source": [
    "# Salvar indicadores fundamentalistas da empresa no HDFS\n",
    "def salvar_fundamentus_indicacores_fundamentalistas_empresa(papel):\n",
    "    url_hdfs = retorna_url_hdfs_indicacores_fundamentalistas_empresa()\n",
    "    \n",
    "    dataframe_label = extrair_indicadores_fundamentalistas_label()\n",
    "    dataframe_dados = extrair_indicadores_fundamentalistas_dados(papel)\n",
    "    \n",
    "    \n",
    "    empresa_df = criar_spark_dataframe(dataframe_label, dataframe_dados)\n",
    "    \n",
    "    salvar_spark_dataframe_hdfs(url_hdfs, empresa_df)\n",
    "    \n",
    "salvar_fundamentus_indicacores_fundamentalistas_empresa(papel)"
   ]
  },
  {
   "cell_type": "code",
   "execution_count": 87,
   "metadata": {},
   "outputs": [],
   "source": [
    "# Ler indicadores fundamentalistas da empresa no HDFS\n",
    "def ler_fundamentus_indicacores_fundamentalistas_empresa():\n",
    "    url_hdfs = retorna_url_hdfs_indicacores_fundamentalistas_empresa()\n",
    "    empresa_df = sparkSession.read.format('parquet').load(url_hdfs)\n",
    "    \n",
    "    return empresa_df"
   ]
  },
  {
   "cell_type": "code",
   "execution_count": 88,
   "metadata": {},
   "outputs": [
    {
     "name": "stdout",
     "output_type": "stream",
     "text": [
      "+-----+------------+-----+----+----+-----+------+----------+----+---------+--------+------------+----------+------------+---------------+-----+---------+----+-----------+-------------+---------+--------------+-----------+-----------+\n",
      "|Papel|Data_ult_cot|  P/L| LPA|P/VP|  VPA|P/EBIT|Marg_Bruta| PSR|Marg_EBIT|P/Ativos|Marg_Liquida|P/Cap_Giro|EBIT_/_Ativo|P/Ativ_Circ_Liq| ROIC|Div_Yield| ROE|EV_/_EBITDA|Liquidez_Corr|EV_/_EBIT|Div_Br/_Patrim|Cres_Rec_5a|Giro_Ativos|\n",
      "+-----+------------+-----+----+----+-----+------+----------+----+---------+--------+------------+----------+------------+---------------+-----+---------+----+-----------+-------------+---------+--------------+-----------+-----------+\n",
      "|PETR4|  13/04/2021|43,99|0,54|1,01|23,64|  3,35|     45,6%|1,15|    34,3%|    0,32|        2,3%|     51,80|        9,5%|          -0,59|10,5%|     0,0%|2,3%|       4,09|         1,04|     6,86|          1,27|      -0,1%|       0,28|\n",
      "|GGBR4|  13/04/2021|23,22|1,38|1,78|17,95| 12,48|     13,5%|1,25|    10,0%|    0,87|        5,5%|      4,61|        7,0%|          -6,37| 8,8%|     1,3%|7,7%|       9,47|         2,04|    14,72|          0,57|       3,8%|       0,69|\n",
      "+-----+------------+-----+----+----+-----+------+----------+----+---------+--------+------------+----------+------------+---------------+-----+---------+----+-----------+-------------+---------+--------------+-----------+-----------+\n",
      "\n"
     ]
    }
   ],
   "source": [
    "empresa_df = ler_fundamentus_indicacores_fundamentalistas_empresa()\n",
    "empresa_df.show()"
   ]
  },
  {
   "cell_type": "code",
   "execution_count": 244,
   "metadata": {},
   "outputs": [
    {
     "data": {
      "text/html": [
       "<div>\n",
       "<style scoped>\n",
       "    .dataframe tbody tr th:only-of-type {\n",
       "        vertical-align: middle;\n",
       "    }\n",
       "\n",
       "    .dataframe tbody tr th {\n",
       "        vertical-align: top;\n",
       "    }\n",
       "\n",
       "    .dataframe thead th {\n",
       "        text-align: right;\n",
       "    }\n",
       "</style>\n",
       "<table border=\"1\" class=\"dataframe\">\n",
       "  <thead>\n",
       "    <tr style=\"text-align: right;\">\n",
       "      <th></th>\n",
       "      <th>Papel</th>\n",
       "      <th>Data_ult_cot</th>\n",
       "      <th>P/L</th>\n",
       "      <th>LPA</th>\n",
       "      <th>P/VP</th>\n",
       "      <th>VPA</th>\n",
       "      <th>P/EBIT</th>\n",
       "      <th>Marg_Bruta</th>\n",
       "      <th>PSR</th>\n",
       "      <th>Marg_EBIT</th>\n",
       "      <th>...</th>\n",
       "      <th>P/Ativ_Circ_Liq</th>\n",
       "      <th>ROIC</th>\n",
       "      <th>Div_Yield</th>\n",
       "      <th>ROE</th>\n",
       "      <th>EV_/_EBITDA</th>\n",
       "      <th>Liquidez_Corr</th>\n",
       "      <th>EV_/_EBIT</th>\n",
       "      <th>Div_Br/_Patrim</th>\n",
       "      <th>Cres_Rec_5a</th>\n",
       "      <th>Giro_Ativos</th>\n",
       "    </tr>\n",
       "  </thead>\n",
       "  <tbody>\n",
       "    <tr>\n",
       "      <th>0</th>\n",
       "      <td>MGLU3</td>\n",
       "      <td>05/04/2021</td>\n",
       "      <td>338,79</td>\n",
       "      <td>0,06</td>\n",
       "      <td>18,12</td>\n",
       "      <td>1,13</td>\n",
       "      <td>177,41</td>\n",
       "      <td>25,8%</td>\n",
       "      <td>4,55</td>\n",
       "      <td>2,6%</td>\n",
       "      <td>...</td>\n",
       "      <td>-253,69</td>\n",
       "      <td>5,6%</td>\n",
       "      <td>0,2%</td>\n",
       "      <td>5,3%</td>\n",
       "      <td>90,65</td>\n",
       "      <td>1,25</td>\n",
       "      <td>175,79</td>\n",
       "      <td>0,23</td>\n",
       "      <td>31,6%</td>\n",
       "      <td>1,18</td>\n",
       "    </tr>\n",
       "    <tr>\n",
       "      <th>1</th>\n",
       "      <td>VALE3</td>\n",
       "      <td>05/04/2021</td>\n",
       "      <td>20,45</td>\n",
       "      <td>5,05</td>\n",
       "      <td>2,94</td>\n",
       "      <td>35,16</td>\n",
       "      <td>5,10</td>\n",
       "      <td>52,7%</td>\n",
       "      <td>2,62</td>\n",
       "      <td>51,4%</td>\n",
       "      <td>...</td>\n",
       "      <td>-3,21</td>\n",
       "      <td>27,4%</td>\n",
       "      <td>6,5%</td>\n",
       "      <td>14,4%</td>\n",
       "      <td>4,48</td>\n",
       "      <td>1,67</td>\n",
       "      <td>5,18</td>\n",
       "      <td>0,42</td>\n",
       "      <td>20,9%</td>\n",
       "      <td>0,44</td>\n",
       "    </tr>\n",
       "    <tr>\n",
       "      <th>2</th>\n",
       "      <td>PETR4</td>\n",
       "      <td>05/04/2021</td>\n",
       "      <td>44,12</td>\n",
       "      <td>0,54</td>\n",
       "      <td>1,02</td>\n",
       "      <td>23,64</td>\n",
       "      <td>3,36</td>\n",
       "      <td>45,6%</td>\n",
       "      <td>1,15</td>\n",
       "      <td>34,3%</td>\n",
       "      <td>...</td>\n",
       "      <td>-0,59</td>\n",
       "      <td>10,5%</td>\n",
       "      <td>0,0%</td>\n",
       "      <td>2,3%</td>\n",
       "      <td>4,09</td>\n",
       "      <td>1,04</td>\n",
       "      <td>6,87</td>\n",
       "      <td>1,27</td>\n",
       "      <td>-0,1%</td>\n",
       "      <td>0,28</td>\n",
       "    </tr>\n",
       "    <tr>\n",
       "      <th>3</th>\n",
       "      <td>ITUB4</td>\n",
       "      <td>05/04/2021</td>\n",
       "      <td>14,19</td>\n",
       "      <td>1,93</td>\n",
       "      <td>1,97</td>\n",
       "      <td>13,94</td>\n",
       "      <td>-</td>\n",
       "      <td>-</td>\n",
       "      <td>-</td>\n",
       "      <td>-</td>\n",
       "      <td>...</td>\n",
       "      <td>-</td>\n",
       "      <td>-</td>\n",
       "      <td>2,0%</td>\n",
       "      <td>13,9%</td>\n",
       "      <td>-</td>\n",
       "      <td>-</td>\n",
       "      <td>-</td>\n",
       "      <td>-</td>\n",
       "      <td>-30,0%</td>\n",
       "      <td>-</td>\n",
       "    </tr>\n",
       "  </tbody>\n",
       "</table>\n",
       "<p>4 rows × 24 columns</p>\n",
       "</div>"
      ],
      "text/plain": [
       "   Papel Data_ult_cot     P/L   LPA   P/VP    VPA  P/EBIT Marg_Bruta   PSR  \\\n",
       "0  MGLU3   05/04/2021  338,79  0,06  18,12   1,13  177,41      25,8%  4,55   \n",
       "1  VALE3   05/04/2021   20,45  5,05   2,94  35,16    5,10      52,7%  2,62   \n",
       "2  PETR4   05/04/2021   44,12  0,54   1,02  23,64    3,36      45,6%  1,15   \n",
       "3  ITUB4   05/04/2021   14,19  1,93   1,97  13,94       -          -     -   \n",
       "\n",
       "  Marg_EBIT  ... P/Ativ_Circ_Liq   ROIC Div_Yield    ROE EV_/_EBITDA  \\\n",
       "0      2,6%  ...         -253,69   5,6%      0,2%   5,3%       90,65   \n",
       "1     51,4%  ...           -3,21  27,4%      6,5%  14,4%        4,48   \n",
       "2     34,3%  ...           -0,59  10,5%      0,0%   2,3%        4,09   \n",
       "3         -  ...               -      -      2,0%  13,9%           -   \n",
       "\n",
       "  Liquidez_Corr EV_/_EBIT Div_Br/_Patrim Cres_Rec_5a Giro_Ativos  \n",
       "0          1,25    175,79           0,23       31,6%        1,18  \n",
       "1          1,67      5,18           0,42       20,9%        0,44  \n",
       "2          1,04      6,87           1,27       -0,1%        0,28  \n",
       "3             -         -              -      -30,0%           -  \n",
       "\n",
       "[4 rows x 24 columns]"
      ]
     },
     "execution_count": 244,
     "metadata": {},
     "output_type": "execute_result"
    }
   ],
   "source": [
    "empresa_df.toPandas()"
   ]
  },
  {
   "cell_type": "markdown",
   "metadata": {},
   "source": [
    "### Balanço Empresa"
   ]
  },
  {
   "cell_type": "code",
   "execution_count": 245,
   "metadata": {},
   "outputs": [],
   "source": [
    "# Salvar balanço da empresa no HDFS\n",
    "def salvar_fundamentus_balanco_empresa(papel):\n",
    "    url_hdfs = retorna_url_hdfs_balanco_empresa()\n",
    "    \n",
    "    dataframe_label = extrair_balanco_label()\n",
    "    dataframe_dados = extrair_balanco_dados(papel)\n",
    "    \n",
    "    empresa_df = criar_spark_dataframe(dataframe_label, dataframe_dados)\n",
    "    \n",
    "    salvar_spark_dataframe_hdfs(url_hdfs, empresa_df)\n",
    "    \n",
    "salvar_fundamentus_balanco_empresa(papel)"
   ]
  },
  {
   "cell_type": "code",
   "execution_count": 39,
   "metadata": {},
   "outputs": [],
   "source": [
    "# Ler balanço da empresa no HDFS\n",
    "def ler_fundamentus_balanco_empresa():\n",
    "    url_hdfs = retorna_url_hdfs_balanco_empresa()\n",
    "    empresa_df = sparkSession.read.format('parquet').load(url_hdfs)\n",
    "    \n",
    "    return empresa_df"
   ]
  },
  {
   "cell_type": "code",
   "execution_count": 40,
   "metadata": {},
   "outputs": [
    {
     "name": "stdout",
     "output_type": "stream",
     "text": [
      "+-----+----------------------+---------------+---------------+---------------+----------------+---------------+----------------+---------------+----------------------------+-----------------+--------------------------+---------------------------+----------------+-------------------------+\n",
      "|Papel|Ult_balanco_processado| Valor_da_firma|          Ativo|      Div_Bruta|Disponibilidades|    Div_Liquida|Ativo_Circulante|     Patrim_Liq|Receita_Liquida_ult_12_meses|EBIT_ult_12_meses|Lucro_Liquido_ult_12_meses|Receita_Liquida_ult_3_meses|EBIT_ult_3_meses|Lucro_Liquido_ult_3_meses|\n",
      "+-----+----------------------+---------------+---------------+---------------+----------------+---------------+----------------+---------------+----------------------------+-----------------+--------------------------+---------------------------+----------------+-------------------------+\n",
      "|PETR4|            31/12/2020|640.945.000.000|987.419.000.000|392.548.000.000|  64.280.000.000|328.268.000.000| 142.323.000.000|308.410.000.000|             272.069.000.000|   93.417.000.000|             7.108.000.000|             74.972.000.000|  33.838.000.000|           59.890.000.000|\n",
      "|GGBR4|            31/12/2020| 64.782.900.000| 63.123.000.000| 17.515.400.000|   7.658.350.000|  9.857.000.000|  23.409.500.000| 30.860.300.000|              43.814.700.000|    4.400.170.000|             2.365.760.000|             13.620.200.000|   2.176.850.000|            1.048.330.000|\n",
      "|ITUB4|            31/12/2020|              -|210.399.000.000|           null|            null|           null|            null|136.699.000.000|                        null|             null|            18.961.000.000|                       null|            null|            7.636.000.000|\n",
      "+-----+----------------------+---------------+---------------+---------------+----------------+---------------+----------------+---------------+----------------------------+-----------------+--------------------------+---------------------------+----------------+-------------------------+\n",
      "\n"
     ]
    }
   ],
   "source": [
    "empresa_df = ler_fundamentus_balanco_empresa()\n",
    "empresa_df.show()"
   ]
  },
  {
   "cell_type": "code",
   "execution_count": 250,
   "metadata": {},
   "outputs": [
    {
     "data": {
      "text/plain": [
       "\"<class 'pyspark.sql.dataframe.DataFrame'>\""
      ]
     },
     "execution_count": 250,
     "metadata": {},
     "output_type": "execute_result"
    }
   ],
   "source": [
    "str(type(empresa_df))"
   ]
  },
  {
   "cell_type": "code",
   "execution_count": 2,
   "metadata": {},
   "outputs": [],
   "source": [
    "#sparkSession.createDataFrame(info_empresa_dados).collect()"
   ]
  },
  {
   "cell_type": "code",
   "execution_count": 3,
   "metadata": {},
   "outputs": [],
   "source": [
    "#sparkSession.createDataFrame(info_empresa_dados, info_empresa_label).collect()"
   ]
  },
  {
   "cell_type": "code",
   "execution_count": 4,
   "metadata": {},
   "outputs": [],
   "source": [
    "#df.show()"
   ]
  },
  {
   "cell_type": "code",
   "execution_count": null,
   "metadata": {},
   "outputs": [],
   "source": []
  },
  {
   "cell_type": "code",
   "execution_count": null,
   "metadata": {},
   "outputs": [],
   "source": []
  },
  {
   "cell_type": "code",
   "execution_count": null,
   "metadata": {},
   "outputs": [],
   "source": []
  },
  {
   "cell_type": "markdown",
   "metadata": {},
   "source": [
    "## Write Spark DataFrame dos Dados de Cotação"
   ]
  },
  {
   "cell_type": "code",
   "execution_count": null,
   "metadata": {},
   "outputs": [],
   "source": [
    "cotacao_label.insert(0, 'Papel')\n",
    "cotacao_dados.insert(0, papel)\n",
    "cotacao_dados = transformar_lista_em_tuples(cotacao_dados)\n",
    "cotacao_dados"
   ]
  },
  {
   "cell_type": "code",
   "execution_count": 51,
   "metadata": {},
   "outputs": [
    {
     "data": {
      "text/plain": [
       "DataFrame[Papel: string, Cotacao: string, Data_ult_cot: string, Min_52_sem: string, Max_52_sem: string, Vol_$_med_2m: string, Valor_de_mercado: string, Nro._Acoes: string]"
      ]
     },
     "execution_count": 51,
     "metadata": {},
     "output_type": "execute_result"
    }
   ],
   "source": [
    "df = sparkSession.createDataFrame(cotacao_dados, cotacao_label)\n",
    "df"
   ]
  },
  {
   "cell_type": "code",
   "execution_count": 52,
   "metadata": {},
   "outputs": [],
   "source": [
    "df.write.save('hdfs://172.17.177.40:9000/user/hadoopuser/fundamentus/detalhes/dados_cotacao', format='parquet', mode='append')"
   ]
  },
  {
   "cell_type": "code",
   "execution_count": 53,
   "metadata": {},
   "outputs": [],
   "source": [
    "df_load = sparkSession.read.format('parquet').load('hdfs://172.17.177.40:9000/user/hadoopuser/fundamentus/detalhes/dados_cotacao')"
   ]
  },
  {
   "cell_type": "code",
   "execution_count": 54,
   "metadata": {},
   "outputs": [
    {
     "name": "stdout",
     "output_type": "stream",
     "text": [
      "+-----+-------+------------+----------+----------+-------------+----------------+--------------+\n",
      "|Papel|Cotacao|Data_ult_cot|Min_52_sem|Max_52_sem| Vol_$_med_2m|Valor_de_mercado|    Nro._Acoes|\n",
      "+-----+-------+------------+----------+----------+-------------+----------------+--------------+\n",
      "|VALE3| 101,60|  02/03/2021|     32,82|    102,32|3.111.610.000| 536.903.000.000| 5.284.470.000|\n",
      "|PETR4|  21,99|  02/03/2021|     11,29|     31,12|2.600.720.000| 286.848.000.000|13.044.500.000|\n",
      "|ITUB4|  25,77|  02/03/2021|     20,24|     32,58|1.217.880.000| 252.653.000.000| 9.804.140.000|\n",
      "|GGBR4|  26,67|  01/03/2021|      8,54|     29,54|  419.645.000|  45.863.300.000| 1.719.660.000|\n",
      "+-----+-------+------------+----------+----------+-------------+----------------+--------------+\n",
      "\n"
     ]
    }
   ],
   "source": [
    "df_load.show()"
   ]
  },
  {
   "cell_type": "code",
   "execution_count": 55,
   "metadata": {},
   "outputs": [
    {
     "data": {
      "text/html": [
       "<div>\n",
       "<style scoped>\n",
       "    .dataframe tbody tr th:only-of-type {\n",
       "        vertical-align: middle;\n",
       "    }\n",
       "\n",
       "    .dataframe tbody tr th {\n",
       "        vertical-align: top;\n",
       "    }\n",
       "\n",
       "    .dataframe thead th {\n",
       "        text-align: right;\n",
       "    }\n",
       "</style>\n",
       "<table border=\"1\" class=\"dataframe\">\n",
       "  <thead>\n",
       "    <tr style=\"text-align: right;\">\n",
       "      <th></th>\n",
       "      <th>Papel</th>\n",
       "      <th>Cotacao</th>\n",
       "      <th>Data_ult_cot</th>\n",
       "      <th>Min_52_sem</th>\n",
       "      <th>Max_52_sem</th>\n",
       "      <th>Vol_$_med_2m</th>\n",
       "      <th>Valor_de_mercado</th>\n",
       "      <th>Nro._Acoes</th>\n",
       "    </tr>\n",
       "  </thead>\n",
       "  <tbody>\n",
       "    <tr>\n",
       "      <th>0</th>\n",
       "      <td>VALE3</td>\n",
       "      <td>101,60</td>\n",
       "      <td>02/03/2021</td>\n",
       "      <td>32,82</td>\n",
       "      <td>102,32</td>\n",
       "      <td>3.111.610.000</td>\n",
       "      <td>536.903.000.000</td>\n",
       "      <td>5.284.470.000</td>\n",
       "    </tr>\n",
       "    <tr>\n",
       "      <th>1</th>\n",
       "      <td>PETR4</td>\n",
       "      <td>21,99</td>\n",
       "      <td>02/03/2021</td>\n",
       "      <td>11,29</td>\n",
       "      <td>31,12</td>\n",
       "      <td>2.600.720.000</td>\n",
       "      <td>286.848.000.000</td>\n",
       "      <td>13.044.500.000</td>\n",
       "    </tr>\n",
       "    <tr>\n",
       "      <th>2</th>\n",
       "      <td>ITUB4</td>\n",
       "      <td>25,77</td>\n",
       "      <td>02/03/2021</td>\n",
       "      <td>20,24</td>\n",
       "      <td>32,58</td>\n",
       "      <td>1.217.880.000</td>\n",
       "      <td>252.653.000.000</td>\n",
       "      <td>9.804.140.000</td>\n",
       "    </tr>\n",
       "    <tr>\n",
       "      <th>3</th>\n",
       "      <td>GGBR4</td>\n",
       "      <td>26,67</td>\n",
       "      <td>01/03/2021</td>\n",
       "      <td>8,54</td>\n",
       "      <td>29,54</td>\n",
       "      <td>419.645.000</td>\n",
       "      <td>45.863.300.000</td>\n",
       "      <td>1.719.660.000</td>\n",
       "    </tr>\n",
       "  </tbody>\n",
       "</table>\n",
       "</div>"
      ],
      "text/plain": [
       "   Papel Cotacao Data_ult_cot Min_52_sem Max_52_sem   Vol_$_med_2m  \\\n",
       "0  VALE3  101,60   02/03/2021      32,82     102,32  3.111.610.000   \n",
       "1  PETR4   21,99   02/03/2021      11,29      31,12  2.600.720.000   \n",
       "2  ITUB4   25,77   02/03/2021      20,24      32,58  1.217.880.000   \n",
       "3  GGBR4   26,67   01/03/2021       8,54      29,54    419.645.000   \n",
       "\n",
       "  Valor_de_mercado      Nro._Acoes  \n",
       "0  536.903.000.000   5.284.470.000  \n",
       "1  286.848.000.000  13.044.500.000  \n",
       "2  252.653.000.000   9.804.140.000  \n",
       "3   45.863.300.000   1.719.660.000  "
      ]
     },
     "execution_count": 55,
     "metadata": {},
     "output_type": "execute_result"
    }
   ],
   "source": [
    "df_load.toPandas()"
   ]
  },
  {
   "cell_type": "markdown",
   "metadata": {},
   "source": [
    "## Write Spark DataFrame dos Dados de Oscilações"
   ]
  },
  {
   "cell_type": "code",
   "execution_count": null,
   "metadata": {},
   "outputs": [],
   "source": [
    "oscilacoes_label.insert(0, 'Papel')\n",
    "oscilacoes_dados.insert(0, papel)\n",
    "oscilacoes_dados = transformar_lista_em_tuples(oscilacoes_dados)\n",
    "oscilacoes_dados"
   ]
  },
  {
   "cell_type": "code",
   "execution_count": 56,
   "metadata": {},
   "outputs": [
    {
     "data": {
      "text/plain": [
       "DataFrame[Papel: string, Oscilacoes_Dia: string, Oscilacoes_Mes: string, Oscilacoes_30_dias: string, Oscilacoes_12_meses: string, Oscilacoes_2021: string, Oscilacoes_2020: string, Oscilacoes_2019: string, Oscilacoes_2018: string, Oscilacoes_2017: string, Oscilacoes_2016: string]"
      ]
     },
     "execution_count": 56,
     "metadata": {},
     "output_type": "execute_result"
    }
   ],
   "source": [
    "df = sparkSession.createDataFrame(oscilacoes_dados, oscilacoes_label)\n",
    "df"
   ]
  },
  {
   "cell_type": "code",
   "execution_count": 57,
   "metadata": {},
   "outputs": [],
   "source": [
    "df.write.save('hdfs://172.17.177.40:9000/user/hadoopuser/fundamentus/detalhes/dados_oscilacoes', format='parquet', mode='append')"
   ]
  },
  {
   "cell_type": "code",
   "execution_count": 58,
   "metadata": {},
   "outputs": [],
   "source": [
    "df_load = sparkSession.read.format('parquet').load('hdfs://172.17.177.40:9000/user/hadoopuser/fundamentus/detalhes/dados_oscilacoes')"
   ]
  },
  {
   "cell_type": "code",
   "execution_count": 59,
   "metadata": {},
   "outputs": [
    {
     "name": "stdout",
     "output_type": "stream",
     "text": [
      "+-----+--------------+--------------+------------------+-------------------+---------------+---------------+---------------+---------------+---------------+---------------+\n",
      "|Papel|Oscilacoes_Dia|Oscilacoes_Mes|Oscilacoes_30_dias|Oscilacoes_12_meses|Oscilacoes_2021|Oscilacoes_2020|Oscilacoes_2019|Oscilacoes_2018|Oscilacoes_2017|Oscilacoes_2016|\n",
      "+-----+--------------+--------------+------------------+-------------------+---------------+---------------+---------------+---------------+---------------+---------------+\n",
      "|PETR4|        -0,05%|        -1,12%|           -23,27%|            -17,11%|        -22,41%|         -6,10%|         36,87%|         45,91%|          8,29%|        116,23%|\n",
      "|ITUB4|         4,04%|         0,93%|            -8,90%|            -18,04%|        -17,91%|        -11,75%|         11,98%|         32,41%|         29,64%|         56,02%|\n",
      "|VALE3|         3,07%|         7,49%|            15,90%|            127,71%|         16,18%|         70,47%|          6,85%|         31,11%|         62,56%|        103,66%|\n",
      "|GGBR4|         3,09%|         3,09%|            16,11%|             55,83%|          9,08%|         23,86%|         37,65%|         22,31%|         15,23%|        138,66%|\n",
      "+-----+--------------+--------------+------------------+-------------------+---------------+---------------+---------------+---------------+---------------+---------------+\n",
      "\n"
     ]
    }
   ],
   "source": [
    "df_load.show()"
   ]
  },
  {
   "cell_type": "code",
   "execution_count": 60,
   "metadata": {},
   "outputs": [
    {
     "data": {
      "text/html": [
       "<div>\n",
       "<style scoped>\n",
       "    .dataframe tbody tr th:only-of-type {\n",
       "        vertical-align: middle;\n",
       "    }\n",
       "\n",
       "    .dataframe tbody tr th {\n",
       "        vertical-align: top;\n",
       "    }\n",
       "\n",
       "    .dataframe thead th {\n",
       "        text-align: right;\n",
       "    }\n",
       "</style>\n",
       "<table border=\"1\" class=\"dataframe\">\n",
       "  <thead>\n",
       "    <tr style=\"text-align: right;\">\n",
       "      <th></th>\n",
       "      <th>Papel</th>\n",
       "      <th>Oscilacoes_Dia</th>\n",
       "      <th>Oscilacoes_Mes</th>\n",
       "      <th>Oscilacoes_30_dias</th>\n",
       "      <th>Oscilacoes_12_meses</th>\n",
       "      <th>Oscilacoes_2021</th>\n",
       "      <th>Oscilacoes_2020</th>\n",
       "      <th>Oscilacoes_2019</th>\n",
       "      <th>Oscilacoes_2018</th>\n",
       "      <th>Oscilacoes_2017</th>\n",
       "      <th>Oscilacoes_2016</th>\n",
       "    </tr>\n",
       "  </thead>\n",
       "  <tbody>\n",
       "    <tr>\n",
       "      <th>0</th>\n",
       "      <td>PETR4</td>\n",
       "      <td>-0,05%</td>\n",
       "      <td>-1,12%</td>\n",
       "      <td>-23,27%</td>\n",
       "      <td>-17,11%</td>\n",
       "      <td>-22,41%</td>\n",
       "      <td>-6,10%</td>\n",
       "      <td>36,87%</td>\n",
       "      <td>45,91%</td>\n",
       "      <td>8,29%</td>\n",
       "      <td>116,23%</td>\n",
       "    </tr>\n",
       "    <tr>\n",
       "      <th>1</th>\n",
       "      <td>ITUB4</td>\n",
       "      <td>4,04%</td>\n",
       "      <td>0,93%</td>\n",
       "      <td>-8,90%</td>\n",
       "      <td>-18,04%</td>\n",
       "      <td>-17,91%</td>\n",
       "      <td>-11,75%</td>\n",
       "      <td>11,98%</td>\n",
       "      <td>32,41%</td>\n",
       "      <td>29,64%</td>\n",
       "      <td>56,02%</td>\n",
       "    </tr>\n",
       "    <tr>\n",
       "      <th>2</th>\n",
       "      <td>VALE3</td>\n",
       "      <td>3,07%</td>\n",
       "      <td>7,49%</td>\n",
       "      <td>15,90%</td>\n",
       "      <td>127,71%</td>\n",
       "      <td>16,18%</td>\n",
       "      <td>70,47%</td>\n",
       "      <td>6,85%</td>\n",
       "      <td>31,11%</td>\n",
       "      <td>62,56%</td>\n",
       "      <td>103,66%</td>\n",
       "    </tr>\n",
       "    <tr>\n",
       "      <th>3</th>\n",
       "      <td>GGBR4</td>\n",
       "      <td>3,09%</td>\n",
       "      <td>3,09%</td>\n",
       "      <td>16,11%</td>\n",
       "      <td>55,83%</td>\n",
       "      <td>9,08%</td>\n",
       "      <td>23,86%</td>\n",
       "      <td>37,65%</td>\n",
       "      <td>22,31%</td>\n",
       "      <td>15,23%</td>\n",
       "      <td>138,66%</td>\n",
       "    </tr>\n",
       "  </tbody>\n",
       "</table>\n",
       "</div>"
      ],
      "text/plain": [
       "   Papel Oscilacoes_Dia Oscilacoes_Mes Oscilacoes_30_dias Oscilacoes_12_meses  \\\n",
       "0  PETR4         -0,05%         -1,12%            -23,27%             -17,11%   \n",
       "1  ITUB4          4,04%          0,93%             -8,90%             -18,04%   \n",
       "2  VALE3          3,07%          7,49%             15,90%             127,71%   \n",
       "3  GGBR4          3,09%          3,09%             16,11%              55,83%   \n",
       "\n",
       "  Oscilacoes_2021 Oscilacoes_2020 Oscilacoes_2019 Oscilacoes_2018  \\\n",
       "0         -22,41%          -6,10%          36,87%          45,91%   \n",
       "1         -17,91%         -11,75%          11,98%          32,41%   \n",
       "2          16,18%          70,47%           6,85%          31,11%   \n",
       "3           9,08%          23,86%          37,65%          22,31%   \n",
       "\n",
       "  Oscilacoes_2017 Oscilacoes_2016  \n",
       "0           8,29%         116,23%  \n",
       "1          29,64%          56,02%  \n",
       "2          62,56%         103,66%  \n",
       "3          15,23%         138,66%  "
      ]
     },
     "execution_count": 60,
     "metadata": {},
     "output_type": "execute_result"
    }
   ],
   "source": [
    "df_load.toPandas()"
   ]
  },
  {
   "cell_type": "markdown",
   "metadata": {},
   "source": [
    "## Write Spark DataFrame dos Dados de Indicacores Fundamentalistas"
   ]
  },
  {
   "cell_type": "code",
   "execution_count": null,
   "metadata": {},
   "outputs": [],
   "source": [
    "indicador_fundamentalita_label.insert(0, \"Papel\")\n",
    "indicador_fundamentalita_dados.insert(0, papel)\n",
    "indicador_fundamentalita_dados = transformar_lista_em_tuples(indicador_fundamentalita_dados)\n",
    "indicador_fundamentalita_dados"
   ]
  },
  {
   "cell_type": "code",
   "execution_count": 61,
   "metadata": {},
   "outputs": [
    {
     "data": {
      "text/plain": [
       "DataFrame[Papel: string, P/L: string, LPA: string, P/VP: string, VPA: string, P/EBIT: string, Marg._Bruta: string, PSR: string, Marg._EBIT: string, P/Ativos: string, Marg._Liquida: string, P/Cap._Giro: string, EBIT_/_Ativo: string, P/Ativ_Circ_Liq: string, ROIC: string, Div._Yield: string, ROE: string, EV_/_EBITDA: string, Liquidez_Corr: string, EV_/_EBIT: string, Div_Br/_Patrim: string, Cres._Rec_5a: string, Giro_Ativos: string]"
      ]
     },
     "execution_count": 61,
     "metadata": {},
     "output_type": "execute_result"
    }
   ],
   "source": [
    "df = sparkSession.createDataFrame(indicador_fundamentalita_dados, indicador_fundamentalita_label)\n",
    "df"
   ]
  },
  {
   "cell_type": "code",
   "execution_count": 62,
   "metadata": {},
   "outputs": [],
   "source": [
    "df.write.save('hdfs://172.17.177.40:9000/user/hadoopuser/fundamentus/detalhes/dados_indicador_fundamentalista', format='parquet', mode='append')"
   ]
  },
  {
   "cell_type": "code",
   "execution_count": 63,
   "metadata": {},
   "outputs": [],
   "source": [
    "df_load = sparkSession.read.format('parquet').load('hdfs://172.17.177.40:9000/user/hadoopuser/fundamentus/detalhes/dados_indicador_fundamentalista')"
   ]
  },
  {
   "cell_type": "code",
   "execution_count": 64,
   "metadata": {},
   "outputs": [
    {
     "name": "stdout",
     "output_type": "stream",
     "text": [
      "+-----+-----+----+----+-----+------+-----------+----+----------+--------+-------------+-----------+------------+---------------+-----+----------+-----+-----------+-------------+---------+--------------+------------+-----------+\n",
      "|Papel|  P/L| LPA|P/VP|  VPA|P/EBIT|Marg._Bruta| PSR|Marg._EBIT|P/Ativos|Marg._Liquida|P/Cap._Giro|EBIT_/_Ativo|P/Ativ_Circ_Liq| ROIC|Div._Yield|  ROE|EV_/_EBITDA|Liquidez_Corr|EV_/_EBIT|Div_Br/_Patrim|Cres._Rec_5a|Giro_Ativos|\n",
      "+-----+-----+----+----+-----+------+-----------+----+----------+--------+-------------+-----------+------------+---------------+-----+----------+-----+-----------+-------------+---------+--------------+------------+-----------+\n",
      "|VALE3|20,10|5,05|2,89|35,16|  5,01|      52,7%|2,57|     51,4%|    1,12|        11,9%|      10,53|       22,4%|          -3,15|27,4%|      2,4%|14,4%|       4,40|         1,67|     5,09|          0,42|       20,9%|       0,44|\n",
      "|PETR4|40,36|0,54|0,93|23,64|  3,07|      45,6%|1,05|     34,3%|    0,29|         2,3%|      47,52|        9,5%|          -0,54|10,5%|      0,0%| 2,3%|       3,92|         1,04|     6,58|          1,27|       -0,1%|       0,28|\n",
      "|GGBR4|19,39|1,38|1,49|17,95| 10,42|      13,5%|1,05|     10,0%|    0,73|         5,5%|       3,85|        7,0%|          -5,32| 8,8%|      1,1%| 7,7%|       8,14|         2,04|    12,66|          0,57|        3,8%|       0,69|\n",
      "|ITUB4|13,32|1,93|1,85|13,94|     -|          -|   -|         -|       -|         0,0%|          -|        0,0%|              -|    -|      1,9%|13,9%|          -|            -|        -|             -|      -30,0%|          -|\n",
      "+-----+-----+----+----+-----+------+-----------+----+----------+--------+-------------+-----------+------------+---------------+-----+----------+-----+-----------+-------------+---------+--------------+------------+-----------+\n",
      "\n"
     ]
    }
   ],
   "source": [
    "df_load.show()"
   ]
  },
  {
   "cell_type": "code",
   "execution_count": 65,
   "metadata": {},
   "outputs": [
    {
     "data": {
      "text/html": [
       "<div>\n",
       "<style scoped>\n",
       "    .dataframe tbody tr th:only-of-type {\n",
       "        vertical-align: middle;\n",
       "    }\n",
       "\n",
       "    .dataframe tbody tr th {\n",
       "        vertical-align: top;\n",
       "    }\n",
       "\n",
       "    .dataframe thead th {\n",
       "        text-align: right;\n",
       "    }\n",
       "</style>\n",
       "<table border=\"1\" class=\"dataframe\">\n",
       "  <thead>\n",
       "    <tr style=\"text-align: right;\">\n",
       "      <th></th>\n",
       "      <th>Papel</th>\n",
       "      <th>P/L</th>\n",
       "      <th>LPA</th>\n",
       "      <th>P/VP</th>\n",
       "      <th>VPA</th>\n",
       "      <th>P/EBIT</th>\n",
       "      <th>Marg._Bruta</th>\n",
       "      <th>PSR</th>\n",
       "      <th>Marg._EBIT</th>\n",
       "      <th>P/Ativos</th>\n",
       "      <th>...</th>\n",
       "      <th>P/Ativ_Circ_Liq</th>\n",
       "      <th>ROIC</th>\n",
       "      <th>Div._Yield</th>\n",
       "      <th>ROE</th>\n",
       "      <th>EV_/_EBITDA</th>\n",
       "      <th>Liquidez_Corr</th>\n",
       "      <th>EV_/_EBIT</th>\n",
       "      <th>Div_Br/_Patrim</th>\n",
       "      <th>Cres._Rec_5a</th>\n",
       "      <th>Giro_Ativos</th>\n",
       "    </tr>\n",
       "  </thead>\n",
       "  <tbody>\n",
       "    <tr>\n",
       "      <th>0</th>\n",
       "      <td>VALE3</td>\n",
       "      <td>20,10</td>\n",
       "      <td>5,05</td>\n",
       "      <td>2,89</td>\n",
       "      <td>35,16</td>\n",
       "      <td>5,01</td>\n",
       "      <td>52,7%</td>\n",
       "      <td>2,57</td>\n",
       "      <td>51,4%</td>\n",
       "      <td>1,12</td>\n",
       "      <td>...</td>\n",
       "      <td>-3,15</td>\n",
       "      <td>27,4%</td>\n",
       "      <td>2,4%</td>\n",
       "      <td>14,4%</td>\n",
       "      <td>4,40</td>\n",
       "      <td>1,67</td>\n",
       "      <td>5,09</td>\n",
       "      <td>0,42</td>\n",
       "      <td>20,9%</td>\n",
       "      <td>0,44</td>\n",
       "    </tr>\n",
       "    <tr>\n",
       "      <th>1</th>\n",
       "      <td>PETR4</td>\n",
       "      <td>40,36</td>\n",
       "      <td>0,54</td>\n",
       "      <td>0,93</td>\n",
       "      <td>23,64</td>\n",
       "      <td>3,07</td>\n",
       "      <td>45,6%</td>\n",
       "      <td>1,05</td>\n",
       "      <td>34,3%</td>\n",
       "      <td>0,29</td>\n",
       "      <td>...</td>\n",
       "      <td>-0,54</td>\n",
       "      <td>10,5%</td>\n",
       "      <td>0,0%</td>\n",
       "      <td>2,3%</td>\n",
       "      <td>3,92</td>\n",
       "      <td>1,04</td>\n",
       "      <td>6,58</td>\n",
       "      <td>1,27</td>\n",
       "      <td>-0,1%</td>\n",
       "      <td>0,28</td>\n",
       "    </tr>\n",
       "    <tr>\n",
       "      <th>2</th>\n",
       "      <td>GGBR4</td>\n",
       "      <td>19,39</td>\n",
       "      <td>1,38</td>\n",
       "      <td>1,49</td>\n",
       "      <td>17,95</td>\n",
       "      <td>10,42</td>\n",
       "      <td>13,5%</td>\n",
       "      <td>1,05</td>\n",
       "      <td>10,0%</td>\n",
       "      <td>0,73</td>\n",
       "      <td>...</td>\n",
       "      <td>-5,32</td>\n",
       "      <td>8,8%</td>\n",
       "      <td>1,1%</td>\n",
       "      <td>7,7%</td>\n",
       "      <td>8,14</td>\n",
       "      <td>2,04</td>\n",
       "      <td>12,66</td>\n",
       "      <td>0,57</td>\n",
       "      <td>3,8%</td>\n",
       "      <td>0,69</td>\n",
       "    </tr>\n",
       "    <tr>\n",
       "      <th>3</th>\n",
       "      <td>ITUB4</td>\n",
       "      <td>13,32</td>\n",
       "      <td>1,93</td>\n",
       "      <td>1,85</td>\n",
       "      <td>13,94</td>\n",
       "      <td>-</td>\n",
       "      <td>-</td>\n",
       "      <td>-</td>\n",
       "      <td>-</td>\n",
       "      <td>-</td>\n",
       "      <td>...</td>\n",
       "      <td>-</td>\n",
       "      <td>-</td>\n",
       "      <td>1,9%</td>\n",
       "      <td>13,9%</td>\n",
       "      <td>-</td>\n",
       "      <td>-</td>\n",
       "      <td>-</td>\n",
       "      <td>-</td>\n",
       "      <td>-30,0%</td>\n",
       "      <td>-</td>\n",
       "    </tr>\n",
       "  </tbody>\n",
       "</table>\n",
       "<p>4 rows × 23 columns</p>\n",
       "</div>"
      ],
      "text/plain": [
       "   Papel    P/L   LPA  P/VP    VPA P/EBIT Marg._Bruta   PSR Marg._EBIT  \\\n",
       "0  VALE3  20,10  5,05  2,89  35,16   5,01       52,7%  2,57      51,4%   \n",
       "1  PETR4  40,36  0,54  0,93  23,64   3,07       45,6%  1,05      34,3%   \n",
       "2  GGBR4  19,39  1,38  1,49  17,95  10,42       13,5%  1,05      10,0%   \n",
       "3  ITUB4  13,32  1,93  1,85  13,94      -           -     -          -   \n",
       "\n",
       "  P/Ativos  ... P/Ativ_Circ_Liq   ROIC Div._Yield    ROE EV_/_EBITDA  \\\n",
       "0     1,12  ...           -3,15  27,4%       2,4%  14,4%        4,40   \n",
       "1     0,29  ...           -0,54  10,5%       0,0%   2,3%        3,92   \n",
       "2     0,73  ...           -5,32   8,8%       1,1%   7,7%        8,14   \n",
       "3        -  ...               -      -       1,9%  13,9%           -   \n",
       "\n",
       "  Liquidez_Corr EV_/_EBIT Div_Br/_Patrim Cres._Rec_5a Giro_Ativos  \n",
       "0          1,67      5,09           0,42        20,9%        0,44  \n",
       "1          1,04      6,58           1,27        -0,1%        0,28  \n",
       "2          2,04     12,66           0,57         3,8%        0,69  \n",
       "3             -         -              -       -30,0%           -  \n",
       "\n",
       "[4 rows x 23 columns]"
      ]
     },
     "execution_count": 65,
     "metadata": {},
     "output_type": "execute_result"
    }
   ],
   "source": [
    "df_load.toPandas()"
   ]
  },
  {
   "cell_type": "markdown",
   "metadata": {},
   "source": [
    "## Write Spark DataFrame dos Dados do Balanço"
   ]
  },
  {
   "cell_type": "code",
   "execution_count": null,
   "metadata": {},
   "outputs": [],
   "source": [
    "balanco_label.insert(0, \"Papel\")\n",
    "balanco_dados.insert(0, papel)\n",
    "balanco_dados = transformar_lista_em_tuples(balanco_dados)\n",
    "balanco_dados"
   ]
  },
  {
   "cell_type": "code",
   "execution_count": 66,
   "metadata": {},
   "outputs": [
    {
     "data": {
      "text/plain": [
       "DataFrame[Papel: string, Ult_balanco_processado: string, Valor_da_firma: string, Ativo: string, Div._Bruta: string, Disponibilidades: string, Div._Liquida: string, Ativo_Circulante: string, Patrim._Liq: string, Receita_Liquida_ult._12_meses: string, EBIT_ult._12_meses: string, Lucro_Liquido_ult._12_meses: string, Receita_Liquida_ult._3_meses: string, EBIT_ult._3_meses: string, Lucro_Liquido_ult._3_meses: string]"
      ]
     },
     "execution_count": 66,
     "metadata": {},
     "output_type": "execute_result"
    }
   ],
   "source": [
    "df = sparkSession.createDataFrame(balanco_dados, balanco_label)\n",
    "df"
   ]
  },
  {
   "cell_type": "code",
   "execution_count": 67,
   "metadata": {},
   "outputs": [],
   "source": [
    "df.write.save('hdfs://172.17.177.40:9000/user/hadoopuser/fundamentus/detalhes/dados_balanco', format='parquet', mode='append')"
   ]
  },
  {
   "cell_type": "code",
   "execution_count": 68,
   "metadata": {},
   "outputs": [],
   "source": [
    "df_load = sparkSession.read.format('parquet').load('hdfs://172.17.177.40:9000/user/hadoopuser/fundamentus/detalhes/dados_balanco')"
   ]
  },
  {
   "cell_type": "code",
   "execution_count": 69,
   "metadata": {},
   "outputs": [
    {
     "name": "stdout",
     "output_type": "stream",
     "text": [
      "+-----+----------------------+---------------+---------------+---------------+----------------+---------------+----------------+---------------+-----------------------------+------------------+---------------------------+----------------------------+-----------------+--------------------------+\n",
      "|Papel|Ult_balanco_processado| Valor_da_firma|          Ativo|     Div._Bruta|Disponibilidades|   Div._Liquida|Ativo_Circulante|    Patrim._Liq|Receita_Liquida_ult._12_meses|EBIT_ult._12_meses|Lucro_Liquido_ult._12_meses|Receita_Liquida_ult._3_meses|EBIT_ult._3_meses|Lucro_Liquido_ult._3_meses|\n",
      "+-----+----------------------+---------------+---------------+---------------+----------------+---------------+----------------+---------------+-----------------------------+------------------+---------------------------+----------------------------+-----------------+--------------------------+\n",
      "|PETR4|            31/12/2020|615.116.000.000|987.419.000.000|392.548.000.000|  64.280.000.000|328.268.000.000| 142.323.000.000|308.410.000.000|              272.069.000.000|    93.417.000.000|              7.108.000.000|              74.972.000.000|   33.838.000.000|            59.890.000.000|\n",
      "|VALE3|            31/12/2020|544.906.000.000|478.129.000.000| 78.089.100.000|  70.085.600.000|  8.003.530.000| 126.805.000.000|185.785.000.000|              208.529.000.000|   107.104.000.000|             26.712.700.000|              78.938.200.000|   47.152.400.000|             4.824.830.000|\n",
      "|GGBR4|            31/12/2020| 55.720.300.000| 63.123.000.000| 17.515.400.000|   7.658.350.000|  9.857.000.000|  23.409.500.000| 30.860.300.000|               43.814.700.000|     4.400.170.000|              2.365.760.000|              13.620.200.000|    2.176.850.000|             1.048.330.000|\n",
      "|ITUB4|            31/12/2020|              -|210.399.000.000|           null|            null|           null|            null|136.699.000.000|                         null|              null|             18.961.000.000|                        null|             null|             7.636.000.000|\n",
      "+-----+----------------------+---------------+---------------+---------------+----------------+---------------+----------------+---------------+-----------------------------+------------------+---------------------------+----------------------------+-----------------+--------------------------+\n",
      "\n"
     ]
    }
   ],
   "source": [
    "df_load.show()"
   ]
  },
  {
   "cell_type": "code",
   "execution_count": 70,
   "metadata": {},
   "outputs": [
    {
     "data": {
      "text/html": [
       "<div>\n",
       "<style scoped>\n",
       "    .dataframe tbody tr th:only-of-type {\n",
       "        vertical-align: middle;\n",
       "    }\n",
       "\n",
       "    .dataframe tbody tr th {\n",
       "        vertical-align: top;\n",
       "    }\n",
       "\n",
       "    .dataframe thead th {\n",
       "        text-align: right;\n",
       "    }\n",
       "</style>\n",
       "<table border=\"1\" class=\"dataframe\">\n",
       "  <thead>\n",
       "    <tr style=\"text-align: right;\">\n",
       "      <th></th>\n",
       "      <th>Papel</th>\n",
       "      <th>Ult_balanco_processado</th>\n",
       "      <th>Valor_da_firma</th>\n",
       "      <th>Ativo</th>\n",
       "      <th>Div._Bruta</th>\n",
       "      <th>Disponibilidades</th>\n",
       "      <th>Div._Liquida</th>\n",
       "      <th>Ativo_Circulante</th>\n",
       "      <th>Patrim._Liq</th>\n",
       "      <th>Receita_Liquida_ult._12_meses</th>\n",
       "      <th>EBIT_ult._12_meses</th>\n",
       "      <th>Lucro_Liquido_ult._12_meses</th>\n",
       "      <th>Receita_Liquida_ult._3_meses</th>\n",
       "      <th>EBIT_ult._3_meses</th>\n",
       "      <th>Lucro_Liquido_ult._3_meses</th>\n",
       "    </tr>\n",
       "  </thead>\n",
       "  <tbody>\n",
       "    <tr>\n",
       "      <th>0</th>\n",
       "      <td>PETR4</td>\n",
       "      <td>31/12/2020</td>\n",
       "      <td>615.116.000.000</td>\n",
       "      <td>987.419.000.000</td>\n",
       "      <td>392.548.000.000</td>\n",
       "      <td>64.280.000.000</td>\n",
       "      <td>328.268.000.000</td>\n",
       "      <td>142.323.000.000</td>\n",
       "      <td>308.410.000.000</td>\n",
       "      <td>272.069.000.000</td>\n",
       "      <td>93.417.000.000</td>\n",
       "      <td>7.108.000.000</td>\n",
       "      <td>74.972.000.000</td>\n",
       "      <td>33.838.000.000</td>\n",
       "      <td>59.890.000.000</td>\n",
       "    </tr>\n",
       "    <tr>\n",
       "      <th>1</th>\n",
       "      <td>VALE3</td>\n",
       "      <td>31/12/2020</td>\n",
       "      <td>544.906.000.000</td>\n",
       "      <td>478.129.000.000</td>\n",
       "      <td>78.089.100.000</td>\n",
       "      <td>70.085.600.000</td>\n",
       "      <td>8.003.530.000</td>\n",
       "      <td>126.805.000.000</td>\n",
       "      <td>185.785.000.000</td>\n",
       "      <td>208.529.000.000</td>\n",
       "      <td>107.104.000.000</td>\n",
       "      <td>26.712.700.000</td>\n",
       "      <td>78.938.200.000</td>\n",
       "      <td>47.152.400.000</td>\n",
       "      <td>4.824.830.000</td>\n",
       "    </tr>\n",
       "    <tr>\n",
       "      <th>2</th>\n",
       "      <td>GGBR4</td>\n",
       "      <td>31/12/2020</td>\n",
       "      <td>55.720.300.000</td>\n",
       "      <td>63.123.000.000</td>\n",
       "      <td>17.515.400.000</td>\n",
       "      <td>7.658.350.000</td>\n",
       "      <td>9.857.000.000</td>\n",
       "      <td>23.409.500.000</td>\n",
       "      <td>30.860.300.000</td>\n",
       "      <td>43.814.700.000</td>\n",
       "      <td>4.400.170.000</td>\n",
       "      <td>2.365.760.000</td>\n",
       "      <td>13.620.200.000</td>\n",
       "      <td>2.176.850.000</td>\n",
       "      <td>1.048.330.000</td>\n",
       "    </tr>\n",
       "    <tr>\n",
       "      <th>3</th>\n",
       "      <td>ITUB4</td>\n",
       "      <td>31/12/2020</td>\n",
       "      <td>-</td>\n",
       "      <td>210.399.000.000</td>\n",
       "      <td>None</td>\n",
       "      <td>None</td>\n",
       "      <td>None</td>\n",
       "      <td>None</td>\n",
       "      <td>136.699.000.000</td>\n",
       "      <td>None</td>\n",
       "      <td>None</td>\n",
       "      <td>18.961.000.000</td>\n",
       "      <td>None</td>\n",
       "      <td>None</td>\n",
       "      <td>7.636.000.000</td>\n",
       "    </tr>\n",
       "  </tbody>\n",
       "</table>\n",
       "</div>"
      ],
      "text/plain": [
       "   Papel Ult_balanco_processado   Valor_da_firma            Ativo  \\\n",
       "0  PETR4             31/12/2020  615.116.000.000  987.419.000.000   \n",
       "1  VALE3             31/12/2020  544.906.000.000  478.129.000.000   \n",
       "2  GGBR4             31/12/2020   55.720.300.000   63.123.000.000   \n",
       "3  ITUB4             31/12/2020                -  210.399.000.000   \n",
       "\n",
       "        Div._Bruta Disponibilidades     Div._Liquida Ativo_Circulante  \\\n",
       "0  392.548.000.000   64.280.000.000  328.268.000.000  142.323.000.000   \n",
       "1   78.089.100.000   70.085.600.000    8.003.530.000  126.805.000.000   \n",
       "2   17.515.400.000    7.658.350.000    9.857.000.000   23.409.500.000   \n",
       "3             None             None             None             None   \n",
       "\n",
       "       Patrim._Liq Receita_Liquida_ult._12_meses EBIT_ult._12_meses  \\\n",
       "0  308.410.000.000               272.069.000.000     93.417.000.000   \n",
       "1  185.785.000.000               208.529.000.000    107.104.000.000   \n",
       "2   30.860.300.000                43.814.700.000      4.400.170.000   \n",
       "3  136.699.000.000                          None               None   \n",
       "\n",
       "  Lucro_Liquido_ult._12_meses Receita_Liquida_ult._3_meses EBIT_ult._3_meses  \\\n",
       "0               7.108.000.000               74.972.000.000    33.838.000.000   \n",
       "1              26.712.700.000               78.938.200.000    47.152.400.000   \n",
       "2               2.365.760.000               13.620.200.000     2.176.850.000   \n",
       "3              18.961.000.000                         None              None   \n",
       "\n",
       "  Lucro_Liquido_ult._3_meses  \n",
       "0             59.890.000.000  \n",
       "1              4.824.830.000  \n",
       "2              1.048.330.000  \n",
       "3              7.636.000.000  "
      ]
     },
     "execution_count": 70,
     "metadata": {},
     "output_type": "execute_result"
    }
   ],
   "source": [
    "df_load.toPandas()"
   ]
  },
  {
   "cell_type": "code",
   "execution_count": null,
   "metadata": {},
   "outputs": [],
   "source": []
  },
  {
   "cell_type": "code",
   "execution_count": 154,
   "metadata": {},
   "outputs": [],
   "source": [
    "class TesteStatic:\n",
    "    \n",
    "    def __init__(self):\n",
    "        self.__numero = {}\n",
    "    \n",
    "\n",
    "    def metodo_static1(self):\n",
    "        self.__numero['metodo1'] = 1\n",
    "        self.metodo_static2()\n",
    "        return self.__numero\n",
    "    \n",
    "\n",
    "    def metodo_static2(self):\n",
    "        self.__numero['metodo2'] = 2\n",
    "        return self.__numero \n",
    "    \n",
    "\n",
    "    def metodo_static3(self):\n",
    "        self.__numero['metodo3'] = 3\n",
    "        return self.__numero \n",
    "\n",
    "    \n",
    "    \n",
    "    "
   ]
  },
  {
   "cell_type": "code",
   "execution_count": 161,
   "metadata": {},
   "outputs": [
    {
     "data": {
      "text/plain": [
       "<__main__.TesteStatic at 0x7fb9bbed9b70>"
      ]
     },
     "execution_count": 161,
     "metadata": {},
     "output_type": "execute_result"
    }
   ],
   "source": [
    "teste = TesteStatic()\n",
    "teste"
   ]
  },
  {
   "cell_type": "code",
   "execution_count": 166,
   "metadata": {},
   "outputs": [
    {
     "name": "stdout",
     "output_type": "stream",
     "text": [
      "{'metodo2': 2, 'metodo1': 1, 'metodo3': 3}\n"
     ]
    }
   ],
   "source": [
    "print(teste.metodo_static1())"
   ]
  },
  {
   "cell_type": "code",
   "execution_count": 1,
   "metadata": {},
   "outputs": [],
   "source": [
    "teste = {'nome':'hugo', 'idade':31}"
   ]
  },
  {
   "cell_type": "code",
   "execution_count": 2,
   "metadata": {},
   "outputs": [],
   "source": [
    "dados = {}\n",
    "dados['Pessoa'] = teste"
   ]
  },
  {
   "cell_type": "code",
   "execution_count": 6,
   "metadata": {},
   "outputs": [
    {
     "name": "stdout",
     "output_type": "stream",
     "text": [
      "Pessoa\n"
     ]
    }
   ],
   "source": [
    "for i in dados:\n",
    "    print(i)"
   ]
  },
  {
   "cell_type": "code",
   "execution_count": 9,
   "metadata": {},
   "outputs": [
    {
     "data": {
      "text/plain": [
       "'hugo'"
      ]
     },
     "execution_count": 9,
     "metadata": {},
     "output_type": "execute_result"
    }
   ],
   "source": [
    "dados['Pessoa']['nome']"
   ]
  },
  {
   "cell_type": "code",
   "execution_count": null,
   "metadata": {},
   "outputs": [],
   "source": []
  }
 ],
 "metadata": {
  "kernelspec": {
   "display_name": "Python 3",
   "language": "python",
   "name": "python3"
  },
  "language_info": {
   "codemirror_mode": {
    "name": "ipython",
    "version": 3
   },
   "file_extension": ".py",
   "mimetype": "text/x-python",
   "name": "python",
   "nbconvert_exporter": "python",
   "pygments_lexer": "ipython3",
   "version": "3.6.9"
  }
 },
 "nbformat": 4,
 "nbformat_minor": 4
}
