{
 "cells": [
  {
   "cell_type": "markdown",
   "metadata": {},
   "source": [
    "## Baixando HTML do site Fundamentus (Web Crawling)"
   ]
  },
  {
   "cell_type": "code",
   "execution_count": 1,
   "metadata": {},
   "outputs": [],
   "source": [
    "from urllib.request import Request, urlopen\n",
    "\n",
    "url = 'https://fundamentus.com.br/detalhes.php?papel=PETR4'\n",
    "\n",
    "req = Request(url, headers={'User-Agent': 'Mozilla/5.0'})\n",
    "\n",
    "response = urlopen(req, timeout=20).read()\n",
    "html_output = response.decode('latin-1')"
   ]
  },
  {
   "cell_type": "markdown",
   "metadata": {},
   "source": [
    "## Salvando conteúdo do HTML (em bytes) em um arquivo local"
   ]
  },
  {
   "cell_type": "code",
   "execution_count": 2,
   "metadata": {},
   "outputs": [],
   "source": [
    "import io\n",
    "\n",
    "with io.open('PETR4_fundamentus.html', 'w', encoding='utf-8') as f:\n",
    "    f.write(html_output)"
   ]
  },
  {
   "cell_type": "markdown",
   "metadata": {},
   "source": [
    "## Lendo conteúdo do arquivo Local e armazenando em uma variável"
   ]
  },
  {
   "cell_type": "code",
   "execution_count": 3,
   "metadata": {},
   "outputs": [],
   "source": [
    "import io\n",
    "\n",
    "with io.open('PETR4_fundamentus.html', 'r', encoding='utf8') as f:\n",
    "    html = f.read()"
   ]
  },
  {
   "cell_type": "markdown",
   "metadata": {},
   "source": [
    "## Extrair e Separar Labels dos Dados do HTML (Web Scraping)\n",
    "### Tabela 1 e 2: Dados da Empresa e última cotação"
   ]
  },
  {
   "cell_type": "code",
   "execution_count": 4,
   "metadata": {},
   "outputs": [],
   "source": [
    "from scrapy import Selector\n",
    "\n",
    "sel = Selector( text = html )"
   ]
  },
  {
   "cell_type": "code",
   "execution_count": 5,
   "metadata": {},
   "outputs": [],
   "source": [
    "empresa_cotacao = sel.xpath(\"//table[1]//span[@class='txt']/text() | //table[1]//span[@class='txt']/a/text()\").extract()\n",
    "valores_data_balanco = sel.xpath(\"//table[2]//span[@class='txt']/text()\").extract()"
   ]
  },
  {
   "cell_type": "code",
   "execution_count": 6,
   "metadata": {},
   "outputs": [
    {
     "data": {
      "text/plain": [
       "['Papel',\n",
       " 'Cotação',\n",
       " 'Tipo',\n",
       " 'Data últ cot',\n",
       " 'Empresa',\n",
       " 'Min 52 sem',\n",
       " 'Setor',\n",
       " 'Max 52 sem',\n",
       " 'Subsetor',\n",
       " 'Vol $ méd (2m)',\n",
       " 'Valor de mercado',\n",
       " 'Últ balanço processado',\n",
       " 'Valor da firma',\n",
       " 'Nro. Ações']"
      ]
     },
     "execution_count": 6,
     "metadata": {},
     "output_type": "execute_result"
    }
   ],
   "source": [
    "empresa_label = empresa_cotacao[0::2] + valores_data_balanco[0::2]\n",
    "empresa_label"
   ]
  },
  {
   "cell_type": "code",
   "execution_count": 7,
   "metadata": {},
   "outputs": [
    {
     "data": {
      "text/plain": [
       "['PETR4',\n",
       " '29,02',\n",
       " 'PN',\n",
       " '05/02/2021',\n",
       " 'PETROBRAS PN',\n",
       " '11,29',\n",
       " 'Petróleo, Gás e Biocombustíveis',\n",
       " '31,12',\n",
       " 'Exploração e/ou Refino e Distribuição',\n",
       " '1.773.200.000',\n",
       " '378.551.000.000',\n",
       " '30/09/2020',\n",
       " '752.063.000.000',\n",
       " '13.044.500.000']"
      ]
     },
     "execution_count": 7,
     "metadata": {},
     "output_type": "execute_result"
    }
   ],
   "source": [
    "empresa_dados = empresa_cotacao[1::2] + valores_data_balanco[1::2]\n",
    "empresa_dados"
   ]
  },
  {
   "cell_type": "markdown",
   "metadata": {},
   "source": [
    "### Tabela 3.1: Oscilações"
   ]
  },
  {
   "cell_type": "code",
   "execution_count": 8,
   "metadata": {},
   "outputs": [
    {
     "data": {
      "text/plain": [
       "'Oscilações'"
      ]
     },
     "execution_count": 8,
     "metadata": {},
     "output_type": "execute_result"
    }
   ],
   "source": [
    "sel.xpath(\"//table[3]//td[@class='nivel1']//span/text()\").extract()[0]"
   ]
  },
  {
   "cell_type": "code",
   "execution_count": 9,
   "metadata": {},
   "outputs": [
    {
     "data": {
      "text/plain": [
       "['Dia',\n",
       " 'Mês',\n",
       " '30 dias',\n",
       " '12 meses',\n",
       " '2021',\n",
       " '2020',\n",
       " '2019',\n",
       " '2018',\n",
       " '2017',\n",
       " '2016']"
      ]
     },
     "execution_count": 9,
     "metadata": {},
     "output_type": "execute_result"
    }
   ],
   "source": [
    "oscilacoes_label = sel.xpath(\"//table[3]//td[@class='label w1']//span/text()\").extract()\n",
    "oscilacoes_label"
   ]
  },
  {
   "cell_type": "code",
   "execution_count": 10,
   "metadata": {},
   "outputs": [
    {
     "data": {
      "text/plain": [
       "['0,69%',\n",
       " '8,73%',\n",
       " '-3,40%',\n",
       " '2,22%',\n",
       " '2,40%',\n",
       " '-6,10%',\n",
       " '36,87%',\n",
       " '45,91%',\n",
       " '8,29%',\n",
       " '116,23%']"
      ]
     },
     "execution_count": 10,
     "metadata": {},
     "output_type": "execute_result"
    }
   ],
   "source": [
    "oscilacoes_dados = sel.xpath(\"//table[3]//span[@class='oscil']/font/text()\").extract()\n",
    "oscilacoes_dados"
   ]
  },
  {
   "cell_type": "markdown",
   "metadata": {},
   "source": [
    "### Tabela 3.2: Indicadores fundamentalistas"
   ]
  },
  {
   "cell_type": "code",
   "execution_count": 11,
   "metadata": {},
   "outputs": [
    {
     "data": {
      "text/plain": [
       "'Indicadores fundamentalistas'"
      ]
     },
     "execution_count": 11,
     "metadata": {},
     "output_type": "execute_result"
    }
   ],
   "source": [
    "sel.xpath(\"//table[3]//td[@class='nivel1']//span/text()\").extract()[1]"
   ]
  },
  {
   "cell_type": "code",
   "execution_count": 12,
   "metadata": {},
   "outputs": [
    {
     "data": {
      "text/plain": [
       "['P/L',\n",
       " 'LPA',\n",
       " 'P/VP',\n",
       " 'VPA',\n",
       " 'P/EBIT',\n",
       " 'Marg. Bruta',\n",
       " 'PSR',\n",
       " 'Marg. EBIT',\n",
       " 'P/Ativos',\n",
       " 'Marg. Líquida',\n",
       " 'P/Cap. Giro',\n",
       " 'EBIT / Ativo',\n",
       " 'P/Ativ Circ Liq',\n",
       " 'ROIC',\n",
       " 'Div. Yield',\n",
       " 'ROE',\n",
       " 'EV / EBITDA',\n",
       " 'Liquidez Corr',\n",
       " 'EV / EBIT',\n",
       " 'Div Br/ Patrim',\n",
       " 'Cres. Rec (5a)',\n",
       " 'Giro Ativos']"
      ]
     },
     "execution_count": 12,
     "metadata": {},
     "output_type": "execute_result"
    }
   ],
   "source": [
    "indicadores_label = sel.xpath(\"//table[3]//td[@class='label w2']//span[@class='txt']/text() | //table[3]//td[@class='label']//span[@class='txt']/text()\").extract()\n",
    "indicadores_label"
   ]
  },
  {
   "cell_type": "code",
   "execution_count": 13,
   "metadata": {},
   "outputs": [
    {
     "data": {
      "text/plain": [
       "['-8,48',\n",
       " '-3,42',\n",
       " '1,53',\n",
       " '18,99',\n",
       " '\\n4,29',\n",
       " '\\n44,1%',\n",
       " '\\n1,40',\n",
       " '\\n32,7%',\n",
       " '\\n0,39',\n",
       " '\\n-16,9%',\n",
       " '\\n34,61',\n",
       " '9,1%',\n",
       " '\\n-0,67',\n",
       " '\\n10,2%',\n",
       " '0,0%',\n",
       " '\\n-18,0%',\n",
       " '\\n4,88',\n",
       " '\\n1,08',\n",
       " '\\n8,52',\n",
       " '\\n1,81',\n",
       " '\\n-0,4%',\n",
       " '\\n0,28']"
      ]
     },
     "execution_count": 13,
     "metadata": {},
     "output_type": "execute_result"
    }
   ],
   "source": [
    "# Os dado estão vindo irregulares, com \\n na frente de alguns valores\n",
    "indicadores_dados = sel.xpath(\"//table[3]//td[@class='data w2']//span[@class='txt']/text() | //table[3]//td[@class='data']//span[@class='txt']/text()\").extract()\n",
    "indicadores_dados"
   ]
  },
  {
   "cell_type": "code",
   "execution_count": 14,
   "metadata": {},
   "outputs": [
    {
     "data": {
      "text/plain": [
       "['-8,48',\n",
       " '-3,42',\n",
       " '1,53',\n",
       " '18,99',\n",
       " '4,29',\n",
       " '44,1%',\n",
       " '1,40',\n",
       " '32,7%',\n",
       " '0,39',\n",
       " '-16,9%',\n",
       " '34,61',\n",
       " '9,1%',\n",
       " '-0,67',\n",
       " '10,2%',\n",
       " '0,0%',\n",
       " '-18,0%',\n",
       " '4,88',\n",
       " '1,08',\n",
       " '8,52',\n",
       " '1,81',\n",
       " '-0,4%',\n",
       " '0,28']"
      ]
     },
     "execution_count": 14,
     "metadata": {},
     "output_type": "execute_result"
    }
   ],
   "source": [
    "# Limpando os valores, removendo os caracteres irregulares (\\n)\n",
    "nova_list = []\n",
    "for valor in indicadores_dados:\n",
    "    nova_list.append(valor.replace(\"\\n\", \"\"))\n",
    "    \n",
    "indicadores_dados = nova_list\n",
    "indicadores_dados"
   ]
  },
  {
   "cell_type": "markdown",
   "metadata": {},
   "source": [
    "### Tabela 4: Dados Balanço Patrimonial"
   ]
  },
  {
   "cell_type": "code",
   "execution_count": null,
   "metadata": {},
   "outputs": [],
   "source": []
  }
 ],
 "metadata": {
  "kernelspec": {
   "display_name": "Python 3",
   "language": "python",
   "name": "python3"
  },
  "language_info": {
   "codemirror_mode": {
    "name": "ipython",
    "version": 3
   },
   "file_extension": ".py",
   "mimetype": "text/x-python",
   "name": "python",
   "nbconvert_exporter": "python",
   "pygments_lexer": "ipython3",
   "version": "3.6.9"
  }
 },
 "nbformat": 4,
 "nbformat_minor": 4
}
