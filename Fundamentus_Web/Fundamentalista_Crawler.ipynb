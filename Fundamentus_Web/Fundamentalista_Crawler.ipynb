{
 "cells": [
  {
   "cell_type": "markdown",
   "metadata": {},
   "source": [
    "## Imports"
   ]
  },
  {
   "cell_type": "code",
   "execution_count": 1,
   "metadata": {},
   "outputs": [],
   "source": [
    "import io\n",
    "import os.path\n",
    "from scrapy import Selector\n",
    "from datetime import date, datetime\n",
    "from urllib.request import Request, urlopen"
   ]
  },
  {
   "cell_type": "markdown",
   "metadata": {},
   "source": [
    "## Baixando HTML do site Fundamentus (Web Crawling)"
   ]
  },
  {
   "cell_type": "code",
   "execution_count": 2,
   "metadata": {},
   "outputs": [],
   "source": [
    "# mudar o nome do papel para baixar novo HTML\n",
    "papel = 'GGBR4'\n",
    "url = 'https://fundamentus.com.br/detalhes.php?papel=%s' % papel\n",
    "\n",
    "req = Request(url, headers={'User-Agent': 'Mozilla/5.0'})\n",
    "\n",
    "response = urlopen(req, timeout=20).read()\n",
    "new_html= response.decode('latin-1')"
   ]
  },
  {
   "cell_type": "markdown",
   "metadata": {},
   "source": [
    "#### Verificando data do último balanço"
   ]
  },
  {
   "cell_type": "code",
   "execution_count": 3,
   "metadata": {},
   "outputs": [],
   "source": [
    "sel = Selector( text = new_html )"
   ]
  },
  {
   "cell_type": "code",
   "execution_count": 4,
   "metadata": {},
   "outputs": [
    {
     "data": {
      "text/plain": [
       "'2020-09-30'"
      ]
     },
     "execution_count": 4,
     "metadata": {},
     "output_type": "execute_result"
    }
   ],
   "source": [
    "data_ult_balanco_new_html = sel.xpath(\"//table[2]//span[@class='txt']/text()\").extract()[3]\n",
    "data_ult_balanco_new_html = datetime.strptime(data_ult_balanco_new_html, '%d/%m/%Y').date()\n",
    "data_ult_balanco_new_html = str(data_ult_balanco_new_html)\n",
    "data_ult_balanco_new_html"
   ]
  },
  {
   "cell_type": "code",
   "execution_count": 5,
   "metadata": {},
   "outputs": [
    {
     "name": "stdout",
     "output_type": "stream",
     "text": [
      "Arquivo com balanço atual ainda não existe!\n"
     ]
    }
   ],
   "source": [
    "path = '/home/hugo/Documents/Repositorios_GitHub/Projetos/02-StockData/Fundamentus_Web/'\n",
    "file_name = '%s_fundamentus_%s.html' % (papel, str(data_ult_balanco_new_html))\n",
    "\n",
    "if os.path.isfile(path+file_name):\n",
    "    print('Arquivo já existe com balanço mais atual!')\n",
    "else:\n",
    "    print('Arquivo com balanço atual ainda não existe!')"
   ]
  },
  {
   "cell_type": "markdown",
   "metadata": {},
   "source": [
    "## Salvando conteúdo do HTML (em bytes) em um arquivo local"
   ]
  },
  {
   "cell_type": "code",
   "execution_count": 6,
   "metadata": {},
   "outputs": [],
   "source": [
    "file_name = '%s_fundamentus_%s.html' % (papel, data_ult_balanco_new_html)\n",
    "\n",
    "with io.open(path+file_name, 'w', encoding='utf-8') as f:\n",
    "    f.write(new_html)"
   ]
  },
  {
   "cell_type": "markdown",
   "metadata": {},
   "source": [
    "## Lendo conteúdo do arquivo Local e armazenando em uma variável"
   ]
  },
  {
   "cell_type": "code",
   "execution_count": 7,
   "metadata": {},
   "outputs": [],
   "source": [
    "with io.open(path+file_name, 'r', encoding='utf8') as f:\n",
    "    html = f.read()"
   ]
  },
  {
   "cell_type": "markdown",
   "metadata": {},
   "source": [
    "## Extrair e Separar Labels dos Dados do HTML (Web Scraping)\n",
    "### Tabela 1 e 2: Dados da Empresa e última cotação"
   ]
  },
  {
   "cell_type": "code",
   "execution_count": 8,
   "metadata": {},
   "outputs": [],
   "source": [
    "#!pip3 install scrapy"
   ]
  },
  {
   "cell_type": "code",
   "execution_count": 9,
   "metadata": {},
   "outputs": [],
   "source": [
    "sel = Selector( text = html )"
   ]
  },
  {
   "cell_type": "code",
   "execution_count": 10,
   "metadata": {},
   "outputs": [],
   "source": [
    "empresa_cotacao = sel.xpath(\"//table[1]//span[@class='txt']/text() | //table[1]//span[@class='txt']/a/text()\").extract()\n",
    "valores_data_balanco = sel.xpath(\"//table[2]//span[@class='txt']/text()\").extract()"
   ]
  },
  {
   "cell_type": "code",
   "execution_count": 11,
   "metadata": {},
   "outputs": [
    {
     "data": {
      "text/plain": [
       "['Papel',\n",
       " 'Cotação',\n",
       " 'Tipo',\n",
       " 'Data últ cot',\n",
       " 'Empresa',\n",
       " 'Min 52 sem',\n",
       " 'Setor',\n",
       " 'Max 52 sem',\n",
       " 'Subsetor',\n",
       " 'Vol $ méd (2m)',\n",
       " 'Valor de mercado',\n",
       " 'Últ balanço processado',\n",
       " 'Valor da firma',\n",
       " 'Nro. Ações']"
      ]
     },
     "execution_count": 11,
     "metadata": {},
     "output_type": "execute_result"
    }
   ],
   "source": [
    "empresa_label = empresa_cotacao[0::2] + valores_data_balanco[0::2]\n",
    "empresa_label"
   ]
  },
  {
   "cell_type": "code",
   "execution_count": 12,
   "metadata": {},
   "outputs": [
    {
     "data": {
      "text/plain": [
       "['GGBR4',\n",
       " '24,00',\n",
       " 'PN N1',\n",
       " '08/02/2021',\n",
       " 'GERDAU S.A. PN N1',\n",
       " '8,54',\n",
       " 'Siderurgia e Metalurgia',\n",
       " '29,54',\n",
       " 'Siderurgia',\n",
       " '363.118.000',\n",
       " '41.271.800.000',\n",
       " '30/09/2020',\n",
       " '53.613.300.000',\n",
       " '1.719.660.000']"
      ]
     },
     "execution_count": 12,
     "metadata": {},
     "output_type": "execute_result"
    }
   ],
   "source": [
    "empresa_dados = empresa_cotacao[1::2] + valores_data_balanco[1::2]\n",
    "empresa_dados"
   ]
  },
  {
   "cell_type": "markdown",
   "metadata": {},
   "source": [
    "### Tabela 3.1: Oscilações"
   ]
  },
  {
   "cell_type": "code",
   "execution_count": 13,
   "metadata": {},
   "outputs": [
    {
     "data": {
      "text/plain": [
       "'Oscilações'"
      ]
     },
     "execution_count": 13,
     "metadata": {},
     "output_type": "execute_result"
    }
   ],
   "source": [
    "sel.xpath(\"//table[3]//td[@class='nivel1']//span/text()\").extract()[0]"
   ]
  },
  {
   "cell_type": "code",
   "execution_count": 14,
   "metadata": {},
   "outputs": [
    {
     "data": {
      "text/plain": [
       "['Dia',\n",
       " 'Mês',\n",
       " '30 dias',\n",
       " '12 meses',\n",
       " '2021',\n",
       " '2020',\n",
       " '2019',\n",
       " '2018',\n",
       " '2017',\n",
       " '2016']"
      ]
     },
     "execution_count": 14,
     "metadata": {},
     "output_type": "execute_result"
    }
   ],
   "source": [
    "oscilacoes_label = sel.xpath(\"//table[3]//td[@class='label w1']//span/text()\").extract()\n",
    "oscilacoes_label"
   ]
  },
  {
   "cell_type": "code",
   "execution_count": 15,
   "metadata": {},
   "outputs": [
    {
     "data": {
      "text/plain": [
       "['-0,83%',\n",
       " '3,23%',\n",
       " '-17,53%',\n",
       " '20,08%',\n",
       " '-1,84%',\n",
       " '23,86%',\n",
       " '37,65%',\n",
       " '22,31%',\n",
       " '15,23%',\n",
       " '138,66%']"
      ]
     },
     "execution_count": 15,
     "metadata": {},
     "output_type": "execute_result"
    }
   ],
   "source": [
    "oscilacoes_dados = sel.xpath(\"//table[3]//span[@class='oscil']/font/text()\").extract()\n",
    "oscilacoes_dados"
   ]
  },
  {
   "cell_type": "markdown",
   "metadata": {},
   "source": [
    "### Tabela 3.2: Indicadores fundamentalistas"
   ]
  },
  {
   "cell_type": "code",
   "execution_count": 16,
   "metadata": {},
   "outputs": [
    {
     "data": {
      "text/plain": [
       "'Indicadores fundamentalistas'"
      ]
     },
     "execution_count": 16,
     "metadata": {},
     "output_type": "execute_result"
    }
   ],
   "source": [
    "sel.xpath(\"//table[3]//td[@class='nivel1']//span/text()\").extract()[1]"
   ]
  },
  {
   "cell_type": "code",
   "execution_count": 17,
   "metadata": {},
   "outputs": [
    {
     "data": {
      "text/plain": [
       "['P/L',\n",
       " 'LPA',\n",
       " 'P/VP',\n",
       " 'VPA',\n",
       " 'P/EBIT',\n",
       " 'Marg. Bruta',\n",
       " 'PSR',\n",
       " 'Marg. EBIT',\n",
       " 'P/Ativos',\n",
       " 'Marg. Líquida',\n",
       " 'P/Cap. Giro',\n",
       " 'EBIT / Ativo',\n",
       " 'P/Ativ Circ Liq',\n",
       " 'ROIC',\n",
       " 'Div. Yield',\n",
       " 'ROE',\n",
       " 'EV / EBITDA',\n",
       " 'Liquidez Corr',\n",
       " 'EV / EBIT',\n",
       " 'Div Br/ Patrim',\n",
       " 'Cres. Rec (5a)',\n",
       " 'Giro Ativos']"
      ]
     },
     "execution_count": 17,
     "metadata": {},
     "output_type": "execute_result"
    }
   ],
   "source": [
    "indicadores_label = sel.xpath(\"//table[3]//td[@class='label w2']//span[@class='txt']/text() | //table[3]//td[@class='label']//span[@class='txt']/text()\").extract()\n",
    "indicadores_label"
   ]
  },
  {
   "cell_type": "code",
   "execution_count": 18,
   "metadata": {},
   "outputs": [
    {
     "data": {
      "text/plain": [
       "['29,13',\n",
       " '0,82',\n",
       " '1,32',\n",
       " '18,18',\n",
       " '\\n16,16',\n",
       " '\\n9,9%',\n",
       " '\\n1,04',\n",
       " '\\n6,4%',\n",
       " '\\n0,65',\n",
       " '\\n3,6%',\n",
       " '\\n3,18',\n",
       " '4,0%',\n",
       " '\\n-4,21',\n",
       " '\\n4,9%',\n",
       " '1,3%',\n",
       " '\\n4,5%',\n",
       " '\\n10,97',\n",
       " '\\n2,41',\n",
       " '\\n21,00',\n",
       " '\\n0,62',\n",
       " '\\n1,5%',\n",
       " '\\n0,63']"
      ]
     },
     "execution_count": 18,
     "metadata": {},
     "output_type": "execute_result"
    }
   ],
   "source": [
    "# Os dado estão vindo irregulares, com \\n na frente de alguns valores\n",
    "indicadores_dados = sel.xpath(\"//table[3]//td[@class='data w2']//span[@class='txt']/text() | //table[3]//td[@class='data']//span[@class='txt']/text()\").extract()\n",
    "indicadores_dados"
   ]
  },
  {
   "cell_type": "code",
   "execution_count": 19,
   "metadata": {},
   "outputs": [
    {
     "data": {
      "text/plain": [
       "['29,13',\n",
       " '0,82',\n",
       " '1,32',\n",
       " '18,18',\n",
       " '16,16',\n",
       " '9,9%',\n",
       " '1,04',\n",
       " '6,4%',\n",
       " '0,65',\n",
       " '3,6%',\n",
       " '3,18',\n",
       " '4,0%',\n",
       " '-4,21',\n",
       " '4,9%',\n",
       " '1,3%',\n",
       " '4,5%',\n",
       " '10,97',\n",
       " '2,41',\n",
       " '21,00',\n",
       " '0,62',\n",
       " '1,5%',\n",
       " '0,63']"
      ]
     },
     "execution_count": 19,
     "metadata": {},
     "output_type": "execute_result"
    }
   ],
   "source": [
    "# Limpando os valores, removendo os caracteres irregulares (\\n)\n",
    "nova_list = []\n",
    "for valor in indicadores_dados:\n",
    "    nova_list.append(valor.replace(\"\\n\", \"\"))\n",
    "    \n",
    "indicadores_dados = nova_list\n",
    "indicadores_dados"
   ]
  },
  {
   "cell_type": "markdown",
   "metadata": {},
   "source": [
    "### Tabela 4: Dados Balanço Patrimonial"
   ]
  },
  {
   "cell_type": "code",
   "execution_count": 20,
   "metadata": {},
   "outputs": [
    {
     "data": {
      "text/plain": [
       "'Dados Balanço Patrimonial'"
      ]
     },
     "execution_count": 20,
     "metadata": {},
     "output_type": "execute_result"
    }
   ],
   "source": [
    "sel.xpath(\"//table[4]//td[@class='nivel1']//span/text()\").extract()[0]"
   ]
  },
  {
   "cell_type": "code",
   "execution_count": 21,
   "metadata": {},
   "outputs": [
    {
     "data": {
      "text/plain": [
       "['Ativo',\n",
       " 'Dív. Bruta',\n",
       " 'Disponibilidades',\n",
       " 'Dív. Líquida',\n",
       " 'Ativo Circulante',\n",
       " 'Patrim. Líq']"
      ]
     },
     "execution_count": 21,
     "metadata": {},
     "output_type": "execute_result"
    }
   ],
   "source": [
    "balanco_patrimonial_label = sel.xpath(\"//table[4]//td[@class='label w2']//span[@class='txt']/text() | //table[4]//td[@class='label']//span[@class='txt']/text()\").extract()\n",
    "balanco_patrimonial_label"
   ]
  },
  {
   "cell_type": "code",
   "execution_count": 22,
   "metadata": {},
   "outputs": [
    {
     "data": {
      "text/plain": [
       "['63.426.200.000',\n",
       " '19.541.000.000',\n",
       " '7.199.510.000',\n",
       " '12.341.500.000',\n",
       " '22.132.500.000',\n",
       " '31.270.600.000']"
      ]
     },
     "execution_count": 22,
     "metadata": {},
     "output_type": "execute_result"
    }
   ],
   "source": [
    "balanco_patrimonial_dados = sel.xpath(\"//table[4]//td[@class='data w3']//span[@class='txt']/text() | //table[4]//td[@class='data']//span[@class='txt']/text()\").extract()\n",
    "balanco_patrimonial_dados"
   ]
  },
  {
   "cell_type": "markdown",
   "metadata": {},
   "source": [
    "### Tabela 5.1: Demonstrativos de Resultados - Últimos 12 meses"
   ]
  },
  {
   "cell_type": "code",
   "execution_count": 23,
   "metadata": {},
   "outputs": [
    {
     "data": {
      "text/plain": [
       "'Dados demonstrativos de resultados'"
      ]
     },
     "execution_count": 23,
     "metadata": {},
     "output_type": "execute_result"
    }
   ],
   "source": [
    "sel.xpath(\"//table[5]//td[@class='nivel1']//span/text()\").extract()[0]"
   ]
  },
  {
   "cell_type": "code",
   "execution_count": 24,
   "metadata": {},
   "outputs": [
    {
     "data": {
      "text/plain": [
       "'Últimos 12 meses'"
      ]
     },
     "execution_count": 24,
     "metadata": {},
     "output_type": "execute_result"
    }
   ],
   "source": [
    "sel.xpath(\"//table[5]//td[@class='nivel2 w5']//span/text()\").extract()[0]"
   ]
  },
  {
   "cell_type": "code",
   "execution_count": 25,
   "metadata": {},
   "outputs": [
    {
     "data": {
      "text/plain": [
       "'Últimos 3 meses'"
      ]
     },
     "execution_count": 25,
     "metadata": {},
     "output_type": "execute_result"
    }
   ],
   "source": [
    "sel.xpath(\"//table[5]//td[@class='nivel2 w5']//span/text()\").extract()[1]"
   ]
  },
  {
   "cell_type": "code",
   "execution_count": 26,
   "metadata": {},
   "outputs": [
    {
     "data": {
      "text/plain": [
       "['Receita Líquida', 'EBIT', 'Lucro Líquido']"
      ]
     },
     "execution_count": 26,
     "metadata": {},
     "output_type": "execute_result"
    }
   ],
   "source": [
    "demonstrativo_resultados_label = sel.xpath(\"//table[5]//td[@class='label w2']//span[@class='txt']/text() | //table[5]//td[@class='label']//span[@class='txt']/text()\").extract()[0::2]\n",
    "demonstrativo_resultados_label"
   ]
  },
  {
   "cell_type": "code",
   "execution_count": 27,
   "metadata": {},
   "outputs": [
    {
     "data": {
      "text/plain": [
       "['39.727.900.000', '2.553.280.000', '1.417.010.000']"
      ]
     },
     "execution_count": 27,
     "metadata": {},
     "output_type": "execute_result"
    }
   ],
   "source": [
    "demonstrativo_resultados_12_meses = sel.xpath(\"//table[5]//td[@class='data w3']//span[@class='txt']/text() | //table[5]//td[@class='data']//span[@class='txt']/text()\").extract()[0::2]\n",
    "demonstrativo_resultados_12_meses"
   ]
  },
  {
   "cell_type": "code",
   "execution_count": 28,
   "metadata": {},
   "outputs": [
    {
     "data": {
      "text/plain": [
       "['12.222.100.000', '1.326.630.000', '785.541.000']"
      ]
     },
     "execution_count": 28,
     "metadata": {},
     "output_type": "execute_result"
    }
   ],
   "source": [
    "demonstrativo_resultados_3_meses = sel.xpath(\"//table[5]//td[@class='data w3']//span[@class='txt']/text() | //table[5]//td[@class='data']//span[@class='txt']/text()\").extract()[1::2]\n",
    "demonstrativo_resultados_3_meses"
   ]
  },
  {
   "cell_type": "code",
   "execution_count": null,
   "metadata": {},
   "outputs": [],
   "source": []
  },
  {
   "cell_type": "code",
   "execution_count": null,
   "metadata": {},
   "outputs": [],
   "source": []
  }
 ],
 "metadata": {
  "kernelspec": {
   "display_name": "Python 3",
   "language": "python",
   "name": "python3"
  },
  "language_info": {
   "codemirror_mode": {
    "name": "ipython",
    "version": 3
   },
   "file_extension": ".py",
   "mimetype": "text/x-python",
   "name": "python",
   "nbconvert_exporter": "python",
   "pygments_lexer": "ipython3",
   "version": "3.6.9"
  }
 },
 "nbformat": 4,
 "nbformat_minor": 4
}
